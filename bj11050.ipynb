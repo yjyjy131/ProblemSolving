{
  "nbformat": 4,
  "nbformat_minor": 0,
  "metadata": {
    "colab": {
      "name": "bj11050.ipynb",
      "provenance": [],
      "authorship_tag": "ABX9TyOtv0AyUBZ0o5KJ1Td7f7e1",
      "include_colab_link": true
    },
    "kernelspec": {
      "name": "python3",
      "display_name": "Python 3"
    }
  },
  "cells": [
    {
      "cell_type": "markdown",
      "metadata": {
        "id": "view-in-github",
        "colab_type": "text"
      },
      "source": [
        "<a href=\"https://colab.research.google.com/github/yjyjy131/coding_test/blob/main/bj11050.ipynb\" target=\"_parent\"><img src=\"https://colab.research.google.com/assets/colab-badge.svg\" alt=\"Open In Colab\"/></a>"
      ]
    },
    {
      "cell_type": "code",
      "metadata": {
        "id": "U7XjW5zc5908"
      },
      "source": [
        "자연수 N과 정수 K가 주어졌을 때 이항 계수 를 구하는 프로그램을 작성하시오."
      ],
      "execution_count": null,
      "outputs": []
    },
    {
      "cell_type": "code",
      "metadata": {
        "colab": {
          "base_uri": "https://localhost:8080/"
        },
        "id": "Fl8th2U35-gx",
        "outputId": "4a95aaf3-0b31-48ee-dd3d-0533bd38b5f8"
      },
      "source": [
        "def factorial (num):\r\n",
        "  b = 1\r\n",
        "  for i in range(1, num+1) :\r\n",
        "    b *= i\r\n",
        "\r\n",
        "  return b\r\n",
        "\r\n",
        "n = int(input())\r\n",
        "k = int(input())\r\n",
        "\r\n",
        "a = factorial(n)/(factorial(k)*factorial(n-k))\r\n",
        "print(int(a))\r\n"
      ],
      "execution_count": 5,
      "outputs": [
        {
          "output_type": "stream",
          "text": [
            "5\n",
            "2\n",
            "10\n"
          ],
          "name": "stdout"
        }
      ]
    }
  ]
}