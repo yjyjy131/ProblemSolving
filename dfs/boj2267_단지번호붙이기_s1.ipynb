{
  "nbformat": 4,
  "nbformat_minor": 0,
  "metadata": {
    "colab": {
      "name": "boj2267_단지번호붙이기_s1.ipynb",
      "provenance": [],
      "collapsed_sections": []
    },
    "kernelspec": {
      "display_name": "Python 3",
      "name": "python3"
    },
    "language_info": {
      "name": "python"
    }
  },
  "cells": [
    {
      "cell_type": "markdown",
      "metadata": {
        "id": "jtf7Q4Hv_tob"
      },
      "source": [
        "https://www.acmicpc.net/problem/2267"
      ]
    },
    {
      "cell_type": "markdown",
      "metadata": {
        "id": "lAQZCv9JgqO1"
      },
      "source": [
        "Concept. DFS\n",
        "\n",
        "상하좌우로 길을 탐색하며, 체크한 집은 0으로 표시하여 1번만 체크하도록 한다. "
      ]
    },
    {
      "cell_type": "code",
      "metadata": {
        "id": "ieZsx5QJaeFI"
      },
      "source": [
        "# sys.stdin.realinde 을 사용하면, 한줄씩 값을 읽어들여 개행문자도 함께 들어오기때문에\n",
        "# strip() 을 사용해 개행문자를 제거해주어야 한다"
      ],
      "execution_count": null,
      "outputs": []
    },
    {
      "cell_type": "code",
      "metadata": {
        "colab": {
          "base_uri": "https://localhost:8080/"
        },
        "id": "rgP8DtCjWl6w",
        "outputId": "7635b9d3-fc78-4a00-d49f-fe32162bc11b"
      },
      "source": [
        "n = int(input())"
      ],
      "execution_count": 43,
      "outputs": [
        {
          "output_type": "stream",
          "text": [
            "6\n"
          ],
          "name": "stdout"
        }
      ]
    },
    {
      "cell_type": "code",
      "metadata": {
        "id": "GMmRUMC9Wouc"
      },
      "source": [
        "board = [list(map(int, list(input().strip()))) for _ in range(n)]"
      ],
      "execution_count": 52,
      "outputs": []
    },
    {
      "cell_type": "code",
      "metadata": {
        "id": "TFiUrp6LX4kg"
      },
      "source": [
        "results = []"
      ],
      "execution_count": 46,
      "outputs": []
    },
    {
      "cell_type": "code",
      "metadata": {
        "id": "UGsFQi69Xxmo"
      },
      "source": [
        "for i in range(n) :\n",
        "  for j in range(n) :\n",
        "    if board[i][j] == 1:\n",
        "      board[i][j] = 0\n",
        "      max_cnt = 1\n",
        "      dfs(i, j)\n",
        "      results.append(max_cnt)"
      ],
      "execution_count": 47,
      "outputs": []
    },
    {
      "cell_type": "code",
      "metadata": {
        "id": "6kGwUDciWxi-"
      },
      "source": [
        "def dfs(x, y) :\n",
        "  global max_cnt \n",
        "  \n",
        "  x_chk = [-1, 0, 1, 0]\n",
        "  y_chk = [0, -1, 0, 1]\n",
        "\n",
        "  for i in range(4) :\n",
        "    new_x = x + x_chk[i] \n",
        "    new_y = y + y_chk[i]\n",
        "\n",
        "    if 0 <= new_x < n and 0 <= new_y < n :\n",
        "      if board[new_x][new_y] == 1:\n",
        "        board[new_x][new_y] = 0\n",
        "        max_cnt += 1\n",
        "        dfs(new_x, new_y)    "
      ],
      "execution_count": 5,
      "outputs": []
    },
    {
      "cell_type": "code",
      "metadata": {
        "id": "w8EGmxbVWxmU"
      },
      "source": [
        "res = len(results)"
      ],
      "execution_count": 48,
      "outputs": []
    },
    {
      "cell_type": "code",
      "metadata": {
        "colab": {
          "base_uri": "https://localhost:8080/"
        },
        "id": "J3z5_HjWgNzL",
        "outputId": "ddb8a750-107d-4679-ab97-7706c917b02b"
      },
      "source": [
        "print(res)"
      ],
      "execution_count": 49,
      "outputs": [
        {
          "output_type": "stream",
          "text": [
            "2\n"
          ],
          "name": "stdout"
        }
      ]
    },
    {
      "cell_type": "code",
      "metadata": {
        "id": "ftWNZraoghKE"
      },
      "source": [
        "results.sort()"
      ],
      "execution_count": 50,
      "outputs": []
    },
    {
      "cell_type": "code",
      "metadata": {
        "colab": {
          "base_uri": "https://localhost:8080/"
        },
        "id": "OJMOp2K3gGX-",
        "outputId": "fdbf6278-b4df-4104-cb07-287bad489c63"
      },
      "source": [
        "if res > 0 :\n",
        "  for r in results :\n",
        "    print(r)"
      ],
      "execution_count": 51,
      "outputs": [
        {
          "output_type": "stream",
          "text": [
            "1\n",
            "14\n"
          ],
          "name": "stdout"
        }
      ]
    }
  ]
}