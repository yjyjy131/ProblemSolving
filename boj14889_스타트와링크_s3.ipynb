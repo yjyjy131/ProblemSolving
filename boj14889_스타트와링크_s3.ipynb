{
  "nbformat": 4,
  "nbformat_minor": 0,
  "metadata": {
    "colab": {
      "name": "boj14889_스타트와링크_s3.ipynb",
      "provenance": [],
      "collapsed_sections": []
    },
    "kernelspec": {
      "display_name": "Python 3",
      "name": "python3"
    },
    "language_info": {
      "name": "python"
    }
  },
  "cells": [
    {
      "cell_type": "markdown",
      "metadata": {
        "id": "jtf7Q4Hv_tob"
      },
      "source": [
        "https://www.acmicpc.net/problem/14889"
      ]
    },
    {
      "cell_type": "markdown",
      "metadata": {
        "id": "7a6khXj5kMTw"
      },
      "source": [
        "Concept. Brute force"
      ]
    },
    {
      "cell_type": "code",
      "metadata": {
        "colab": {
          "base_uri": "https://localhost:8080/"
        },
        "id": "vUINsU4_bw7V",
        "outputId": "49f34647-b6b9-433f-bda1-c4c6350f0afe"
      },
      "source": [
        "n = int(input())"
      ],
      "execution_count": 73,
      "outputs": [
        {
          "name": "stdout",
          "output_type": "stream",
          "text": [
            "4\n"
          ]
        }
      ]
    },
    {
      "cell_type": "code",
      "metadata": {
        "colab": {
          "base_uri": "https://localhost:8080/"
        },
        "id": "4hVN1NaDbw9h",
        "outputId": "67dbacb8-0d88-4d07-ee4d-3937c4aa8139"
      },
      "source": [
        "board = []\n",
        "\n",
        "for _ in range(n) :\n",
        "  board.append(list(map(int, input().split())))"
      ],
      "execution_count": 74,
      "outputs": [
        {
          "name": "stdout",
          "output_type": "stream",
          "text": [
            "0 1 2 3\n",
            "4 0 5 6\n",
            "7 1 0 2\n",
            "3 4 5 0\n"
          ]
        }
      ]
    },
    {
      "cell_type": "code",
      "metadata": {
        "id": "152sYzNZcQjO"
      },
      "source": [
        "from itertools import combinations"
      ],
      "execution_count": 45,
      "outputs": []
    },
    {
      "cell_type": "code",
      "metadata": {
        "id": "cA4MdR-UdTQk"
      },
      "source": [
        "import copy"
      ],
      "execution_count": 46,
      "outputs": []
    },
    {
      "cell_type": "code",
      "metadata": {
        "id": "6fnyVQ0zcgag"
      },
      "source": [
        "comb_idx = [ i for i in range(n) ]"
      ],
      "execution_count": 75,
      "outputs": []
    },
    {
      "cell_type": "code",
      "metadata": {
        "id": "DH5PE3_PdqHE"
      },
      "source": [
        "res = 100000"
      ],
      "execution_count": 78,
      "outputs": []
    },
    {
      "cell_type": "code",
      "metadata": {
        "id": "TErIJz0QfXmF"
      },
      "source": [
        "for comb in combinations(comb_idx, n // 2) :\n",
        "  tmp_board = copy.deepcopy(board)\n",
        "  team1 = 0\n",
        "  for c in comb :\n",
        "    for not_c in comb :\n",
        "      if c != not_c :\n",
        "        team1 += tmp_board[c][not_c]\n",
        "\n",
        "  team2_comb = []\n",
        "  for i in range(n) :\n",
        "    if i not in comb :\n",
        "      team2_comb.append(i)\n",
        "    \n",
        "\n",
        "  team2 = 0\n",
        "\n",
        "  for c in team2_comb :\n",
        "    for not_c in team2_comb :\n",
        "      if c != not_c :\n",
        "        team2 += tmp_board[c][not_c]\n",
        "\n",
        "  res = min(res, abs(team1-team2))"
      ],
      "execution_count": 79,
      "outputs": []
    },
    {
      "cell_type": "code",
      "metadata": {
        "colab": {
          "base_uri": "https://localhost:8080/"
        },
        "id": "wJHx7xGrcQnq",
        "outputId": "4f4334c6-aebb-4ac7-b1ff-6d599ce3493c"
      },
      "source": [
        "print(res)"
      ],
      "execution_count": 80,
      "outputs": [
        {
          "output_type": "stream",
          "name": "stdout",
          "text": [
            "0\n"
          ]
        }
      ]
    },
    {
      "cell_type": "code",
      "metadata": {
        "id": "s1Xk56P-cJFJ"
      },
      "source": [
        ""
      ],
      "execution_count": null,
      "outputs": []
    },
    {
      "cell_type": "code",
      "metadata": {
        "id": "YkLWracibw_2"
      },
      "source": [
        ""
      ],
      "execution_count": null,
      "outputs": []
    },
    {
      "cell_type": "code",
      "metadata": {
        "id": "0xXwijfzbxB8"
      },
      "source": [
        ""
      ],
      "execution_count": null,
      "outputs": []
    }
  ]
}