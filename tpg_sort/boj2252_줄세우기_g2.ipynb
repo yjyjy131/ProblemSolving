{
  "nbformat": 4,
  "nbformat_minor": 0,
  "metadata": {
    "colab": {
      "name": "boj2252_줄세우기_g2.ipynb",
      "provenance": [],
      "collapsed_sections": []
    },
    "kernelspec": {
      "display_name": "Python 3",
      "name": "python3"
    },
    "language_info": {
      "name": "python"
    }
  },
  "cells": [
    {
      "cell_type": "markdown",
      "metadata": {
        "id": "jtf7Q4Hv_tob"
      },
      "source": [
        "https://www.acmicpc.net/problem/2252 ✨\n"
      ]
    },
    {
      "cell_type": "markdown",
      "metadata": {
        "id": "lAQZCv9JgqO1"
      },
      "source": [
        "Concept. 위상정렬을 사용해 풀이할 수 있다. \n",
        "\n",
        "1 ) 각 노드의 가중치 값을 저장한다. \n",
        "\n",
        "    => 이 때, 2차원 배열에 이 값들을 모두 저장하면 메모리가 초과된다. \n",
        "    따라서, 1차원 배열의 인덱스 값을 시작 노드 값, 해당 인덱스의 원소 값을 시작 노드가 가리키는 도착지 값으로 간주하여 값을 저장한다. \n",
        "\n",
        "2 ) 도착 노드 a 를 가리키고 있는 노드의 갯수를 degree 로 체크\n",
        "\n",
        "3 ) 도착 노드값의 디그리가 0 인 노드들을 deque 에 넣는다. \n",
        "\n",
        "4 ) deque 에 있는 값을 pop 하고, 해당 값을 출력한다. \n",
        "\n",
        "5 ) pop 된 해당 노드가 가리키는 노드의 degree 값을 1 감소시킨다. \n",
        "\n",
        "6 ) 위 타겟 노드의 값이 0 이 된다면 이 값을 deque 에 넣는다. \n",
        "\n",
        "7 ) 4~6 의 단계를 deque 가 모두 비어버릴 때 까지 반복한다. "
      ]
    },
    {
      "cell_type": "code",
      "metadata": {
        "id": "y3vMbcYA5CuN"
      },
      "source": [
        "4 2\n",
        "4 2\n",
        "3 1"
      ],
      "execution_count": null,
      "outputs": []
    },
    {
      "cell_type": "code",
      "metadata": {
        "id": "UM6I1lQX7wm4"
      },
      "source": [
        "from collections import deque"
      ],
      "execution_count": 91,
      "outputs": []
    },
    {
      "cell_type": "code",
      "metadata": {
        "colab": {
          "base_uri": "https://localhost:8080/"
        },
        "id": "zFe1yGrw5Gtw",
        "outputId": "7f35a4e7-3ac5-4122-c19b-5d591b4aaf42"
      },
      "source": [
        "node, n = map(int, input().split())"
      ],
      "execution_count": 132,
      "outputs": [
        {
          "output_type": "stream",
          "text": [
            "4 2\n"
          ],
          "name": "stdout"
        }
      ]
    },
    {
      "cell_type": "code",
      "metadata": {
        "id": "RtbqW_tS6_XW"
      },
      "source": [
        "# chk = [ [0] * node for _ in range(node) ]\n",
        "chk = [[] for i in range(node)]"
      ],
      "execution_count": 133,
      "outputs": []
    },
    {
      "cell_type": "code",
      "metadata": {
        "id": "wXLSLpNf7eAS"
      },
      "source": [
        "degree = [0] * node"
      ],
      "execution_count": 134,
      "outputs": []
    },
    {
      "cell_type": "code",
      "metadata": {
        "colab": {
          "base_uri": "https://localhost:8080/"
        },
        "id": "VNi71vMi5Sxj",
        "outputId": "000436d4-373e-4ce5-dcdc-628e15684de7"
      },
      "source": [
        "for _ in range (n) :\n",
        "  i, j = map(int, input().split())\n",
        "  # chk.append((i-1, j-1))\n",
        "  # chk[i-1][j-1] = 1\n",
        "  chk[i-1].append(j-1)\n",
        "  degree[j-1] += 1"
      ],
      "execution_count": 135,
      "outputs": [
        {
          "output_type": "stream",
          "text": [
            "4 2\n",
            "3 1\n"
          ],
          "name": "stdout"
        }
      ]
    },
    {
      "cell_type": "code",
      "metadata": {
        "id": "QO6L3n0A7s0I"
      },
      "source": [
        "dq = deque()"
      ],
      "execution_count": 136,
      "outputs": []
    },
    {
      "cell_type": "code",
      "metadata": {
        "id": "EyQe8wuX7s2m"
      },
      "source": [
        "for i in range(node) :\n",
        "  if degree[i] == 0 : dq.append(i+1)"
      ],
      "execution_count": 137,
      "outputs": []
    },
    {
      "cell_type": "code",
      "metadata": {
        "colab": {
          "base_uri": "https://localhost:8080/"
        },
        "id": "CnOD8Eoj5SyW",
        "outputId": "27a8b790-b059-4bac-d313-a3bfaf595996"
      },
      "source": [
        "while dq :\n",
        "  top = dq.popleft()\n",
        "  print(top, end = ' ')\n",
        "  for j in chk[top-1]:\n",
        "    degree[j] -= 1\n",
        "    if degree[j] == 0 :\n",
        "      dq.append(j+1)"
      ],
      "execution_count": 138,
      "outputs": [
        {
          "output_type": "stream",
          "text": [
            "3 4 1 2 "
          ],
          "name": "stdout"
        }
      ]
    },
    {
      "cell_type": "code",
      "metadata": {
        "id": "bUV5XIopCoY4"
      },
      "source": [
        ""
      ],
      "execution_count": null,
      "outputs": []
    }
  ]
}