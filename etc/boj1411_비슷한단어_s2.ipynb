{
  "nbformat": 4,
  "nbformat_minor": 0,
  "metadata": {
    "colab": {
      "name": "boj1411_비슷한단어_s2.ipynb",
      "provenance": [],
      "collapsed_sections": []
    },
    "kernelspec": {
      "display_name": "Python 3",
      "name": "python3"
    },
    "language_info": {
      "name": "python"
    }
  },
  "cells": [
    {
      "cell_type": "markdown",
      "metadata": {
        "id": "jtf7Q4Hv_tob"
      },
      "source": [
        "https://www.acmicpc.net/problem/1411"
      ]
    },
    {
      "cell_type": "markdown",
      "metadata": {
        "id": "5YT5dwCB7gDL"
      },
      "source": [
        "Concept. String\n"
      ]
    },
    {
      "cell_type": "code",
      "metadata": {
        "id": "W2ToMy33YupG"
      },
      "source": [
        "from itertools import combinations"
      ],
      "execution_count": 49,
      "outputs": []
    },
    {
      "cell_type": "code",
      "metadata": {
        "colab": {
          "base_uri": "https://localhost:8080/"
        },
        "id": "hllgokI4VIra",
        "outputId": "32bc005e-933f-4e09-a282-e32a9ea009c7"
      },
      "source": [
        "n = int(input())"
      ],
      "execution_count": 4,
      "outputs": [
        {
          "name": "stdout",
          "output_type": "stream",
          "text": [
            "5\n"
          ]
        }
      ]
    },
    {
      "cell_type": "code",
      "metadata": {
        "colab": {
          "base_uri": "https://localhost:8080/"
        },
        "id": "ry_PJ8_UVItt",
        "outputId": "bd1e83f3-edfc-4d0a-d2fe-fc1cf25513af"
      },
      "source": [
        "words = []\n",
        "for _ in range(n) :\n",
        "  words.append(list(map(str, input().strip())))"
      ],
      "execution_count": 31,
      "outputs": [
        {
          "name": "stdout",
          "output_type": "stream",
          "text": [
            "aa\n",
            "ab\n",
            "bb\n",
            "cc\n",
            "cd\n"
          ]
        }
      ]
    },
    {
      "cell_type": "code",
      "metadata": {
        "id": "_oYOpQIUVb2q"
      },
      "source": [
        "for word in words :\n",
        "  w_dict = dict()\n",
        "  i = 0\n",
        "  for w in word :\n",
        "    if w not in w_dict :\n",
        "      w_dict[w] = i\n",
        "      word[i] = w_dict.get(w)\n",
        "    else :\n",
        "      word[i] = w_dict.get(w)\n",
        "    i += 1"
      ],
      "execution_count": 41,
      "outputs": []
    },
    {
      "cell_type": "code",
      "metadata": {
        "id": "cBhHc-OAYw6S"
      },
      "source": [
        "res = 0\n",
        "for comb in combinations(words, 2) :\n",
        "  if comb[0] == comb[1] : res += 1"
      ],
      "execution_count": 51,
      "outputs": []
    },
    {
      "cell_type": "code",
      "metadata": {
        "colab": {
          "base_uri": "https://localhost:8080/"
        },
        "id": "z6HRpVsxVb7u",
        "outputId": "94945cd4-78bf-402c-fa6e-efabdd8e4407"
      },
      "source": [
        "print(res)"
      ],
      "execution_count": 52,
      "outputs": [
        {
          "output_type": "execute_result",
          "data": {
            "text/plain": [
              "4"
            ]
          },
          "metadata": {},
          "execution_count": 52
        }
      ]
    },
    {
      "cell_type": "code",
      "metadata": {
        "id": "Bf6132fQVcAg"
      },
      "source": [
        ""
      ],
      "execution_count": null,
      "outputs": []
    },
    {
      "cell_type": "code",
      "metadata": {
        "id": "2d5vlP6AVcCW"
      },
      "source": [
        ""
      ],
      "execution_count": null,
      "outputs": []
    }
  ]
}