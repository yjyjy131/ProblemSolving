{
  "nbformat": 4,
  "nbformat_minor": 0,
  "metadata": {
    "colab": {
      "name": "boj1759_암호만들기_g5.ipynb",
      "provenance": [],
      "collapsed_sections": []
    },
    "kernelspec": {
      "display_name": "Python 3",
      "name": "python3"
    },
    "language_info": {
      "name": "python"
    }
  },
  "cells": [
    {
      "cell_type": "markdown",
      "metadata": {
        "id": "jtf7Q4Hv_tob"
      },
      "source": [
        "https://www.acmicpc.net/problem/1759"
      ]
    },
    {
      "cell_type": "markdown",
      "metadata": {
        "id": "5YT5dwCB7gDL"
      },
      "source": [
        "Concept. Math - implementation"
      ]
    },
    {
      "cell_type": "code",
      "metadata": {
        "id": "9Rd2_HnZ-kid"
      },
      "source": [
        "from collections import deque"
      ],
      "execution_count": 1,
      "outputs": []
    },
    {
      "cell_type": "code",
      "metadata": {
        "id": "_Q7vyUkq-gW0"
      },
      "source": [
        "from itertools import combinations"
      ],
      "execution_count": 2,
      "outputs": []
    },
    {
      "cell_type": "code",
      "metadata": {
        "colab": {
          "base_uri": "https://localhost:8080/"
        },
        "id": "3vzTF2Y08xkV",
        "outputId": "7cd87769-08c6-4c51-8742-c5a66cf5ab22"
      },
      "source": [
        "n, m = map(int, input().split())"
      ],
      "execution_count": 3,
      "outputs": [
        {
          "name": "stdout",
          "output_type": "stream",
          "text": [
            "4 6\n"
          ]
        }
      ]
    },
    {
      "cell_type": "code",
      "metadata": {
        "id": "RcAr8gec9mil"
      },
      "source": [
        "v = []\n",
        "w = [] "
      ],
      "execution_count": 4,
      "outputs": []
    },
    {
      "cell_type": "code",
      "metadata": {
        "id": "PRUdG0E79tk6"
      },
      "source": [
        "v_set = ['a', 'e', 'i', 'o', 'u']"
      ],
      "execution_count": 5,
      "outputs": []
    },
    {
      "cell_type": "code",
      "metadata": {
        "colab": {
          "base_uri": "https://localhost:8080/"
        },
        "id": "fGNwzuAS9q9i",
        "outputId": "bc69e018-20e8-4931-abc4-c59873474405"
      },
      "source": [
        "tmp = list(input().split())\n",
        "for t in tmp :\n",
        "  if t in v_set :\n",
        "    v.append(t)\n",
        "  else :\n",
        "    w.append(t)"
      ],
      "execution_count": 6,
      "outputs": [
        {
          "name": "stdout",
          "output_type": "stream",
          "text": [
            "a t c i s w\n"
          ]
        }
      ]
    },
    {
      "cell_type": "code",
      "metadata": {
        "id": "bD5n6joh-NJV"
      },
      "source": [
        "num_kind = deque()"
      ],
      "execution_count": 7,
      "outputs": []
    },
    {
      "cell_type": "code",
      "metadata": {
        "id": "kJA12wff-Qmw"
      },
      "source": [
        "for i in range(1, n) :\n",
        "  if n-i >= 2 : num_kind.append((i, n-i))"
      ],
      "execution_count": 8,
      "outputs": []
    },
    {
      "cell_type": "code",
      "metadata": {
        "id": "iU4olLT__rTw"
      },
      "source": [
        ""
      ],
      "execution_count": null,
      "outputs": []
    },
    {
      "cell_type": "code",
      "metadata": {
        "id": "-YDiHAFBAxYH"
      },
      "source": [
        "res = []"
      ],
      "execution_count": 9,
      "outputs": []
    },
    {
      "cell_type": "code",
      "metadata": {
        "id": "n8I6sMHA-gUh"
      },
      "source": [
        "while num_kind :\n",
        "  x, y = num_kind.popleft()\n",
        "\n",
        "  for vc in combinations(v, x) :\n",
        "    for wc in combinations(w, y) :\n",
        "      tmp = list(vc + wc)\n",
        "      tmp.sort()\n",
        "      res.append(''.join(tmp))"
      ],
      "execution_count": 11,
      "outputs": []
    },
    {
      "cell_type": "code",
      "metadata": {
        "colab": {
          "base_uri": "https://localhost:8080/"
        },
        "id": "UQDbXqI6A02n",
        "outputId": "6d8443e4-0417-4b20-ccd8-1a626d9adf7b"
      },
      "source": [
        "res.sort()\n",
        "for r in res : print(r)"
      ],
      "execution_count": 12,
      "outputs": [
        {
          "output_type": "stream",
          "name": "stdout",
          "text": [
            "acis\n",
            "acit\n",
            "aciw\n",
            "acst\n",
            "acsw\n",
            "actw\n",
            "aist\n",
            "aisw\n",
            "aitw\n",
            "astw\n",
            "cist\n",
            "cisw\n",
            "citw\n",
            "istw\n"
          ]
        }
      ]
    }
  ]
}