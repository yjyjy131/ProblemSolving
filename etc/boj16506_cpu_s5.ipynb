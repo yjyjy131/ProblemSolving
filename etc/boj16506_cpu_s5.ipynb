{
  "nbformat": 4,
  "nbformat_minor": 0,
  "metadata": {
    "colab": {
      "name": "boj16506_cpu_s5.ipynb",
      "provenance": [],
      "collapsed_sections": []
    },
    "kernelspec": {
      "display_name": "Python 3",
      "name": "python3"
    },
    "language_info": {
      "name": "python"
    }
  },
  "cells": [
    {
      "cell_type": "markdown",
      "metadata": {
        "id": "jtf7Q4Hv_tob"
      },
      "source": [
        "https://www.acmicpc.net/problem/3568\n",
        "\n",
        "\n"
      ]
    },
    {
      "cell_type": "markdown",
      "metadata": {
        "id": "5YT5dwCB7gDL"
      },
      "source": [
        "Concept. 10진수를 2진수를 변환하는 함수 bin() 활용 "
      ]
    },
    {
      "cell_type": "code",
      "metadata": {
        "id": "fHFHQysAN7xy"
      },
      "source": [
        "asemble = { 'ADD':'00000', 'ADDC':'00001', 'SUB':'00010', 'SUBC':'00011', 'MOV':'00100', 'MOVC':'00101',\n",
        "           'AND':'00110', 'ANDC':'00111', 'OR':'01000', 'ORC':'01001', 'NOT':'01010', 'MULT':'01100', 'MULTC':'01101', \n",
        "           'LSFTL':'01110', 'LSFTLC':'01111', 'LSFTR':'10000', 'LSFTRC':'10001', 'ASFTR':'10010', 'ASFTRC':'10011', \n",
        "           'RL':'10100', 'RLC':'10101', 'RR':'10110', 'RRC':'10111'}"
      ],
      "execution_count": 62,
      "outputs": []
    },
    {
      "cell_type": "code",
      "metadata": {
        "colab": {
          "base_uri": "https://localhost:8080/"
        },
        "id": "9RSY7M-GN7vY",
        "outputId": "34f2152c-1bd9-416a-d132-bcf8620c37b2"
      },
      "source": [
        "n = int(input())"
      ],
      "execution_count": 94,
      "outputs": [
        {
          "output_type": "stream",
          "text": [
            "8\n"
          ],
          "name": "stdout"
        }
      ]
    },
    {
      "cell_type": "code",
      "metadata": {
        "id": "3zBevO9dP54M"
      },
      "source": [
        "asem = []"
      ],
      "execution_count": 95,
      "outputs": []
    },
    {
      "cell_type": "code",
      "metadata": {
        "colab": {
          "base_uri": "https://localhost:8080/"
        },
        "id": "g8y1khNWP4Bb",
        "outputId": "b32649ae-9024-4f63-e0ab-dca81797f5f6"
      },
      "source": [
        "for i in range(n) :\n",
        "  c, i, j, k = input().split()\n",
        "  i = int(i)\n",
        "  j = int(j)\n",
        "  k = int(k)\n",
        "\n",
        "  res = asemble.get(c)\n",
        "  res += '0'\n",
        "\n",
        "  tmp_i = str(bin(i))[2:]\n",
        "  while len(tmp_i) < 3 :\n",
        "    tmp_i = '0' + tmp_i\n",
        "\n",
        "  res += tmp_i\n",
        "  \n",
        "  tmp_j = str(bin(j))[2:]\n",
        "  while len(tmp_j) < 3 :\n",
        "    tmp_j = '0' + tmp_j\n",
        "\n",
        "  res += tmp_j\n",
        "\n",
        "  x = 3\n",
        "  if 'C' in c : \n",
        "    x = 4\n",
        "    \n",
        "  tmp_k = str(bin(k))[2:]\n",
        "  while len(tmp_k) < x :\n",
        "    tmp_k = '0' + tmp_k\n",
        "  \n",
        "  if len(tmp_k) < 4 :\n",
        "    tmp_k += '0'\n",
        "\n",
        "  res += tmp_k\n",
        "  asem.append(res)"
      ],
      "execution_count": 96,
      "outputs": [
        {
          "output_type": "stream",
          "text": [
            "LSFTL 4 2 4\n",
            "MULTC 3 7 12\n",
            "NOT 2 0 4\n",
            "SUB 4 4 3\n",
            "ASFTR 6 4 1\n",
            "MULT 7 7 5\n",
            "RLC 6 4 14\n",
            "RR 1 5 4\n"
          ],
          "name": "stdout"
        }
      ]
    },
    {
      "cell_type": "code",
      "metadata": {
        "colab": {
          "base_uri": "https://localhost:8080/"
        },
        "id": "avXMT_cnP4D1",
        "outputId": "cba34c67-1dbf-42cf-f69c-64af91610aa7"
      },
      "source": [
        "for a in asem :\n",
        "  print(a)"
      ],
      "execution_count": 97,
      "outputs": [
        {
          "output_type": "stream",
          "text": [
            "0111001000101000\n",
            "0110100111111100\n",
            "0101000100001000\n",
            "0001001001000110\n",
            "10001101101000010\n",
            "0110001111111010\n",
            "1010101101001110\n",
            "1011000011011000\n"
          ],
          "name": "stdout"
        }
      ]
    }
  ]
}