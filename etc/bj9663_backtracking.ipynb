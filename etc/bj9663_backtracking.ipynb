{
  "nbformat": 4,
  "nbformat_minor": 0,
  "metadata": {
    "colab": {
      "name": "bj9663_backtracking.ipynb",
      "provenance": [],
      "authorship_tag": "ABX9TyMuQSya/DN6uBh345vf3Fez",
      "include_colab_link": true
    },
    "kernelspec": {
      "name": "python3",
      "display_name": "Python 3"
    }
  },
  "cells": [
    {
      "cell_type": "markdown",
      "metadata": {
        "id": "view-in-github",
        "colab_type": "text"
      },
      "source": [
        "<a href=\"https://colab.research.google.com/github/yjyjy131/coding_test/blob/main/bj9663_backtracking.ipynb\" target=\"_parent\"><img src=\"https://colab.research.google.com/assets/colab-badge.svg\" alt=\"Open In Colab\"/></a>"
      ]
    },
    {
      "cell_type": "markdown",
      "metadata": {
        "id": "9raSyyeflsT5"
      },
      "source": [
        "**백준 9663 / 백트래킹**\n",
        "\n",
        "N-Queen 문제는 크기가 N × N인 체스판 위에 퀸 N개를 서로 공격할 수 없게 놓는 문제이다.\n",
        "\n",
        "N이 주어졌을 때, 퀸을 놓는 방법의 수를 구하는 프로그램을 작성하시오."
      ]
    },
    {
      "cell_type": "code",
      "metadata": {
        "colab": {
          "base_uri": "https://localhost:8080/"
        },
        "id": "3sf9Qu7Flmep",
        "outputId": "0e5224f5-2690-4eac-944b-5736396c2b02"
      },
      "source": [
        "# 퀸의 위치가 [i][j], [k][m] 일 때\n",
        "# i!=k && j!=m && |i-k|!=|j-m|\n",
        "\n",
        "# 1차원 배열로 퀸의 위치 나타내기 (i,k) 일 때 행 = i , arr[i] = k\n",
        "\n",
        "# 받은 행에 대해 이전의 행들과 겹치는지 체크 \n",
        "def check_pos(row):\n",
        "  for k in range(row):\n",
        "    if arr[row]==arr[k] or row-k==abs(arr[row]-arr[k]):\n",
        "      return False\n",
        "  return True\n",
        "\n",
        "# 한 행씩 체크 \n",
        "def my_queen(row_idx):\n",
        "  global count\n",
        "  if row_idx == num:\n",
        "    count += 1\n",
        "  else :\n",
        "    for col in range(num):\n",
        "      arr[row_idx] = col\n",
        "      if check_pos(row_idx):\n",
        "        my_queen(row_idx + 1)\n",
        "\n",
        "\n",
        "num = int(input())\n",
        "arr = [0] * num\n",
        "count = 0\n",
        "my_queen(0)\n",
        "print(count)\n"
      ],
      "execution_count": 70,
      "outputs": [
        {
          "output_type": "stream",
          "text": [
            "8\n",
            "92\n"
          ],
          "name": "stdout"
        }
      ]
    }
  ]
}