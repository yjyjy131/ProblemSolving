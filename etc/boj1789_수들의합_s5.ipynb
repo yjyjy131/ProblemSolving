{
  "nbformat": 4,
  "nbformat_minor": 0,
  "metadata": {
    "colab": {
      "name": "boj1789_수들의합_s5.ipynb",
      "provenance": [],
      "collapsed_sections": []
    },
    "kernelspec": {
      "display_name": "Python 3",
      "name": "python3"
    },
    "language_info": {
      "name": "python"
    }
  },
  "cells": [
    {
      "cell_type": "markdown",
      "metadata": {
        "id": "jtf7Q4Hv_tob"
      },
      "source": [
        "https://www.acmicpc.net/problem/1789"
      ]
    },
    {
      "cell_type": "markdown",
      "metadata": {
        "id": "lAQZCv9JgqO1"
      },
      "source": [
        "Concept. 알고리즘 기초 ✨\n",
        "\n",
        "1,2,3.. 처럼 작은 수를 n에서 하나씩 빼가다가, n 이 음수값이 되면 n 범위를 초과한 것이므로 현재 res 값을 출력한다.   "
      ]
    },
    {
      "cell_type": "code",
      "metadata": {
        "colab": {
          "base_uri": "https://localhost:8080/"
        },
        "id": "TbxYaU4lbBII",
        "outputId": "d5ec2d36-1aa6-40eb-8c9f-c56ce087db16"
      },
      "source": [
        "n = int(input())"
      ],
      "execution_count": 32,
      "outputs": [
        {
          "output_type": "stream",
          "text": [
            "200\n"
          ],
          "name": "stdout"
        }
      ]
    },
    {
      "cell_type": "code",
      "metadata": {
        "id": "kMImlOTLiEQI"
      },
      "source": [
        "res = 0\n",
        "tmp = 1"
      ],
      "execution_count": 34,
      "outputs": []
    },
    {
      "cell_type": "code",
      "metadata": {
        "colab": {
          "base_uri": "https://localhost:8080/"
        },
        "id": "_QGJDoCOhlkt",
        "outputId": "054da653-f9ff-4ed5-c824-7f662c78715e"
      },
      "source": [
        "while n >= 0 :\n",
        "  n -= tmp\n",
        "\n",
        "  if n >= 0 :\n",
        "    tmp += 1\n",
        "    res += 1\n",
        "  else :\n",
        "    print(res)\n",
        "    break"
      ],
      "execution_count": 35,
      "outputs": [
        {
          "output_type": "stream",
          "text": [
            "19\n"
          ],
          "name": "stdout"
        }
      ]
    },
    {
      "cell_type": "code",
      "metadata": {
        "id": "pCGoZpKthlnL"
      },
      "source": [
        ""
      ],
      "execution_count": null,
      "outputs": []
    }
  ]
}