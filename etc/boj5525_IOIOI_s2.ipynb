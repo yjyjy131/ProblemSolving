{
  "nbformat": 4,
  "nbformat_minor": 0,
  "metadata": {
    "colab": {
      "name": "boj5525_IOIOI_s2.ipynb",
      "provenance": [],
      "collapsed_sections": []
    },
    "kernelspec": {
      "display_name": "Python 3",
      "name": "python3"
    },
    "language_info": {
      "name": "python"
    }
  },
  "cells": [
    {
      "cell_type": "markdown",
      "metadata": {
        "id": "jtf7Q4Hv_tob"
      },
      "source": [
        "https://www.acmicpc.net/problem/5525\n"
      ]
    },
    {
      "cell_type": "markdown",
      "metadata": {
        "id": "5YT5dwCB7gDL"
      },
      "source": [
        "Concept. String ✨"
      ]
    },
    {
      "cell_type": "markdown",
      "metadata": {
        "id": "H6aXqXWXSdDG"
      },
      "source": [
        "아래의 시간초과 풀이와 비교"
      ]
    },
    {
      "cell_type": "code",
      "metadata": {
        "colab": {
          "base_uri": "https://localhost:8080/"
        },
        "id": "nhPULMdjN749",
        "outputId": "440f9d09-f3bd-40dd-c1e9-2bf9c513d1c5"
      },
      "source": [
        "n = int(input())"
      ],
      "execution_count": 162,
      "outputs": [
        {
          "name": "stdout",
          "output_type": "stream",
          "text": [
            "2\n"
          ]
        }
      ]
    },
    {
      "cell_type": "code",
      "metadata": {
        "colab": {
          "base_uri": "https://localhost:8080/"
        },
        "id": "5rSNGD74N74-",
        "outputId": "1d59eef5-166e-4d88-a02e-9f33b765996e"
      },
      "source": [
        "str_n = int(input())"
      ],
      "execution_count": 154,
      "outputs": [
        {
          "name": "stdout",
          "output_type": "stream",
          "text": [
            "13\n"
          ]
        }
      ]
    },
    {
      "cell_type": "code",
      "metadata": {
        "colab": {
          "base_uri": "https://localhost:8080/"
        },
        "id": "911yYmU9N74-",
        "outputId": "48c5ca2b-d6a3-4ec0-f6d3-209d605cc9da"
      },
      "source": [
        "val = input()"
      ],
      "execution_count": 163,
      "outputs": [
        {
          "name": "stdout",
          "output_type": "stream",
          "text": [
            "OOIOIOIOIIOII\n"
          ]
        }
      ]
    },
    {
      "cell_type": "code",
      "metadata": {
        "colab": {
          "base_uri": "https://localhost:8080/",
          "height": 35
        },
        "id": "TdnGxYNzRQEB",
        "outputId": "913e1d65-1fd9-46cf-9a4e-07452cd333f7"
      },
      "source": [
        "val"
      ],
      "execution_count": 198,
      "outputs": [
        {
          "output_type": "execute_result",
          "data": {
            "application/vnd.google.colaboratory.intrinsic+json": {
              "type": "string"
            },
            "text/plain": [
              "'OOIOIOIOIIOII'"
            ]
          },
          "metadata": {},
          "execution_count": 198
        }
      ]
    },
    {
      "cell_type": "code",
      "metadata": {
        "id": "q2tk91wsN-iU"
      },
      "source": [
        "i = 0"
      ],
      "execution_count": 199,
      "outputs": []
    },
    {
      "cell_type": "code",
      "metadata": {
        "id": "ehmiaWiCOXvZ"
      },
      "source": [
        "pattern = 0\n",
        "cnt = 0"
      ],
      "execution_count": 200,
      "outputs": []
    },
    {
      "cell_type": "code",
      "metadata": {
        "id": "hQsKD9p8N5TB"
      },
      "source": [
        "while i < str_n - 1 :\n",
        "  if val[i] == 'I' and val[i+1] == 'O' and val[i+2] == 'I' :\n",
        "    pattern += 1\n",
        "  \n",
        "    if pattern == n :\n",
        "      # 패턴이 여러개 겹쳐있는 경우를 체크해야하므로 패턴 하나를 찾았다면, -1 을 해서 이어지는 패턴 개수를 탐색\n",
        "      # ex ) IOIOIOI 에서 IOIOI 는 이어서 2번 탐색 가능\n",
        "      pattern -= 1\n",
        "      cnt += 1\n",
        "    \n",
        "    # IOI 패턴을 이미 하나 찾았으므로 여기서 1을 더하고 마지막에서 1을 더하면 다음 패턴 체크 위치인 I 로 갈 수 있음\n",
        "    i += 1\n",
        "\n",
        "  else :\n",
        "    pattern = 0\n",
        "\n",
        "  i += 1"
      ],
      "execution_count": 201,
      "outputs": []
    },
    {
      "cell_type": "code",
      "metadata": {
        "colab": {
          "base_uri": "https://localhost:8080/"
        },
        "id": "OnrHbroKN5Vq",
        "outputId": "af54bb39-13f9-4381-976c-f8dce7118531"
      },
      "source": [
        "print(cnt)"
      ],
      "execution_count": 202,
      "outputs": [
        {
          "output_type": "stream",
          "name": "stdout",
          "text": [
            "2\n"
          ]
        }
      ]
    },
    {
      "cell_type": "code",
      "metadata": {
        "id": "dvr6yuCoN5YG"
      },
      "source": [
        ""
      ],
      "execution_count": null,
      "outputs": []
    },
    {
      "cell_type": "code",
      "metadata": {
        "id": "PWEHP0oNN5bo"
      },
      "source": [
        ""
      ],
      "execution_count": null,
      "outputs": []
    },
    {
      "cell_type": "markdown",
      "metadata": {
        "id": "5nvk8ezFN5ns"
      },
      "source": [
        "## 시간초과"
      ]
    },
    {
      "cell_type": "markdown",
      "metadata": {
        "id": "TOiI67F8SJ5Q"
      },
      "source": [
        "정답 문자열 M 을 정해놓고 이를 비교하는 방식으로 연산한다면 string N 에 대해 O(NM) 만큼 계산하게 되므로 시간 초과된다\n",
        "\n",
        "따라서 while 을 돌면서 IOI 의 3문자 패턴을 한번씩만 비교하는 것이 더 효율적이다"
      ]
    },
    {
      "cell_type": "code",
      "metadata": {
        "colab": {
          "base_uri": "https://localhost:8080/"
        },
        "id": "Y1YY_5vJIgRR",
        "outputId": "9c993b16-c601-4f0c-dbf9-3248775eae6d"
      },
      "source": [
        "n = int(input())"
      ],
      "execution_count": 127,
      "outputs": [
        {
          "name": "stdout",
          "output_type": "stream",
          "text": [
            "2\n"
          ]
        }
      ]
    },
    {
      "cell_type": "code",
      "metadata": {
        "colab": {
          "base_uri": "https://localhost:8080/"
        },
        "id": "4nRNKZM7IgTX",
        "outputId": "e9bc3ace-6542-4df2-b966-9b8fdde917e4"
      },
      "source": [
        "str_n = int(input())"
      ],
      "execution_count": 94,
      "outputs": [
        {
          "name": "stdout",
          "output_type": "stream",
          "text": [
            "4\n"
          ]
        }
      ]
    },
    {
      "cell_type": "code",
      "metadata": {
        "colab": {
          "base_uri": "https://localhost:8080/"
        },
        "id": "u_o5hzprIgVz",
        "outputId": "4aca50eb-7eac-442b-b786-0d9e19b9cbaa"
      },
      "source": [
        "val = input()"
      ],
      "execution_count": 123,
      "outputs": [
        {
          "name": "stdout",
          "output_type": "stream",
          "text": [
            "OOIOIIOIOIOIOIOIOIOIOOIOI\n"
          ]
        }
      ]
    },
    {
      "cell_type": "code",
      "metadata": {
        "id": "hPhYFDvgLSNW"
      },
      "source": [
        ""
      ],
      "execution_count": null,
      "outputs": []
    },
    {
      "cell_type": "code",
      "metadata": {
        "id": "yr9icY3LKxOH"
      },
      "source": [
        "ans = ''"
      ],
      "execution_count": 169,
      "outputs": []
    },
    {
      "cell_type": "code",
      "metadata": {
        "id": "axpLucGYKp4t"
      },
      "source": [
        "for _ in range(n) : ans += 'IO'"
      ],
      "execution_count": 170,
      "outputs": []
    },
    {
      "cell_type": "code",
      "metadata": {
        "id": "SgYzlXsIK2pU"
      },
      "source": [
        "ans += 'I'"
      ],
      "execution_count": 171,
      "outputs": []
    },
    {
      "cell_type": "code",
      "metadata": {
        "id": "Xow1vTZBK-Za"
      },
      "source": [
        "cnt = 0"
      ],
      "execution_count": 132,
      "outputs": []
    },
    {
      "cell_type": "code",
      "metadata": {
        "id": "bcrN3BP-Jgi9"
      },
      "source": [
        "for i in range(len(val)-len(ans)+1) :\n",
        "  if val[i:i+len(ans)] == ans :\n",
        "    cnt += 1"
      ],
      "execution_count": 133,
      "outputs": []
    },
    {
      "cell_type": "code",
      "metadata": {
        "colab": {
          "base_uri": "https://localhost:8080/"
        },
        "id": "zaBi__kELlop",
        "outputId": "e8d09fbc-fa0e-4abd-e521-16b65642f372"
      },
      "source": [
        "print(cnt)"
      ],
      "execution_count": 134,
      "outputs": [
        {
          "output_type": "stream",
          "name": "stdout",
          "text": [
            "6\n"
          ]
        }
      ]
    },
    {
      "cell_type": "code",
      "metadata": {
        "id": "RXgtnnq2JglE"
      },
      "source": [
        ""
      ],
      "execution_count": null,
      "outputs": []
    }
  ]
}