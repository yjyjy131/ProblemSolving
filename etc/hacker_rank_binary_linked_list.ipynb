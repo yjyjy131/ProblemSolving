{
  "nbformat": 4,
  "nbformat_minor": 0,
  "metadata": {
    "colab": {
      "name": "hacker_rank_binary_linked_list.ipynb",
      "provenance": [],
      "authorship_tag": "ABX9TyPsiEjtsc6CFNAruOY4KTrn",
      "include_colab_link": true
    },
    "kernelspec": {
      "name": "python3",
      "display_name": "Python 3"
    }
  },
  "cells": [
    {
      "cell_type": "markdown",
      "metadata": {
        "id": "view-in-github",
        "colab_type": "text"
      },
      "source": [
        "<a href=\"https://colab.research.google.com/github/yjyjy131/coding_test/blob/main/hacker_rank_binary_linked_list.ipynb\" target=\"_parent\"><img src=\"https://colab.research.google.com/assets/colab-badge.svg\" alt=\"Open In Colab\"/></a>"
      ]
    },
    {
      "cell_type": "markdown",
      "metadata": {
        "id": "FoHlf_OVDin2"
      },
      "source": [
        "# Hacker Rank /  Binary Linked List \r\n",
        "\r\n",
        "이진수는 0과 1의 연속으로 표현되어 있다. 이진수가 입력되면 이를 링크드 리스트로 표현하고, 해당 링크드 리스트에서 10진수를 계산하여 결과값을 변환하는 프로그램을 작성하라."
      ]
    },
    {
      "cell_type": "code",
      "metadata": {
        "colab": {
          "base_uri": "https://localhost:8080/"
        },
        "id": "gCuikqcwDkQU",
        "outputId": "a4051e6d-e253-46fa-b5ee-94a0372b741f"
      },
      "source": [
        "import math\r\n",
        "import os\r\n",
        "import random\r\n",
        "import re\r\n",
        "import sys\r\n",
        "\r\n",
        "class SinglyLinkedListNode:\r\n",
        "  def __init__(self, node_data):\r\n",
        "    self.data = node_data\r\n",
        "    self.next = None\r\n",
        "\r\n",
        "class SinglyLinkedList:\r\n",
        "  def __init__(self):\r\n",
        "    self.head = None\r\n",
        "    self.tail = None\r\n",
        "\r\n",
        "  def insert_node(self, node_data):\r\n",
        "    node = SinglyLinkedListNode(node_data)\r\n",
        "    if not self.head:\r\n",
        "      self.head = node\r\n",
        "    else:\r\n",
        "      self.tail.next = node\r\n",
        "\r\n",
        "    self.tail = node\r\n",
        "  \r\n",
        "def print_singly_linked_list(node, sep, fptr):\r\n",
        "  while node:\r\n",
        "    fptr.write(str(node.data))\r\n",
        "    node = node.next\r\n",
        "    if node:\r\n",
        "      print(sep)\r\n",
        "\r\n",
        "def getNumber(binary, size):\r\n",
        "    arr = []\r\n",
        "\r\n",
        "    for i in range(0, size):\r\n",
        "      curr_num = int(binary.data)\r\n",
        "      arr.append(str(curr_num))\r\n",
        "      binary = binary.next\r\n",
        "    \r\n",
        "    binary_str = ''.join(arr)\r\n",
        "    result = int(binary_str, 2)\r\n",
        "    return result\r\n",
        "\r\n",
        "if __name__ == '__main__':\r\n",
        "    binary_count = int(input().strip())\r\n",
        "    binary = SinglyLinkedList()\r\n",
        "\r\n",
        "    for _ in range(binary_count):\r\n",
        "      binary_item = int(input().strip())\r\n",
        "      binary.insert_node(binary_item)\r\n",
        "\r\n",
        "    result = getNumber(binary.head, binary_count)\r\n",
        "    print(str(result))\r\n"
      ],
      "execution_count": 7,
      "outputs": [
        {
          "output_type": "stream",
          "text": [
            "5\n",
            "1\n",
            "1\n",
            "0\n",
            "0\n",
            "1\n",
            "25\n"
          ],
          "name": "stdout"
        }
      ]
    },
    {
      "cell_type": "code",
      "metadata": {
        "id": "0WM0im1qDh6W"
      },
      "source": [
        ""
      ],
      "execution_count": null,
      "outputs": []
    }
  ]
}