{
  "nbformat": 4,
  "nbformat_minor": 0,
  "metadata": {
    "colab": {
      "name": "bj9498_if.ipynb",
      "provenance": [],
      "authorship_tag": "ABX9TyM1h//mkzc7eOlGTqtGAoj9",
      "include_colab_link": true
    },
    "kernelspec": {
      "name": "python3",
      "display_name": "Python 3"
    }
  },
  "cells": [
    {
      "cell_type": "markdown",
      "metadata": {
        "id": "view-in-github",
        "colab_type": "text"
      },
      "source": [
        "<a href=\"https://colab.research.google.com/github/yjyjy131/coding_test/blob/main/bj9498_if.ipynb\" target=\"_parent\"><img src=\"https://colab.research.google.com/assets/colab-badge.svg\" alt=\"Open In Colab\"/></a>"
      ]
    },
    {
      "cell_type": "markdown",
      "metadata": {
        "id": "77y2rON44nP1"
      },
      "source": [
        "**백준 9498**\n",
        "\n",
        "시험 점수를 입력받아 90 ~ 100점은 A, 80 ~ 89점은 B, 70 ~ 79점은 C, 60 ~ 69점은 D, 나머지 점수는 F를 출력하는 프로그램을 작성하시오.\n"
      ]
    },
    {
      "cell_type": "code",
      "metadata": {
        "colab": {
          "base_uri": "https://localhost:8080/"
        },
        "id": "obMdxJNW4muT",
        "outputId": "bfee1e3c-c335-4005-f421-b59d6faddbc8"
      },
      "source": [
        "num = int(input())\n",
        "\n",
        "if num>=90 and num<=100 :\n",
        "  print(\"A\")\n",
        "elif num>=80 and num<=89 :\n",
        "  print(\"B\")\n",
        "elif num>=70 and num<=79 :\n",
        "  print(\"C\")\n",
        "elif num>=60 and num<=69 :\n",
        "  print(\"D\")\n",
        "else :\n",
        "  print(\"F\")"
      ],
      "execution_count": 2,
      "outputs": [
        {
          "output_type": "stream",
          "text": [
            "100\n",
            "A\n"
          ],
          "name": "stdout"
        }
      ]
    }
  ]
}