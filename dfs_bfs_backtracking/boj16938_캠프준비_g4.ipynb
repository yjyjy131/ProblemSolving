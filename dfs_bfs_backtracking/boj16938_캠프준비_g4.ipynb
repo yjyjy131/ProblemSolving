{
  "nbformat": 4,
  "nbformat_minor": 0,
  "metadata": {
    "colab": {
      "name": "boj16938_캠프준비_g4.ipynb",
      "provenance": [],
      "collapsed_sections": []
    },
    "kernelspec": {
      "display_name": "Python 3",
      "name": "python3"
    },
    "language_info": {
      "name": "python"
    }
  },
  "cells": [
    {
      "cell_type": "markdown",
      "metadata": {
        "id": "jtf7Q4Hv_tob"
      },
      "source": [
        "https://www.acmicpc.net/problem/16938"
      ]
    },
    {
      "cell_type": "markdown",
      "metadata": {
        "id": "5YT5dwCB7gDL"
      },
      "source": [
        "Concept. DFS\n"
      ]
    },
    {
      "cell_type": "code",
      "metadata": {
        "id": "C1kE-Q3MwjTt"
      },
      "source": [
        "from itertools import combinations"
      ],
      "execution_count": 89,
      "outputs": []
    },
    {
      "cell_type": "code",
      "metadata": {
        "colab": {
          "base_uri": "https://localhost:8080/"
        },
        "id": "W-5YXwv1lzRp",
        "outputId": "ab364452-0634-481c-f71f-06a1fe036c98"
      },
      "source": [
        "n, l, r, x = map(int, input().split())"
      ],
      "execution_count": 100,
      "outputs": [
        {
          "name": "stdout",
          "output_type": "stream",
          "text": [
            "5 25 35 10\n"
          ]
        }
      ]
    },
    {
      "cell_type": "code",
      "metadata": {
        "colab": {
          "base_uri": "https://localhost:8080/"
        },
        "id": "Fr6o3zSnwjNU",
        "outputId": "6f092751-75c1-4caf-fca0-f0099147e6dc"
      },
      "source": [
        "vals = list(map(int, input().split()))"
      ],
      "execution_count": 101,
      "outputs": [
        {
          "name": "stdout",
          "output_type": "stream",
          "text": [
            "10 10 20 10 20\n"
          ]
        }
      ]
    },
    {
      "cell_type": "code",
      "metadata": {
        "id": "lTt1wVI1xBTQ"
      },
      "source": [
        "cnt = 0"
      ],
      "execution_count": 105,
      "outputs": []
    },
    {
      "cell_type": "code",
      "metadata": {
        "id": "8x1g8rXhwwqV"
      },
      "source": [
        "for i in range(2, n+1) :\n",
        "  for comb in combinations(vals, i) :\n",
        "    if l <= sum(comb) <= r :\n",
        "      if max(comb) - min(comb) >= x :\n",
        "        cnt += 1"
      ],
      "execution_count": null,
      "outputs": []
    },
    {
      "cell_type": "code",
      "metadata": {
        "colab": {
          "base_uri": "https://localhost:8080/"
        },
        "id": "PRAmHnQ5wwsg",
        "outputId": "a89389b9-2af8-4b69-9638-0619f85b4d62"
      },
      "source": [
        "print(cnt)"
      ],
      "execution_count": 107,
      "outputs": [
        {
          "output_type": "stream",
          "name": "stdout",
          "text": [
            "6\n"
          ]
        }
      ]
    },
    {
      "cell_type": "code",
      "metadata": {
        "id": "7wuJHFBfwbkv"
      },
      "source": [
        ""
      ],
      "execution_count": null,
      "outputs": []
    },
    {
      "cell_type": "code",
      "metadata": {
        "id": "vJMQXeN8lzT_"
      },
      "source": [
        ""
      ],
      "execution_count": null,
      "outputs": []
    },
    {
      "cell_type": "code",
      "metadata": {
        "id": "aYnyqQN9lzV1"
      },
      "source": [
        ""
      ],
      "execution_count": null,
      "outputs": []
    },
    {
      "cell_type": "code",
      "metadata": {
        "id": "9XIkQDcclzYA"
      },
      "source": [
        ""
      ],
      "execution_count": null,
      "outputs": []
    },
    {
      "cell_type": "code",
      "metadata": {
        "id": "Zjj3-GlLlzZy"
      },
      "source": [
        ""
      ],
      "execution_count": null,
      "outputs": []
    },
    {
      "cell_type": "code",
      "metadata": {
        "id": "UhfkXcsMlzbl"
      },
      "source": [
        ""
      ],
      "execution_count": null,
      "outputs": []
    },
    {
      "cell_type": "code",
      "metadata": {
        "id": "-s_mXnpFlzdv"
      },
      "source": [
        ""
      ],
      "execution_count": null,
      "outputs": []
    },
    {
      "cell_type": "code",
      "metadata": {
        "id": "YJm78DrZjVCI"
      },
      "source": [
        "import copy"
      ],
      "execution_count": 31,
      "outputs": []
    },
    {
      "cell_type": "code",
      "metadata": {
        "colab": {
          "base_uri": "https://localhost:8080/"
        },
        "id": "kQUjX4QWbltS",
        "outputId": "09f52109-a4ae-49c6-bc7a-3eed70167b3d"
      },
      "source": [
        "n = int(input())"
      ],
      "execution_count": null,
      "outputs": [
        {
          "name": "stdout",
          "output_type": "stream",
          "text": [
            "4\n"
          ]
        }
      ]
    },
    {
      "cell_type": "code",
      "metadata": {
        "id": "cy3cWKmibq3v"
      },
      "source": [
        "board = []"
      ],
      "execution_count": null,
      "outputs": []
    },
    {
      "cell_type": "code",
      "metadata": {
        "colab": {
          "base_uri": "https://localhost:8080/"
        },
        "id": "-OjvDobUbq5q",
        "outputId": "7a08a83b-55d4-49e8-9e4c-5cdac077f85c"
      },
      "source": [
        "for _ in range(n) :\n",
        "  board.append(list(map(int, input().split())))"
      ],
      "execution_count": null,
      "outputs": [
        {
          "name": "stdout",
          "output_type": "stream",
          "text": [
            "-6 -8 7 -4\n",
            "-5 -5 14 11\n",
            "11 11 -1 -1\n",
            "4 9 -2 -4\n"
          ]
        }
      ]
    },
    {
      "cell_type": "code",
      "metadata": {
        "id": "0ZvS40nbi0E7"
      },
      "source": [
        "board = [[-6, -8, 7, -4], [-5, -5, 14, 11], [11, 11, -1, -1], [4, 9, -2, -4]]"
      ],
      "execution_count": 83,
      "outputs": []
    },
    {
      "cell_type": "code",
      "metadata": {
        "id": "B6ohvt8Mbq8E"
      },
      "source": [
        "while 1:\n",
        "  new_board = []\n",
        "  for i in range(0, len(board), 2) :\n",
        "    curr = []\n",
        "    for j in range(0, len(board), 2) :\n",
        "      curr_v = []\n",
        "      curr_v.append(board[i][j])\n",
        "      curr_v.append(board[i+1][j])\n",
        "      curr_v.append(board[i][j+1])\n",
        "      curr_v.append(board[i+1][j+1])\n",
        "\n",
        "      curr_v.sort(reverse=True)\n",
        "      curr.append(curr_v[1])\n",
        "    new_board.append(curr)\n",
        "\n",
        "  board = copy.deepcopy(new_board)\n",
        "\n",
        "  if len(new_board) == 1 : \n",
        "    print(new_board[0][0])\n",
        "    break"
      ],
      "execution_count": null,
      "outputs": []
    },
    {
      "cell_type": "code",
      "metadata": {
        "id": "_wUA_Fy6jwml"
      },
      "source": [
        ""
      ],
      "execution_count": null,
      "outputs": []
    }
  ]
}