{
  "nbformat": 4,
  "nbformat_minor": 0,
  "metadata": {
    "colab": {
      "name": "boj15683_감시_g5.ipynb",
      "provenance": [],
      "collapsed_sections": []
    },
    "kernelspec": {
      "display_name": "Python 3",
      "name": "python3"
    },
    "language_info": {
      "name": "python"
    }
  },
  "cells": [
    {
      "cell_type": "markdown",
      "metadata": {
        "id": "jtf7Q4Hv_tob"
      },
      "source": [
        "https://www.acmicpc.net/problem/15683"
      ]
    },
    {
      "cell_type": "markdown",
      "metadata": {
        "id": "5YT5dwCB7gDL"
      },
      "source": [
        "Concept. DFS & Brute Force ✨"
      ]
    },
    {
      "cell_type": "markdown",
      "metadata": {
        "id": "Aa4VrEsYP0zW"
      },
      "source": [
        "모든 CCTV 의 방향조합을 탐색해야 풀 수 있는 문제\n",
        "\n",
        "1. CCTV 위치와 종류를 q에 모두 저장\n",
        "\n",
        "2. DFS 를 돌면서 모든 경우의 수를 탐색\n",
        "\n",
        "  2-1. DFS 탐색 중 전체 CCTV 갯수를 모두 체크했다면 사각지대 수를 계산하고, 탐색을 중단\n",
        "\n",
        "  2-2. 탐색해야할 CCTV 가 남아있다면 모든 경우의 수를 탐색해야한다.\n",
        "\n",
        "        2-2-1. 현재 CCTV가 가질 수 있는 모든 방향을 반복문을 돌며 체크하고, 그 다음 DFS 로 다음 CCTV 의 모든 방향을 체크 \n",
        "\n",
        "        2-2-2. 이 때ㅡ DFS 로 탐색하므로 반복문 안에 방향 체크 => DFS 방향 체크 => board 초기화의 순으로 가야한다. board 가 초기화 되기 전에 해당 반복문 사이클 안에서 셀 수 있는 모든 경우의 수를 체크 한 후 초기화 되는 것과 같기 때문"
      ]
    },
    {
      "cell_type": "code",
      "metadata": {
        "id": "WXcD045Zg31s"
      },
      "source": [
        "import copy"
      ],
      "execution_count": 39,
      "outputs": []
    },
    {
      "cell_type": "code",
      "metadata": {
        "id": "zyM-70L1iY9j"
      },
      "source": [
        "INF = int(1e9)"
      ],
      "execution_count": 40,
      "outputs": []
    },
    {
      "cell_type": "code",
      "metadata": {
        "id": "SQwplbF6ibBw"
      },
      "source": [
        "dx = [1, -1, 0, 0]\n",
        "dy = [0, 0, 1, -1]"
      ],
      "execution_count": 41,
      "outputs": []
    },
    {
      "cell_type": "code",
      "metadata": {
        "id": "Qur5o0a6ieRn"
      },
      "source": [
        "direction = [[], \n",
        "             [[0], [1], [2], [3]], \n",
        "             [[0, 1], [2, 3]], \n",
        "             [[0, 2], [2, 1], [1, 3], [3, 0]],\n",
        "             [[3, 0, 2], [1, 3, 0], [0, 2, 1], [2, 1, 3]], \n",
        "             [[0, 1, 2, 3]]]"
      ],
      "execution_count": 42,
      "outputs": []
    },
    {
      "cell_type": "code",
      "metadata": {
        "id": "Zs9mzgs-ijbH"
      },
      "source": [
        "def watch(y, x, direction, b_tmp):\n",
        "    for d in direction:\n",
        "        nx = x\n",
        "        ny = y\n",
        "        while True:\n",
        "            nx += dx[d]\n",
        "            ny += dy[d]\n",
        "            if nx >= 0 and nx < m and ny >= 0 and ny < n and b_tmp[ny][nx] != 6:\n",
        "                if b_tmp[ny][nx] == 0:\n",
        "                    b_tmp[ny][nx] = '#'\n",
        "            else:\n",
        "                break"
      ],
      "execution_count": 43,
      "outputs": []
    },
    {
      "cell_type": "code",
      "metadata": {
        "id": "_dCH5TPDjb9-"
      },
      "source": [
        "def dfs(board, chk_cnt) :\n",
        "  global ans\n",
        "\n",
        "  b_tmp = copy.deepcopy(board)\n",
        "  if chk_cnt == cctv_cnt :\n",
        "    c = 0\n",
        "    for b_line in b_tmp :\n",
        "      c += b_line.count(0)\n",
        "    ans = min(ans, c)\n",
        "    return \n",
        "\n",
        "  y, x, cctv = q[chk_cnt]\n",
        "\n",
        "  for d in direction[cctv] :\n",
        "    watch(y, x, d, b_tmp)\n",
        "    dfs(b_tmp, chk_cnt+1)\n",
        "    b_tmp = copy.deepcopy(board)"
      ],
      "execution_count": 44,
      "outputs": []
    },
    {
      "cell_type": "code",
      "metadata": {
        "id": "TDA1xEXgitqY"
      },
      "source": [
        ""
      ],
      "execution_count": null,
      "outputs": []
    },
    {
      "cell_type": "code",
      "metadata": {
        "colab": {
          "base_uri": "https://localhost:8080/"
        },
        "id": "zer6bctLiIT_",
        "outputId": "7b20ce64-3fc0-4fca-f4a8-729813de652f"
      },
      "source": [
        "n, m = map(int, input().split())"
      ],
      "execution_count": null,
      "outputs": [
        {
          "name": "stdout",
          "output_type": "stream",
          "text": [
            "4 6\n"
          ]
        }
      ]
    },
    {
      "cell_type": "code",
      "metadata": {
        "id": "cucsxYgqiIUG"
      },
      "source": [
        "board = []"
      ],
      "execution_count": null,
      "outputs": []
    },
    {
      "cell_type": "code",
      "metadata": {
        "colab": {
          "base_uri": "https://localhost:8080/"
        },
        "id": "iUHgNjNLiIUG",
        "outputId": "3b5efbfa-bd09-4fb9-be19-b0367f64846e"
      },
      "source": [
        "for _ in range(n) :\n",
        "  board.append(list(map(int, input().split())))"
      ],
      "execution_count": null,
      "outputs": [
        {
          "name": "stdout",
          "output_type": "stream",
          "text": [
            "2 6 0 3 0 2\n",
            "0 0 0 0 0 0\n",
            "0 0 0 0 0 0\n",
            "0 0 0 0 6 1\n"
          ]
        }
      ]
    },
    {
      "cell_type": "code",
      "metadata": {
        "id": "gny9xYUViwRq"
      },
      "source": [
        "cctv_cnt = 0\n",
        "q = []\n",
        "ans = INF\n",
        "\n",
        "for i in range(n) :\n",
        "  for j in range(m) :\n",
        "    if board[i][j] != 0 and board[i][j] != 6 :\n",
        "      cctv_cnt += 1\n",
        "      q.append([i, j, board[i][j]])"
      ],
      "execution_count": null,
      "outputs": []
    },
    {
      "cell_type": "code",
      "metadata": {
        "id": "cfX1kQ7CjL40"
      },
      "source": [
        "dfs(board, 0)\n",
        "print(ans)"
      ],
      "execution_count": null,
      "outputs": []
    },
    {
      "cell_type": "code",
      "metadata": {
        "id": "jpKh1sLhg36b"
      },
      "source": [
        ""
      ],
      "execution_count": null,
      "outputs": []
    },
    {
      "cell_type": "code",
      "metadata": {
        "id": "KGTF5bT0g3_A"
      },
      "source": [
        ""
      ],
      "execution_count": null,
      "outputs": []
    },
    {
      "cell_type": "code",
      "metadata": {
        "id": "rlIgeeF9g4Bi"
      },
      "source": [
        ""
      ],
      "execution_count": null,
      "outputs": []
    },
    {
      "cell_type": "markdown",
      "metadata": {
        "id": "6mXf8HMWg4ST"
      },
      "source": [
        "### DFS를 사용하지 않으면 모든 경우의 수를 고려할 수 없어 최소 값을 구할 수 없는 반례 존재하게 됨"
      ]
    },
    {
      "cell_type": "code",
      "metadata": {
        "colab": {
          "base_uri": "https://localhost:8080/"
        },
        "id": "MexUzbGdxH6z",
        "outputId": "7b20ce64-3fc0-4fca-f4a8-729813de652f"
      },
      "source": [
        "n, m = map(int, input().split())"
      ],
      "execution_count": 3,
      "outputs": [
        {
          "name": "stdout",
          "output_type": "stream",
          "text": [
            "4 6\n"
          ]
        }
      ]
    },
    {
      "cell_type": "code",
      "metadata": {
        "id": "BsYqe4Kl8s93"
      },
      "source": [
        "board = []"
      ],
      "execution_count": 240,
      "outputs": []
    },
    {
      "cell_type": "code",
      "metadata": {
        "colab": {
          "base_uri": "https://localhost:8080/"
        },
        "id": "HuYZV83n8s93",
        "outputId": "3b5efbfa-bd09-4fb9-be19-b0367f64846e"
      },
      "source": [
        "for _ in range(n) :\n",
        "  board.append(list(map(int, input().split())))"
      ],
      "execution_count": 241,
      "outputs": [
        {
          "name": "stdout",
          "output_type": "stream",
          "text": [
            "2 6 0 3 0 2\n",
            "0 0 0 0 0 0\n",
            "0 0 0 0 0 0\n",
            "0 0 0 0 6 1\n"
          ]
        }
      ]
    },
    {
      "cell_type": "code",
      "metadata": {
        "id": "KN_od0Bg8s93"
      },
      "source": [
        "def left_chk(i, j) :\n",
        "  cnt = 0\n",
        "  for y in range(j-1, -1, -1) :\n",
        "    if board[i][y] == 6 : \n",
        "      break\n",
        "    else :\n",
        "      cnt += 1\n",
        "\n",
        "  return cnt"
      ],
      "execution_count": 5,
      "outputs": []
    },
    {
      "cell_type": "code",
      "metadata": {
        "id": "WzUEjEQf8s97"
      },
      "source": [
        "def go_left(i, j) :\n",
        "  for y in range(j-1, -1, -1) :\n",
        "    if board[i][y] == 6 : \n",
        "      break\n",
        "    else :\n",
        "      if board[i][y] == 0 :\n",
        "        board[i][y] = -1 "
      ],
      "execution_count": 6,
      "outputs": []
    },
    {
      "cell_type": "code",
      "metadata": {
        "id": "R_xF8mvp8s98"
      },
      "source": [
        "def right_chk(i, j) :\n",
        "  cnt = 0\n",
        "  for y in range(j+1, m) :\n",
        "    if board[i][y] == 6 : \n",
        "      break\n",
        "    else :\n",
        "      cnt += 1    \n",
        "  \n",
        "  return cnt"
      ],
      "execution_count": 7,
      "outputs": []
    },
    {
      "cell_type": "code",
      "metadata": {
        "id": "vrMtev1h8s98"
      },
      "source": [
        "def go_right(i, j) :\n",
        "  for y in range(j+1, m) :\n",
        "    if board[i][y] == 6 : \n",
        "      break\n",
        "    else :\n",
        "      if board[i][y] == 0 :\n",
        "        board[i][y] = -1 "
      ],
      "execution_count": 8,
      "outputs": []
    },
    {
      "cell_type": "code",
      "metadata": {
        "id": "sq4hvRDR8s98"
      },
      "source": [
        "def up_chk(i, j) :\n",
        "  cnt = 0\n",
        "  for x in range(i-1, -1, -1) :\n",
        "    if board[x][j] == 6 : \n",
        "      break\n",
        "    else :\n",
        "      cnt += 1\n",
        "      \n",
        "  return cnt"
      ],
      "execution_count": 9,
      "outputs": []
    },
    {
      "cell_type": "code",
      "metadata": {
        "id": "ago-Y-VF8s98"
      },
      "source": [
        "def go_up(i, j) :\n",
        "  for x in range(i-1, -1, -1) :\n",
        "    if board[x][j] == 6 : \n",
        "      break\n",
        "    else :\n",
        "      if board[x][j] == 0 :\n",
        "        board[x][j] = -1"
      ],
      "execution_count": 10,
      "outputs": []
    },
    {
      "cell_type": "code",
      "metadata": {
        "id": "AEPMgT4v8s99"
      },
      "source": [
        "def down_chk(i, j) :\n",
        "  cnt = 0\n",
        "  for x in range(i+1, n) :\n",
        "    if board[x][j] == 6 : \n",
        "      break\n",
        "    else :\n",
        "      cnt += 1\n",
        "\n",
        "  return cnt"
      ],
      "execution_count": 11,
      "outputs": []
    },
    {
      "cell_type": "code",
      "metadata": {
        "id": "GZhBXUWf8s99"
      },
      "source": [
        "def go_down(i, j) :\n",
        "  for x in range(i+1, n) :\n",
        "    if board[x][j] == 6 : \n",
        "      break\n",
        "    else :\n",
        "      if board[x][j] == 0 :\n",
        "        board[x][j] = -1"
      ],
      "execution_count": 12,
      "outputs": []
    },
    {
      "cell_type": "code",
      "metadata": {
        "id": "sBgZvnhJ8s99"
      },
      "source": [
        "def cctv1(i, j) :\n",
        "  chk_dict = {left_chk(i, j):'l', right_chk(i, j):'r', up_chk(i, j):'u', down_chk(i, j):'d'}\n",
        "  dir = chk_dict.get(max(chk_dict))[0]\n",
        "\n",
        "  if dir == 'l' :\n",
        "    go_left(i, j)\n",
        "  elif dir == 'r' :\n",
        "    go_right(i, j)\n",
        "  elif dir == 'u' :\n",
        "    go_up(i, j)\n",
        "  elif dir == 'd' :\n",
        "    go_down(i, j)"
      ],
      "execution_count": 13,
      "outputs": []
    },
    {
      "cell_type": "code",
      "metadata": {
        "id": "Ny47b-2Z8s99"
      },
      "source": [
        "def cctv2(i, j) :\n",
        "  chk_dict = { left_chk(i, j) + right_chk(i, j):'a', \n",
        "              up_chk(i, j) + down_chk(i, j):'b'}\n",
        "\n",
        "  dir = chk_dict.get(max(chk_dict))[0]\n",
        "\n",
        "  if dir == 'a' :\n",
        "    go_left(i, j)\n",
        "    go_right(i, j)\n",
        "\n",
        "  elif dir == 'b' :\n",
        "    go_up(i, j)\n",
        "    go_down(i, j)"
      ],
      "execution_count": 14,
      "outputs": []
    },
    {
      "cell_type": "code",
      "metadata": {
        "id": "g7cLnle38s99"
      },
      "source": [
        "def cctv3(i, j) :\n",
        "  #위오 / 오아 / 왼아 / 왼위\n",
        "  chk_dict = { up_chk(i, j) + right_chk(i, j):'a', \n",
        "              right_chk(i, j) + down_chk(i, j):'b', \n",
        "              left_chk(i, j) + down_chk(i, j):'c', \n",
        "              left_chk(i, j) + up_chk(i, j):'d'}\n",
        "\n",
        "  dir = chk_dict.get(max(chk_dict))[0]\n",
        "\n",
        "  if dir == 'a' :\n",
        "    go_up(i, j)\n",
        "    go_right(i, j)\n",
        "  elif dir == 'b' :\n",
        "    go_right(i, j)\n",
        "    go_down(i, j)\n",
        "  elif dir == 'c' :\n",
        "    go_left(i, j)\n",
        "    go_down(i, j)\n",
        "  elif dir == 'd' :\n",
        "    go_left(i, j)\n",
        "    go_up(i, j)"
      ],
      "execution_count": 15,
      "outputs": []
    },
    {
      "cell_type": "code",
      "metadata": {
        "id": "di92ox-F8s9-"
      },
      "source": [
        "def cctv4(i, j) :\n",
        "  # 왼위오 / 위오아 / 왼아오 / 아왼위\n",
        "  chk_dict = { left_chk(i, j) + up_chk(i, j) + right_chk(i, j):'a', \n",
        "              up_chk(i, j) + right_chk(i, j) + down_chk(i, j):'b', \n",
        "              left_chk(i, j) + down_chk(i, j) + right_chk(i, j):'c', \n",
        "              down_chk(i, j) + left_chk(i, j) + up_chk(i, j):'d'}\n",
        "\n",
        "  dir = chk_dict.get(max(chk_dict))[0]\n",
        "\n",
        "  if dir == 'a' :\n",
        "    go_left(i, j)\n",
        "    go_up(i, j)\n",
        "    go_right(i, j)\n",
        "\n",
        "  elif dir == 'b' :\n",
        "    go_up(i, j)\n",
        "    go_right(i, j)\n",
        "    go_down(i, j)\n",
        "\n",
        "  elif dir == 'c' :\n",
        "    go_left(i, j)\n",
        "    go_down(i, j)\n",
        "    go_right(i, j)\n",
        "\n",
        "  elif dir == 'd' :\n",
        "    go_down(i, j)\n",
        "    go_left(i, j)\n",
        "    go_up(i, j)"
      ],
      "execution_count": 16,
      "outputs": []
    },
    {
      "cell_type": "code",
      "metadata": {
        "id": "Goq6no708s9-"
      },
      "source": [
        "def cctv5(i, j) :\n",
        "  go_left(i, j)\n",
        "  go_right(i, j)\n",
        "  go_up(i, j)\n",
        "  go_down(i, j)"
      ],
      "execution_count": 17,
      "outputs": []
    },
    {
      "cell_type": "code",
      "metadata": {
        "id": "E21o7DoXAeJ2"
      },
      "source": [
        ""
      ],
      "execution_count": null,
      "outputs": []
    },
    {
      "cell_type": "code",
      "metadata": {
        "id": "hy82Sy37AeL_"
      },
      "source": [
        "all_cctv = []"
      ],
      "execution_count": 18,
      "outputs": []
    },
    {
      "cell_type": "code",
      "metadata": {
        "id": "Z-rJUYPmhaEv"
      },
      "source": [
        "for i in range(n) :\n",
        "  for j in range(m) :\n",
        "    v = board[i][j]\n",
        "    if v == 1 :\n",
        "      all_cctv.append((v, i, j))\n",
        "    elif v == 2 :\n",
        "      all_cctv.append((v, i, j))\n",
        "    elif v == 3 :\n",
        "      all_cctv.append((v, i, j))\n",
        "    elif v == 4 :\n",
        "      all_cctv.append((v, i, j)) \n",
        "    elif v == 5 :\n",
        "      all_cctv.append((v, i, j))    "
      ],
      "execution_count": 19,
      "outputs": []
    },
    {
      "cell_type": "code",
      "metadata": {
        "id": "2SLQrmXWhkLF"
      },
      "source": [
        "all_cctv.sort(reverse=True)"
      ],
      "execution_count": 21,
      "outputs": []
    },
    {
      "cell_type": "code",
      "metadata": {
        "id": "LqKHPYF9hoeV"
      },
      "source": [
        "for i in range(len(all_cctv)) :\n",
        "  v, i, j = all_cctv[i]\n",
        "  if v == 1 :\n",
        "      cctv1(i, j)\n",
        "  elif v == 2 :\n",
        "      cctv2(i, j)\n",
        "  elif v == 3 :\n",
        "      cctv3(i, j)\n",
        "  elif v == 4 :\n",
        "      cctv4(i, j)   \n",
        "  elif v == 5 :\n",
        "      cctv5(i, j)    "
      ],
      "execution_count": 25,
      "outputs": []
    },
    {
      "cell_type": "code",
      "metadata": {
        "id": "tZaMS65H8s9-"
      },
      "source": [
        "res = 0\n",
        "for i in range(n) :\n",
        "  for j in range(m) :\n",
        "    if board[i][j] == 0 :\n",
        "      res += 1"
      ],
      "execution_count": 26,
      "outputs": []
    },
    {
      "cell_type": "code",
      "metadata": {
        "colab": {
          "base_uri": "https://localhost:8080/"
        },
        "id": "xW_rZBtj8s9_",
        "outputId": "589b7ca0-68ff-4ebe-d650-1ca48848ecfe"
      },
      "source": [
        "print(res)"
      ],
      "execution_count": 27,
      "outputs": [
        {
          "output_type": "stream",
          "name": "stdout",
          "text": [
            "9\n"
          ]
        }
      ]
    },
    {
      "cell_type": "code",
      "metadata": {
        "id": "7kL3HpkdPZ7C"
      },
      "source": [
        ""
      ],
      "execution_count": null,
      "outputs": []
    }
  ]
}