{
  "nbformat": 4,
  "nbformat_minor": 0,
  "metadata": {
    "colab": {
      "name": "boj1261_알고스팟_g4.ipynb",
      "provenance": [],
      "collapsed_sections": []
    },
    "kernelspec": {
      "display_name": "Python 3",
      "name": "python3"
    },
    "language_info": {
      "name": "python"
    }
  },
  "cells": [
    {
      "cell_type": "markdown",
      "metadata": {
        "id": "jtf7Q4Hv_tob"
      },
      "source": [
        "https://www.acmicpc.net/problem/1261"
      ]
    },
    {
      "cell_type": "markdown",
      "metadata": {
        "id": "5YT5dwCB7gDL"
      },
      "source": [
        "Concept. BFS & Memoization ✨"
      ]
    },
    {
      "cell_type": "markdown",
      "metadata": {
        "id": "Aa4VrEsYP0zW"
      },
      "source": [
        "DFS 백트래킹으로 탐색하게 되면 시간초과 된다. \n",
        "\n",
        "해당 문제에서 BFS 를 사용할 수 있는 것은, **현재 자리가 0 인경우가 1 인 경우보다 탐색 우선 순위에 있으므로, 굳이 백트래킹 할 필요가 없다는 것이다.**"
      ]
    },
    {
      "cell_type": "code",
      "metadata": {
        "id": "56zidNptts-Q"
      },
      "source": [
        "from collections import deque"
      ],
      "execution_count": 307,
      "outputs": []
    },
    {
      "cell_type": "code",
      "metadata": {
        "colab": {
          "base_uri": "https://localhost:8080/"
        },
        "id": "E3YWNgTOmiN3",
        "outputId": "7c078519-b1af-4a1c-ac15-9b363f5b9c5f"
      },
      "source": [
        "m, n = map(int, input().split())"
      ],
      "execution_count": null,
      "outputs": [
        {
          "name": "stdout",
          "output_type": "stream",
          "text": [
            "6 6\n"
          ]
        }
      ]
    },
    {
      "cell_type": "code",
      "metadata": {
        "id": "IKbz04zpmiN3"
      },
      "source": [
        "board = []"
      ],
      "execution_count": null,
      "outputs": []
    },
    {
      "cell_type": "code",
      "metadata": {
        "colab": {
          "base_uri": "https://localhost:8080/"
        },
        "id": "69p5CSm-miN3",
        "outputId": "72266b15-ed49-45b1-fce9-12d0412fa80c"
      },
      "source": [
        "for _ in range(n) :\n",
        "  board.append(list(map(int, input().strip())))"
      ],
      "execution_count": null,
      "outputs": [
        {
          "name": "stdout",
          "output_type": "stream",
          "text": [
            "0011\n",
            "0100\n",
            "0011\n"
          ]
        }
      ]
    },
    {
      "cell_type": "code",
      "metadata": {
        "id": "pd8Jnug7ml84"
      },
      "source": [
        "dp = [[-1 for _ in range(m)] for _ in range(n)]"
      ],
      "execution_count": 318,
      "outputs": []
    },
    {
      "cell_type": "code",
      "metadata": {
        "id": "yHFqqT4Yml84"
      },
      "source": [
        "dp[0][0] = 0"
      ],
      "execution_count": 319,
      "outputs": []
    },
    {
      "cell_type": "code",
      "metadata": {
        "id": "jwp11l-Cmifr"
      },
      "source": [
        "dq = deque()"
      ],
      "execution_count": 320,
      "outputs": []
    },
    {
      "cell_type": "code",
      "metadata": {
        "id": "fcmrcXkst0AI"
      },
      "source": [
        "go_x = [1, -1, 0, 0]\n",
        "go_y = [0, 0, 1, -1]"
      ],
      "execution_count": 321,
      "outputs": []
    },
    {
      "cell_type": "code",
      "metadata": {
        "id": "1nsX7xiot3qa"
      },
      "source": [
        "dq.append((0, 0))"
      ],
      "execution_count": 322,
      "outputs": []
    },
    {
      "cell_type": "code",
      "metadata": {
        "id": "B0mY_fU6t5Vt"
      },
      "source": [
        "while dq :\n",
        "  x, y = dq.popleft()\n",
        "\n",
        "  for i in range(4) :\n",
        "    nx = x + go_x[i]\n",
        "    ny = y + go_y[i]\n",
        "\n",
        "    if 0 <= nx < n and 0 <= ny < m :\n",
        "      if dp[nx][ny] == - 1:\n",
        "        if board[nx][ny] == 1 :\n",
        "          dq.append((nx, ny))\n",
        "          dp[nx][ny] = dp[x][y] + 1\n",
        "        else :\n",
        "          dq.appendleft((nx, ny))\n",
        "          dp[nx][ny] = dp[x][y]\n"
      ],
      "execution_count": 323,
      "outputs": []
    },
    {
      "cell_type": "code",
      "metadata": {
        "colab": {
          "base_uri": "https://localhost:8080/"
        },
        "id": "RvYi1FC6uT76",
        "outputId": "f081d55f-d36f-4412-c05c-7266276c6bb2"
      },
      "source": [
        "print(dp[-1][-1])"
      ],
      "execution_count": 324,
      "outputs": [
        {
          "output_type": "stream",
          "name": "stdout",
          "text": [
            "2\n"
          ]
        }
      ]
    },
    {
      "cell_type": "code",
      "metadata": {
        "id": "3LtOqakTtvK5"
      },
      "source": [
        ""
      ],
      "execution_count": null,
      "outputs": []
    },
    {
      "cell_type": "markdown",
      "metadata": {
        "id": "pC-7ATG3knPT"
      },
      "source": [
        "## Backtracking - 시간 초과"
      ]
    },
    {
      "cell_type": "code",
      "metadata": {
        "id": "hvxmto8QvBZw",
        "colab": {
          "base_uri": "https://localhost:8080/"
        },
        "outputId": "7c078519-b1af-4a1c-ac15-9b363f5b9c5f"
      },
      "source": [
        "m, n = map(int, input().split())"
      ],
      "execution_count": 162,
      "outputs": [
        {
          "name": "stdout",
          "output_type": "stream",
          "text": [
            "6 6\n"
          ]
        }
      ]
    },
    {
      "cell_type": "code",
      "metadata": {
        "id": "6rrcyz18vBc_"
      },
      "source": [
        "board = []"
      ],
      "execution_count": 131,
      "outputs": []
    },
    {
      "cell_type": "code",
      "metadata": {
        "id": "1tXLCyG4vBft",
        "colab": {
          "base_uri": "https://localhost:8080/"
        },
        "outputId": "72266b15-ed49-45b1-fce9-12d0412fa80c"
      },
      "source": [
        "for _ in range(n) :\n",
        "  board.append(list(map(int, input().strip())))"
      ],
      "execution_count": 132,
      "outputs": [
        {
          "name": "stdout",
          "output_type": "stream",
          "text": [
            "0011\n",
            "0100\n",
            "0011\n"
          ]
        }
      ]
    },
    {
      "cell_type": "code",
      "metadata": {
        "id": "VGnJbReIdFlb"
      },
      "source": [
        "dp = [[10001 for _ in range(m)] for _ in range(n)]"
      ],
      "execution_count": 261,
      "outputs": []
    },
    {
      "cell_type": "code",
      "metadata": {
        "id": "7denfj_ndo5h"
      },
      "source": [
        "dp[0][0] = 0"
      ],
      "execution_count": 262,
      "outputs": []
    },
    {
      "cell_type": "code",
      "metadata": {
        "id": "SYJYDqL-hqP7"
      },
      "source": [
        "board[0][0] = -1"
      ],
      "execution_count": 263,
      "outputs": []
    },
    {
      "cell_type": "code",
      "metadata": {
        "id": "Hb3NDiCjvBlU"
      },
      "source": [
        "def dfs(x, y) :\n",
        "  if x == n-1 and y == m-1 :\n",
        "    return\n",
        "\n",
        "  else :\n",
        "    go_x = [1, -1, 0, 0]\n",
        "    go_y = [0, 0, 1, -1]\n",
        "\n",
        "    for i in range(4) :\n",
        "      nx = x + go_x[i]\n",
        "      ny = y + go_y[i]\n",
        "\n",
        "      if 0 <= nx < n and 0 <= ny < m and board[nx][ny] != -1 :\n",
        "        if board[nx][ny] == 1 :\n",
        "          board[nx][ny] = -1\n",
        "          if dp[nx][ny] > dp[x][y]+1 :\n",
        "            dp[nx][ny] = dp[x][y]+1\n",
        "            dfs(nx, ny)\n",
        "          board[nx][ny] = 1\n",
        "        else :\n",
        "          board[nx][ny] = -1\n",
        "          if dp[nx][ny] > dp[x][y] :\n",
        "            dp[nx][ny] = dp[x][y]\n",
        "            dfs(nx, ny)\n",
        "          board[nx][ny] = 0"
      ],
      "execution_count": 264,
      "outputs": []
    },
    {
      "cell_type": "code",
      "metadata": {
        "id": "5L3l2Rk-vBrN"
      },
      "source": [
        "dfs(0, 0)"
      ],
      "execution_count": 265,
      "outputs": []
    },
    {
      "cell_type": "code",
      "metadata": {
        "colab": {
          "base_uri": "https://localhost:8080/"
        },
        "id": "opY4SOpHdkMP",
        "outputId": "550275c6-9ba9-4d3c-88fe-3a1588d30891"
      },
      "source": [
        "print(dp[-1][-1])"
      ],
      "execution_count": 266,
      "outputs": [
        {
          "output_type": "stream",
          "name": "stdout",
          "text": [
            "2\n"
          ]
        }
      ]
    }
  ]
}