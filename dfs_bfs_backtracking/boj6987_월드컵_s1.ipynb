{
  "nbformat": 4,
  "nbformat_minor": 0,
  "metadata": {
    "colab": {
      "name": "boj6987_월드컵_s1.ipynb",
      "provenance": [],
      "collapsed_sections": []
    },
    "kernelspec": {
      "display_name": "Python 3",
      "name": "python3"
    },
    "language_info": {
      "name": "python"
    }
  },
  "cells": [
    {
      "cell_type": "markdown",
      "metadata": {
        "id": "jtf7Q4Hv_tob"
      },
      "source": [
        "https://www.acmicpc.net/problem/16113\n",
        "\n",
        "\n"
      ]
    },
    {
      "cell_type": "markdown",
      "metadata": {
        "id": "5YT5dwCB7gDL"
      },
      "source": [
        "Concept. backtracking ✨\n",
        "\n",
        "A 팀과 B팀의 경우의 수 ( 승, 패 ) ( 패, 승 ) ( 패, 패 ) 의 경우를 모두 체크해야 한다. \n",
        "\n",
        "입력받은 값에서 승, 패, 무 값을 셀때마다 수를 1씩 감소시키고, \n",
        "그 다음 경우를 세기 위해 dfs 함수를 호출하고, 다시 원래의 상태로 입력값을 돌린다. "
      ]
    },
    {
      "cell_type": "code",
      "metadata": {
        "id": "ZuFkxWBEaSjh"
      },
      "source": [
        "from itertools import combinations"
      ],
      "execution_count": 82,
      "outputs": []
    },
    {
      "cell_type": "code",
      "metadata": {
        "id": "DGG9Jlmsj0wc"
      },
      "source": [
        "chk = []"
      ],
      "execution_count": 83,
      "outputs": []
    },
    {
      "cell_type": "code",
      "metadata": {
        "colab": {
          "base_uri": "https://localhost:8080/"
        },
        "id": "e26bAw6Jj561",
        "outputId": "59d76a24-d88f-473e-bcc7-16558f5b1a6c"
      },
      "source": [
        "for i in range(4) :\n",
        "  chk.append(list(map(int, input().split())))"
      ],
      "execution_count": 84,
      "outputs": [
        {
          "name": "stdout",
          "output_type": "stream",
          "text": [
            "9 9 9 9 9 9 9 9 9 9 9 9 9 9 9 9 9 9\n",
            "9 9 9 9 9 9 9 9 9 9 9 9 9 9 9 9 9 9\n",
            "9 9 9 9 9 9 9 9 9 9 9 9 9 9 9 9 9 9\n",
            "9 9 9 9 9 9 9 9 9 9 9 9 9 9 9 9 9 9\n"
          ]
        }
      ]
    },
    {
      "cell_type": "code",
      "metadata": {
        "id": "3clxFIsfcy9n"
      },
      "source": [
        "def dfs(k) :\n",
        "  global ans\n",
        "  if k == 15 :\n",
        "    # 딕셔너리 value 가 모두 0 인지 체크 \n",
        "    if [ m for m in team[0].values() ] == [0] * 3 :\n",
        "      ans = 1\n",
        "    return \n",
        "  \n",
        "  # 팀 조합의 승 패 경우를 따짐\n",
        "  # 특정 팀의 조합 경우를 따지고 => backtracking 함수 다시 호출해서 그 다음 경우 따짐 => 다시 돌려놓음\n",
        "\n",
        "  # 0 번 팀이 이기고, 1 번 팀이 지는 경우\n",
        "  if team[matching[k][0]]['w'] and team[matching[k][1]]['l'] :\n",
        "    team[matching[k][0]]['w'] -= 1\n",
        "    team[matching[k][1]]['l'] -= 1\n",
        "    dfs(k+1)\n",
        "    team[matching[k][0]]['w'] += 1\n",
        "    team[matching[k][1]]['l'] += 1\n",
        "\n",
        "  # 0 번 팀과 1 번 팀이 비긴 경우\n",
        "  if team[matching[k][0]]['s'] and team[matching[k][1]]['s'] :\n",
        "    team[matching[k][0]]['s'] -= 1\n",
        "    team[matching[k][1]]['s'] -= 1\n",
        "    dfs(k+1)\n",
        "    team[matching[k][0]]['s'] += 1\n",
        "    team[matching[k][1]]['s'] += 1\n",
        "\n",
        "  # 0 번 팀은 지고, 1 번 팀은 이기는 경우\n",
        "  if team[matching[k][0]]['l'] and team[matching[k][1]]['w'] :\n",
        "    team[matching[k][0]]['l'] -= 1\n",
        "    team[matching[k][1]]['w'] -= 1\n",
        "    dfs(k+1)\n",
        "    team[matching[k][0]]['l'] += 1\n",
        "    team[matching[k][1]]['w'] += 1   "
      ],
      "execution_count": 85,
      "outputs": []
    },
    {
      "cell_type": "code",
      "metadata": {
        "colab": {
          "base_uri": "https://localhost:8080/"
        },
        "id": "M4maqulBcJf3",
        "outputId": "c47a832a-1406-4467-ba59-4df695224a94"
      },
      "source": [
        "for i in range(4) :\n",
        "  team = []\n",
        "  c = chk[i]\n",
        "  for j in range(0, 18, 3) :\n",
        "    team.append({\"w\":c[j], \"s\":c[j+1], \"l\":c[j+2]})\n",
        "\n",
        "  w = 0\n",
        "  m = 0\n",
        "  e = 0\n",
        "  for k in range(6) :\n",
        "    w += team[k]['w']\n",
        "    m += team[k]['s']\n",
        "    e += team[k]['l']\n",
        "\n",
        "  ans = 0\n",
        "  if w == e and w == ( 15 - m//2 ):\n",
        "    matching = list(combinations(range(6), 2))\n",
        "    dfs(0)\n",
        "    print(ans, end=' ')\n",
        "  else :\n",
        "    print(ans, end=' ')"
      ],
      "execution_count": 89,
      "outputs": [
        {
          "output_type": "stream",
          "name": "stdout",
          "text": [
            "0 0 0 0 "
          ]
        }
      ]
    },
    {
      "cell_type": "code",
      "metadata": {
        "id": "8TcyCg9idA3M"
      },
      "source": [
        ""
      ],
      "execution_count": null,
      "outputs": []
    }
  ]
}