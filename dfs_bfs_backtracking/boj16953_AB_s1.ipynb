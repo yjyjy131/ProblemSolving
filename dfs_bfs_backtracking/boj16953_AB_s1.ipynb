{
  "nbformat": 4,
  "nbformat_minor": 0,
  "metadata": {
    "colab": {
      "name": "boj16953_AB_s1.ipynb",
      "provenance": [],
      "collapsed_sections": []
    },
    "kernelspec": {
      "display_name": "Python 3",
      "name": "python3"
    },
    "language_info": {
      "name": "python"
    }
  },
  "cells": [
    {
      "cell_type": "markdown",
      "metadata": {
        "id": "jtf7Q4Hv_tob"
      },
      "source": [
        "https://www.acmicpc.net/problem/16953\n"
      ]
    },
    {
      "cell_type": "markdown",
      "metadata": {
        "id": "5YT5dwCB7gDL"
      },
      "source": [
        "Concept. DFS"
      ]
    },
    {
      "cell_type": "code",
      "metadata": {
        "colab": {
          "base_uri": "https://localhost:8080/"
        },
        "id": "hlF6tolSZVYj",
        "outputId": "6b02f2f2-4bf1-44b1-81c9-0d98bcf9eb20"
      },
      "source": [
        "n, k = map(int, input().split())"
      ],
      "execution_count": 17,
      "outputs": [
        {
          "name": "stdout",
          "output_type": "stream",
          "text": [
            "4 42\n"
          ]
        }
      ]
    },
    {
      "cell_type": "code",
      "metadata": {
        "id": "p0cpqLxxZldN"
      },
      "source": [
        "res = 10**9+1"
      ],
      "execution_count": 22,
      "outputs": []
    },
    {
      "cell_type": "code",
      "metadata": {
        "id": "ySMsmppkZVav"
      },
      "source": [
        "def dfs(x, cnt) :\n",
        "  if x == k :\n",
        "    global res\n",
        "    res = min(res, cnt)\n",
        "  elif x > k :\n",
        "    return\n",
        "\n",
        "  else :\n",
        "    dfs(x*10+1, cnt+1)\n",
        "    dfs(x*2, cnt+1)"
      ],
      "execution_count": 7,
      "outputs": []
    },
    {
      "cell_type": "code",
      "metadata": {
        "id": "hWACT14IZVc3"
      },
      "source": [
        "dfs(n, 1)"
      ],
      "execution_count": 23,
      "outputs": []
    },
    {
      "cell_type": "code",
      "metadata": {
        "colab": {
          "base_uri": "https://localhost:8080/"
        },
        "id": "wSu-xOIev3HP",
        "outputId": "1275b2ca-20b3-4c06-d11e-c2dadd08044b"
      },
      "source": [
        "if res == 10**9+1 :\n",
        "  print(-1)\n",
        "else :\n",
        "  print(res)"
      ],
      "execution_count": 24,
      "outputs": [
        {
          "output_type": "stream",
          "name": "stdout",
          "text": [
            "-1\n"
          ]
        }
      ]
    },
    {
      "cell_type": "code",
      "metadata": {
        "id": "uus5xVk8v3Jg"
      },
      "source": [
        ""
      ],
      "execution_count": null,
      "outputs": []
    },
    {
      "cell_type": "code",
      "metadata": {
        "id": "ulM4KRqbZVfV"
      },
      "source": [
        ""
      ],
      "execution_count": null,
      "outputs": []
    }
  ]
}