{
  "nbformat": 4,
  "nbformat_minor": 0,
  "metadata": {
    "colab": {
      "name": "boj17086_아기상어2_s2.ipynb",
      "provenance": [],
      "collapsed_sections": []
    },
    "kernelspec": {
      "display_name": "Python 3",
      "name": "python3"
    },
    "language_info": {
      "name": "python"
    }
  },
  "cells": [
    {
      "cell_type": "markdown",
      "metadata": {
        "id": "jtf7Q4Hv_tob"
      },
      "source": [
        "https://www.acmicpc.net/problem/16953\n"
      ]
    },
    {
      "cell_type": "markdown",
      "metadata": {
        "id": "5YT5dwCB7gDL"
      },
      "source": [
        "Concept. BFS ✨\n",
        "\n",
        "**왜 DFS 로는 탐색할 수 없을까?**\n",
        "\n",
        "DFS 로는 다음과 같은 경우에서 해를 구할 수 없다 \n",
        "\n",
        "1 0\n",
        "\n",
        "0 0\n",
        "\n",
        "0 0\n",
        "\n",
        "0 1\n",
        "\n",
        "어떤 거리에서도 1칸만 이동하면 상어에 닿을 수 있기 때문에 이때의 안전거리는 1 이다.\n",
        "\n",
        "BFS 를 이용해 계산하면 상어가 존재하는 ( 0, 0 ) 칸과 ( 3, 1 ) 칸 두개의 칸부터 시작해서 탐색하기 때문에 최대 안전거리 1 을 알맞게 구할 수 있다. \n",
        "\n",
        "하지만 DFS 를 이용해 탐색한다면 ( 0, 0 ) 칸부터 시작해서 ( 3, 1 ) 칸까지 한 칸씩 이동하면서 최소값을 계산하기 때문에 안전거리를 계산하는 것이 아니라, ( 0, 0 ) 칸과 ( 3, 1 ) 칸 사이의 거리를 계산하게 되기때문에 정답이 아니다.\n",
        "\n"
      ]
    },
    {
      "cell_type": "code",
      "metadata": {
        "id": "aDPt1dcnJFlW"
      },
      "source": [
        "from collections import deque"
      ],
      "execution_count": 91,
      "outputs": []
    },
    {
      "cell_type": "code",
      "metadata": {
        "colab": {
          "base_uri": "https://localhost:8080/"
        },
        "id": "oh-At6sY6aBY",
        "outputId": "69f04b8b-62b9-4154-fe48-50a6f8085893"
      },
      "source": [
        "n, m = map(int, input().split())"
      ],
      "execution_count": 141,
      "outputs": [
        {
          "name": "stdout",
          "output_type": "stream",
          "text": [
            "4 2\n"
          ]
        }
      ]
    },
    {
      "cell_type": "code",
      "metadata": {
        "id": "Rthcvxfp6aD2"
      },
      "source": [
        "board = []"
      ],
      "execution_count": 142,
      "outputs": []
    },
    {
      "cell_type": "code",
      "metadata": {
        "colab": {
          "base_uri": "https://localhost:8080/"
        },
        "id": "RFURQomz6aGH",
        "outputId": "a1a8a1e0-8001-4e4c-9e25-e27fe2f8807f"
      },
      "source": [
        "for _ in range(n) :\n",
        "  board.append(list(map(int, input().split())))"
      ],
      "execution_count": 143,
      "outputs": [
        {
          "name": "stdout",
          "output_type": "stream",
          "text": [
            "1 0\n",
            "0 0\n",
            "0 0\n",
            "0 1\n"
          ]
        }
      ]
    },
    {
      "cell_type": "code",
      "metadata": {
        "id": "77qpDB0QIaf2"
      },
      "source": [
        "dp = [ [0 for _ in range(m)] for _ in range(n)]"
      ],
      "execution_count": 144,
      "outputs": []
    },
    {
      "cell_type": "code",
      "metadata": {
        "id": "bh10KNN2IaiO"
      },
      "source": [
        "dq = deque()"
      ],
      "execution_count": 145,
      "outputs": []
    },
    {
      "cell_type": "code",
      "metadata": {
        "id": "f_QwDPvIJNu5"
      },
      "source": [
        "for i in range(n) :\n",
        "  for j in range(m) :\n",
        "    if board[i][j] == 1:\n",
        "      dq.append((i, j))"
      ],
      "execution_count": 146,
      "outputs": []
    },
    {
      "cell_type": "code",
      "metadata": {
        "id": "cVYmfjWtJui4"
      },
      "source": [
        "go_x = [-1, -1, -1, 0, 0, 1, 1, 1]\n",
        "go_y = [0, 1, -1, -1, 1, 0, 1, -1]"
      ],
      "execution_count": 147,
      "outputs": []
    },
    {
      "cell_type": "code",
      "metadata": {
        "id": "M-4qRtjpJJt4"
      },
      "source": [
        "while dq :\n",
        "  pos = dq.popleft()\n",
        "  x = pos[0]\n",
        "  y = pos[1]\n",
        "\n",
        "  for k in range(8) :\n",
        "    new_x = x + go_x[k]\n",
        "    new_y = y + go_y[k]\n",
        "\n",
        "    if 0 <= new_x < n and 0 <= new_y < m and board[new_x][new_y] == 0 :\n",
        "      board[new_x][new_y]= -1\n",
        "      dp[new_x][new_y] = dp[x][y] + 1\n",
        "      dq.append((new_x, new_y))"
      ],
      "execution_count": 148,
      "outputs": []
    },
    {
      "cell_type": "code",
      "metadata": {
        "id": "F4rGu366K53i"
      },
      "source": [
        "res = 0"
      ],
      "execution_count": 149,
      "outputs": []
    },
    {
      "cell_type": "code",
      "metadata": {
        "id": "5c_667MrJJwG"
      },
      "source": [
        "for i in range(n) :\n",
        "  for j in range(m) :\n",
        "    res = max(res, dp[i][j])"
      ],
      "execution_count": 150,
      "outputs": []
    },
    {
      "cell_type": "code",
      "metadata": {
        "colab": {
          "base_uri": "https://localhost:8080/"
        },
        "id": "VWe1nG8iJJyC",
        "outputId": "714ee5ac-c78b-4b63-e952-4dd63ee37ee3"
      },
      "source": [
        "print(res)"
      ],
      "execution_count": 151,
      "outputs": [
        {
          "output_type": "stream",
          "name": "stdout",
          "text": [
            "1\n"
          ]
        }
      ]
    },
    {
      "cell_type": "code",
      "metadata": {
        "id": "sHuOooV1IakV"
      },
      "source": [
        ""
      ],
      "execution_count": null,
      "outputs": []
    }
  ]
}