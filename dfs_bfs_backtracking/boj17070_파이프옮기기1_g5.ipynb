{
  "nbformat": 4,
  "nbformat_minor": 0,
  "metadata": {
    "colab": {
      "name": "boj17070_파이프옮기기1_g5.ipynb",
      "provenance": [],
      "collapsed_sections": []
    },
    "kernelspec": {
      "display_name": "Python 3",
      "name": "python3"
    },
    "language_info": {
      "name": "python"
    }
  },
  "cells": [
    {
      "cell_type": "markdown",
      "metadata": {
        "id": "jtf7Q4Hv_tob"
      },
      "source": [
        "https://www.acmicpc.net/problem/17070"
      ]
    },
    {
      "cell_type": "markdown",
      "metadata": {
        "id": "5YT5dwCB7gDL"
      },
      "source": [
        "Concept. DFS\n",
        "\n",
        "일반적인 DFS 문제로 풀이할 수 있다. \n",
        "\n",
        "모든 길의 경우의 수를 탐색해야 하므로 ( N, N ) 위치에 도착할때마다 경로의 수를 세어주면 된다.\n",
        "\n",
        "시간 제한이 촉박하기 때문에 dfs 함수 안의 케이스를 최대한 줄여야 한다."
      ]
    },
    {
      "cell_type": "code",
      "metadata": {
        "colab": {
          "base_uri": "https://localhost:8080/"
        },
        "id": "rNzQN2R6NCgA",
        "outputId": "b270ffec-0458-484f-ff51-9c72d82e6cd3"
      },
      "source": [
        "n = int(input())"
      ],
      "execution_count": 24,
      "outputs": [
        {
          "name": "stdout",
          "output_type": "stream",
          "text": [
            "4\n"
          ]
        }
      ]
    },
    {
      "cell_type": "code",
      "metadata": {
        "id": "S_pJHVBtNCif"
      },
      "source": [
        "board = []"
      ],
      "execution_count": 55,
      "outputs": []
    },
    {
      "cell_type": "code",
      "metadata": {
        "colab": {
          "base_uri": "https://localhost:8080/"
        },
        "id": "Z2M522z2NClS",
        "outputId": "2862e3f6-65b6-48e6-a73f-a5511af4f453"
      },
      "source": [
        "for _ in range(n) : board.append(list(map(int, input().split())))"
      ],
      "execution_count": 56,
      "outputs": [
        {
          "name": "stdout",
          "output_type": "stream",
          "text": [
            "0 0 0 0\n",
            "0 0 0 0\n",
            "0 0 0 0\n",
            "0 0 0 0\n"
          ]
        }
      ]
    },
    {
      "cell_type": "code",
      "metadata": {
        "id": "4kOCB92JNoOA"
      },
      "source": [
        "def dfs(x, y, curr_d) :\n",
        "  if x == n-1 and y == n-1 :\n",
        "    global ans\n",
        "    ans += 1\n",
        "    return \n",
        " \n",
        "  if curr_d == 'h' or curr_d == 'c' :\n",
        "    if 0 <= y+1 < n and board[x][y+1] == 0:\n",
        "      dfs(x, y+1, 'h')\n",
        "\n",
        "  if curr_d == 'v' or curr_d == 'c' :\n",
        "    if 0 <= x+1 < n and board[x+1][y] == 0:\n",
        "      dfs(x+1, y, 'v')\n",
        "\n",
        "  if curr_d == 'v' or curr_d == 'c' or curr_d == 'h' :\n",
        "    if 0 <= x+1 < n and 0 <= y+1 < n :\n",
        "      if board[x+1][y] == 0 and board[x][y+1] == 0 and  board[x+1][y+1] == 0:\n",
        "        dfs(x+1, y+1, 'c')"
      ],
      "execution_count": 57,
      "outputs": []
    },
    {
      "cell_type": "code",
      "metadata": {
        "id": "jpHM8KfK4XJI"
      },
      "source": [
        "ans = 0"
      ],
      "execution_count": 58,
      "outputs": []
    },
    {
      "cell_type": "code",
      "metadata": {
        "id": "lvV_S_iTVJl3"
      },
      "source": [
        "dfs(0, 1, 'h')"
      ],
      "execution_count": 59,
      "outputs": []
    },
    {
      "cell_type": "code",
      "metadata": {
        "colab": {
          "base_uri": "https://localhost:8080/"
        },
        "id": "4y95iKjU4q9I",
        "outputId": "42ecfac4-76dd-4344-f6bd-53076c380bfe"
      },
      "source": [
        "print(ans)"
      ],
      "execution_count": 60,
      "outputs": [
        {
          "output_type": "stream",
          "name": "stdout",
          "text": [
            "3\n"
          ]
        }
      ]
    },
    {
      "cell_type": "code",
      "metadata": {
        "id": "Scxb7BqwNoQR"
      },
      "source": [
        ""
      ],
      "execution_count": null,
      "outputs": []
    }
  ]
}