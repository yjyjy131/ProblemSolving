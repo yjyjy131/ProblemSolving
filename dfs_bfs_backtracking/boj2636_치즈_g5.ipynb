{
  "nbformat": 4,
  "nbformat_minor": 0,
  "metadata": {
    "colab": {
      "name": "boj2636_치즈_g5.ipynb",
      "provenance": [],
      "collapsed_sections": []
    },
    "kernelspec": {
      "display_name": "Python 3",
      "name": "python3"
    },
    "language_info": {
      "name": "python"
    }
  },
  "cells": [
    {
      "cell_type": "markdown",
      "metadata": {
        "id": "jtf7Q4Hv_tob"
      },
      "source": [
        "https://www.acmicpc.net/problem/2636"
      ]
    },
    {
      "cell_type": "markdown",
      "metadata": {
        "id": "5YT5dwCB7gDL"
      },
      "source": [
        "Concept. BFS ✨"
      ]
    },
    {
      "cell_type": "markdown",
      "metadata": {
        "id": "Aa4VrEsYP0zW"
      },
      "source": [
        "1. 0 으로 표현된 가장자리를 체크하기 위해 이어진 0 을 bfs 로 탐색하면서 1이 있다면 해당 자리 값을 2로 바꾼다. \n",
        "\n",
        "  1-1. 이 때, 한 번 방문한 곳은 재방문하지 않도록 해야한다. \n",
        "\n",
        "  1-2. 한 사이클의 bfs 가 모두 끝나면 ( 큐가 비면 ) 시간을 1 증가시킨다.\n",
        "\n",
        "\n",
        "2. 2 로 바꾼 ( 치즈가 녹은 자리 ) 자리를 다시 0 으로 변경해준다.\n",
        "\n",
        "3. 해당 사이클을 한 번 돌면 치즈가 몇개 남는지 계산하는 것. 이 과정을 반복한다. \n",
        "\n",
        "  3-1. 치즈 개수가 0 이 될때까지 위 과정을 반복하는 것\n",
        "\n",
        "  3-2. 한 사이클을 돌때마다 dq 를 다시 생성해 bfs 탐색해야함"
      ]
    },
    {
      "cell_type": "code",
      "metadata": {
        "id": "cFfZ_fEgPqlW"
      },
      "source": [
        ""
      ],
      "execution_count": null,
      "outputs": []
    },
    {
      "cell_type": "code",
      "metadata": {
        "id": "JaqqDwtu5-4h"
      },
      "source": [
        ""
      ],
      "execution_count": null,
      "outputs": []
    },
    {
      "cell_type": "code",
      "metadata": {
        "id": "I0csHqydPZwW"
      },
      "source": [
        ""
      ],
      "execution_count": null,
      "outputs": []
    },
    {
      "cell_type": "code",
      "metadata": {
        "id": "1j4r7xVf3Dxg"
      },
      "source": [
        "board = [[0, 0, 0, 0, 0, 0, 0, 0, 0, 0, 0, 0],\n",
        " [0, 0, 0, 0, 0, 0, 0, 0, 0, 0, 0, 0],\n",
        " [0, 0, 0, 0, 0, 0, 0, 1, 1, 0, 0, 0],\n",
        " [0, 1, 1, 1, 0, 0, 0, 1, 1, 0, 0, 0],\n",
        " [0, 1, 1, 1, 1, 1, 1, 0, 0, 0, 0, 0],\n",
        " [0, 1, 1, 1, 1, 1, 0, 1, 1, 0, 0, 0],\n",
        " [0, 1, 1, 1, 1, 0, 0, 1, 1, 0, 0, 0],\n",
        " [0, 0, 1, 1, 0, 0, 0, 1, 1, 0, 0, 0],\n",
        " [0, 0, 1, 1, 1, 1, 1, 1, 1, 0, 0, 0],\n",
        " [0, 0, 1, 1, 1, 1, 1, 1, 1, 0, 0, 0],\n",
        " [0, 0, 1, 1, 1, 1, 1, 1, 1, 0, 0, 0],\n",
        " [0, 0, 1, 1, 1, 1, 1, 1, 1, 0, 0, 0],\n",
        " [0, 0, 0, 0, 0, 0, 0, 0, 0, 0, 0, 0]]"
      ],
      "execution_count": 61,
      "outputs": []
    },
    {
      "cell_type": "code",
      "metadata": {
        "id": "ospcdhQYPrGN"
      },
      "source": [
        "from collections import deque"
      ],
      "execution_count": 5,
      "outputs": []
    },
    {
      "cell_type": "code",
      "metadata": {
        "colab": {
          "base_uri": "https://localhost:8080/"
        },
        "id": "BudXamqcPrGN",
        "outputId": "68b28313-689c-453b-87a9-30b06d4a2c83"
      },
      "source": [
        "n, m = map(int, input().split())"
      ],
      "execution_count": 4,
      "outputs": [
        {
          "name": "stdout",
          "output_type": "stream",
          "text": [
            "13 12\n"
          ]
        }
      ]
    },
    {
      "cell_type": "code",
      "metadata": {
        "id": "Rqb-3WUHPrGN"
      },
      "source": [
        "board = []"
      ],
      "execution_count": 16,
      "outputs": []
    },
    {
      "cell_type": "code",
      "metadata": {
        "colab": {
          "base_uri": "https://localhost:8080/"
        },
        "id": "yBXDaKvEPrGO",
        "outputId": "d08ee7bc-f6c2-476f-9f3d-b3718bdcd184"
      },
      "source": [
        "for _ in range(n) : board.append(list(map(int, input().split())))"
      ],
      "execution_count": 17,
      "outputs": [
        {
          "name": "stdout",
          "output_type": "stream",
          "text": [
            "0 0 0 0 0 0 0 0 0 0 0 0\n",
            "0 0 0 0 0 0 0 0 0 0 0 0\n",
            "0 0 0 0 0 0 0 1 1 0 0 0\n",
            "0 1 1 1 0 0 0 1 1 0 0 0\n",
            "0 1 1 1 1 1 1 0 0 0 0 0\n",
            "0 1 1 1 1 1 0 1 1 0 0 0\n",
            "0 1 1 1 1 0 0 1 1 0 0 0\n",
            "0 0 1 1 0 0 0 1 1 0 0 0\n",
            "0 0 1 1 1 1 1 1 1 0 0 0\n",
            "0 0 1 1 1 1 1 1 1 0 0 0\n",
            "0 0 1 1 1 1 1 1 1 0 0 0\n",
            "0 0 1 1 1 1 1 1 1 0 0 0\n",
            "0 0 0 0 0 0 0 0 0 0 0 0\n"
          ]
        }
      ]
    },
    {
      "cell_type": "code",
      "metadata": {
        "id": "VhRszZvy1H6g"
      },
      "source": [
        "cheese = 0\n",
        "for i in range(n) :\n",
        "  for j in range(m) :\n",
        "    if board[i][j] == 1 :\n",
        "      cheese += 1"
      ],
      "execution_count": 62,
      "outputs": []
    },
    {
      "cell_type": "code",
      "metadata": {
        "id": "lGLhFs4ZPZye"
      },
      "source": [
        "def bfs(cheese) :\n",
        "  go_x = [1, -1, 0, 0]\n",
        "  go_y = [0, 0, 1, -1]\n",
        "\n",
        "  while dq :\n",
        "    x, y = dq.popleft()\n",
        "    \n",
        "    for i in range(4) :\n",
        "      nx = x + go_x[i]\n",
        "      ny = y + go_y[i]\n",
        "\n",
        "      if 0 <= nx < n and 0 <= ny < m and visit[nx][ny] == 0 :\n",
        "        visit[nx][ny] = 1\n",
        "\n",
        "        if board[nx][ny] == 1 :    \n",
        "          board[nx][ny] = 2\n",
        "          cheese -= 1\n",
        "        elif board[nx][ny] == 0 :\n",
        "          dq.append((nx, ny))\n",
        "\n",
        "  return cheese"
      ],
      "execution_count": 63,
      "outputs": []
    },
    {
      "cell_type": "code",
      "metadata": {
        "id": "DS2VKNgk2iSa"
      },
      "source": [
        "def chage_board(cnt) :\n",
        "  for i in range(n) :\n",
        "    for j in range(m) :\n",
        "      if board[i][j] == 2 :\n",
        "        board[i][j] = 0\n",
        "  \n",
        "  return cnt + 1"
      ],
      "execution_count": 64,
      "outputs": []
    },
    {
      "cell_type": "code",
      "metadata": {
        "id": "qAOvB_cOPZ0j"
      },
      "source": [
        "tmp = cheese\n",
        "cnt = 0\n",
        "while cheese != 0 :\n",
        "    visit = [ [0  for _ in range(m)] for _ in range(n) ]\n",
        "    visit[0][0] = 1\n",
        "    \n",
        "    dq = deque()\n",
        "    dq.append((0, 0))\n",
        "\n",
        "    cheese = bfs(cheese)\n",
        "    cnt = chage_board(cnt)\n",
        "    \n",
        "    if cheese != 0 :\n",
        "      tmp = cheese"
      ],
      "execution_count": 65,
      "outputs": []
    },
    {
      "cell_type": "code",
      "metadata": {
        "colab": {
          "base_uri": "https://localhost:8080/"
        },
        "id": "pAVFn7Vg21iR",
        "outputId": "2cce9c65-3df9-425e-8d76-62fc2af0479f"
      },
      "source": [
        "print(cnt)"
      ],
      "execution_count": 66,
      "outputs": [
        {
          "output_type": "stream",
          "name": "stdout",
          "text": [
            "3\n"
          ]
        }
      ]
    },
    {
      "cell_type": "code",
      "metadata": {
        "colab": {
          "base_uri": "https://localhost:8080/"
        },
        "id": "DANSK99KPZ2o",
        "outputId": "78b54c7c-8f48-4f5f-ca50-7cdf7642f8b5"
      },
      "source": [
        "print(tmp)"
      ],
      "execution_count": 67,
      "outputs": [
        {
          "output_type": "stream",
          "name": "stdout",
          "text": [
            "5\n"
          ]
        }
      ]
    },
    {
      "cell_type": "code",
      "metadata": {
        "id": "3BSITx_GPZ5F"
      },
      "source": [
        ""
      ],
      "execution_count": null,
      "outputs": []
    },
    {
      "cell_type": "code",
      "metadata": {
        "id": "7kL3HpkdPZ7C"
      },
      "source": [
        ""
      ],
      "execution_count": null,
      "outputs": []
    },
    {
      "cell_type": "code",
      "metadata": {
        "id": "gUNRf67wPZ9A"
      },
      "source": [
        ""
      ],
      "execution_count": null,
      "outputs": []
    },
    {
      "cell_type": "markdown",
      "metadata": {
        "id": "g7PlZ0_JPaJM"
      },
      "source": [
        "## 기존 오답 코드\n",
        "\n",
        "아래의 방식을 사용하면 가장자리를 한 사이클 돌았을 때의 시간을 체크하는 것이 아니라, \n",
        "\n",
        "한 칸 움직일때마다 시간을 체크하기 때문에 맞지 않다."
      ]
    },
    {
      "cell_type": "code",
      "metadata": {
        "id": "Q74TLf5ACbn6"
      },
      "source": [
        "from collections import deque"
      ],
      "execution_count": 85,
      "outputs": []
    },
    {
      "cell_type": "code",
      "metadata": {
        "colab": {
          "base_uri": "https://localhost:8080/"
        },
        "id": "osWqCZOy56Ji",
        "outputId": "3a08d5ba-80d9-4c52-9385-b74780e47e4c"
      },
      "source": [
        "n, m = map(int, input().split())"
      ],
      "execution_count": 3,
      "outputs": [
        {
          "name": "stdout",
          "output_type": "stream",
          "text": [
            "13 12\n"
          ]
        }
      ]
    },
    {
      "cell_type": "code",
      "metadata": {
        "id": "8QvvYz6B56L1"
      },
      "source": [
        "board = []"
      ],
      "execution_count": 23,
      "outputs": []
    },
    {
      "cell_type": "code",
      "metadata": {
        "colab": {
          "base_uri": "https://localhost:8080/"
        },
        "id": "GUqjzxYB56OF",
        "outputId": "cdda1dc6-ee04-4a9b-eee5-ac11160d64c0"
      },
      "source": [
        "for _ in range(n) : board.append(list(map(int, input().split())))"
      ],
      "execution_count": 24,
      "outputs": [
        {
          "name": "stdout",
          "output_type": "stream",
          "text": [
            "0 0 0 0 0 0 0 0 0 0 0 0\n",
            "0 0 0 0 0 0 0 0 0 0 0 0\n",
            "0 0 0 0 0 0 0 1 1 0 0 0\n",
            "0 1 1 1 0 0 0 1 1 0 0 0\n",
            "0 1 1 1 1 1 1 0 0 0 0 0\n",
            "0 1 1 1 1 1 0 1 1 0 0 0\n",
            "0 1 1 1 1 0 0 1 1 0 0 0\n",
            "0 0 1 1 0 0 0 1 1 0 0 0\n",
            "0 0 1 1 1 1 1 1 1 0 0 0\n",
            "0 0 1 1 1 1 1 1 1 0 0 0\n",
            "0 0 1 1 1 1 1 1 1 0 0 0\n",
            "0 0 1 1 1 1 1 1 1 0 0 0\n",
            "0 0 0 0 0 0 0 0 0 0 0 0\n"
          ]
        }
      ]
    },
    {
      "cell_type": "code",
      "metadata": {
        "id": "-ogU6pOy6UWG"
      },
      "source": [
        "def bfs(n, m, all_cnt) :\n",
        "  dq = deque()\n",
        "  dq.append((0, 0))\n",
        "\n",
        "  go_x = [1, -1, 0, 0]\n",
        "  go_y = [0, 0, 1, -1]\n",
        "\n",
        "  dp = [ [0 for _ in range(m)] for _ in range(n) ]\n",
        "  cnt_chk = [ 0 for _ in range(1000)]\n",
        "  total = 0\n",
        "\n",
        "  while dq :\n",
        "    x, y = dq.popleft()\n",
        "    cnt = 0\n",
        "    \n",
        "    for i in range(4) :\n",
        "      nx = x + go_x[i]\n",
        "      ny = y + go_y[i]\n",
        "\n",
        "      if 0 <= nx < n and 0 <= ny < m and board[nx][ny] == 0 :\n",
        "        board[nx][ny] = -1\n",
        "        x = nx\n",
        "        y = ny\n",
        "        dq.append((x, y))\n",
        "\n",
        "        for j in range(4) :\n",
        "          nx = x + go_x[j]\n",
        "          ny = y + go_y[j]   \n",
        "\n",
        "          if 0 <= nx < n and 0 <= ny < m and board[nx][ny] == 1 :    \n",
        "            board[nx][ny] = 0 \n",
        "            cnt += 1\n",
        "            dq.append((nx, ny))\n",
        "\n",
        "    all_cnt -= cnt\n",
        "    cnt_chk.append(all_cnt)\n",
        "\n",
        "  return dp, cnt_chk, total"
      ],
      "execution_count": 93,
      "outputs": []
    },
    {
      "cell_type": "code",
      "metadata": {
        "id": "DZJYXTDSJJGO"
      },
      "source": [
        "cheese = 0\n",
        "for i in range(n) :\n",
        "  for j in range(m) :\n",
        "    if board[i][j] == 1:\n",
        "      cheese += 1"
      ],
      "execution_count": 94,
      "outputs": []
    },
    {
      "cell_type": "code",
      "metadata": {
        "id": "ptMQ0-lF6UYX"
      },
      "source": [
        "dp, dp_cnt, res = bfs(n, m, cheese)"
      ],
      "execution_count": 95,
      "outputs": []
    },
    {
      "cell_type": "code",
      "metadata": {
        "colab": {
          "base_uri": "https://localhost:8080/"
        },
        "id": "RNCM6zJZGMia",
        "outputId": "198842bf-7ce1-4da0-dec7-127df3c7b748"
      },
      "source": [
        "dp"
      ],
      "execution_count": 96,
      "outputs": [
        {
          "output_type": "execute_result",
          "data": {
            "text/plain": [
              "[[0, 0, 0, 0, 0, 0, 0, 0, 0, 0, 0, 0],\n",
              " [0, 0, 0, 0, 0, 0, 0, 0, 0, 0, 0, 0],\n",
              " [0, 0, 0, 0, 0, 0, 0, 0, 0, 0, 0, 0],\n",
              " [0, 0, 0, 0, 0, 0, 0, 0, 0, 0, 0, 0],\n",
              " [0, 0, 0, 0, 0, 0, 0, 0, 0, 0, 0, 0],\n",
              " [0, 0, 0, 0, 0, 0, 0, 0, 0, 0, 0, 0],\n",
              " [0, 0, 0, 0, 0, 0, 0, 0, 0, 0, 0, 0],\n",
              " [0, 0, 0, 0, 0, 0, 0, 0, 0, 0, 0, 0],\n",
              " [0, 0, 0, 0, 0, 0, 0, 0, 0, 0, 0, 0],\n",
              " [0, 0, 0, 0, 0, 0, 0, 0, 0, 0, 0, 0],\n",
              " [0, 0, 0, 0, 0, 0, 0, 0, 0, 0, 0, 0],\n",
              " [0, 0, 0, 0, 0, 0, 0, 0, 0, 0, 0, 0],\n",
              " [0, 0, 0, 0, 0, 0, 0, 0, 0, 0, 0, 0]]"
            ]
          },
          "metadata": {},
          "execution_count": 96
        }
      ]
    },
    {
      "cell_type": "code",
      "metadata": {
        "colab": {
          "base_uri": "https://localhost:8080/"
        },
        "id": "46ptUTWFB5AR",
        "outputId": "e3e8f0a2-bd4c-4318-b629-9da26d7d8dd6"
      },
      "source": [
        "print(dp_cnt)"
      ],
      "execution_count": 98,
      "outputs": [
        {
          "output_type": "stream",
          "name": "stdout",
          "text": [
            "[0, 0, 0, 0, 0, 0, 0, 0, 0, 0, 0, 0, 0, 0, 0, 0, 0, 0, 0, 0, 0, 0, 0, 0, 0, 0, 0, 0, 0, 0, 0, 0, 0, 0, 0, 0, 0, 0, 0, 0, 0, 0, 0, 0, 0, 0, 0, 0, 0, 0, 0, 0, 0, 0, 0, 0, 0, 0, 0, 0, 0, 0, 0, 0, 0, 0, 0, 0, 0, 0, 0, 0, 0, 0, 0, 0, 0, 0, 0, 0, 0, 0, 0, 0, 0, 0, 0, 0, 0, 0, 0, 0, 0, 0, 0, 0, 0, 0, 0, 0, 0, 0, 0, 0, 0, 0, 0, 0, 0, 0, 0, 0, 0, 0, 0, 0, 0, 0, 0, 0, 0, 0, 0, 0, 0, 0, 0, 0, 0, 0, 0, 0, 0, 0, 0, 0, 0, 0, 0, 0, 0, 0, 0, 0, 0, 0, 0, 0, 0, 0, 0, 0, 0, 0, 0, 0, 0, 0, 0, 0, 0, 0, 0, 0, 0, 0, 0, 0, 0, 0, 0, 0, 0, 0, 0, 0, 0, 0, 0, 0, 0, 0, 0, 0, 0, 0, 0, 0, 0, 0, 0, 0, 0, 0, 0, 0, 0, 0, 0, 0, 0, 0, 0, 0, 0, 0, 0, 0, 0, 0, 0, 0, 0, 0, 0, 0, 0, 0, 0, 0, 0, 0, 0, 0, 0, 0, 0, 0, 0, 0, 0, 0, 0, 0, 0, 0, 0, 0, 0, 0, 0, 0, 0, 0, 0, 0, 0, 0, 0, 0, 0, 0, 0, 0, 0, 0, 0, 0, 0, 0, 0, 0, 0, 0, 0, 0, 0, 0, 0, 0, 0, 0, 0, 0, 0, 0, 0, 0, 0, 0, 0, 0, 0, 0, 0, 0, 0, 0, 0, 0, 0, 0, 0, 0, 0, 0, 0, 0, 0, 0, 0, 0, 0, 0, 0, 0, 0, 0, 0, 0, 0, 0, 0, 0, 0, 0, 0, 0, 0, 0, 0, 0, 0, 0, 0, 0, 0, 0, 0, 0, 0, 0, 0, 0, 0, 0, 0, 0, 0, 0, 0, 0, 0, 0, 0, 0, 0, 0, 0, 0, 0, 0, 0, 0, 0, 0, 0, 0, 0, 0, 0, 0, 0, 0, 0, 0, 0, 0, 0, 0, 0, 0, 0, 0, 0, 0, 0, 0, 0, 0, 0, 0, 0, 0, 0, 0, 0, 0, 0, 0, 0, 0, 0, 0, 0, 0, 0, 0, 0, 0, 0, 0, 0, 0, 0, 0, 0, 0, 0, 0, 0, 0, 0, 0, 0, 0, 0, 0, 0, 0, 0, 0, 0, 0, 0, 0, 0, 0, 0, 0, 0, 0, 0, 0, 0, 0, 0, 0, 0, 0, 0, 0, 0, 0, 0, 0, 0, 0, 0, 0, 0, 0, 0, 0, 0, 0, 0, 0, 0, 0, 0, 0, 0, 0, 0, 0, 0, 0, 0, 0, 0, 0, 0, 0, 0, 0, 0, 0, 0, 0, 0, 0, 0, 0, 0, 0, 0, 0, 0, 0, 0, 0, 0, 0, 0, 0, 0, 0, 0, 0, 0, 0, 0, 0, 0, 0, 0, 0, 0, 0, 0, 0, 0, 0, 0, 0, 0, 0, 0, 0, 0, 0, 0, 0, 0, 0, 0, 0, 0, 0, 0, 0, 0, 0, 0, 0, 0, 0, 0, 0, 0, 0, 0, 0, 0, 0, 0, 0, 0, 0, 0, 0, 0, 0, 0, 0, 0, 0, 0, 0, 0, 0, 0, 0, 0, 0, 0, 0, 0, 0, 0, 0, 0, 0, 0, 0, 0, 0, 0, 0, 0, 0, 0, 0, 0, 0, 0, 0, 0, 0, 0, 0, 0, 0, 0, 0, 0, 0, 0, 0, 0, 0, 0, 0, 0, 0, 0, 0, 0, 0, 0, 0, 0, 0, 0, 0, 0, 0, 0, 0, 0, 0, 0, 0, 0, 0, 0, 0, 0, 0, 0, 0, 0, 0, 0, 0, 0, 0, 0, 0, 0, 0, 0, 0, 0, 0, 0, 0, 0, 0, 0, 0, 0, 0, 0, 0, 0, 0, 0, 0, 0, 0, 0, 0, 0, 0, 0, 0, 0, 0, 0, 0, 0, 0, 0, 0, 0, 0, 0, 0, 0, 0, 0, 0, 0, 0, 0, 0, 0, 0, 0, 0, 0, 0, 0, 0, 0, 0, 0, 0, 0, 0, 0, 0, 0, 0, 0, 0, 0, 0, 0, 0, 0, 0, 0, 0, 0, 0, 0, 0, 0, 0, 0, 0, 0, 0, 0, 0, 0, 0, 0, 0, 0, 0, 0, 0, 0, 0, 0, 0, 0, 0, 0, 0, 0, 0, 0, 0, 0, 0, 0, 0, 0, 0, 0, 0, 0, 0, 0, 0, 0, 0, 0, 0, 0, 0, 0, 0, 0, 0, 0, 0, 0, 0, 0, 0, 0, 0, 0, 0, 0, 0, 0, 0, 0, 0, 0, 0, 0, 0, 0, 0, 0, 0, 0, 0, 0, 0, 0, 0, 0, 0, 0, 0, 0, 0, 0, 0, 0, 0, 0, 0, 0, 0, 0, 0, 0, 0, 0, 0, 0, 0, 0, 0, 0, 0, 0, 0, 0, 0, 0, 0, 0, 0, 0, 0, 0, 0, 0, 0, 0, 0, 0, 0, 0, 0, 0, 0, 0, 0, 0, 0, 0, 0, 0, 0, 0, 0, 0, 0, 0, 0, 0, 0, 0, 0, 0, 0, 0, 0, 0, 0, 0, 0, 0, 0, 0, 0, 0, 0, 0, 0, 0, 0, 0, 0, 0, 0, 0, 0, 0, 0, 0, 0, 0, 0, 0, 0, 0, 0, 0, 0, 0, 0, 0, 0, 0, 0, 0, 0, 0, 0, 0, 0, 0, 0, 0, 0, 0, 0, 0, 0, 0, 0, 0, 0, 0, 0, 0, 0, 0, 0, 0, 0, 0, 0, 0, 0, 0, 0, 0, 0, 0, 0, 0, 0, 0, 0, 0, 0, 0, 0, 0, 0, 0, 0, 0, 0, 0, 0, 0, 0, 0, 0, 0, 0, 0, 0, 0, 0, 0, 0, 0, 0, 0, 0, 0, 0, 0, 0, 0, 0, 0, 0, 0, 0, 0, 0, 0, 0, 0, 0, 0, 0, 0, 0, 0, 0, 0, 0, 58, 57, 57, 57, 55, 55, 51, 51, 51, 51, 50, 47, 47, 47, 47, 45, 44, 44, 43, 42, 42, 42, 42, 42, 42, 42, 40, 40, 39, 38, 38, 38, 38, 38, 34, 34, 34, 33, 33, 33, 33, 32, 32, 32, 32, 32, 32, 32, 29, 29, 29, 29, 29, 29, 29, 29, 29, 26, 25, 25, 24, 23, 23, 23, 23, 20, 20, 19, 19, 18, 15, 15, 15, 15, 15, 15, 15, 14, 14, 13, 12, 12, 12, 12, 12, 12, 11, 10, 10, 9, 9, 8, 8, 8, 8, 8, 8, 7, 7, 7, 7, 7, 7, 7, 7, 7, 5, 5, 5, 5, 5, 5, 5, 5, 5, 5, 5, 5, 3, 3, 1, 1, 1, 1, 1, 1, 1, 1, 1, 1, 1, 1, 1, 1, 1, 1, 1, 1, 1, 1, 1, 1, 1, 1, 1, 1, 1, 1, 1, 0, 0, 0, 0, 0, 0, 0, 0, 0, 0, 0, 0, 0, 0, 0, 0, 0, 0, 0, 0, 0, 0, 0, 0, 0, 0, 0, 0, 0, 0, 0, 0, 0, 0, 0, 0, 0, 0, 0, 0, 0, 0, 0, 0, 0, 0, 0, 0, 0, 0, 0, 0, 0, 0, 0, 0, 0, 0, 0, 0, 0, 0, 0, 0, 0, 0]\n"
          ]
        }
      ]
    },
    {
      "cell_type": "code",
      "metadata": {
        "colab": {
          "base_uri": "https://localhost:8080/"
        },
        "id": "5KwdIuWn6Uay",
        "outputId": "a12a43ff-0ed7-4e97-ad56-c6f3e75c49f9"
      },
      "source": [
        "print(res)"
      ],
      "execution_count": 99,
      "outputs": [
        {
          "output_type": "stream",
          "name": "stdout",
          "text": [
            "215\n"
          ]
        }
      ]
    },
    {
      "cell_type": "code",
      "metadata": {
        "id": "A4s6yTEL6Udk"
      },
      "source": [
        ""
      ],
      "execution_count": null,
      "outputs": []
    },
    {
      "cell_type": "code",
      "metadata": {
        "id": "Bqy1xg7Y6Ufw"
      },
      "source": [
        ""
      ],
      "execution_count": null,
      "outputs": []
    },
    {
      "cell_type": "code",
      "metadata": {
        "id": "s40naKWT6UiD"
      },
      "source": [
        ""
      ],
      "execution_count": null,
      "outputs": []
    },
    {
      "cell_type": "code",
      "metadata": {
        "id": "xkVzoCD66UkE"
      },
      "source": [
        ""
      ],
      "execution_count": null,
      "outputs": []
    },
    {
      "cell_type": "code",
      "metadata": {
        "id": "XFdHhl2G6Umq"
      },
      "source": [
        ""
      ],
      "execution_count": null,
      "outputs": []
    },
    {
      "cell_type": "code",
      "metadata": {
        "id": "rc6y-VA356Qf"
      },
      "source": [
        ""
      ],
      "execution_count": null,
      "outputs": []
    },
    {
      "cell_type": "code",
      "metadata": {
        "id": "S_pJHVBtNCif"
      },
      "source": [
        "board = []"
      ],
      "execution_count": 177,
      "outputs": []
    },
    {
      "cell_type": "code",
      "metadata": {
        "colab": {
          "base_uri": "https://localhost:8080/"
        },
        "id": "Z2M522z2NClS",
        "outputId": "cb528f2b-feb4-4522-e709-2824369b5aef"
      },
      "source": [
        "for _ in range(12) : board.append(list(input().strip()))"
      ],
      "execution_count": 178,
      "outputs": [
        {
          "name": "stdout",
          "output_type": "stream",
          "text": [
            "......\n",
            "......\n",
            "......\n",
            "......\n",
            "......\n",
            "......\n",
            "......\n",
            "......\n",
            ".Y....\n",
            ".YG...\n",
            "RRYG..\n",
            "RRYGG.\n"
          ]
        }
      ]
    },
    {
      "cell_type": "code",
      "metadata": {
        "id": "FxBEZppm_d6e"
      },
      "source": [
        "def bfs(x, y) :\n",
        "  dq = deque()\n",
        "  dq.append((x, y))\n",
        "\n",
        "  his = deque()\n",
        "  his.append((x, y))\n",
        "\n",
        "  chk = [[0 for _ in range(6)] for _ in range(12)]\n",
        "  chk[x][y] = 1\n",
        "\n",
        "  \n",
        "  curr_v = board[x][y]\n",
        "  cnt = 1\n",
        "\n",
        "  go_x = [-1, 1, 0, 0]\n",
        "  go_y = [0, 0, 1, -1]\n",
        "\n",
        "  while dq:\n",
        "    x, y = dq.popleft()\n",
        "    for i in range(4) :\n",
        "      nx = x + go_x[i]\n",
        "      ny = y + go_y[i]\n",
        "\n",
        "      if 0 <= nx < 12 and 0 <= ny < 6 and board[nx][ny] == curr_v and chk[nx][ny] == 0:\n",
        "        chk[nx][ny] = 1\n",
        "        dq.append((nx, ny))\n",
        "        his.append((nx, ny))\n",
        "        cnt += 1  \n",
        "\n",
        "  if cnt >= 4 :\n",
        "    while his :\n",
        "      x, y = his.popleft()\n",
        "      board[x][y] = '.'\n",
        "    return 'T'\n",
        "  else :\n",
        "    return 'F'"
      ],
      "execution_count": 179,
      "outputs": []
    },
    {
      "cell_type": "code",
      "metadata": {
        "id": "0IX0SAkEGLXA"
      },
      "source": [
        "def gravity() :\n",
        "  for j in range(6) :\n",
        "    alpha = deque()\n",
        "    for i in range(11, -1, -1) :\n",
        "      if board[i][j] != '.' :\n",
        "        alpha.append(board[i][j])\n",
        "        board[i][j] = '.'\n",
        "\n",
        "    idx = 11\n",
        "    while alpha :\n",
        "      board[idx][j] = alpha.popleft()\n",
        "      idx -= 1"
      ],
      "execution_count": 180,
      "outputs": []
    },
    {
      "cell_type": "code",
      "metadata": {
        "id": "pVpiPzajF4y7"
      },
      "source": [
        "res = 0"
      ],
      "execution_count": 181,
      "outputs": []
    },
    {
      "cell_type": "code",
      "metadata": {
        "colab": {
          "base_uri": "https://localhost:8080/"
        },
        "id": "7YxdHFqQC1yJ",
        "outputId": "8808f397-4dba-4b97-a680-e9379951a147"
      },
      "source": [
        "while 1 :\n",
        "  routine = []\n",
        "\n",
        "  for i in range(12) :\n",
        "    for j in range(6) :\n",
        "      if board[i][j] != '.' :\n",
        "        routine.append(bfs(i, j))\n",
        "\n",
        "  if 'T' in routine :\n",
        "    res += 1\n",
        "  else :\n",
        "    break\n",
        "\n",
        "  gravity()"
      ],
      "execution_count": 182,
      "outputs": [
        {
          "output_type": "stream",
          "name": "stdout",
          "text": [
            "[['.', '.', '.', '.', '.', '.'], ['.', '.', '.', '.', '.', '.'], ['.', '.', '.', '.', '.', '.'], ['.', '.', '.', '.', '.', '.'], ['.', '.', '.', '.', '.', '.'], ['.', '.', '.', '.', '.', '.'], ['.', '.', '.', '.', '.', '.'], ['.', '.', '.', '.', '.', '.'], ['.', 'Y', '.', '.', '.', '.'], ['.', 'Y', 'G', '.', '.', '.'], ['R', 'R', 'Y', 'G', '.', '.'], ['R', 'R', 'Y', 'G', 'G', '.']]\n",
            "[['.', '.', '.', '.', '.', '.'], ['.', '.', '.', '.', '.', '.'], ['.', '.', '.', '.', '.', '.'], ['.', '.', '.', '.', '.', '.'], ['.', '.', '.', '.', '.', '.'], ['.', '.', '.', '.', '.', '.'], ['.', '.', '.', '.', '.', '.'], ['.', '.', '.', '.', '.', '.'], ['.', '.', '.', '.', '.', '.'], ['.', '.', 'G', '.', '.', '.'], ['.', 'Y', 'Y', 'G', '.', '.'], ['.', 'Y', 'Y', 'G', 'G', '.']]\n",
            "[['.', '.', '.', '.', '.', '.'], ['.', '.', '.', '.', '.', '.'], ['.', '.', '.', '.', '.', '.'], ['.', '.', '.', '.', '.', '.'], ['.', '.', '.', '.', '.', '.'], ['.', '.', '.', '.', '.', '.'], ['.', '.', '.', '.', '.', '.'], ['.', '.', '.', '.', '.', '.'], ['.', '.', '.', '.', '.', '.'], ['.', '.', '.', '.', '.', '.'], ['.', '.', '.', 'G', '.', '.'], ['.', '.', 'G', 'G', 'G', '.']]\n",
            "[['.', '.', '.', '.', '.', '.'], ['.', '.', '.', '.', '.', '.'], ['.', '.', '.', '.', '.', '.'], ['.', '.', '.', '.', '.', '.'], ['.', '.', '.', '.', '.', '.'], ['.', '.', '.', '.', '.', '.'], ['.', '.', '.', '.', '.', '.'], ['.', '.', '.', '.', '.', '.'], ['.', '.', '.', '.', '.', '.'], ['.', '.', '.', '.', '.', '.'], ['.', '.', '.', '.', '.', '.'], ['.', '.', '.', '.', '.', '.']]\n"
          ]
        }
      ]
    },
    {
      "cell_type": "code",
      "metadata": {
        "id": "gqXzm5dP_d9d",
        "colab": {
          "base_uri": "https://localhost:8080/"
        },
        "outputId": "7a10b2b8-a339-48b0-cdee-659d3f92781e"
      },
      "source": [
        "print(res)"
      ],
      "execution_count": 183,
      "outputs": [
        {
          "output_type": "stream",
          "name": "stdout",
          "text": [
            "3\n"
          ]
        }
      ]
    }
  ]
}