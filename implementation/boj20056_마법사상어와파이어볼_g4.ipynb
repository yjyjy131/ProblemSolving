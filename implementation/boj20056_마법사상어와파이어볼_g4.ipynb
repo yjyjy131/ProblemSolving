{
  "nbformat": 4,
  "nbformat_minor": 0,
  "metadata": {
    "colab": {
      "provenance": [],
      "authorship_tag": "ABX9TyPdHS3CCvDARGwvBN+sfNz/",
      "include_colab_link": true
    },
    "kernelspec": {
      "name": "python3",
      "display_name": "Python 3"
    },
    "language_info": {
      "name": "python"
    }
  },
  "cells": [
    {
      "cell_type": "markdown",
      "metadata": {
        "id": "view-in-github",
        "colab_type": "text"
      },
      "source": [
        "<a href=\"https://colab.research.google.com/github/yjyjy131/ProblemSolving/blob/main/implementation/boj20056_%EB%A7%88%EB%B2%95%EC%82%AC%EC%83%81%EC%96%B4%EC%99%80%ED%8C%8C%EC%9D%B4%EC%96%B4%EB%B3%BC_g4.ipynb\" target=\"_parent\"><img src=\"https://colab.research.google.com/assets/colab-badge.svg\" alt=\"Open In Colab\"/></a>"
      ]
    },
    {
      "cell_type": "markdown",
      "source": [
        "https://www.acmicpc.net/problem/20057"
      ],
      "metadata": {
        "id": "FgEj_0EMtr3f"
      }
    },
    {
      "cell_type": "markdown",
      "source": [
        "1. 모든 파이어볼이 자신의 방향 di 로 속력 si 만큼 이동 \n",
        "\n",
        "  ㄴ 이동 중에는 한 칸에 여러개의 파이어볼 존재 가능\n",
        "\n",
        "2. 2개 이상의 파이어볼이 있는 칸에서 다음과 같이 처리\n",
        "\n",
        "  ㄴ 같은 칸에 있는 파이어볼은 모두 하나로 합쳐짐 \n",
        "\n",
        "  ㄴ 파이어볼을 4개로 나눔\n",
        "\n",
        "  ㄴ 질량 : 합쳐진 파이어볼 질량의 합 / 5 \n",
        "  \n",
        "  ㄴ 속력 : 합쳐진 파이어볼 속력의 합 / 합쳐진 파이어볼 개수 \n",
        "\n",
        "  ㄴ 방향 : 모두 홀수이거나 짝수라면 0246 / 아니라면 1357\n",
        "\n",
        "  질량이 0 인 파이어볼은 소멸되어 없어짐\n",
        "\n",
        "3. k 번 명령 후 남아있는 파이어볼 질량의 합"
      ],
      "metadata": {
        "id": "hr062HjzfI8K"
      }
    },
    {
      "cell_type": "code",
      "source": [
        "\n",
        "# 행, 열이 넘어가는 경우 체크\n",
        "def over_flow(x):\n",
        "    if x < 0:\n",
        "        x = n - abs(x) % n\n",
        "\n",
        "    if x >= n:\n",
        "        x = x % n\n",
        "\n",
        "    return x\n",
        "\n",
        "\n",
        "# 현재 위치, 속도, 방향으로부터 다음 위치를 계산한다\n",
        "def get_coords(x, y, d, s):\n",
        "    go = [(-1, 0), (-1, 1), (0, 1), (1, 1), (1, 0), (1, -1), (0, -1), (-1, -1)]\n",
        "    gox = x + go[d][0] * s\n",
        "    goy = y + go[d][1] * s\n",
        "    return over_flow(gox), over_flow(goy)\n",
        "\n",
        "\n",
        "# 파이어볼을 움직인다\n",
        "def move_fireball(arr):\n",
        "    new_board = [[[] for _ in range(n)] for _ in range(n)]\n",
        "    for i in range(n):\n",
        "        for j in range(n):\n",
        "            if arr[i][j]:\n",
        "                for t_ball in arr[i][j]:\n",
        "                    mass, speed, direction = t_ball[0], t_ball[1], t_ball[2]\n",
        "                    nx, ny = get_coords(i, j, direction, speed)\n",
        "                    new_board[nx][ny].append((mass, speed, direction))\n",
        "    return new_board\n",
        "\n",
        "\n",
        "# 파이어볼을 모두 합치고 쪼갠다\n",
        "def split_sum_ball(arr):\n",
        "    for i in range(n):\n",
        "        for j in range(n):\n",
        "            if len(arr[i][j]) >= 2:\n",
        "                # 같은 칸의 파이어볼은 모두 하나로 합쳐진다\n",
        "                t_m, t_s = 0, 0\n",
        "                even_chk, odd_chk = False, False\n",
        "                for b in arr[i][j]:\n",
        "                    t_m += b[0]\n",
        "                    t_s += b[1]\n",
        "                    if b[2] % 2 == 0:\n",
        "                        even_chk = True\n",
        "                    else:\n",
        "                        odd_chk = True\n",
        "\n",
        "                # 4개로 나누기\n",
        "                t_mass = t_m // 5\n",
        "                t_speed = t_s // len(arr[i][j])\n",
        "                if even_chk and odd_chk:\n",
        "                    arr[i][j] = [(t_mass, t_speed, 1), (t_mass, t_speed, 3), (t_mass, t_speed, 5), (t_mass, t_speed, 7)]\n",
        "                else:\n",
        "                    arr[i][j] = [(t_mass, t_speed, 0), (t_mass, t_speed, 2), (t_mass, t_speed, 4), (t_mass, t_speed, 6)]\n",
        "\n",
        "            # 질량이 0 인 파이어볼은 소멸되어 없어진다\n",
        "            del_t = []\n",
        "            if arr[i][j]:\n",
        "                for b in arr[i][j]:\n",
        "                    if b[0] != 0:\n",
        "                        del_t.append((b[0], b[1], b[2]))\n",
        "\n",
        "                arr[i][j] = del_t\n",
        "\n",
        "    return arr\n",
        "\n",
        "\n",
        "if __name__ == '__main__':\n",
        "    n, m, k = map(int, input().split())\n",
        "    fireball = []\n",
        "    for _ in range(m):\n",
        "        fireball.append(list(map(int, input().split())))\n",
        "    dir = [[7, 0, 1], [6, -1, 2], [5, 4, 3]]\n",
        "    board = [[[] for _ in range(n)] for _ in range(n)]\n",
        "    for ball in fireball:\n",
        "        board[ball[0] - 1][ball[1] - 1].append((ball[2], ball[3], ball[4]))\n",
        "\n",
        "    for _ in range(k):\n",
        "        # 모든 파이어볼 이동\n",
        "        board = move_fireball(board)\n",
        "\n",
        "        # 2개 이상 파이어볼이 있는 칸의 변화\n",
        "        board = split_sum_ball(board)\n",
        "\n",
        "    ans = 0\n",
        "    for i in range(n):\n",
        "        for j in range(n):\n",
        "           if board[i][j]:\n",
        "               for b in board[i][j]:\n",
        "                   ans += b[0]\n",
        "\n",
        "    print(ans)\n",
        "\n",
        "\n"
      ],
      "metadata": {
        "id": "Rh7z8fSXtqMV"
      },
      "execution_count": null,
      "outputs": []
    }
  ]
}