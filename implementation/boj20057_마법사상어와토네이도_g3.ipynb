{
  "nbformat": 4,
  "nbformat_minor": 0,
  "metadata": {
    "colab": {
      "provenance": [],
      "collapsed_sections": [],
      "authorship_tag": "ABX9TyMQ4IHEYLZqVg6ERagsKj2+",
      "include_colab_link": true
    },
    "kernelspec": {
      "name": "python3",
      "display_name": "Python 3"
    },
    "language_info": {
      "name": "python"
    }
  },
  "cells": [
    {
      "cell_type": "markdown",
      "metadata": {
        "id": "view-in-github",
        "colab_type": "text"
      },
      "source": [
        "<a href=\"https://colab.research.google.com/github/yjyjy131/ProblemSolving/blob/main/implementation/boj20057_%EB%A7%88%EB%B2%95%EC%82%AC%EC%83%81%EC%96%B4%EC%99%80%ED%86%A0%EB%84%A4%EC%9D%B4%EB%8F%84_g3.ipynb\" target=\"_parent\"><img src=\"https://colab.research.google.com/assets/colab-badge.svg\" alt=\"Open In Colab\"/></a>"
      ]
    },
    {
      "cell_type": "markdown",
      "source": [
        "https://www.acmicpc.net/problem/20057"
      ],
      "metadata": {
        "id": "mEpkHl_D3TL0"
      }
    },
    {
      "cell_type": "code",
      "execution_count": null,
      "metadata": {
        "id": "7LG9nHHY3OIz"
      },
      "outputs": [],
      "source": [
        "\n",
        "def do_tornado(cx, cy, cd, c_cords):\n",
        "    global ans\n",
        "    out = 0\n",
        "    nx, ny = cx + go_x[cd], cy + go_y[cd]\n",
        "\n",
        "    if 0 <= nx < n and 0 <= ny < n:\n",
        "        sand = board[nx][ny]\n",
        "        moved = 0\n",
        "        for i in range(9):\n",
        "            move_s = sand * c_cords[i][2]\n",
        "            nnx, nny = nx + c_cords[i][0], ny + c_cords[i][1]\n",
        "            if 0 <= nnx < n and 0 <= nny < n:\n",
        "                board[nnx][nny] += int(move_s)\n",
        "                moved += int(move_s)\n",
        "            else:\n",
        "                out += int(move_s)\n",
        "                moved += int(move_s)\n",
        "\n",
        "        ax, ay = nx + c_cords[9][0], ny + c_cords[9][1]\n",
        "        a = sand - moved\n",
        "        if 0 <= ax < n and 0 <= ay < n:\n",
        "            board[ax][ay] += a\n",
        "        else:\n",
        "            out += a\n",
        "        board[nx][ny] = 0\n",
        "        ans += out\n",
        "\n",
        "\n",
        "if __name__ == '__main__':\n",
        "    n = int(input())\n",
        "    board = [list(map(int, input().split())) for _ in range(n)]\n",
        "\n",
        "    # 상 하 좌 우\n",
        "    go_x = [-1, 1, 0, 0]\n",
        "    go_y = [0, 0, -1, 1]\n",
        "\n",
        "    tornado = {\n",
        "        0: [[-2, 0, 0.05], [-1, -1, 0.1], [-1, 1, 0.1], [0, -1, 0.07], [0, 1, 0.07],\n",
        "            [0, -2, 0.02], [0, 2, 0.02], [1, -1, 0.01], [1, 1, 0.01], [-1, 0]],\n",
        "        1: [[-1, -1, 0.01], [-1, 1, 0.01], [0, -1, 0.07], [0, 1, 0.07], [0, -2, 0.02],\n",
        "            [0, 2, 0.02], [1, -1, 0.1], [1, 1, 0.1], [2, 0, 0.05], [1, 0]],\n",
        "        2: [[-2, 0, 0.02], [-1, -1, 0.1], [-1, 0, 0.07], [-1, 1, 0.01], [0, -2, 0.05],\n",
        "            [1, -1, 0.1], [1, 0, 0.07], [1, 1, 0.01], [2, 0, 0.02], [0, -1]],\n",
        "        3: [[-1, 0, 0.07], [1, 0, 0.07], [-2, 0, 0.02], [2, 0, 0.02], [-1, 1, 0.1],\n",
        "            [1, 1, 0.1], [0, 2, 0.05], [-1, -1, 0.01], [1, -1, 0.01], [0, 1]]\n",
        "    }\n",
        "    global ans\n",
        "    ans = 0\n",
        "    x, y = n//2, n//2\n",
        "    go = 0\n",
        "\n",
        "    for _ in range(n//2):\n",
        "        # 좌\n",
        "        go += 1\n",
        "        for _g in range(go):\n",
        "            do_tornado(x, y, 2, tornado[2])\n",
        "            x, y = x + go_x[2], y + go_y[2]\n",
        "\n",
        "        # 하\n",
        "        for _g in range(go):\n",
        "            do_tornado(x, y, 1, tornado[1])\n",
        "            x, y = x + go_x[1], y + go_y[1]\n",
        "\n",
        "        # 우\n",
        "        go += 1\n",
        "        for _g in range(go):\n",
        "            do_tornado(x, y, 3, tornado[3])\n",
        "            x, y = x + go_x[3], y + go_y[3]\n",
        "\n",
        "        # 상\n",
        "        for _g in range(go):\n",
        "            do_tornado(x, y, 0, tornado[0])\n",
        "            x, y = x + go_x[0], y + go_y[0]\n",
        "\n",
        "    for _g in range(go+1):\n",
        "        do_tornado(x, y, 2, tornado[2])\n",
        "        x, y = x + go_x[2], y + go_y[2]\n",
        "\n",
        "    print(ans)\n"
      ]
    }
  ]
}