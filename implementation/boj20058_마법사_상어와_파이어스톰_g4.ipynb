{
  "nbformat": 4,
  "nbformat_minor": 0,
  "metadata": {
    "colab": {
      "provenance": [],
      "collapsed_sections": [],
      "authorship_tag": "ABX9TyP/k248SAqoLcX3F1jgj1rM",
      "include_colab_link": true
    },
    "kernelspec": {
      "name": "python3",
      "display_name": "Python 3"
    },
    "language_info": {
      "name": "python"
    }
  },
  "cells": [
    {
      "cell_type": "markdown",
      "metadata": {
        "id": "view-in-github",
        "colab_type": "text"
      },
      "source": [
        "<a href=\"https://colab.research.google.com/github/yjyjy131/ProblemSolving/blob/main/implementation/boj20058_%EB%A7%88%EB%B2%95%EC%82%AC_%EC%83%81%EC%96%B4%EC%99%80_%ED%8C%8C%EC%9D%B4%EC%96%B4%EC%8A%A4%ED%86%B0_g4.ipynb\" target=\"_parent\"><img src=\"https://colab.research.google.com/assets/colab-badge.svg\" alt=\"Open In Colab\"/></a>"
      ]
    },
    {
      "cell_type": "markdown",
      "source": [
        "https://www.acmicpc.net/problem/20058"
      ],
      "metadata": {
        "id": "mEpkHl_D3TL0"
      }
    },
    {
      "cell_type": "code",
      "execution_count": null,
      "metadata": {
        "id": "7LG9nHHY3OIz"
      },
      "outputs": [],
      "source": [
        "from collections import deque\n",
        "import copy\n",
        "\n",
        "\n",
        "# 얼음 블록 회전 후 좌표\n",
        "def transpose(sx, sy, bl):\n",
        "    b_row = pow(2, bl)\n",
        "    x_0, y_0 = sx % b_row, sy % b_row\n",
        "    dx, dy = abs(sx - x_0), abs(sy - y_0)\n",
        "    nx = y_0 + dx\n",
        "    ny = b_row - 1 - x_0 + dy\n",
        "    return nx, ny\n",
        "\n",
        "\n",
        "# 인접 않은 얼음 녹음\n",
        "def remove_ice(arr):\n",
        "    rv_list = []\n",
        "    for ti in range(b_len):\n",
        "        for tj in range(b_len):\n",
        "            no_cnt = 0\n",
        "            for dx, dy in zip(go_x, go_y):\n",
        "                nx, ny = ti + dx, tj + dy\n",
        "                if 0 <= nx < b_len and 0 <= ny < b_len:\n",
        "                    if arr[nx][ny] == 0:\n",
        "                        no_cnt += 1\n",
        "                else:\n",
        "                    no_cnt += 1\n",
        "\n",
        "            if no_cnt >= 2:\n",
        "                rv_list.append((ti, tj))\n",
        "\n",
        "    rv_board = copy.deepcopy(arr)\n",
        "    for rv in rv_list:\n",
        "        if rv_board[rv[0]][rv[1]]:\n",
        "            rv_board[rv[0]][rv[1]] = arr[rv[0]][rv[1]] - 1\n",
        "\n",
        "    return rv_board\n",
        "\n",
        "\n",
        "# 최대 크기 얼음 계산\n",
        "def search_ice(arr):\n",
        "    max_size = 0\n",
        "    for ti in range(b_len):\n",
        "        for tj in range(b_len):\n",
        "            if arr[ti][tj] > 0:\n",
        "                dq = deque([])\n",
        "                dq.append((ti, tj))\n",
        "                arr_chk = copy.deepcopy(arr)\n",
        "                size_cnt = 0\n",
        "                while dq:\n",
        "                    x, y = dq.popleft()\n",
        "                    for dx, dy in zip(go_x, go_y):\n",
        "                        nx, ny = x + dx, y + dy\n",
        "                        if 0 <= nx < b_len and 0 <= ny < b_len:\n",
        "                            if arr_chk[nx][ny] > 0:\n",
        "                                arr_chk[nx][ny] = -1\n",
        "                                dq.append((nx, ny))\n",
        "                                size_cnt += 1\n",
        "                max_size = max(max_size, size_cnt)\n",
        "\n",
        "    return max_size\n",
        "\n",
        "\n",
        "if __name__ == '__main__':\n",
        "    go_x = [-1, 1, 0, 0]\n",
        "    go_y = [0, 0, -1, 1]\n",
        "\n",
        "    n, q = map(int, input().split())\n",
        "    b_len = pow(2, n)\n",
        "    board = [list(map(int, input().split())) for _ in range(b_len)]\n",
        "    l_list = list(map(int, input().split()))\n",
        "\n",
        "    for l in l_list:\n",
        "        # 얼음 블록 회전\n",
        "        new_board = [[0 for _ in range(b_len)] for _ in range(b_len)]\n",
        "        for i in range(b_len):\n",
        "            for j in range(b_len):\n",
        "                n_x, n_y = transpose(i, j, l)\n",
        "                new_board[n_x][n_y] = board[i][j]\n",
        "        board = copy.deepcopy(new_board)\n",
        "\n",
        "        # 인접 않은 얼음이 줄어듦\n",
        "        board = remove_ice(board)\n",
        "\n",
        "    # 남은 얼음의 양\n",
        "    sum_res = 0\n",
        "    for i in range(b_len):\n",
        "        sum_res += sum(board[i])\n",
        "\n",
        "    # 가장 큰 덩어리 크기\n",
        "    max_res = search_ice(board)\n",
        "\n",
        "    print(sum_res)\n",
        "    print(max_res)"
      ]
    }
  ]
}