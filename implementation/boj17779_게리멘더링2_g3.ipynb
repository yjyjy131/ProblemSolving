{
  "nbformat": 4,
  "nbformat_minor": 0,
  "metadata": {
    "colab": {
      "provenance": [],
      "collapsed_sections": [],
      "authorship_tag": "ABX9TyOD0vY+FzUOjo0eK76a3hce",
      "include_colab_link": true
    },
    "kernelspec": {
      "name": "python3",
      "display_name": "Python 3"
    },
    "language_info": {
      "name": "python"
    }
  },
  "cells": [
    {
      "cell_type": "markdown",
      "metadata": {
        "id": "view-in-github",
        "colab_type": "text"
      },
      "source": [
        "<a href=\"https://colab.research.google.com/github/yjyjy131/ProblemSolving/blob/main/implementation/boj17779_%EA%B2%8C%EB%A6%AC%EB%A9%98%EB%8D%94%EB%A7%812_g3.ipynb\" target=\"_parent\"><img src=\"https://colab.research.google.com/assets/colab-badge.svg\" alt=\"Open In Colab\"/></a>"
      ]
    },
    {
      "cell_type": "markdown",
      "source": [
        "https://www.acmicpc.net/problem/17779"
      ],
      "metadata": {
        "id": "mEpkHl_D3TL0"
      }
    },
    {
      "cell_type": "code",
      "execution_count": null,
      "metadata": {
        "id": "7LG9nHHY3OIz"
      },
      "outputs": [],
      "source": [
        "\n",
        "\n",
        "# 구역 숫자 부여\n",
        "def find_sectors():\n",
        "    # 1번 구역 : 1 ≤ r < x + d1, 1 ≤ c ≤ y\n",
        "    for r in range(1, x + d1):\n",
        "        for c in range(1, y + 1):\n",
        "            if new_board[r - 1][c - 1] != 5:\n",
        "                new_board[r - 1][c - 1] = 1\n",
        "\n",
        "    # 2번 구역 : 1 ≤ r ≤ x + d2, y < c ≤ N\n",
        "    for r in range(1, x + d2 + 1):\n",
        "        for c in range(y + 1, n + 1):\n",
        "            if new_board[r - 1][c - 1] != 5:\n",
        "                new_board[r - 1][c - 1] = 2\n",
        "\n",
        "    # 3번 구역 : x + d1 ≤ r ≤ N, 1 ≤ c < y - d1 + d2\n",
        "    for r in range(x + d1, n + 1):\n",
        "        for c in range(1, y - d1 + d2 + 1):\n",
        "            if new_board[r - 1][c - 1] != 5:\n",
        "                new_board[r - 1][c - 1] = 3\n",
        "\n",
        "    # 4번 구역 : x + d2 < r ≤ N, y - d1 + d2 ≤ c ≤ N\n",
        "    for r in range(x + d2 + 1, n + 1):\n",
        "        for c in range(y - d1 + d2, n + 1):\n",
        "            if new_board[r - 1][c - 1] != 5:\n",
        "                new_board[r - 1][c - 1] = 4\n",
        "\n",
        "    # 5번 구역\n",
        "    for b_row in new_board:\n",
        "        end_point = False\n",
        "        if b_row.count(5) > 1:\n",
        "            for i in range(n):\n",
        "                if b_row[i] == 5:\n",
        "                    for j in range(i + 1, n):\n",
        "                        if b_row[j] == 5:\n",
        "                            end_point = True\n",
        "                            break\n",
        "                        else:\n",
        "                            b_row[j] = 5\n",
        "\n",
        "                if end_point:\n",
        "                    break\n",
        "\n",
        "\n",
        "# 경계선 그리기\n",
        "def find_border():\n",
        "    # (x, y), (x+1, y-1), ..., (x+d1, y-d1)\n",
        "    for dv in range(d1 + 1):\n",
        "        new_board[x + dv - 1][y - dv - 1] = 5\n",
        "\n",
        "    # (x, y), (x+1, y+1), ..., (x+d2, y+d2)\n",
        "    for dv in range(d2 + 1):\n",
        "        new_board[x + dv - 1][y + dv - 1] = 5\n",
        "\n",
        "    # (x+d1, y-d1), (x+d1+1, y-d1+1), ... (x+d1+d2, y-d1+d2)\n",
        "    d2_list = [d2_v for d2_v in range(d2 + 1)]\n",
        "    for dv2 in d2_list:\n",
        "        new_board[x + d1 + dv2 - 1][y - d1 + dv2 - 1] = 5\n",
        "\n",
        "    # (x+d2, y+d2), (x+d2+1, y+d2-1), ..., (x+d2+d1, y+d2-d1)\n",
        "    d1_list = [d1_v for d1_v in range(d1 + 1)]\n",
        "    for dv1 in d1_list:\n",
        "        new_board[x + d2 + dv1 - 1][y + d2 - dv1 - 1] = 5\n",
        "\n",
        "\n",
        "if __name__ == '__main__':\n",
        "    n = int(input())\n",
        "    board = [list(map(int, input().split())) for _ in range(n)]\n",
        "    diff_v = 100 * n * n\n",
        "    new_board = [[0 for _ in range(n)] for _ in range(n)]\n",
        "\n",
        "    for d1 in range(1, n+1):\n",
        "        for d2 in range(1, n+1):\n",
        "            for x in range(1, n+1):\n",
        "                if 1 <= x < x + d1 + d2 <= n:\n",
        "                    for y in range(1, n+1):\n",
        "                        if 1 <= y - d1 < y < y + d2 <= n:\n",
        "                            new_board = [[0 for _ in range(n)] for _ in range(n)]\n",
        "                            find_border()\n",
        "                            find_sectors()\n",
        "\n",
        "                            max_v = 0\n",
        "                            min_v = 100 * n * n\n",
        "\n",
        "                            for sv in range(1, 6):\n",
        "                                tmp_v = 0\n",
        "                                for ci in range(n):\n",
        "                                    for cj in range(n):\n",
        "                                        if new_board[ci][cj] == sv:\n",
        "                                            tmp_v += board[ci][cj]\n",
        "\n",
        "                                max_v = max(max_v, tmp_v)\n",
        "                                min_v = min(min_v, tmp_v)\n",
        "\n",
        "                            diff_v = min(diff_v, max_v - min_v)\n",
        "\n",
        "    print(diff_v)\n",
        "\n",
        "\n"
      ]
    }
  ]
}