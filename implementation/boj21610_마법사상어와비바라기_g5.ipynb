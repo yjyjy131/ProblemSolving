{
  "nbformat": 4,
  "nbformat_minor": 0,
  "metadata": {
    "colab": {
      "provenance": [],
      "collapsed_sections": [],
      "authorship_tag": "ABX9TyNR5MjNdDFF9s/61QfsS0AX",
      "include_colab_link": true
    },
    "kernelspec": {
      "name": "python3",
      "display_name": "Python 3"
    },
    "language_info": {
      "name": "python"
    }
  },
  "cells": [
    {
      "cell_type": "markdown",
      "metadata": {
        "id": "view-in-github",
        "colab_type": "text"
      },
      "source": [
        "<a href=\"https://colab.research.google.com/github/yjyjy131/ProblemSolving/blob/main/implementation/boj21610_%EB%A7%88%EB%B2%95%EC%82%AC%EC%83%81%EC%96%B4%EC%99%80%EB%B9%84%EB%B0%94%EB%9D%BC%EA%B8%B0_g5.ipynb\" target=\"_parent\"><img src=\"https://colab.research.google.com/assets/colab-badge.svg\" alt=\"Open In Colab\"/></a>"
      ]
    },
    {
      "cell_type": "markdown",
      "source": [
        "https://www.acmicpc.net/problem/20058"
      ],
      "metadata": {
        "id": "mEpkHl_D3TL0"
      }
    },
    {
      "cell_type": "code",
      "execution_count": null,
      "metadata": {
        "id": "7LG9nHHY3OIz"
      },
      "outputs": [],
      "source": [
        "import copy\n",
        "\n",
        "\n",
        "# 행, 열 범위 체크\n",
        "def chk_over_flow(tx):\n",
        "    if 0 <= tx < n:\n",
        "        return tx\n",
        "\n",
        "    if tx < 0:\n",
        "        while 1:\n",
        "            if tx >= 0:\n",
        "                return tx\n",
        "            tx += n\n",
        "    else:\n",
        "        return tx % n\n",
        "\n",
        "\n",
        "# 이동 후 구름의 좌표 반환\n",
        "def move_cloud(x, y, di, si):\n",
        "    nx = chk_over_flow(x + si * dirs[di][0])\n",
        "    ny = chk_over_flow(y + si * dirs[di][1])\n",
        "    return (nx, ny)\n",
        "\n",
        "\n",
        "# 물 복사 마법\n",
        "def water_bug(cord_list, arr):\n",
        "    new_arr = copy.deepcopy(arr)\n",
        "    add_target = []\n",
        "    for cord in cord_list:\n",
        "        i, j = cord[0], cord[1]\n",
        "        cnt = 0\n",
        "\n",
        "        for dx, dy in zip(go_x, go_y):\n",
        "            nx = i + dx\n",
        "            ny = j + dy\n",
        "\n",
        "            if 0 <= nx < n and 0 <= ny < n and arr[nx][ny] > 0:\n",
        "                cnt += 1\n",
        "\n",
        "        add_target.append((i, j, cnt))\n",
        "\n",
        "    for i, j, cnt in add_target:\n",
        "        new_arr[i][j] += cnt\n",
        "\n",
        "    return new_arr\n",
        "\n",
        "\n",
        "# 구름 다시 생성\n",
        "def make_cloud(cord_list, arr):\n",
        "    new_cloud = []\n",
        "    new_arr = copy.deepcopy(arr)\n",
        "    for i in range(n):\n",
        "        for j in range(n):\n",
        "            if arr[i][j] >= 2 and (i, j) not in cord_list:\n",
        "                new_cloud.append((i, j))\n",
        "\n",
        "    for i, j in new_cloud:\n",
        "        new_arr[i][j] -= 2\n",
        "\n",
        "    return new_cloud, new_arr\n",
        "\n",
        "\n",
        "if __name__ == '__main__':\n",
        "    n, m = map(int, input().split())\n",
        "    board = [list(map(int, input().split())) for _ in range(n)]\n",
        "    ds_list = [list(map(int, input().split())) for _ in range(m)]\n",
        "    c_list = [(n-1, 0), (n-1, 1), (n - 2, 0), (n - 2, 1)]\n",
        "    dirs = [-1, (0, -1), (-1, -1), (-1, 0), (-1, 1), (0, 1), (1, 1), (1, 0), (1, -1)]\n",
        "    go_x = [-1, -1, 1, 1]\n",
        "    go_y = [-1, 1, -1, 1]\n",
        "\n",
        "    for ds in ds_list:\n",
        "        # 1. 모든 구름이 di 방향 si칸 이동\n",
        "        new_clist = []\n",
        "        for cloud in c_list:\n",
        "            new_clist.append(move_cloud(cloud[0], cloud[1], ds[0], ds[1]))\n",
        "\n",
        "        c_list = copy.deepcopy(new_clist)\n",
        "\n",
        "        # 2. 비가 내려 물 1 증가\n",
        "        for cloud in c_list:\n",
        "            board[cloud[0]][cloud[1]] += 1\n",
        "\n",
        "        # 3. 구름이 모두 사라짐\n",
        "        # 4. 2 에서 물이 증가한 칸에 물 복사 버그\n",
        "        board = water_bug(c_list, board)\n",
        "\n",
        "        # 5. 구름 생성, 물의 양 줄어듦\n",
        "        c_list, board = make_cloud(c_list, board)\n",
        "\n",
        "    # 바구니 물 양의 합\n",
        "    ans = 0\n",
        "    for i in range(n):\n",
        "        ans += sum(board[i])\n",
        "    print(ans)\n"
      ]
    }
  ]
}