{
  "nbformat": 4,
  "nbformat_minor": 0,
  "metadata": {
    "colab": {
      "name": "bj1932_dynamic.ipynb",
      "provenance": [],
      "authorship_tag": "ABX9TyPRL+cGyykRR3wX8khJbw1X",
      "include_colab_link": true
    },
    "kernelspec": {
      "name": "python3",
      "display_name": "Python 3"
    }
  },
  "cells": [
    {
      "cell_type": "markdown",
      "metadata": {
        "id": "view-in-github",
        "colab_type": "text"
      },
      "source": [
        "<a href=\"https://colab.research.google.com/github/yjyjy131/coding_test/blob/main/bj1932_dynamic.ipynb\" target=\"_parent\"><img src=\"https://colab.research.google.com/assets/colab-badge.svg\" alt=\"Open In Colab\"/></a>"
      ]
    },
    {
      "cell_type": "markdown",
      "metadata": {
        "id": "8jYEjKnrexti"
      },
      "source": [
        "\r\n",
        "**백준 1932번**\r\n",
        "\r\n",
        "```\r\n",
        "        7\r\n",
        "      3   8\r\n",
        "    8   1   0\r\n",
        "  2   7   4   4 \r\n",
        "4   5   2   6   5\r\n",
        "```\r\n",
        "\r\n",
        "위 그림은 크기가 5인 정수 삼각형의 한 모습이다.\r\n",
        "\r\n",
        "맨 위층 7부터 시작해서 아래에 있는 수 중 하나를 선택하여 아래층으로 내려올 때, 이제까지 선택된 수의 합이 최대가 되는 경로를 구하는 프로그램을 작성하라. 아래층에 있는 수는 현재 층에서 선택된 수의 대각선 왼쪽 또는 대각선 오른쪽에 있는 것 중에서만 선택할 수 있다.\r\n",
        "\r\n",
        "삼각형의 크기는 1 이상 500 이하이다. 삼각형을 이루고 있는 각 수는 모두 정수이며, 범위는 0 이상 9999 이하이다.\r\n",
        "\r\n"
      ]
    },
    {
      "cell_type": "code",
      "metadata": {
        "colab": {
          "base_uri": "https://localhost:8080/"
        },
        "id": "gqy9Gp5MetA-",
        "outputId": "8913244a-110d-4f71-8b7b-d1be8c443442"
      },
      "source": [
        "\r\n",
        "num = int(input())\r\n",
        "arr = []\r\n",
        "for i in range(num):\r\n",
        "  arr.append(list(map(int, input().split())))\r\n",
        "  \r\n",
        "row = 2\r\n",
        "for i in range(1, num):\r\n",
        "  for j in range(0, row):\r\n",
        "    if j == 0 :\r\n",
        "      arr[i][j] = arr[i][j] + arr[i-1][0]\r\n",
        "    elif i == j : \r\n",
        "      arr[i][j] = arr[i][j] + arr[i-1][j-1]\r\n",
        "    else :\r\n",
        "      arr[i][j] = arr[i][j] + max(arr[i-1][j-1], arr[i-1][j])\r\n",
        "  row += 1\r\n",
        "\r\n",
        "print(max(arr[num-1]))"
      ],
      "execution_count": 17,
      "outputs": [
        {
          "output_type": "stream",
          "text": [
            "5\n",
            "7\n",
            "3 8\n",
            "8 1 0\n",
            "2 7 4 4\n",
            "4 5 2 6 5\n",
            "[[7], [3, 8], [8, 1, 0], [2, 7, 4, 4], [4, 5, 2, 6, 5]]\n",
            "30\n"
          ],
          "name": "stdout"
        }
      ]
    }
  ]
}