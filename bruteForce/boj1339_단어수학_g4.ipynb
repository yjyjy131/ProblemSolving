{
  "nbformat": 4,
  "nbformat_minor": 0,
  "metadata": {
    "colab": {
      "name": "boj1339_단어수학_g4.ipynb",
      "provenance": [],
      "collapsed_sections": []
    },
    "kernelspec": {
      "display_name": "Python 3",
      "name": "python3"
    },
    "language_info": {
      "name": "python"
    }
  },
  "cells": [
    {
      "cell_type": "markdown",
      "metadata": {
        "id": "jtf7Q4Hv_tob"
      },
      "source": [
        "https://www.acmicpc.net/problem/1339\n"
      ]
    },
    {
      "cell_type": "markdown",
      "metadata": {
        "id": "7a6khXj5kMTw"
      },
      "source": [
        "Concept. Brute Force ✨\n",
        "\n",
        "각 알파벳이 어떤 자릿수을 표현하는지 만든 후, 내림차순 정렬한다. \n",
        "\n",
        "각 자리수를 큰 수부터 9 8 7 6 .... 숫자를 곱해서 모두 더해준다."
      ]
    },
    {
      "cell_type": "code",
      "metadata": {
        "colab": {
          "base_uri": "https://localhost:8080/"
        },
        "id": "uFDRT-SXgjGT",
        "outputId": "c6eb2925-26b1-401d-e5c7-45ab5af6abc5"
      },
      "source": [
        "n = int(input())"
      ],
      "execution_count": 1,
      "outputs": [
        {
          "name": "stdout",
          "output_type": "stream",
          "text": [
            "2\n"
          ]
        }
      ]
    },
    {
      "cell_type": "code",
      "metadata": {
        "id": "WmHz9ZO2gjId"
      },
      "source": [
        "alpha = []"
      ],
      "execution_count": 2,
      "outputs": []
    },
    {
      "cell_type": "code",
      "metadata": {
        "id": "3eHF_nqw7PEb",
        "colab": {
          "base_uri": "https://localhost:8080/"
        },
        "outputId": "e4981fbb-48b3-4905-e29a-68f9c8578f69"
      },
      "source": [
        "for _ in range(n) :\n",
        "  alpha.append(list(map(str, input().strip())))"
      ],
      "execution_count": 4,
      "outputs": [
        {
          "name": "stdout",
          "output_type": "stream",
          "text": [
            "GCF\n",
            "ACDEB\n"
          ]
        }
      ]
    },
    {
      "cell_type": "code",
      "metadata": {
        "id": "umfCu-gh7PGq"
      },
      "source": [
        "alpha_dict = dict()\n",
        "for i in range(len(alpha)) :\n",
        "  for j in range(len(alpha[i])) :\n",
        "    if alpha[i][j] not in alpha_dict :\n",
        "      num = 10 ** (len(alpha[i]) - j-1)\n",
        "      alpha_dict[alpha[i][j]] = num\n",
        "    else :\n",
        "      num = alpha_dict.get(alpha[i][j])\n",
        "      num += 10 ** (len(alpha[i]) - j-1)\n",
        "      alpha_dict[alpha[i][j]] = num"
      ],
      "execution_count": 22,
      "outputs": []
    },
    {
      "cell_type": "code",
      "metadata": {
        "colab": {
          "base_uri": "https://localhost:8080/"
        },
        "id": "MoFfviBvhM-a",
        "outputId": "cfe980fb-6f66-4e70-dcd8-69911867fc83"
      },
      "source": [
        "alpha_dict"
      ],
      "execution_count": 23,
      "outputs": [
        {
          "output_type": "execute_result",
          "data": {
            "text/plain": [
              "{'A': 10000, 'B': 1, 'C': 1010, 'D': 100, 'E': 10, 'F': 1, 'G': 100}"
            ]
          },
          "metadata": {},
          "execution_count": 23
        }
      ]
    },
    {
      "cell_type": "code",
      "metadata": {
        "id": "vAI_VkqYhNAz"
      },
      "source": [
        "all_alpha = []\n",
        "for k in alpha_dict :\n",
        "  all_alpha.append(alpha_dict.get(k))"
      ],
      "execution_count": 24,
      "outputs": []
    },
    {
      "cell_type": "code",
      "metadata": {
        "id": "kboVaiyQi8AV"
      },
      "source": [
        "all_alpha.sort(reverse=True)"
      ],
      "execution_count": 25,
      "outputs": []
    },
    {
      "cell_type": "code",
      "metadata": {
        "id": "Vmm8HI4yi_ag"
      },
      "source": [
        "vals = [9, 8, 7, 6, 5, 4, 3, 2, 1, 0]\n",
        "res = 0\n",
        "for i in range(len(all_alpha)) :\n",
        "  res += all_alpha[i] * vals[i]"
      ],
      "execution_count": 26,
      "outputs": []
    },
    {
      "cell_type": "code",
      "metadata": {
        "colab": {
          "base_uri": "https://localhost:8080/"
        },
        "id": "2tGEzGe3i-Pk",
        "outputId": "2fb3fa5f-9756-4181-d826-4f0dde0116ad"
      },
      "source": [
        "print(res)"
      ],
      "execution_count": 27,
      "outputs": [
        {
          "output_type": "stream",
          "name": "stdout",
          "text": [
            "99437\n"
          ]
        }
      ]
    },
    {
      "cell_type": "code",
      "metadata": {
        "id": "hkPIPxB3i-Rw"
      },
      "source": [
        ""
      ],
      "execution_count": null,
      "outputs": []
    },
    {
      "cell_type": "code",
      "metadata": {
        "id": "MmbEwEcUhNGD"
      },
      "source": [
        ""
      ],
      "execution_count": null,
      "outputs": []
    },
    {
      "cell_type": "code",
      "metadata": {
        "id": "LA1c5W9l7PJJ"
      },
      "source": [
        ""
      ],
      "execution_count": null,
      "outputs": []
    },
    {
      "cell_type": "markdown",
      "metadata": {
        "id": "XSvVv67H7PT-"
      },
      "source": [
        "## 시간초과 - Combinations & Permutations 로 모든 조합과 순열을 구함"
      ]
    },
    {
      "cell_type": "code",
      "metadata": {
        "id": "gOC4J5fgzTC2"
      },
      "source": [
        "from itertools import permutations, combinations"
      ],
      "execution_count": null,
      "outputs": []
    },
    {
      "cell_type": "code",
      "metadata": {
        "colab": {
          "base_uri": "https://localhost:8080/"
        },
        "id": "cU7BA2ItujHd",
        "outputId": "d168ef3e-5046-4796-c40a-e99f379a68bb"
      },
      "source": [
        "n = int(input())"
      ],
      "execution_count": null,
      "outputs": [
        {
          "name": "stdout",
          "output_type": "stream",
          "text": [
            "2\n"
          ]
        }
      ]
    },
    {
      "cell_type": "code",
      "metadata": {
        "colab": {
          "base_uri": "https://localhost:8080/"
        },
        "id": "Y2dcyoruzFOT",
        "outputId": "ddc5ff5c-ca38-42a2-b81c-314836cd96f2"
      },
      "source": [
        "words = []\n",
        "for _ in range(n) : words.append(list(map(str, input().strip())))"
      ],
      "execution_count": null,
      "outputs": [
        {
          "name": "stdout",
          "output_type": "stream",
          "text": [
            "GCF\n",
            "ACDEB\n"
          ]
        }
      ]
    },
    {
      "cell_type": "code",
      "metadata": {
        "id": "kZvdswrZzypi"
      },
      "source": [
        "vals = [0, 1, 2, 3, 4, 5, 6, 7, 8, 9]"
      ],
      "execution_count": null,
      "outputs": []
    },
    {
      "cell_type": "code",
      "metadata": {
        "id": "-VxPSDPZ19Yt"
      },
      "source": [
        "alpha = set()\n",
        "\n",
        "for word in words :\n",
        "  for w in word :\n",
        "    alpha.add(w)"
      ],
      "execution_count": null,
      "outputs": []
    },
    {
      "cell_type": "code",
      "metadata": {
        "id": "Dda8IzSi2n-5"
      },
      "source": [
        "alpha = list(alpha)"
      ],
      "execution_count": null,
      "outputs": []
    },
    {
      "cell_type": "code",
      "metadata": {
        "id": "374dYPJF2u_L"
      },
      "source": [
        "res = 0"
      ],
      "execution_count": null,
      "outputs": []
    },
    {
      "cell_type": "code",
      "metadata": {
        "id": "eUIrdxQj3GFU"
      },
      "source": [
        "for comb in combinations(vals, len(alpha)) :\n",
        "  for permu in permutations(comb, len(comb)) :\n",
        "    alpha_dict = dict()\n",
        "    for i in range(len(alpha)) :\n",
        "      alpha_dict.update({alpha[i]:permu[i]})\n",
        "    num = 0\n",
        "    for word in words :\n",
        "      w_num = ''\n",
        "      for w in word : \n",
        "        w_num += str(alpha_dict.get(w))\n",
        "      num += int(w_num)\n",
        "    res = max(res, num)"
      ],
      "execution_count": null,
      "outputs": []
    },
    {
      "cell_type": "code",
      "metadata": {
        "colab": {
          "base_uri": "https://localhost:8080/"
        },
        "id": "bpT2Kb4X2oBH",
        "outputId": "86749e65-31a6-4796-84af-4b3d14e64d09"
      },
      "source": [
        "print(res)"
      ],
      "execution_count": null,
      "outputs": [
        {
          "output_type": "stream",
          "name": "stdout",
          "text": [
            "99437\n"
          ]
        }
      ]
    },
    {
      "cell_type": "code",
      "metadata": {
        "id": "f97f2-Hky9-x"
      },
      "source": [
        ""
      ],
      "execution_count": null,
      "outputs": []
    },
    {
      "cell_type": "code",
      "metadata": {
        "id": "Qcx51yzOy-Bb"
      },
      "source": [
        ""
      ],
      "execution_count": null,
      "outputs": []
    }
  ]
}