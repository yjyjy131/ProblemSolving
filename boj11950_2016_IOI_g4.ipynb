{
  "nbformat": 4,
  "nbformat_minor": 0,
  "metadata": {
    "colab": {
      "name": "boj11950_2016 IOI_g4.ipynb",
      "provenance": [],
      "collapsed_sections": []
    },
    "kernelspec": {
      "display_name": "Python 3",
      "name": "python3"
    },
    "language_info": {
      "name": "python"
    }
  },
  "cells": [
    {
      "cell_type": "markdown",
      "metadata": {
        "id": "jtf7Q4Hv_tob"
      },
      "source": [
        "https://www.acmicpc.net/problem/11950"
      ]
    },
    {
      "cell_type": "markdown",
      "metadata": {
        "id": "5YT5dwCB7gDL"
      },
      "source": [
        "Concept. Brute Force\n"
      ]
    },
    {
      "cell_type": "code",
      "metadata": {
        "id": "95vt8QL77fxf"
      },
      "source": [
        "from itertools import combinations"
      ],
      "execution_count": 243,
      "outputs": []
    },
    {
      "cell_type": "code",
      "metadata": {
        "id": "amaQcyCI16UP"
      },
      "source": [
        "from collections import deque"
      ],
      "execution_count": 134,
      "outputs": []
    },
    {
      "cell_type": "code",
      "metadata": {
        "colab": {
          "base_uri": "https://localhost:8080/"
        },
        "id": "VN8rOSh60j9S",
        "outputId": "c52c7ea8-dae0-43d4-a70c-59e76a0d8c9b"
      },
      "source": [
        "n, m = map(int, input().split())"
      ],
      "execution_count": 230,
      "outputs": [
        {
          "name": "stdout",
          "output_type": "stream",
          "text": [
            "4 5\n"
          ]
        }
      ]
    },
    {
      "cell_type": "code",
      "metadata": {
        "id": "IW7BEsm50puU"
      },
      "source": [
        "board = []"
      ],
      "execution_count": 150,
      "outputs": []
    },
    {
      "cell_type": "code",
      "metadata": {
        "colab": {
          "base_uri": "https://localhost:8080/"
        },
        "id": "HDFjJuEg0j_r",
        "outputId": "43bbaeed-71b8-43b7-dea8-8ddf4d8ecadc"
      },
      "source": [
        "for _ in range(n) : board.append(list(map(str,input().strip())))"
      ],
      "execution_count": 151,
      "outputs": [
        {
          "name": "stdout",
          "output_type": "stream",
          "text": [
            "WWWWWWWWWWWWWW\n",
            "WBBBWWRRWWBBBW\n",
            "WWBWWRRRRWWBWW\n",
            "BWBWWRRRRWWBWW\n",
            "WBBWWWRRWWBBBW\n",
            "WWWWWWWWWWWWWW\n"
          ]
        }
      ]
    },
    {
      "cell_type": "code",
      "metadata": {
        "id": "BnCP25kt15wL"
      },
      "source": [
        "wbr = deque()"
      ],
      "execution_count": 232,
      "outputs": []
    },
    {
      "cell_type": "code",
      "metadata": {
        "id": "eLPuW_HB2AuW"
      },
      "source": [
        "for _ in range(n) : wbr.append([0, 0, 0])"
      ],
      "execution_count": 233,
      "outputs": []
    },
    {
      "cell_type": "code",
      "metadata": {
        "id": "OOkltbPL07Vb"
      },
      "source": [
        "for i in range(n) :\n",
        "  for j in range(m) :\n",
        "    if board[i][j] == 'W' :\n",
        "      wbr[i][0] += 1\n",
        "    elif board[i][j] == 'B' :\n",
        "      wbr[i][1] +=1\n",
        "    elif board[i][j] == 'R' :\n",
        "      wbr[i][2] += 1    "
      ],
      "execution_count": 234,
      "outputs": []
    },
    {
      "cell_type": "code",
      "metadata": {
        "id": "0dEWJw1a04rH"
      },
      "source": [
        "for i in range(n) :\n",
        "  for j in range(3) :\n",
        "    wbr[i][j] = m - wbr[i][j]"
      ],
      "execution_count": 235,
      "outputs": []
    },
    {
      "cell_type": "code",
      "metadata": {
        "id": "aeY9uKcq3oks"
      },
      "source": [
        "vals = [ i for i in range(1, n-1) ]"
      ],
      "execution_count": 236,
      "outputs": []
    },
    {
      "cell_type": "code",
      "metadata": {
        "id": "z-3pirIe3ycx"
      },
      "source": [
        "b_idx = deque()"
      ],
      "execution_count": 237,
      "outputs": []
    },
    {
      "cell_type": "code",
      "metadata": {
        "id": "PQjQEYv84Nfr"
      },
      "source": [
        "for i in range(1, n-1) : b_idx.append((i, i))"
      ],
      "execution_count": 238,
      "outputs": []
    },
    {
      "cell_type": "code",
      "metadata": {
        "id": "sbHFUxdT3k61"
      },
      "source": [
        "for comb in combinations(vals, 2) : b_idx.append(comb)"
      ],
      "execution_count": 239,
      "outputs": []
    },
    {
      "cell_type": "code",
      "metadata": {
        "id": "6M0_peZ737zz"
      },
      "source": [
        "all_res = 100000"
      ],
      "execution_count": 240,
      "outputs": []
    },
    {
      "cell_type": "code",
      "metadata": {
        "id": "r_cKTOq63k9Q"
      },
      "source": [
        "while b_idx :\n",
        "  res = 0\n",
        "  b1, b2 = b_idx.popleft()\n",
        "  for i in range(b1) : res += wbr[i][0]\n",
        "  for j in range(b1, b2+1) : res += wbr[j][1]\n",
        "  for k in range(b2+1, n) : res += wbr[k][2]\n",
        "  all_res = min(all_res, res)"
      ],
      "execution_count": 241,
      "outputs": []
    },
    {
      "cell_type": "code",
      "metadata": {
        "colab": {
          "base_uri": "https://localhost:8080/"
        },
        "id": "EP0cfqFm3k_Y",
        "outputId": "de37531a-6d01-475a-b3c9-3b30dee5c9e7"
      },
      "source": [
        "print(all_res)"
      ],
      "execution_count": 242,
      "outputs": [
        {
          "output_type": "stream",
          "name": "stdout",
          "text": [
            "11\n"
          ]
        }
      ]
    }
  ]
}