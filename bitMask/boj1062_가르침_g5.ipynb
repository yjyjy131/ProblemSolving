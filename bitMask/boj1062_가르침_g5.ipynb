{
  "nbformat": 4,
  "nbformat_minor": 0,
  "metadata": {
    "colab": {
      "name": "boj1062_가르침_g5.ipynb",
      "provenance": [],
      "collapsed_sections": []
    },
    "kernelspec": {
      "display_name": "Python 3",
      "name": "python3"
    },
    "language_info": {
      "name": "python"
    }
  },
  "cells": [
    {
      "cell_type": "markdown",
      "metadata": {
        "id": "jtf7Q4Hv_tob"
      },
      "source": [
        "https://www.acmicpc.net/problem/1062"
      ]
    },
    {
      "cell_type": "markdown",
      "metadata": {
        "id": "lAQZCv9JgqO1"
      },
      "source": [
        "Concept. 비트 마스크 ✨\n",
        "\n",
        "1 ) 무조건 나타나는 문자 a n t i c 이외의 알파벳에 대해 dict 생성\n",
        "\n",
        "2 ) 주어진 word 들에 대한 비트마스크 생성\n",
        "\n",
        "3 ) 문자 a n t i c 이외의 알파벳들을 k-5 개 조합으로 뽑아 만들 수 있는 2 제곱 수 합의 값과, 비트마스크 값이 같은지 비교해 count 한다. \n",
        "\n",
        "\n",
        "**1번.**\n",
        "ans = 0b0 | ( 1 << a )\n",
        "ans = ans | ( 1 << b )\n",
        "\n",
        "**2번.**\n",
        "ans = 2 ** a + 2 ** b \n",
        "\n",
        "위 두 계산식은 같은 값을 뱉어낸다. "
      ]
    },
    {
      "cell_type": "markdown",
      "metadata": {
        "id": "w2TQCn7ZXosJ"
      },
      "source": [
        "## itertools ( combinations ) & BitMask 를 이용한 구현"
      ]
    },
    {
      "cell_type": "code",
      "metadata": {
        "id": "YYaqUIZlNDCh"
      },
      "source": [
        "from itertools import combinations"
      ],
      "execution_count": 14,
      "outputs": []
    },
    {
      "cell_type": "code",
      "metadata": {
        "id": "Bw5bO1KUFvSU",
        "colab": {
          "base_uri": "https://localhost:8080/"
        },
        "outputId": "c879296a-70ed-4cd1-d6f4-b8d96c11c309"
      },
      "source": [
        "n, k = map(int, input().split())"
      ],
      "execution_count": 68,
      "outputs": [
        {
          "output_type": "stream",
          "text": [
            "9 8\n"
          ],
          "name": "stdout"
        }
      ]
    },
    {
      "cell_type": "code",
      "metadata": {
        "id": "qzp-4aGyGqe4"
      },
      "source": [
        "words = []"
      ],
      "execution_count": 69,
      "outputs": []
    },
    {
      "cell_type": "code",
      "metadata": {
        "id": "vR7SVND1GuRd"
      },
      "source": [
        "for _ in range(n) :\n",
        "  w = input() \n",
        "  w_set = set(w.rstrip()[4:-4]).difference('a', 'i', 'n', 't', 'c')\n",
        "  words.append(w_set)"
      ],
      "execution_count": null,
      "outputs": []
    },
    {
      "cell_type": "code",
      "metadata": {
        "id": "S4SlYLW1FvUT"
      },
      "source": [
        "bin_dict = {'b': 20, 'd': 19, 'e': 18, 'f': 17, 'g': 16, 'h': 15, 'j': 14,\n",
        "            'k': 13, 'l': 12, 'm': 11, 'o': 10, 'p': 9, 'q': 8, 'r': 7,\n",
        "            's': 6, 'u': 5, 'v': 4, 'w': 3, 'x': 2, 'y': 1, 'z': 0}"
      ],
      "execution_count": 64,
      "outputs": []
    },
    {
      "cell_type": "code",
      "metadata": {
        "id": "0wmZRWLbHzTE"
      },
      "source": [
        "def w2bin(word) :\n",
        "  ans = 0b0\n",
        "  for w in word :\n",
        "    ans = ans | (1 << bin_dict[w])\n",
        "  return ans"
      ],
      "execution_count": 72,
      "outputs": []
    },
    {
      "cell_type": "code",
      "metadata": {
        "id": "3F8kiEArRdH-"
      },
      "source": [
        "if k < 5 :\n",
        "  print(0)\n",
        "else :\n",
        "  binary = [ w2bin(w) for w in words ]\n",
        "  max_cnt = 0\n",
        "\n",
        "  # 0 ~ 21 : dict 에 있는 각 알파벳들로 만들 수 있는 2 의 제곱수\n",
        "  power = [ 2 ** i for i in range(21) ]\n",
        "\n",
        "  for c in combinations(power, k-5) :\n",
        "    curr = sum(c)\n",
        "    cnt = 0\n",
        "\n",
        "    # 현재 비트 값 (curr) and 마스크 = 마스크 라면, 비트와 마스크 값이 같은 것 \n",
        "    for bit_mask in binary :\n",
        "      if bit_mask & curr == bit_mask :\n",
        "        cnt += 1\n",
        "\n",
        "      max_cnt = max(max_cnt, cnt)\n",
        "\n",
        "  print(max_cnt)"
      ],
      "execution_count": null,
      "outputs": []
    },
    {
      "cell_type": "code",
      "metadata": {
        "id": "_GnrJA_0eTpU"
      },
      "source": [
        "def dfs(x, sumv) :\n",
        "  if sumv == (k-5) :\n",
        "    curr = 0\n",
        "    for c_idx in range(21) :\n",
        "      if chk[c_idx] == 1 : \n",
        "        curr += power[c_idx]\n",
        "\n",
        "    cnt = 0\n",
        "    for bit_mask in binary :\n",
        "      if bit_mask & curr == bit_mask :\n",
        "        cnt +=1\n",
        "\n",
        "    global max_cnt\n",
        "    max_cnt = max(max_cnt, cnt)\n",
        "\n",
        "  else :\n",
        "    for i in range(x, len(chk)) :\n",
        "      chk[i] = 1\n",
        "      dfs(i+1, sumv+1)\n",
        "\n",
        "      chk[i] = 0\n",
        "      dfs(i+1, sumv+1)"
      ],
      "execution_count": 56,
      "outputs": []
    },
    {
      "cell_type": "code",
      "metadata": {
        "id": "3ZRht3TzSsL5"
      },
      "source": [
        ""
      ],
      "execution_count": null,
      "outputs": []
    },
    {
      "cell_type": "markdown",
      "metadata": {
        "id": "Pb-fkbSkTuGn"
      },
      "source": [
        "## DFS & Bit Mask 를 이용한 구현 ( 시간 초과 ) "
      ]
    },
    {
      "cell_type": "code",
      "metadata": {
        "id": "iDqW51TWXPsW"
      },
      "source": [
        "n, k = map(int, input().split())\n",
        "words = []\n",
        "all_alpha = set()\n",
        "\n",
        "for _ in range(n) :\n",
        "  w = input() \n",
        "  w_set = set(w.rstrip()[4:-4]).difference('a', 'i', 'n', 't', 'c')\n",
        "  words.append(w_set)\n",
        "  all_alpha = all_alpha | w_set\n",
        "    \n",
        "bin_dict = {'b': 20, 'd': 19, 'e': 18, 'f': 17, 'g': 16, 'h': 15, 'j': 14,\n",
        "            'k': 13, 'l': 12, 'm': 11, 'o': 10, 'p': 9, 'q': 8, 'r': 7,\n",
        "            's': 6, 'u': 5, 'v': 4, 'w': 3, 'x': 2, 'y': 1, 'z': 0}\n",
        "\n",
        "def w2bin(word) :\n",
        "  ans = 0b0\n",
        "  for w in word :\n",
        "    ans = ans | (1 << bin_dict[w])\n",
        "  return ans\n",
        "\n",
        "len_alpha = len(all_alpha)\n",
        "\n",
        "def dfs(x, sumv) :\n",
        "  if sumv == (k-5) :\n",
        "    curr = 0\n",
        "    for c_idx in range(21) :\n",
        "      if chk[c_idx] == 1 : \n",
        "        curr += power[c_idx]\n",
        "\n",
        "    cnt = 0\n",
        "    for bit_mask in binary :\n",
        "      if bit_mask & curr == bit_mask :\n",
        "        cnt +=1\n",
        "\n",
        "    global max_cnt\n",
        "    max_cnt = max(max_cnt, cnt)\n",
        "\n",
        "  else :\n",
        "    for i in range(x, len(chk)) :\n",
        "      chk[i] = 1\n",
        "      dfs(i+1, sumv+1)\n",
        "\n",
        "      chk[i] = 0\n",
        "      dfs(i+1, sumv+1)\n",
        "        \n",
        "if k < 5 :\n",
        "  print(0)\n",
        "else :\n",
        "  binary = [ w2bin(w) for w in words ]\n",
        "  max_cnt = 0\n",
        "\n",
        "  power = [ 2 ** i for i in range(21) ]\n",
        "\n",
        "  chk = [0] * 21\n",
        "  dfs(0, 0)\n",
        "\n",
        "  print(max_cnt)"
      ],
      "execution_count": null,
      "outputs": []
    }
  ]
}