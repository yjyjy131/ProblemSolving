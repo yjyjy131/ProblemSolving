{
  "nbformat": 4,
  "nbformat_minor": 0,
  "metadata": {
    "colab": {
      "name": "bj1316_string.ipynb",
      "provenance": [],
      "authorship_tag": "ABX9TyOv/jWHFHlQhyJ3/YHkyYm+",
      "include_colab_link": true
    },
    "kernelspec": {
      "name": "python3",
      "display_name": "Python 3"
    }
  },
  "cells": [
    {
      "cell_type": "markdown",
      "metadata": {
        "id": "view-in-github",
        "colab_type": "text"
      },
      "source": [
        "<a href=\"https://colab.research.google.com/github/yjyjy131/coding_test/blob/main/bj1316_string.ipynb\" target=\"_parent\"><img src=\"https://colab.research.google.com/assets/colab-badge.svg\" alt=\"Open In Colab\"/></a>"
      ]
    },
    {
      "cell_type": "markdown",
      "metadata": {
        "id": "D9pVVGYuH_Ge"
      },
      "source": [
        "**백준 1316 - 문자열**\n",
        "\n",
        "그룹 단어란 단어에 존재하는 모든 문자에 대해서, 각 문자가 연속해서 나타나는 경우만을 말한다. 예를 들면, ccazzzzbb는 c, a, z, b가 모두 연속해서 나타나고, kin도 k, i, n이 연속해서 나타나기 때문에 그룹 단어이지만, aabbbccb는 b가 떨어져서 나타나기 때문에 그룹 단어가 아니다.\n",
        "\n",
        "단어 N개를 입력으로 받아 그룹 단어의 개수를 출력하는 프로그램을 작성하시오."
      ]
    },
    {
      "cell_type": "code",
      "metadata": {
        "colab": {
          "base_uri": "https://localhost:8080/"
        },
        "id": "rkbH_KF5H5fN",
        "outputId": "dc535eaa-c282-47ed-f849-fe5fcb6c20a2"
      },
      "source": [
        "num = int(input())\n",
        "word_list = []\n",
        "for i in range(num):\n",
        "  word_list.append(input())\n",
        "\n",
        "# 반례 ccavbbbvvv ccabb aavvcbbbbc\n",
        "\n",
        "def slice_check(word, item):\n",
        "  idx = word.index(item)\n",
        "\n",
        "  word = word[word.index(item):]\n",
        "  if len(word) == 1 or word.count(item) == 1:\n",
        "    return True\n",
        "  \n",
        "  for i in range(len(word)+1):\n",
        "    try :\n",
        "      idx = word.index(item)\n",
        "      \n",
        "      if idx != 0:\n",
        "        return False\n",
        "      else :\n",
        "        word = word[idx+1:]\n",
        "\n",
        "    except ValueError :\n",
        "      word = word[j:]\n",
        "      return True\n",
        "\n",
        "\n",
        "count = 0\n",
        "check = False\n",
        "for i in range(num):\n",
        "  word = word_list[i]\n",
        "  for j in range(len(word_list[i])):\n",
        "    item = word_list[i][j]\n",
        "    if slice_check(word, item) :\n",
        "      check = True\n",
        "    else :\n",
        "      check = False\n",
        "      break\n",
        "\n",
        "  if check :\n",
        "    count += 1\n",
        "    check = False\n",
        "\n",
        "print(count)\n",
        "  "
      ],
      "execution_count": 4,
      "outputs": [
        {
          "output_type": "stream",
          "text": [
            "3\n",
            "aavcb\n",
            "abbbcdc\n",
            "avvvvxxdb\n",
            "2\n"
          ],
          "name": "stdout"
        }
      ]
    }
  ]
}