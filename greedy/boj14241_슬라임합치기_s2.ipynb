{
  "nbformat": 4,
  "nbformat_minor": 0,
  "metadata": {
    "colab": {
      "name": "boj14241_슬라임합치기_s2.ipynb",
      "provenance": [],
      "collapsed_sections": []
    },
    "kernelspec": {
      "display_name": "Python 3",
      "name": "python3"
    },
    "language_info": {
      "name": "python"
    }
  },
  "cells": [
    {
      "cell_type": "markdown",
      "metadata": {
        "id": "jtf7Q4Hv_tob"
      },
      "source": [
        "https://www.acmicpc.net/problem/14241\n"
      ]
    },
    {
      "cell_type": "markdown",
      "metadata": {
        "id": "7a6khXj5kMTw"
      },
      "source": [
        "Concept. Greedy"
      ]
    },
    {
      "cell_type": "code",
      "metadata": {
        "id": "tfG4gUxLoDwu"
      },
      "source": [
        "import copy"
      ],
      "execution_count": 42,
      "outputs": []
    },
    {
      "cell_type": "code",
      "metadata": {
        "id": "D4ksn9KUpZ4H"
      },
      "source": [
        ""
      ],
      "execution_count": null,
      "outputs": []
    },
    {
      "cell_type": "code",
      "metadata": {
        "colab": {
          "base_uri": "https://localhost:8080/"
        },
        "id": "uFDRT-SXgjGT",
        "outputId": "280a5c12-475e-46a9-c57f-3b06eeb7fb29"
      },
      "source": [
        "n = int(input())"
      ],
      "execution_count": 28,
      "outputs": [
        {
          "name": "stdout",
          "output_type": "stream",
          "text": [
            "3\n"
          ]
        }
      ]
    },
    {
      "cell_type": "code",
      "metadata": {
        "colab": {
          "base_uri": "https://localhost:8080/"
        },
        "id": "xegS23GhmX8C",
        "outputId": "ebae9beb-e461-48f9-ae4e-6328498d39e7"
      },
      "source": [
        "vals = list(map(int, input().split()))"
      ],
      "execution_count": 49,
      "outputs": [
        {
          "name": "stdout",
          "output_type": "stream",
          "text": [
            "1 2 3\n"
          ]
        }
      ]
    },
    {
      "cell_type": "code",
      "metadata": {
        "id": "qHFeeErlmayk"
      },
      "source": [
        "res = 0"
      ],
      "execution_count": 50,
      "outputs": []
    },
    {
      "cell_type": "code",
      "metadata": {
        "id": "qieUMqY-mnTM"
      },
      "source": [
        "num = n * ( n-1 ) // 2"
      ],
      "execution_count": 51,
      "outputs": []
    },
    {
      "cell_type": "code",
      "metadata": {
        "id": "LctvOoKomnVW"
      },
      "source": [
        "for _ in range(num) :\n",
        "  tmp = copy.deepcopy(vals)\n",
        "  cnt = 0\n",
        "  for i in range(1, len(vals)) :\n",
        "    cnt += tmp[i] * tmp[i-1]\n",
        "    tmp[i] += tmp[i-1]\n",
        "  res = max(res, cnt)"
      ],
      "execution_count": 52,
      "outputs": []
    },
    {
      "cell_type": "code",
      "metadata": {
        "colab": {
          "base_uri": "https://localhost:8080/"
        },
        "id": "amTKFLBOma0z",
        "outputId": "5f73ea27-788a-4841-89bd-b8a3b9bfac10"
      },
      "source": [
        "print(res)"
      ],
      "execution_count": 53,
      "outputs": [
        {
          "output_type": "stream",
          "name": "stdout",
          "text": [
            "11\n"
          ]
        }
      ]
    },
    {
      "cell_type": "code",
      "metadata": {
        "id": "wCLq1NKlma3L"
      },
      "source": [
        ""
      ],
      "execution_count": null,
      "outputs": []
    }
  ]
}