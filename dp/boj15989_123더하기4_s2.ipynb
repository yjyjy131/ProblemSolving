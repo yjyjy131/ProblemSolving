{
  "nbformat": 4,
  "nbformat_minor": 0,
  "metadata": {
    "colab": {
      "name": "boj15989_123더하기4_s2.ipynb",
      "provenance": [],
      "collapsed_sections": []
    },
    "kernelspec": {
      "display_name": "Python 3",
      "name": "python3"
    },
    "language_info": {
      "name": "python"
    }
  },
  "cells": [
    {
      "cell_type": "markdown",
      "metadata": {
        "id": "jtf7Q4Hv_tob"
      },
      "source": [
        "https://www.acmicpc.net/problem/15989\n"
      ]
    },
    {
      "cell_type": "markdown",
      "metadata": {
        "id": "5YT5dwCB7gDL"
      },
      "source": [
        "Concept. Dynamic Programming ✨\n",
        "\n",
        "리스트가 있을 때, 리스트의 원소 i 는 수 i 를 만들 수 있는 방법의 개수이다. \n",
        "\n",
        "1로 만들 수 있는 수의 개수 => 2 로 만들 수 있는 수의 개수 => 3 으로 만들 수 있는 수의 개수를 차례대로 체크해 나간다"
      ]
    },
    {
      "cell_type": "code",
      "metadata": {
        "colab": {
          "base_uri": "https://localhost:8080/"
        },
        "id": "ohNpOcYJ_A4Q",
        "outputId": "145e2fd9-0960-4b51-a2a0-cfbcc99bc30a"
      },
      "source": [
        "n = int(input())"
      ],
      "execution_count": 40,
      "outputs": [
        {
          "name": "stdout",
          "output_type": "stream",
          "text": [
            "3\n"
          ]
        }
      ]
    },
    {
      "cell_type": "code",
      "metadata": {
        "id": "FqZP-nZC_9S5"
      },
      "source": [
        "num = []"
      ],
      "execution_count": 41,
      "outputs": []
    },
    {
      "cell_type": "code",
      "metadata": {
        "colab": {
          "base_uri": "https://localhost:8080/"
        },
        "id": "bhy_h0Ob_A6c",
        "outputId": "66c95496-1b79-4d77-ec9c-8c506122950c"
      },
      "source": [
        "for _ in range(n) :\n",
        "  num.append(int(input()))"
      ],
      "execution_count": 42,
      "outputs": [
        {
          "name": "stdout",
          "output_type": "stream",
          "text": [
            "4\n",
            "7\n",
            "10\n"
          ]
        }
      ]
    },
    {
      "cell_type": "code",
      "metadata": {
        "id": "aidQr4p-JkyL"
      },
      "source": [
        "# 1 로 모든 수를 만들 때\n",
        "chk = [1] * ( max(num) + 1 )"
      ],
      "execution_count": 62,
      "outputs": []
    },
    {
      "cell_type": "code",
      "metadata": {
        "id": "TjvqZi6uJk0X"
      },
      "source": [
        "# 2를 추가 사용해 수를 만들 때\n",
        "for i in range(2, len(chk)) :\n",
        "  chk[i] += chk[i-2]"
      ],
      "execution_count": 63,
      "outputs": []
    },
    {
      "cell_type": "code",
      "metadata": {
        "id": "Z6OdoG_yJk2b"
      },
      "source": [
        "# 3를 추가 사용해 수를 만들 때\n",
        "for i in range(3, len(chk)) :\n",
        "  chk[i] += chk[i-3]"
      ],
      "execution_count": 64,
      "outputs": []
    },
    {
      "cell_type": "code",
      "metadata": {
        "colab": {
          "base_uri": "https://localhost:8080/"
        },
        "id": "GWM0xcrKJk41",
        "outputId": "f8fda0f5-baff-4ea4-fdbc-c17ed7f7afdf"
      },
      "source": [
        "for nm in num :\n",
        "  print(chk[nm])"
      ],
      "execution_count": 66,
      "outputs": [
        {
          "output_type": "stream",
          "name": "stdout",
          "text": [
            "4\n",
            "8\n",
            "14\n"
          ]
        }
      ]
    },
    {
      "cell_type": "code",
      "metadata": {
        "id": "ZK8HzmaNJk6k"
      },
      "source": [
        ""
      ],
      "execution_count": null,
      "outputs": []
    }
  ]
}