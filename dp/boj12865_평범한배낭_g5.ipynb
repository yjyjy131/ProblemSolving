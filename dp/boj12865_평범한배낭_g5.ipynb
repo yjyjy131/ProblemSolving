{
  "nbformat": 4,
  "nbformat_minor": 0,
  "metadata": {
    "colab": {
      "name": "boj12865_평범한배낭_g5.ipynb",
      "provenance": [],
      "collapsed_sections": []
    },
    "kernelspec": {
      "display_name": "Python 3",
      "name": "python3"
    },
    "language_info": {
      "name": "python"
    }
  },
  "cells": [
    {
      "cell_type": "markdown",
      "metadata": {
        "id": "jtf7Q4Hv_tob"
      },
      "source": [
        "https://www.acmicpc.net/problem/12865\n"
      ]
    },
    {
      "cell_type": "markdown",
      "metadata": {
        "id": "5YT5dwCB7gDL"
      },
      "source": [
        "Concept. Dynamic Programming ✨\n",
        "\n",
        "2차원 배열 dp 를 생성한다.\n",
        "\n",
        "dp[i][j] 는 가방에 넣을 수 있는 무게가 j 라고 할 때 i 번째 물건을 넣겠다는 의미이다\n",
        "\n",
        "**현재 넣을 수 있는 무게 j 보다 물건의 무게가 더 큰 경우, 앞 경우의 가장 큰 가치 값을 그대로 가져오는 과정이 필요하다**"
      ]
    },
    {
      "cell_type": "code",
      "metadata": {
        "colab": {
          "base_uri": "https://localhost:8080/"
        },
        "id": "ULG1Di4-V1es",
        "outputId": "86c19100-29db-4fa1-db07-8ba8908050c5"
      },
      "source": [
        "n, m = map(int, input().split())"
      ],
      "execution_count": 1,
      "outputs": [
        {
          "name": "stdout",
          "output_type": "stream",
          "text": [
            "3 5\n"
          ]
        }
      ]
    },
    {
      "cell_type": "code",
      "metadata": {
        "id": "KC_dr-yGdWLb"
      },
      "source": [
        "vals = []"
      ],
      "execution_count": 8,
      "outputs": []
    },
    {
      "cell_type": "code",
      "metadata": {
        "colab": {
          "base_uri": "https://localhost:8080/"
        },
        "id": "2HC9CzDldYpZ",
        "outputId": "3d32420a-fab3-4673-a077-00d1e342af58"
      },
      "source": [
        "for i in range(n) :\n",
        "  w, v = map(int, input().split())\n",
        "  vals.append((w, v))"
      ],
      "execution_count": 9,
      "outputs": [
        {
          "name": "stdout",
          "output_type": "stream",
          "text": [
            "4 2\n",
            "3 4\n",
            "1 5\n"
          ]
        }
      ]
    },
    {
      "cell_type": "code",
      "metadata": {
        "id": "TgcOAVSyddc2"
      },
      "source": [
        "vals.sort()"
      ],
      "execution_count": 11,
      "outputs": []
    },
    {
      "cell_type": "code",
      "metadata": {
        "id": "WAbtAGHQV1gy"
      },
      "source": [
        "dp = [[0 for _ in range(m+1)] for _ in range(n+1)]"
      ],
      "execution_count": 38,
      "outputs": []
    },
    {
      "cell_type": "code",
      "metadata": {
        "id": "lkSSM87tc-87"
      },
      "source": [
        "for i in range(1, n+1) :\n",
        "  weight = vals[i-1][0]\n",
        "  value = vals[i-1][1]\n",
        "  for j in range(m+1) :\n",
        "    if j < weight :\n",
        "      dp[i][j] = dp[i-1][j]\n",
        "    else :\n",
        "      dp[i][j] = max( dp[i-1][j-weight] + value, dp[i-1][j] )"
      ],
      "execution_count": 39,
      "outputs": []
    },
    {
      "cell_type": "code",
      "metadata": {
        "colab": {
          "base_uri": "https://localhost:8080/"
        },
        "id": "Z33QjxBndN8l",
        "outputId": "75e54ac6-8057-4991-d5b8-ffe9b9b643e4"
      },
      "source": [
        "dp[n][m]"
      ],
      "execution_count": 40,
      "outputs": [
        {
          "output_type": "execute_result",
          "data": {
            "text/plain": [
              "9"
            ]
          },
          "metadata": {},
          "execution_count": 40
        }
      ]
    },
    {
      "cell_type": "code",
      "metadata": {
        "id": "JzD9wfjNdN_L"
      },
      "source": [
        ""
      ],
      "execution_count": null,
      "outputs": []
    }
  ]
}