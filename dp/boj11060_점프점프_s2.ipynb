{
  "nbformat": 4,
  "nbformat_minor": 0,
  "metadata": {
    "colab": {
      "name": "boj11060_점프점프_s2.ipynb",
      "provenance": [],
      "collapsed_sections": []
    },
    "kernelspec": {
      "display_name": "Python 3",
      "name": "python3"
    },
    "language_info": {
      "name": "python"
    }
  },
  "cells": [
    {
      "cell_type": "markdown",
      "metadata": {
        "id": "jtf7Q4Hv_tob"
      },
      "source": [
        "https://www.acmicpc.net/problem/11060\n"
      ]
    },
    {
      "cell_type": "markdown",
      "metadata": {
        "id": "5YT5dwCB7gDL"
      },
      "source": [
        "Concept. Dynamic Programming\n",
        "\n",
        "1차원 배열 dp 를 생성한다.\n",
        "\n",
        "dp[i] 는 i 값을 만들 수 있는 최소의 경우의 수이다."
      ]
    },
    {
      "cell_type": "code",
      "metadata": {
        "colab": {
          "base_uri": "https://localhost:8080/"
        },
        "id": "rWWx2LyJ18xH",
        "outputId": "b81786fb-f8f9-43cd-e4ea-81a005eefdc3"
      },
      "source": [
        "n = int(input())"
      ],
      "execution_count": 149,
      "outputs": [
        {
          "name": "stdout",
          "output_type": "stream",
          "text": [
            "5\n"
          ]
        }
      ]
    },
    {
      "cell_type": "code",
      "metadata": {
        "colab": {
          "base_uri": "https://localhost:8080/"
        },
        "id": "LdC8LYom18zt",
        "outputId": "58af255a-c307-4aac-c920-468175e76034"
      },
      "source": [
        "vals = list(map(int, input().split()))"
      ],
      "execution_count": 150,
      "outputs": [
        {
          "name": "stdout",
          "output_type": "stream",
          "text": [
            "1 0 0 1 0\n"
          ]
        }
      ]
    },
    {
      "cell_type": "code",
      "metadata": {
        "id": "c_syao6V182q"
      },
      "source": [
        "dp = [ 100 for _ in range(n+1) ]"
      ],
      "execution_count": 151,
      "outputs": []
    },
    {
      "cell_type": "code",
      "metadata": {
        "id": "qSEGywJ65pN_"
      },
      "source": [
        "dp[0] = 0\n",
        "dp[1] = 0"
      ],
      "execution_count": 152,
      "outputs": []
    },
    {
      "cell_type": "code",
      "metadata": {
        "id": "JJ33SM9h18-Z"
      },
      "source": [
        "for i in range(1, n+1) :\n",
        "  for num in range(1, vals[i-1]+1) :\n",
        "    if i + num <= n :\n",
        "      dp[i+ num] = min( dp[i+num], dp[i]+1 )"
      ],
      "execution_count": 153,
      "outputs": []
    },
    {
      "cell_type": "code",
      "metadata": {
        "colab": {
          "base_uri": "https://localhost:8080/"
        },
        "id": "LpOx8bf_19CU",
        "outputId": "49605289-04f6-43ab-d471-032e2f700ade"
      },
      "source": [
        "if dp[-1] == 100 :\n",
        "  print(-1)\n",
        "else :\n",
        "  print(dp[-1])"
      ],
      "execution_count": 154,
      "outputs": [
        {
          "output_type": "stream",
          "name": "stdout",
          "text": [
            "-1\n"
          ]
        }
      ]
    },
    {
      "cell_type": "code",
      "metadata": {
        "id": "1rbAFYrr19Fr"
      },
      "source": [
        ""
      ],
      "execution_count": null,
      "outputs": []
    }
  ]
}