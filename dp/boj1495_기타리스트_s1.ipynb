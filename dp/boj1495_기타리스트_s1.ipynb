{
  "nbformat": 4,
  "nbformat_minor": 0,
  "metadata": {
    "colab": {
      "name": "boj1495_기타리스트_s1.ipynb",
      "provenance": [],
      "collapsed_sections": []
    },
    "kernelspec": {
      "display_name": "Python 3",
      "name": "python3"
    },
    "language_info": {
      "name": "python"
    }
  },
  "cells": [
    {
      "cell_type": "markdown",
      "metadata": {
        "id": "jtf7Q4Hv_tob"
      },
      "source": [
        "https://www.acmicpc.net/problem/1495\n"
      ]
    },
    {
      "cell_type": "markdown",
      "metadata": {
        "id": "5YT5dwCB7gDL"
      },
      "source": [
        "Concept. Dynamic Programming ✨\n",
        "\n",
        "백트래킹 방식을 사용하면 시간초과한다. \n",
        "\n",
        "따라서 다이나믹 프로그래밍을 사용한다. \n",
        "\n",
        "    max_volumn| 0 1 2 3 4 5 6 7 8 9 10 \n",
        "\n",
        "      strt    | 0 0 0 0 0 0 0 0 0 0 0\n",
        "\n",
        "      vol1    | 0 1 0 0 1 0 0 0 0 0 0\n",
        "\n",
        "      vol2    | 0 0 0 0 0 1 0 0 1 0 0 \n",
        "\n",
        "      vol3 ... \n",
        "   \n",
        "1번째 볼륨 vol1 값의 합, 차로 만들 수 있는 max_volume 의 값 ( 인덱스 ) 에 1 을 표시한다. \n",
        "\n",
        "다음 볼륨을 같은 방법으로 차례대로 표시해 내려간다. "
      ]
    },
    {
      "cell_type": "markdown",
      "metadata": {
        "id": "PdpwehVxdLFg"
      },
      "source": [
        "## Dynamic Programming"
      ]
    },
    {
      "cell_type": "code",
      "metadata": {
        "colab": {
          "base_uri": "https://localhost:8080/"
        },
        "id": "J-bBm1beeKJQ",
        "outputId": "b30c1f84-0e3b-4c48-f969-002aa999ccd7"
      },
      "source": [
        "n, s, m = map(int, input().split())"
      ],
      "execution_count": null,
      "outputs": [
        {
          "name": "stdout",
          "output_type": "stream",
          "text": [
            "3 9 10\n"
          ]
        }
      ]
    },
    {
      "cell_type": "code",
      "metadata": {
        "colab": {
          "base_uri": "https://localhost:8080/"
        },
        "id": "Xhb3rdhGeKJY",
        "outputId": "3f64bf32-b9c5-417e-a391-365ce3693685"
      },
      "source": [
        "vs = list(map(int, input().split()))"
      ],
      "execution_count": null,
      "outputs": [
        {
          "name": "stdout",
          "output_type": "stream",
          "text": [
            "1 10 1\n"
          ]
        }
      ]
    },
    {
      "cell_type": "code",
      "metadata": {
        "id": "ukrONYq3dK0R"
      },
      "source": [
        "chk =  [ [0] * (m+1)  for _ in range(len(vs)+1) ]"
      ],
      "execution_count": 281,
      "outputs": []
    },
    {
      "cell_type": "code",
      "metadata": {
        "id": "fwC1c2sqbdoG"
      },
      "source": [
        "chk[0][s] = 1"
      ],
      "execution_count": 282,
      "outputs": []
    },
    {
      "cell_type": "code",
      "metadata": {
        "id": "kpl6lTCTekce"
      },
      "source": [
        "for i in range(1, len(vs)+1) :\n",
        "  for c_i in range(m+1) :\n",
        "    if chk[i-1][c_i] == 1 :\n",
        "      plus_i = c_i + vs[i-1]\n",
        "      if 0 <= plus_i <= m :\n",
        "        chk[i][plus_i] = 1\n",
        "      \n",
        "      minus_i = c_i - vs[i-1]\n",
        "      if 0 <= minus_i <= m :\n",
        "        chk[i][minus_i] = 1"
      ],
      "execution_count": 283,
      "outputs": []
    },
    {
      "cell_type": "code",
      "metadata": {
        "colab": {
          "base_uri": "https://localhost:8080/"
        },
        "id": "dhe0C8H8ekg5",
        "outputId": "4d2186bb-0631-4d08-ae6e-5f6466b376fb"
      },
      "source": [
        "if sum(chk[-1]) == 0 :\n",
        "  print(-1)\n",
        "else :\n",
        "  res = 0\n",
        "  for c_i in range(m+1) :\n",
        "    if chk[-1][c_i] == 1 :\n",
        "      res = c_i\n",
        "  print(res)"
      ],
      "execution_count": 288,
      "outputs": [
        {
          "output_type": "stream",
          "name": "stdout",
          "text": [
            "1\n"
          ]
        }
      ]
    },
    {
      "cell_type": "code",
      "metadata": {
        "id": "uTeJDeq5ekjC"
      },
      "source": [
        ""
      ],
      "execution_count": null,
      "outputs": []
    },
    {
      "cell_type": "code",
      "metadata": {
        "id": "3BuISAGzbdrA"
      },
      "source": [
        ""
      ],
      "execution_count": null,
      "outputs": []
    },
    {
      "cell_type": "markdown",
      "metadata": {
        "id": "1PrKSnpJbd_R"
      },
      "source": [
        "## Backtracking ( 시간초과 ) "
      ]
    },
    {
      "cell_type": "code",
      "metadata": {
        "id": "8aw2JMaDNJQC"
      },
      "source": [
        "# n 곡의 개수 5 시작 볼륨 10 최대 볼륨"
      ],
      "execution_count": null,
      "outputs": []
    },
    {
      "cell_type": "code",
      "metadata": {
        "id": "dxanpmvmNG5r"
      },
      "source": [
        "3 9 10\n",
        "1 10 1"
      ],
      "execution_count": null,
      "outputs": []
    },
    {
      "cell_type": "code",
      "metadata": {
        "id": "3ae0n_FMapI1"
      },
      "source": [
        "3 5 10\n",
        "5 3 7"
      ],
      "execution_count": null,
      "outputs": []
    },
    {
      "cell_type": "code",
      "metadata": {
        "colab": {
          "base_uri": "https://localhost:8080/"
        },
        "id": "mVzKR1qvNG7v",
        "outputId": "b30c1f84-0e3b-4c48-f969-002aa999ccd7"
      },
      "source": [
        "n, s, m = map(int, input().split())"
      ],
      "execution_count": 256,
      "outputs": [
        {
          "name": "stdout",
          "output_type": "stream",
          "text": [
            "3 9 10\n"
          ]
        }
      ]
    },
    {
      "cell_type": "code",
      "metadata": {
        "colab": {
          "base_uri": "https://localhost:8080/"
        },
        "id": "4xoLjMvVN5x8",
        "outputId": "3f64bf32-b9c5-417e-a391-365ce3693685"
      },
      "source": [
        "vs = list(map(int, input().split()))"
      ],
      "execution_count": 257,
      "outputs": [
        {
          "name": "stdout",
          "output_type": "stream",
          "text": [
            "1 10 1\n"
          ]
        }
      ]
    },
    {
      "cell_type": "code",
      "metadata": {
        "id": "Q2VYQQ5lNSkj"
      },
      "source": [
        "chk = [0] * ( n + 2 )"
      ],
      "execution_count": 267,
      "outputs": []
    },
    {
      "cell_type": "code",
      "metadata": {
        "id": "jfkMX1HbNSmf"
      },
      "source": [
        "chk[1] = s"
      ],
      "execution_count": 268,
      "outputs": []
    },
    {
      "cell_type": "code",
      "metadata": {
        "id": "fE3b0r5mTYaL"
      },
      "source": [
        "res = 0"
      ],
      "execution_count": 269,
      "outputs": []
    },
    {
      "cell_type": "code",
      "metadata": {
        "id": "6nivDtRvaBCR"
      },
      "source": [
        "stop = 0 "
      ],
      "execution_count": 270,
      "outputs": []
    },
    {
      "cell_type": "code",
      "metadata": {
        "id": "g4KcAVlxRlQv"
      },
      "source": [
        "def backtracking(x) :\n",
        "  global stop, res\n",
        "  if x == n+1 :\n",
        "    if res < chk[-1] :\n",
        "      res = chk[-1]\n",
        "    stop = x\n",
        "    return \n",
        "\n",
        "  else :\n",
        "    plus = chk[x] + vs[x-1]\n",
        "    minus = chk[x] - vs[x-1]\n",
        "\n",
        "    if plus > m and minus < 0 :\n",
        "      stop = max(stop, x)\n",
        "      return \n",
        "\n",
        "    if 0 <= plus <= m : \n",
        "      chk[x+1] = plus\n",
        "      backtracking(x+1)\n",
        "\n",
        "    if 0 <= minus <= m :\n",
        "      chk[x+1] = minus\n",
        "      backtracking(x+1)"
      ],
      "execution_count": 266,
      "outputs": []
    },
    {
      "cell_type": "code",
      "metadata": {
        "id": "J-4ot1IpTehe"
      },
      "source": [
        "backtracking(1)"
      ],
      "execution_count": 271,
      "outputs": []
    },
    {
      "cell_type": "code",
      "metadata": {
        "colab": {
          "base_uri": "https://localhost:8080/"
        },
        "id": "psKi4aw3YXo7",
        "outputId": "ebfe0b03-e50c-4a78-e689-9790c6aaf892"
      },
      "source": [
        "if stop != n+1 :\n",
        "  print(-1)\n",
        "else :\n",
        "  print(res)"
      ],
      "execution_count": 272,
      "outputs": [
        {
          "output_type": "stream",
          "name": "stdout",
          "text": [
            "1\n"
          ]
        }
      ]
    },
    {
      "cell_type": "code",
      "metadata": {
        "id": "scmOGExLaIr0"
      },
      "source": [
        ""
      ],
      "execution_count": null,
      "outputs": []
    }
  ]
}