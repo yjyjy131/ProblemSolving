{
  "nbformat": 4,
  "nbformat_minor": 0,
  "metadata": {
    "colab": {
      "name": "boj1890_점프_s2.ipynb",
      "provenance": [],
      "collapsed_sections": []
    },
    "kernelspec": {
      "display_name": "Python 3",
      "name": "python3"
    },
    "language_info": {
      "name": "python"
    }
  },
  "cells": [
    {
      "cell_type": "markdown",
      "metadata": {
        "id": "jtf7Q4Hv_tob"
      },
      "source": [
        "https://www.acmicpc.net/problem/1890\n",
        "\n",
        "\n"
      ]
    },
    {
      "cell_type": "markdown",
      "metadata": {
        "id": "5YT5dwCB7gDL"
      },
      "source": [
        "Concept. Dynamic Programming ✨\n",
        "\n",
        "단순히 DFS 를 도는 것이 아니라, DFS 값을 DP 로 기록해나가면 더 빠른 계산이 가능하다"
      ]
    },
    {
      "cell_type": "markdown",
      "metadata": {
        "id": "2dc3N7wXod_J"
      },
      "source": [
        "## Dynamic Programming"
      ]
    },
    {
      "cell_type": "code",
      "metadata": {
        "colab": {
          "base_uri": "https://localhost:8080/"
        },
        "id": "9UV-o0iVoZ6E",
        "outputId": "0cd807c7-475f-4278-c4a3-aa461ea6d505"
      },
      "source": [
        "n = int(input())"
      ],
      "execution_count": 1,
      "outputs": [
        {
          "output_type": "stream",
          "text": [
            "4\n"
          ],
          "name": "stdout"
        }
      ]
    },
    {
      "cell_type": "code",
      "metadata": {
        "id": "0pgD7DpgoZ6F"
      },
      "source": [
        "board = []"
      ],
      "execution_count": 4,
      "outputs": []
    },
    {
      "cell_type": "code",
      "metadata": {
        "colab": {
          "base_uri": "https://localhost:8080/"
        },
        "id": "n0FR2D8UoZ6F",
        "outputId": "3619ddb2-449b-47e9-e672-7d7236b75f18"
      },
      "source": [
        "for _ in range(n) :\n",
        "  board.append(list(map(int, input().split())))"
      ],
      "execution_count": 5,
      "outputs": [
        {
          "output_type": "stream",
          "text": [
            "2 3 3 1\n",
            "1 2 1 3\n",
            "1 2 3 1\n",
            "3 1 1 0\n"
          ],
          "name": "stdout"
        }
      ]
    },
    {
      "cell_type": "code",
      "metadata": {
        "id": "0-u6b7d33xY3"
      },
      "source": [
        "dp = [[-1] * n for i in range(n)]"
      ],
      "execution_count": 6,
      "outputs": []
    },
    {
      "cell_type": "code",
      "metadata": {
        "id": "Oj6ypsC74Izg"
      },
      "source": [
        "def dfs(x, y) :\n",
        "  if x == n-1 and y == n-1 :\n",
        "    # 더 이상 갈 곳이 없으므로 마지막 카운트 1 을 리턴한다 \n",
        "    return 1\n",
        "  if dp[x][y] == -1 :\n",
        "    dp[x][y] = 0\n",
        "    x1, y1 = x + board[x][y], y\n",
        "    x2, y2 = x, y + board[x][y]\n",
        "    if 0 <= x1 < n and 0 <= y1 < n : dp[x][y] += dfs(x1, y1)\n",
        "    if 0 <= x2 < n and 0 <= y2 < n : dp[x][y] += dfs(x2, y2)\n",
        "  return dp[x][y]"
      ],
      "execution_count": 9,
      "outputs": []
    },
    {
      "cell_type": "code",
      "metadata": {
        "id": "nE5jUJdFoa5R",
        "colab": {
          "base_uri": "https://localhost:8080/"
        },
        "outputId": "a330f6b0-361e-49f2-e736-d3fd8e3a1f4f"
      },
      "source": [
        "print(dfs(0, 0))"
      ],
      "execution_count": 10,
      "outputs": [
        {
          "output_type": "stream",
          "text": [
            "3\n"
          ],
          "name": "stdout"
        }
      ]
    },
    {
      "cell_type": "code",
      "metadata": {
        "id": "438qx90AoVil"
      },
      "source": [
        ""
      ],
      "execution_count": null,
      "outputs": []
    },
    {
      "cell_type": "markdown",
      "metadata": {
        "id": "04atbGO8oV5D"
      },
      "source": [
        "## DFS - 시간초과"
      ]
    },
    {
      "cell_type": "code",
      "metadata": {
        "colab": {
          "base_uri": "https://localhost:8080/"
        },
        "id": "-2vaTzM_WUt4",
        "outputId": "4c77c48c-817b-42af-b3fd-b6d399a1bb36"
      },
      "source": [
        "n = int(input())"
      ],
      "execution_count": null,
      "outputs": [
        {
          "output_type": "stream",
          "text": [
            "4\n"
          ],
          "name": "stdout"
        }
      ]
    },
    {
      "cell_type": "code",
      "metadata": {
        "id": "ZJZBvl9Gl4Wf"
      },
      "source": [
        "board = []"
      ],
      "execution_count": null,
      "outputs": []
    },
    {
      "cell_type": "code",
      "metadata": {
        "colab": {
          "base_uri": "https://localhost:8080/"
        },
        "id": "v-hTKfPVl4YS",
        "outputId": "c700da18-e72c-4d36-f369-75a1c46e91ba"
      },
      "source": [
        "for _ in range(n) :\n",
        "  board.append(list(map(int, input().split())))"
      ],
      "execution_count": null,
      "outputs": [
        {
          "output_type": "stream",
          "text": [
            "2 3 3 1\n",
            "1 2 1 3\n",
            "1 2 3 1\n",
            "3 1 1 0\n"
          ],
          "name": "stdout"
        }
      ]
    },
    {
      "cell_type": "code",
      "metadata": {
        "colab": {
          "base_uri": "https://localhost:8080/"
        },
        "id": "29bZreiul4al",
        "outputId": "8bbb8187-0844-418d-d59d-dcd1239d757e"
      },
      "source": [
        "board"
      ],
      "execution_count": null,
      "outputs": [
        {
          "output_type": "execute_result",
          "data": {
            "text/plain": [
              "[[2, 3, 3, 1], [1, 2, 1, 3], [1, 2, 3, 1], [3, 1, 1, 0]]"
            ]
          },
          "metadata": {},
          "execution_count": 227
        }
      ]
    },
    {
      "cell_type": "code",
      "metadata": {
        "id": "Y46RDQDznnG1"
      },
      "source": [
        "cnt = 0"
      ],
      "execution_count": null,
      "outputs": []
    },
    {
      "cell_type": "code",
      "metadata": {
        "id": "dBqK2xWZl4c8"
      },
      "source": [
        "def dfs(x, y) :\n",
        "  if x == n-1 and y == n-1 :\n",
        "    global cnt\n",
        "    cnt += 1\n",
        "    return\n",
        "\n",
        "  cost = board[x][y]\n",
        "  go_x = [0, cost]\n",
        "  go_y = [cost, 0]\n",
        "\n",
        "  for i in range(2) :\n",
        "    new_x = x + go_x[i]\n",
        "    new_y = y + go_y[i]\n",
        "\n",
        "    if 0 <= new_x < n and 0 <= new_y < n :\n",
        "      dfs(new_x, new_y)"
      ],
      "execution_count": null,
      "outputs": []
    },
    {
      "cell_type": "code",
      "metadata": {
        "id": "oKrpBgn7l4fK"
      },
      "source": [
        "dfs(0, 0)"
      ],
      "execution_count": null,
      "outputs": []
    },
    {
      "cell_type": "code",
      "metadata": {
        "colab": {
          "base_uri": "https://localhost:8080/"
        },
        "id": "1NLXrEf0l4ha",
        "outputId": "04bd8f2d-1743-4a09-85a8-c34915fc3a78"
      },
      "source": [
        "cnt"
      ],
      "execution_count": null,
      "outputs": [
        {
          "output_type": "execute_result",
          "data": {
            "text/plain": [
              "3"
            ]
          },
          "metadata": {},
          "execution_count": 244
        }
      ]
    },
    {
      "cell_type": "code",
      "metadata": {
        "id": "ElYkVcXpbHJw"
      },
      "source": [
        ""
      ],
      "execution_count": null,
      "outputs": []
    }
  ]
}