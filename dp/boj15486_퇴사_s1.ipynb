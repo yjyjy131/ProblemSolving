{
  "nbformat": 4,
  "nbformat_minor": 0,
  "metadata": {
    "colab": {
      "name": "boj15486_퇴사_s1.ipynb",
      "provenance": [],
      "collapsed_sections": []
    },
    "kernelspec": {
      "display_name": "Python 3",
      "name": "python3"
    },
    "language_info": {
      "name": "python"
    }
  },
  "cells": [
    {
      "cell_type": "markdown",
      "metadata": {
        "id": "jtf7Q4Hv_tob"
      },
      "source": [
        "https://www.acmicpc.net/problem/15486\n",
        "\n",
        "\n"
      ]
    },
    {
      "cell_type": "markdown",
      "metadata": {
        "id": "5YT5dwCB7gDL"
      },
      "source": [
        "Concept. Dynamic Programming\n",
        "\n",
        "이전까지의 max 값을 가지고 있어야 하는데, 매번 max 함수를 사용하면 시간 초과가 일어나므로 arr 의 한 원소를 체크할때마다 같이 max 값을 비교하여 가지고 있어야 함"
      ]
    },
    {
      "cell_type": "code",
      "metadata": {
        "colab": {
          "base_uri": "https://localhost:8080/"
        },
        "id": "-2vaTzM_WUt4",
        "outputId": "3336f05a-e485-4100-dc85-d864e71b5377"
      },
      "source": [
        "n = int(input())"
      ],
      "execution_count": 112,
      "outputs": [
        {
          "output_type": "stream",
          "text": [
            "10\n"
          ],
          "name": "stdout"
        }
      ]
    },
    {
      "cell_type": "code",
      "metadata": {
        "id": "olVkM9z8a1eD"
      },
      "source": [
        "s = []"
      ],
      "execution_count": 210,
      "outputs": []
    },
    {
      "cell_type": "code",
      "metadata": {
        "colab": {
          "base_uri": "https://localhost:8080/"
        },
        "id": "8PoLDZaDa1gc",
        "outputId": "6c4a3463-367a-4ba4-b2f5-e9368e9353cf"
      },
      "source": [
        "for i in range(n) :\n",
        "  d, c = map(int, input().split())\n",
        "  s.append((d, c))"
      ],
      "execution_count": 211,
      "outputs": [
        {
          "output_type": "stream",
          "text": [
            "5 50\n",
            "4 40\n",
            "3 30\n",
            "2 20\n",
            "1 10\n",
            "1 10\n",
            "2 20\n",
            "3 30\n",
            "4 40\n",
            "5 50\n"
          ],
          "name": "stdout"
        }
      ]
    },
    {
      "cell_type": "code",
      "metadata": {
        "id": "Yo-IJ2K1dMDH"
      },
      "source": [
        "dp = [0] * n "
      ],
      "execution_count": 212,
      "outputs": []
    },
    {
      "cell_type": "code",
      "metadata": {
        "id": "M-GZbFJVfu1i"
      },
      "source": [
        "max_chk = 0"
      ],
      "execution_count": 213,
      "outputs": []
    },
    {
      "cell_type": "code",
      "metadata": {
        "id": "3iIbAoL1gO15"
      },
      "source": [
        "for i in range(n) :\n",
        "  if i > 0 :\n",
        "    max_chk = max(max_chk, dp[i-1])\n",
        "\n",
        "  idx = i + s[i][0] - 1\n",
        "  if idx < n : \n",
        "    tmp = s[i][1] + max_chk\n",
        "    dp[idx] = max(dp[idx], tmp)"
      ],
      "execution_count": 214,
      "outputs": []
    },
    {
      "cell_type": "code",
      "metadata": {
        "colab": {
          "base_uri": "https://localhost:8080/"
        },
        "id": "1W9BQnpXWUyi",
        "outputId": "f7930bb6-0623-4dd8-9ba1-8eb85587ddb2"
      },
      "source": [
        "print(max(dp))"
      ],
      "execution_count": 216,
      "outputs": [
        {
          "output_type": "stream",
          "text": [
            "90\n"
          ],
          "name": "stdout"
        }
      ]
    },
    {
      "cell_type": "code",
      "metadata": {
        "id": "ElYkVcXpbHJw"
      },
      "source": [
        ""
      ],
      "execution_count": null,
      "outputs": []
    }
  ]
}