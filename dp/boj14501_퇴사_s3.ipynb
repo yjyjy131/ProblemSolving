{
  "nbformat": 4,
  "nbformat_minor": 0,
  "metadata": {
    "colab": {
      "name": "boj14501_퇴사_s3.ipynb",
      "provenance": [],
      "collapsed_sections": [],
      "authorship_tag": "ABX9TyNNXSOW8Cv9PP+yK4MmJE21",
      "include_colab_link": true
    },
    "kernelspec": {
      "name": "python3",
      "display_name": "Python 3"
    },
    "language_info": {
      "name": "python"
    }
  },
  "cells": [
    {
      "cell_type": "markdown",
      "metadata": {
        "id": "view-in-github",
        "colab_type": "text"
      },
      "source": [
        "<a href=\"https://colab.research.google.com/github/yjyjy131/ProblemSolving/blob/main/dp/boj14501_%ED%87%B4%EC%82%AC_s3.ipynb\" target=\"_parent\"><img src=\"https://colab.research.google.com/assets/colab-badge.svg\" alt=\"Open In Colab\"/></a>"
      ]
    },
    {
      "cell_type": "markdown",
      "source": [
        "담원으로 일하고 있는 백준이는 퇴사를 하려고 한다.\n",
        "\n",
        "오늘부터 N+1일째 되는 날 퇴사를 하기 위해서, 남은 N일 동안 최대한 많은 상담을 하려고 한다.\n",
        "\n",
        "백준이는 비서에게 최대한 많은 상담을 잡으라고 부탁을 했고, 비서는 하루에 하나씩 서로 다른 사람의 상담을 잡아놓았다.\n",
        "\n",
        "각각의 상담은 상담을 완료하는데 걸리는 기간 Ti와 상담을 했을 때 받을 수 있는 금액 Pi로 이루어져 있다.\n",
        "\n",
        "N = 7인 경우에 다음과 같은 상담 일정표를 보자.\n",
        "\n",
        "1일에 잡혀있는 상담은 총 3일이 걸리며, 상담했을 때 받을 수 있는 금액은 10이다. 5일에 잡혀있는 상담은 총 2일이 걸리며, 받을 수 있는 금액은 15이다.\n",
        "\n",
        "상담을 하는데 필요한 기간은 1일보다 클 수 있기 때문에, 모든 상담을 할 수는 없다. 예를 들어서 1일에 상담을 하게 되면, 2일, 3일에 있는 상담은 할 수 없게 된다. 2일에 있는 상담을 하게 되면, 3, 4, 5, 6일에 잡혀있는 상담은 할 수 없다.\n",
        "\n",
        "또한, N+1일째에는 회사에 없기 때문에, 6, 7일에 있는 상담을 할 수 없다.\n",
        "\n",
        "퇴사 전에 할 수 있는 상담의 최대 이익은 1일, 4일, 5일에 있는 상담을 하는 것이며, 이때의 이익은 10+20+15=45이다.\n",
        "\n",
        "상담을 적절히 했을 때, 백준이가 얻을 수 있는 최대 수익을 구하는 프로그램을 작성하시오."
      ],
      "metadata": {
        "id": "9rIOUJdIs74p"
      }
    },
    {
      "cell_type": "code",
      "source": [
        "n = int(input())\n",
        "day = []\n",
        "val = []\n",
        "for _ in range(n):\n",
        "  d, v = map(int, input().split())\n",
        "  day.append(d)\n",
        "  val.append(v)\n",
        "\n",
        "dp = [0 for _ in range(n+1)]\n",
        "\n",
        "for i in range(n-1, -1, -1):\n",
        "  if day[i] + i > n :\n",
        "    dp[i] = dp[i+1]\n",
        "  else:\n",
        "    dp[i] = max(dp[i+1], val[i] + dp[i + day[i]])\n",
        "\n",
        "print(dp[0])"
      ],
      "metadata": {
        "colab": {
          "base_uri": "https://localhost:8080/"
        },
        "id": "7S-UAgN54WMY",
        "outputId": "bd23eeb4-4e8e-4073-d311-8d2c651c7cd1"
      },
      "execution_count": 34,
      "outputs": [
        {
          "output_type": "stream",
          "name": "stdout",
          "text": [
            "7\n",
            "3 10\n",
            "5 20\n",
            "1 10\n",
            "1 20\n",
            "2 15\n",
            "4 40\n",
            "2 200\n",
            "45\n"
          ]
        }
      ]
    }
  ]
}