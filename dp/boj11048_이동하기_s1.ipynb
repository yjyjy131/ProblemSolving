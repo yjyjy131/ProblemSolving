{
  "nbformat": 4,
  "nbformat_minor": 0,
  "metadata": {
    "colab": {
      "name": "boj11048_이동하기_s1.ipynb",
      "provenance": [],
      "collapsed_sections": []
    },
    "kernelspec": {
      "display_name": "Python 3",
      "name": "python3"
    },
    "language_info": {
      "name": "python"
    }
  },
  "cells": [
    {
      "cell_type": "markdown",
      "metadata": {
        "id": "jtf7Q4Hv_tob"
      },
      "source": [
        "https://www.acmicpc.net/problem/11048 ✨\n"
      ]
    },
    {
      "cell_type": "markdown",
      "metadata": {
        "id": "5YT5dwCB7gDL"
      },
      "source": [
        "Concept. Dynamic Programming\n",
        "\n",
        "2차원 배열 dp 를 생성한다. \n",
        "\n",
        "dp[i][j] 는 i, j 의 위치에 있을 때 최대로 먹을 수 있는 사탕의 수이다. \n",
        "\n",
        "내 현재 위치의 대각선 위, 위, 왼쪽 옆 자리 수 값들과, 현재 위치의 사탕 값들의 합 중 max 값을 가져오는 방식으로 계산한다."
      ]
    },
    {
      "cell_type": "code",
      "metadata": {
        "colab": {
          "base_uri": "https://localhost:8080/"
        },
        "id": "Xyrh2p581ka4",
        "outputId": "4feb3285-8070-435b-a46a-7da403ce06e6"
      },
      "source": [
        "h, w = map(int, input().split())"
      ],
      "execution_count": null,
      "outputs": [
        {
          "name": "stdout",
          "output_type": "stream",
          "text": [
            "3 4\n"
          ]
        }
      ]
    },
    {
      "cell_type": "code",
      "metadata": {
        "id": "V4aG3WQ21ka5"
      },
      "source": [
        "board = []"
      ],
      "execution_count": null,
      "outputs": []
    },
    {
      "cell_type": "code",
      "metadata": {
        "colab": {
          "base_uri": "https://localhost:8080/"
        },
        "id": "Hs21xfiF1ka5",
        "outputId": "59643a2b-9929-461b-c296-8059f2fa2c09"
      },
      "source": [
        "for _ in range(h) :\n",
        "  board.append(list(map(int, input().split())))"
      ],
      "execution_count": null,
      "outputs": [
        {
          "name": "stdout",
          "output_type": "stream",
          "text": [
            "1 2 3 4\n",
            "0 0 0 5\n",
            "9 8 7 6\n"
          ]
        }
      ]
    },
    {
      "cell_type": "code",
      "metadata": {
        "id": "8LIp0mDG1ka5"
      },
      "source": [
        "dp = [ [ 0 for _ in range(w) ] for _ in range(h) ] "
      ],
      "execution_count": 43,
      "outputs": []
    },
    {
      "cell_type": "code",
      "metadata": {
        "id": "H5P_YqG-1vGT"
      },
      "source": [
        "dp[0][0] = board[0][0]"
      ],
      "execution_count": 44,
      "outputs": []
    },
    {
      "cell_type": "code",
      "metadata": {
        "id": "n6yCH6Jt1iRc"
      },
      "source": [
        "for x in range(h) :\n",
        "  for y in range(w) :\n",
        "    go_x = [-1, -1, 0]\n",
        "    go_y = [-1, 0, -1]\n",
        "\n",
        "    for k in range(3) :\n",
        "      last_x = x + go_x[k]\n",
        "      last_y = y + go_y[k]\n",
        "\n",
        "      if 0 <= last_x < h and 0 <= last_y < w :\n",
        "        dp[x][y] = max(dp[x][y], board[x][y]+dp[last_x][last_y])"
      ],
      "execution_count": 45,
      "outputs": []
    },
    {
      "cell_type": "code",
      "metadata": {
        "colab": {
          "base_uri": "https://localhost:8080/"
        },
        "id": "Cmf0sqm21iT1",
        "outputId": "1afc5e1b-69d6-44df-eb36-aa00f56fd146"
      },
      "source": [
        "print(dp[-1][-1])"
      ],
      "execution_count": 47,
      "outputs": [
        {
          "output_type": "stream",
          "name": "stdout",
          "text": [
            "31\n"
          ]
        }
      ]
    },
    {
      "cell_type": "code",
      "metadata": {
        "id": "IfbX14WR1iWL"
      },
      "source": [
        ""
      ],
      "execution_count": null,
      "outputs": []
    },
    {
      "cell_type": "code",
      "metadata": {
        "id": "0jWpwsPq1iYe"
      },
      "source": [
        ""
      ],
      "execution_count": null,
      "outputs": []
    },
    {
      "cell_type": "code",
      "metadata": {
        "id": "dAxFxAwG1ibD"
      },
      "source": [
        ""
      ],
      "execution_count": null,
      "outputs": []
    },
    {
      "cell_type": "code",
      "metadata": {
        "id": "M-AZS4UF1ic-"
      },
      "source": [
        ""
      ],
      "execution_count": null,
      "outputs": []
    },
    {
      "cell_type": "markdown",
      "metadata": {
        "id": "o4x490tz1ijg"
      },
      "source": [
        ""
      ]
    },
    {
      "cell_type": "code",
      "metadata": {
        "colab": {
          "base_uri": "https://localhost:8080/"
        },
        "id": "yKoV9C_lw8Vl",
        "outputId": "4feb3285-8070-435b-a46a-7da403ce06e6"
      },
      "source": [
        "h, w = map(int, input().split())"
      ],
      "execution_count": 1,
      "outputs": [
        {
          "name": "stdout",
          "output_type": "stream",
          "text": [
            "3 4\n"
          ]
        }
      ]
    },
    {
      "cell_type": "code",
      "metadata": {
        "id": "CSDI79pKw8X9"
      },
      "source": [
        "board = []"
      ],
      "execution_count": 2,
      "outputs": []
    },
    {
      "cell_type": "code",
      "metadata": {
        "colab": {
          "base_uri": "https://localhost:8080/"
        },
        "id": "1wkIn2j3w8ah",
        "outputId": "59643a2b-9929-461b-c296-8059f2fa2c09"
      },
      "source": [
        "for _ in range(h) :\n",
        "  board.append(list(map(int, input().split())))"
      ],
      "execution_count": 3,
      "outputs": [
        {
          "name": "stdout",
          "output_type": "stream",
          "text": [
            "1 2 3 4\n",
            "0 0 0 5\n",
            "9 8 7 6\n"
          ]
        }
      ]
    },
    {
      "cell_type": "code",
      "metadata": {
        "id": "uO7QvZrGw8fB"
      },
      "source": [
        "dp = [ [ 0 for _ in range(w) ] for _ in range(h) ] "
      ],
      "execution_count": 37,
      "outputs": []
    },
    {
      "cell_type": "code",
      "metadata": {
        "id": "C5L0otwqxRqo"
      },
      "source": [
        "def dfs(x, y) :\n",
        "  if x == h+1 and y == w+1 :\n",
        "    return \n",
        "  else :\n",
        "    go_x = [1, 0, 1]\n",
        "    go_y = [0, 1, 1]\n",
        "\n",
        "    for i in range(3) :\n",
        "      new_x = x + go_x[i]\n",
        "      new_y = y + go_y[i]\n",
        "\n",
        "      if 0 <= new_x < h and 0 <= new_y < w :\n",
        "        dp[new_x][new_y] = max(dp[new_x][new_y], dp[x][y] + board[new_x][new_y])\n",
        "        dfs(new_x, new_y)"
      ],
      "execution_count": 36,
      "outputs": []
    },
    {
      "cell_type": "code",
      "metadata": {
        "id": "nDQJalxSzR4z"
      },
      "source": [
        "dp[0][0] = board[0][0]"
      ],
      "execution_count": 38,
      "outputs": []
    },
    {
      "cell_type": "code",
      "metadata": {
        "id": "CBWdWqdmxRs0"
      },
      "source": [
        "dfs(0, 0)"
      ],
      "execution_count": 39,
      "outputs": []
    },
    {
      "cell_type": "code",
      "metadata": {
        "colab": {
          "base_uri": "https://localhost:8080/"
        },
        "id": "g-PPNBGZ0xDg",
        "outputId": "3c5c726c-a338-495b-a63e-59862c6036be"
      },
      "source": [
        "dp"
      ],
      "execution_count": 40,
      "outputs": [
        {
          "output_type": "execute_result",
          "data": {
            "text/plain": [
              "[[1, 3, 6, 10], [1, 3, 6, 15], [10, 18, 25, 31]]"
            ]
          },
          "metadata": {},
          "execution_count": 40
        }
      ]
    },
    {
      "cell_type": "code",
      "metadata": {
        "colab": {
          "base_uri": "https://localhost:8080/"
        },
        "id": "FORuu-9Yw8hy",
        "outputId": "746f30be-efa3-41dc-e901-b78d3ae3bee9"
      },
      "source": [
        "dp[-1][-1]"
      ],
      "execution_count": 41,
      "outputs": [
        {
          "output_type": "execute_result",
          "data": {
            "text/plain": [
              "31"
            ]
          },
          "metadata": {},
          "execution_count": 41
        }
      ]
    },
    {
      "cell_type": "code",
      "metadata": {
        "id": "QF43bCYmw8jr"
      },
      "source": [
        ""
      ],
      "execution_count": null,
      "outputs": []
    },
    {
      "cell_type": "code",
      "metadata": {
        "id": "Q8r3btN0w8l8"
      },
      "source": [
        ""
      ],
      "execution_count": null,
      "outputs": []
    },
    {
      "cell_type": "code",
      "metadata": {
        "id": "KY8iQHMSw8oR"
      },
      "source": [
        ""
      ],
      "execution_count": null,
      "outputs": []
    },
    {
      "cell_type": "code",
      "metadata": {
        "id": "RE9hqQuenAH-"
      },
      "source": [
        ""
      ],
      "execution_count": null,
      "outputs": []
    }
  ]
}