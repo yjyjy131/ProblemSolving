{
  "nbformat": 4,
  "nbformat_minor": 0,
  "metadata": {
    "colab": {
      "name": "boj11727_2xn타일_s3.ipynb",
      "provenance": [],
      "collapsed_sections": [],
      "authorship_tag": "ABX9TyPhsd5hXBs2dFU3gDb2kQ1A",
      "include_colab_link": true
    },
    "kernelspec": {
      "name": "python3",
      "display_name": "Python 3"
    },
    "language_info": {
      "name": "python"
    }
  },
  "cells": [
    {
      "cell_type": "markdown",
      "metadata": {
        "id": "view-in-github",
        "colab_type": "text"
      },
      "source": [
        "<a href=\"https://colab.research.google.com/github/yjyjy131/ProblemSolving/blob/main/dp/boj11727_2xn%ED%83%80%EC%9D%BC_s3.ipynb\" target=\"_parent\"><img src=\"https://colab.research.google.com/assets/colab-badge.svg\" alt=\"Open In Colab\"/></a>"
      ]
    },
    {
      "cell_type": "markdown",
      "source": [
        "## 오답"
      ],
      "metadata": {
        "id": "jTsICJULJ-M4"
      }
    },
    {
      "cell_type": "code",
      "source": [
        "import math\n",
        "import sys\n",
        "sys.setrecursionlimit(10**6)\n",
        "\n",
        "global n \n",
        "global cnt\n",
        "global blocks\n",
        "\n",
        "def dfs(input, binary):\n",
        "  global n\n",
        "  if input == n:\n",
        "    global cnt \n",
        "    global blocks\n",
        "    cnt += 1\n",
        "    blocks += binary\n",
        "    return \n",
        "  elif input+1 < n:\n",
        "    dfs(input+1, binary)\n",
        "  elif input+2 < n:\n",
        "    dfs(input+2, binary+1)\n",
        "\n",
        "if __name__ == '__main__':\n",
        "  global blocks\n",
        "  global cnt\n",
        "  global n\n",
        "  cnt = 0\n",
        "  blocks = 0\n",
        "  n = int(input())\n",
        "  dfs(0, 0)\n",
        "  print(cnt*math.pow(2, blocks)%10007)"
      ],
      "metadata": {
        "id": "L1utwxPx5xzx"
      },
      "execution_count": 32,
      "outputs": []
    },
    {
      "cell_type": "markdown",
      "source": [
        "## 정답"
      ],
      "metadata": {
        "id": "OXySNMHHJ8uL"
      }
    },
    {
      "cell_type": "code",
      "source": [
        "ans = [0, 1, 3]\n",
        "for i in range(3, 1001):\n",
        "  val = 2 * ans[i-2] + ans[i-1]\n",
        "  ans.append(val)\n",
        "n = int(input())\n",
        "print(ans[n]%10007)"
      ],
      "metadata": {
        "colab": {
          "base_uri": "https://localhost:8080/"
        },
        "id": "6IhUevJxBMQu",
        "outputId": "66407e8b-09aa-4923-9be9-5893cfdea000"
      },
      "execution_count": 38,
      "outputs": [
        {
          "output_type": "stream",
          "name": "stdout",
          "text": [
            "8\n",
            "171\n"
          ]
        }
      ]
    }
  ]
}