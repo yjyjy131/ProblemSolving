{
  "nbformat": 4,
  "nbformat_minor": 0,
  "metadata": {
    "colab": {
      "name": "boj9095_123더하기_s3.ipynb",
      "provenance": [],
      "collapsed_sections": []
    },
    "kernelspec": {
      "display_name": "Python 3",
      "name": "python3"
    },
    "language_info": {
      "name": "python"
    }
  },
  "cells": [
    {
      "cell_type": "markdown",
      "metadata": {
        "id": "jtf7Q4Hv_tob"
      },
      "source": [
        "https://www.acmicpc.net/problem/9095 ✨\n"
      ]
    },
    {
      "cell_type": "markdown",
      "metadata": {
        "id": "5YT5dwCB7gDL"
      },
      "source": [
        "Concept. Dynamic Programming"
      ]
    },
    {
      "cell_type": "code",
      "metadata": {
        "colab": {
          "base_uri": "https://localhost:8080/"
        },
        "id": "03ZprNZie_PG",
        "outputId": "88401c48-d37b-4676-adfa-d302bf8b1d81"
      },
      "source": [
        "n = int(input())"
      ],
      "execution_count": 1,
      "outputs": [
        {
          "name": "stdout",
          "output_type": "stream",
          "text": [
            "3\n"
          ]
        }
      ]
    },
    {
      "cell_type": "code",
      "metadata": {
        "id": "5UGjZkLMfJRs"
      },
      "source": [
        "inputs = []"
      ],
      "execution_count": 2,
      "outputs": []
    },
    {
      "cell_type": "code",
      "metadata": {
        "colab": {
          "base_uri": "https://localhost:8080/"
        },
        "id": "6LEycTSWfB3L",
        "outputId": "e0069a5c-31d9-4711-ff55-4fc4c514d06e"
      },
      "source": [
        "for _ in range(n) :\n",
        "  inputs.append(int(input()))"
      ],
      "execution_count": 3,
      "outputs": [
        {
          "name": "stdout",
          "output_type": "stream",
          "text": [
            "4\n",
            "7\n",
            "10\n"
          ]
        }
      ]
    },
    {
      "cell_type": "code",
      "metadata": {
        "id": "jhacX4R7fB5Z"
      },
      "source": [
        "dp = [0] * ( 1000 )"
      ],
      "execution_count": 24,
      "outputs": []
    },
    {
      "cell_type": "code",
      "metadata": {
        "id": "O7SGsMVNfB7l"
      },
      "source": [
        "dp[1] = 1\n",
        "dp[2] = 2\n",
        "dp[3] = 4"
      ],
      "execution_count": 25,
      "outputs": []
    },
    {
      "cell_type": "code",
      "metadata": {
        "id": "EHpm6PAwfB-T"
      },
      "source": [
        "for i in range(4, len(dp)):\n",
        "  dp[i] = dp[i-1] + dp[i-2] + dp[i-3]"
      ],
      "execution_count": 26,
      "outputs": []
    },
    {
      "cell_type": "code",
      "metadata": {
        "colab": {
          "base_uri": "https://localhost:8080/"
        },
        "id": "ntDTCmdbfiGB",
        "outputId": "968674fb-625a-4819-a614-96f1a436255c"
      },
      "source": [
        "for i in inputs : print(dp[i])"
      ],
      "execution_count": 29,
      "outputs": [
        {
          "output_type": "stream",
          "name": "stdout",
          "text": [
            "7\n",
            "44\n",
            "274\n"
          ]
        }
      ]
    },
    {
      "cell_type": "code",
      "metadata": {
        "id": "Prt9AzM1fiIk"
      },
      "source": [
        ""
      ],
      "execution_count": null,
      "outputs": []
    },
    {
      "cell_type": "code",
      "metadata": {
        "id": "vnfkPNOTfiLH"
      },
      "source": [
        ""
      ],
      "execution_count": null,
      "outputs": []
    },
    {
      "cell_type": "code",
      "metadata": {
        "id": "aYjIQzMxfiNw"
      },
      "source": [
        ""
      ],
      "execution_count": null,
      "outputs": []
    },
    {
      "cell_type": "code",
      "metadata": {
        "id": "X1RH3lxcfiUP"
      },
      "source": [
        ""
      ],
      "execution_count": null,
      "outputs": []
    }
  ]
}