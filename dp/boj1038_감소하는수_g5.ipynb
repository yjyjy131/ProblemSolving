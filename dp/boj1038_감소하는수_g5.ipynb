{
  "nbformat": 4,
  "nbformat_minor": 0,
  "metadata": {
    "colab": {
      "name": "boj1038_감소하는수_g5.ipynb",
      "provenance": [],
      "collapsed_sections": []
    },
    "kernelspec": {
      "display_name": "Python 3",
      "name": "python3"
    },
    "language_info": {
      "name": "python"
    }
  },
  "cells": [
    {
      "cell_type": "markdown",
      "metadata": {
        "id": "jtf7Q4Hv_tob"
      },
      "source": [
        "https://www.acmicpc.net/problem/1038"
      ]
    },
    {
      "cell_type": "markdown",
      "metadata": {
        "id": "5YT5dwCB7gDL"
      },
      "source": [
        "Concept ) combination 을 사용하면서 모드 경우를 체크하면 시간초과된다.\n",
        "\n",
        "따라서 계산하지 않아도 되는 경우는 뛰어넘도록 코드를 작성한다.\n",
        "\n",
        "ex ) 9876010 ➡ 9876 1 00 \n",
        "\n",
        "ex 2 ) 9876120 ➡ 9876 2 00\n",
        "\n",
        "ex 3 ) 9876121 ➡ 9876 2 01 ➡ 98762 1 0\n",
        "\n",
        "**i < j 이고, arr[i] < arr[j] 인 경우, \n",
        "arr[i] 의 값을 1 증가시키고, arr[j] 는 0으로 만든 후 arr[j+1:] 은 그대로 가져온다**"
      ]
    },
    {
      "cell_type": "code",
      "metadata": {
        "id": "ViI2eYaT8yyT"
      },
      "source": [
        "def calc(n) :\n",
        "  cnt = 0\n",
        "  num = 1\n",
        "  while True :\n",
        "    str_num = str(num)\n",
        "    chk = True\n",
        "    if len(str_num) == 1:\n",
        "      pass\n",
        "    else :\n",
        "      for i in range(1, len(str_num)) :\n",
        "        if int(str_num[i]) < int(str_num[i-1]) :\n",
        "          continue\n",
        "        else :\n",
        "          strt = str_num[:i-1]\n",
        "          mid = str(int(str_num[i-1]) + 1)\n",
        "          end = '0' + str_num[i+1:]\n",
        "          num = int(strt + mid + end)\n",
        "          chk = False\n",
        "          break\n",
        "    \n",
        "    if chk :\n",
        "      cnt += 1\n",
        "      if cnt == n :\n",
        "        return num\n",
        "      num += 1"
      ],
      "execution_count": 31,
      "outputs": []
    },
    {
      "cell_type": "code",
      "metadata": {
        "colab": {
          "base_uri": "https://localhost:8080/"
        },
        "id": "QdeIHlyNHpBP",
        "outputId": "20577a1d-bd1e-4972-ca0d-0a865577f39a"
      },
      "source": [
        "n = int(input())"
      ],
      "execution_count": 24,
      "outputs": [
        {
          "output_type": "stream",
          "text": [
            "1022\n"
          ],
          "name": "stdout"
        }
      ]
    },
    {
      "cell_type": "code",
      "metadata": {
        "colab": {
          "base_uri": "https://localhost:8080/"
        },
        "id": "jJetYW4u4dim",
        "outputId": "0468cef5-e883-4489-bbf5-fd0e2076c10d"
      },
      "source": [
        "if n == 0 :\n",
        "  print(0)\n",
        "elif n >= 1023 :\n",
        "  print(-1)\n",
        "else :\n",
        "  res = calc(n)\n",
        "  print(res)"
      ],
      "execution_count": 32,
      "outputs": [
        {
          "output_type": "stream",
          "text": [
            "9876543210\n"
          ],
          "name": "stdout"
        }
      ]
    }
  ]
}