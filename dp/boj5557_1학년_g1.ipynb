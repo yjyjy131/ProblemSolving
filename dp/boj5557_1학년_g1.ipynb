{
  "nbformat": 4,
  "nbformat_minor": 0,
  "metadata": {
    "colab": {
      "name": "boj5557_1학년_g1.ipynb",
      "provenance": [],
      "collapsed_sections": []
    },
    "kernelspec": {
      "display_name": "Python 3",
      "name": "python3"
    },
    "language_info": {
      "name": "python"
    }
  },
  "cells": [
    {
      "cell_type": "markdown",
      "metadata": {
        "id": "jtf7Q4Hv_tob"
      },
      "source": [
        "https://www.acmicpc.net/problem/5557 ✨\n"
      ]
    },
    {
      "cell_type": "markdown",
      "metadata": {
        "id": "5YT5dwCB7gDL"
      },
      "source": [
        "Concept. Dynamic Programming\n",
        "\n",
        "2차원 배열 dp 를 생성한다.\n",
        "\n",
        "dp[i][j] 라면 주어진 수들 중 i 번째까지의 수들을 사용할 때 j 값을 만들 수 있는 경우의 수를 의미한다 "
      ]
    },
    {
      "cell_type": "code",
      "metadata": {
        "id": "lXCvZZVyRGy1"
      },
      "source": [
        "from collections import deque"
      ],
      "execution_count": 100,
      "outputs": []
    },
    {
      "cell_type": "code",
      "metadata": {
        "colab": {
          "base_uri": "https://localhost:8080/"
        },
        "id": "z-kHDcWXMBfR",
        "outputId": "f4e2eb3d-f3b2-4802-bc40-8b31e0e74300"
      },
      "source": [
        "n = int(input())"
      ],
      "execution_count": 199,
      "outputs": [
        {
          "name": "stdout",
          "output_type": "stream",
          "text": [
            "40\n"
          ]
        }
      ]
    },
    {
      "cell_type": "code",
      "metadata": {
        "colab": {
          "base_uri": "https://localhost:8080/"
        },
        "id": "rsA-W5AuMBhs",
        "outputId": "522b1db9-d548-4c4d-b252-437c017dc167"
      },
      "source": [
        "vals = list(map(int, input().split()))"
      ],
      "execution_count": 200,
      "outputs": [
        {
          "name": "stdout",
          "output_type": "stream",
          "text": [
            "1 1 1 1 1 1 1 1 1 1 1 1 1 1 1 1 1 1 1 1 1 1 1 1 1 1 1 1 1 1 1 1 1 1 1 1 0 0 1 1\n"
          ]
        }
      ]
    },
    {
      "cell_type": "code",
      "metadata": {
        "id": "ZUzPlv3sP8v4"
      },
      "source": [
        "res = vals.pop()"
      ],
      "execution_count": 201,
      "outputs": []
    },
    {
      "cell_type": "code",
      "metadata": {
        "id": "cxhZ_o_SMBj-"
      },
      "source": [
        "dp = [ [ 0 for i in range(21) ] for j in range(n-1)]"
      ],
      "execution_count": 202,
      "outputs": []
    },
    {
      "cell_type": "code",
      "metadata": {
        "id": "RJmTymlRQE59"
      },
      "source": [
        "dp[0][vals[0]] = 1"
      ],
      "execution_count": 203,
      "outputs": []
    },
    {
      "cell_type": "code",
      "metadata": {
        "id": "Zfp2siPvREyg"
      },
      "source": [
        "dq = deque()"
      ],
      "execution_count": 204,
      "outputs": []
    },
    {
      "cell_type": "code",
      "metadata": {
        "id": "xhP7X51gRLVv"
      },
      "source": [
        "dq.append(vals[0])"
      ],
      "execution_count": 205,
      "outputs": []
    },
    {
      "cell_type": "code",
      "metadata": {
        "id": "SHBkOco7PIXY"
      },
      "source": [
        "for i in range(n-1) :\n",
        "  for j in range(21) :\n",
        "    if dp[i-1][j] != 0 :\n",
        "\n",
        "      if 0 <= j + vals[i] <= 20 :\n",
        "        dp[i][j + vals[i]] += dp[i-1][j] \n",
        "\n",
        "      if 0 <= j - vals[i] <= 20 :\n",
        "        dp[i][j - vals[i]] += dp[i-1][j] \n",
        "      "
      ],
      "execution_count": 206,
      "outputs": []
    },
    {
      "cell_type": "code",
      "metadata": {
        "colab": {
          "base_uri": "https://localhost:8080/"
        },
        "id": "f1LjZekqWU-a",
        "outputId": "8bdf0be9-f85e-41b2-fbda-291785dc997c"
      },
      "source": [
        "print(dp[-1][res])"
      ],
      "execution_count": 207,
      "outputs": [
        {
          "output_type": "stream",
          "name": "stdout",
          "text": [
            "7069052760\n"
          ]
        }
      ]
    },
    {
      "cell_type": "code",
      "metadata": {
        "id": "_Gm_aDqpVhf6"
      },
      "source": [
        ""
      ],
      "execution_count": null,
      "outputs": []
    },
    {
      "cell_type": "markdown",
      "metadata": {
        "id": "l3Sbz0KtL9jg"
      },
      "source": [
        "## DFS Backtracking - 시간초과"
      ]
    },
    {
      "cell_type": "code",
      "metadata": {
        "colab": {
          "base_uri": "https://localhost:8080/"
        },
        "id": "zq3DvsyQHeX8",
        "outputId": "40f3e933-863a-4a4a-fe7e-c4cb6b6bb0c6"
      },
      "source": [
        "n = int(input())"
      ],
      "execution_count": 50,
      "outputs": [
        {
          "name": "stdout",
          "output_type": "stream",
          "text": [
            "40\n"
          ]
        }
      ]
    },
    {
      "cell_type": "code",
      "metadata": {
        "colab": {
          "base_uri": "https://localhost:8080/"
        },
        "id": "O3ahYJBdHedE",
        "outputId": "476bbfa9-e7e0-4b80-b0e8-22faf7ca3624"
      },
      "source": [
        "vals = list(map(int, input().split()))"
      ],
      "execution_count": 51,
      "outputs": [
        {
          "name": "stdout",
          "output_type": "stream",
          "text": [
            "1 1 1 1 1 1 1 1 1 1 1 1 1 1 1 1 1 1 1 1 1 1 1 1 1 1 1 1 1 1 1 1 1 1 1 1 0 0 1 1\n"
          ]
        }
      ]
    },
    {
      "cell_type": "code",
      "metadata": {
        "id": "akKUDlh4HrgA"
      },
      "source": [
        "res = vals.pop()"
      ],
      "execution_count": 52,
      "outputs": []
    },
    {
      "cell_type": "code",
      "metadata": {
        "id": "Onzg_NUhIix5"
      },
      "source": [
        "dp = [0] * len(vals)"
      ],
      "execution_count": 53,
      "outputs": []
    },
    {
      "cell_type": "code",
      "metadata": {
        "id": "fiv4SB6rKSIJ"
      },
      "source": [
        "global cnt\n",
        "cnt = 0"
      ],
      "execution_count": 54,
      "outputs": []
    },
    {
      "cell_type": "code",
      "metadata": {
        "id": "mbITWRLDIi0K"
      },
      "source": [
        "def dfs(x):\n",
        "  if x == len(vals)-1 :\n",
        "    global cnt\n",
        "    if dp[-1] == res :\n",
        "      cnt += 1\n",
        "  else :\n",
        "    val1 = dp[x] + vals[x+1]\n",
        "    val2 = dp[x] - vals[x+1]\n",
        "    tmp = dp[x+1]\n",
        "\n",
        "    if 0 <= val1 <= 20 :\n",
        "      dp[x+1] = val1\n",
        "      dfs(x+1)\n",
        "      dp[x+1] = tmp\n",
        "    \n",
        "    if 0 <= val2 <= 20 :\n",
        "      dp[x+1] = val2\n",
        "      dfs(x+1)\n",
        "      dp[x+1] = tmp     "
      ],
      "execution_count": 55,
      "outputs": []
    },
    {
      "cell_type": "code",
      "metadata": {
        "id": "eJ0FW4N5JGDx"
      },
      "source": [
        "dp[0] = vals[0]"
      ],
      "execution_count": 56,
      "outputs": []
    },
    {
      "cell_type": "code",
      "metadata": {
        "id": "DpayDwXwIn0f"
      },
      "source": [
        "dfs(0)"
      ],
      "execution_count": null,
      "outputs": []
    },
    {
      "cell_type": "code",
      "metadata": {
        "id": "Fx1rtLfoIn22"
      },
      "source": [
        "print(cnt)"
      ],
      "execution_count": null,
      "outputs": []
    }
  ]
}