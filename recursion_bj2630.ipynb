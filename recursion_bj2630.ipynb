{
  "nbformat": 4,
  "nbformat_minor": 0,
  "metadata": {
    "colab": {
      "name": "recursion_bj2630.ipynb",
      "provenance": [],
      "collapsed_sections": [],
      "authorship_tag": "ABX9TyOCpr2QLh+qI/EOT/U5XNHb",
      "include_colab_link": true
    },
    "kernelspec": {
      "name": "python3",
      "display_name": "Python 3"
    }
  },
  "cells": [
    {
      "cell_type": "markdown",
      "metadata": {
        "id": "view-in-github",
        "colab_type": "text"
      },
      "source": [
        "<a href=\"https://colab.research.google.com/github/yjyjy131/coding_test/blob/main/recursion_bj2630.ipynb\" target=\"_parent\"><img src=\"https://colab.research.google.com/assets/colab-badge.svg\" alt=\"Open In Colab\"/></a>"
      ]
    },
    {
      "cell_type": "markdown",
      "metadata": {
        "id": "8X1AW0ryWxTo"
      },
      "source": [
        "## 백준 2630번 색종이 만들기 - 재귀 \n",
        "https://www.acmicpc.net/problem/2630\n",
        "\n",
        "아래 <그림 1>과 같이 여러개의 정사각형칸들로 이루어진 정사각형 모양의 종이가 주어져 있고, 각 정사각형들은 하얀색으로 칠해져 있거나 파란색으로 칠해져 있다. 주어진 종이를 일정한 규칙에 따라 잘라서 다양한 크기를 가진 정사각형 모양의 하얀색 또는 파란색 색종이를 만들려고 한다.\n",
        "\n",
        "전체 종이의 크기가 N×N(N=2k, k는 1 이상 7 이하의 자연수) 이라면 종이를 자르는 규칙은 다음과 같다.\n",
        "\n",
        "전체 종이가 모두 같은 색으로 칠해져 있지 않으면 가로와 세로로 중간 부분을 잘라서 <그림 2>의 I, II, III, IV와 같이 똑같은 크기의 네 개의 N/2 × N/2색종이로 나눈다. 나누어진 종이 I, II, III, IV 각각에 대해서도 앞에서와 마찬가지로 모두 같은 색으로 칠해져 있지 않으면 같은 방법으로 똑같은 크기의 네 개의 색종이로 나눈다. 이와 같은 과정을 잘라진 종이가 모두 하얀색 또는 모두 파란색으로 칠해져 있거나, 하나의 정사각형 칸이 되어 더 이상 자를 수 없을 때까지 반복한다.\n",
        "\n",
        "위와 같은 규칙에 따라 잘랐을 때 <그림 3>은 <그림 1>의 종이를 처음 나눈 후의 상태를, <그림 4>는 두 번째 나눈 후의 상태를, <그림 5>는 최종적으로 만들어진 다양한 크기의 9장의 하얀색 색종이와 7장의 파란색 색종이를 보여주고 있다.\n",
        "\n",
        "입력으로 주어진 종이의 한 변의 길이 N과 각 정사각형칸의 색(하얀색 또는 파란색)이 주어질 때 잘라진 하얀색 색종이와 파란색 색종이의 개수를 구하는 프로그램을 작성하시오.\n"
      ]
    },
    {
      "cell_type": "code",
      "metadata": {
        "colab": {
          "base_uri": "https://localhost:8080/"
        },
        "id": "enqrC2nAb23p",
        "outputId": "7eb17cdc-8158-48a0-9f27-8dfdf9c6d04d"
      },
      "source": [
        "# 입력\r\n",
        "#rec_num = int(input())\r\n",
        "#rec_str = input()\r\n",
        "\r\n",
        "user_input = input()\r\n",
        "rec_num = int(user_input[0])\r\n",
        "rec_str = user_input[1:]\r\n",
        "\r\n",
        "rec_list = rec_str.split()\r\n",
        "\r\n",
        "# 배열 생성\r\n",
        "rec_arr = []\r\n",
        "\r\n",
        "idx1 = 0\r\n",
        "idx2 = rec_num\r\n",
        "for i in range (0, rec_num) : \r\n",
        "  rec_arr.append(rec_list[idx1 : idx2])\r\n",
        "  idx1 += rec_num\r\n",
        "  idx2 += rec_num\r\n",
        "\r\n",
        "\r\n",
        "def cut_paper(start_idx1, start_idx2, arr_num):\r\n",
        "  curr_size =int(arr_num/2)\r\n",
        "  check_all_color(start_idx1, start_idx2, curr_size)\r\n",
        "  check_all_color(start_idx1, start_idx2 + curr_size ,curr_size)\r\n",
        "  check_all_color(start_idx1 + curr_size, start_idx2 ,curr_size)\r\n",
        "  check_all_color(start_idx1 + curr_size, start_idx2 + curr_size ,curr_size)\r\n",
        "\r\n",
        "\r\n",
        "# arr_num : arr 한 열의 길이\r\n",
        "def check_all_color(start_idx1, start_idx2, arr_num):\r\n",
        "  global white\r\n",
        "  global black\r\n",
        "  w_num = False\r\n",
        "  b_num = False\r\n",
        "  \r\n",
        "  half_arr_num = int(arr_num/2)\r\n",
        "\r\n",
        "  for i in range (start_idx1, start_idx1 + arr_num):\r\n",
        "    for k in range (start_idx2, start_idx2 + arr_num) :￦\r\n",
        "      if (rec_arr[i][k] == '0'):\r\n",
        "        w_num = True\r\n",
        "      elif (rec_arr[i][k] == '1'):\r\n",
        "        b_num = True\r\n",
        "\r\n",
        "  if (w_num == True and b_num == True):\r\n",
        "      # 자르기 함수 \r\n",
        "    if (arr_num > 1) :\r\n",
        "      cut_paper(start_idx1, start_idx2, arr_num)\r\n",
        "  elif (w_num == True and b_num == False):\r\n",
        "    white += 1\r\n",
        "  elif (w_num == False and b_num == True):\r\n",
        "    black += 1\r\n",
        "\r\n",
        "\r\n",
        "global white\r\n",
        "global black\r\n",
        "white, black = 0, 0  \r\n",
        "# 색종이 모든 칸 탐색, 전부 같은 숫자인지 체크 \r\n",
        "\r\n",
        "check_all_color(0, 0, rec_num)  \r\n",
        "\r\n",
        "print(white)\r\n",
        "print(black)\r\n",
        "\r\n",
        "\r\n"
      ],
      "execution_count": 2,
      "outputs": [
        {
          "output_type": "stream",
          "text": [
            "8 1 1 0 0 0 0 1 1 1 1 0 0 0 0 1 1 0 0 0 0 1 1 0 0 0 0 0 0 1 1 0 0 1 0 0 0 1 1 1 1 0 1 0 0 1 1 1 1 0 0 1 1 1 1 1 1 0 0 1 1 1 1 1 1\n",
            "9\n",
            "7\n"
          ],
          "name": "stdout"
        }
      ]
    }
  ]
}