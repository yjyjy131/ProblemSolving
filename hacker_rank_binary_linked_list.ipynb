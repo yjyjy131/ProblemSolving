{
  "nbformat": 4,
  "nbformat_minor": 0,
  "metadata": {
    "colab": {
      "name": "hacker_rank_binary_linked_list.ipynb",
      "provenance": [],
      "authorship_tag": "ABX9TyP0WuPJgGQ5a4xAdcEzG/I1",
      "include_colab_link": true
    },
    "kernelspec": {
      "name": "python3",
      "display_name": "Python 3"
    }
  },
  "cells": [
    {
      "cell_type": "markdown",
      "metadata": {
        "id": "view-in-github",
        "colab_type": "text"
      },
      "source": [
        "<a href=\"https://colab.research.google.com/github/yjyjy131/coding_test/blob/main/hacker_rank_binary_linked_list.ipynb\" target=\"_parent\"><img src=\"https://colab.research.google.com/assets/colab-badge.svg\" alt=\"Open In Colab\"/></a>"
      ]
    },
    {
      "cell_type": "markdown",
      "metadata": {
        "id": "FoHlf_OVDin2"
      },
      "source": [
        "# Hacker Rank / Anagrams \r\n",
        "\r\n",
        "두 문자열이 서로에 대한 순열이면 anagram에 해당한다. 즉, 두 문자열의 크기와 문자가 같다. 예를 들어, \"qqwerty\"는 \"qwertqy\"의 anagram이다. 문자열 배열을 지정하면 이전 문자열의 anagram은 각 문자열을 제거한 다음 나머지 배열을 정렬된 순서대로 반환한다. \r\n",
        "\r\n",
        "문자열로 이루어진 배열이 주어졌을 때, 중복되는 anagram 을 제외한 첫 번째 anagram 문자열들을 알파벳 오름차순으로 정렬해 반환하라."
      ]
    },
    {
      "cell_type": "code",
      "metadata": {
        "colab": {
          "base_uri": "https://localhost:8080/"
        },
        "id": "gCuikqcwDkQU",
        "outputId": "a4051e6d-e253-46fa-b5ee-94a0372b741f"
      },
      "source": [
        "import math\r\n",
        "import os\r\n",
        "import random\r\n",
        "import re\r\n",
        "import sys\r\n",
        "\r\n",
        "class SinglyLinkedListNode:\r\n",
        "  def __init__(self, node_data):\r\n",
        "    self.data = node_data\r\n",
        "    self.next = None\r\n",
        "\r\n",
        "class SinglyLinkedList:\r\n",
        "  def __init__(self):\r\n",
        "    self.head = None\r\n",
        "    self.tail = None\r\n",
        "\r\n",
        "  def insert_node(self, node_data):\r\n",
        "    node = SinglyLinkedListNode(node_data)\r\n",
        "    if not self.head:\r\n",
        "      self.head = node\r\n",
        "    else:\r\n",
        "      self.tail.next = node\r\n",
        "\r\n",
        "    self.tail = node\r\n",
        "  \r\n",
        "def print_singly_linked_list(node, sep, fptr):\r\n",
        "  while node:\r\n",
        "    fptr.write(str(node.data))\r\n",
        "    node = node.next\r\n",
        "    if node:\r\n",
        "      #fptr.write(sep)\r\n",
        "      print(sep)\r\n",
        "\r\n",
        "def getNumber(binary, size):\r\n",
        "    arr = []\r\n",
        "\r\n",
        "    for i in range(0, size):\r\n",
        "      curr_num = int(binary.data)\r\n",
        "      arr.append(str(curr_num))\r\n",
        "      binary = binary.next\r\n",
        "    \r\n",
        "    binary_str = ''.join(arr)\r\n",
        "    result = int(binary_str, 2)\r\n",
        "    return result\r\n",
        "\r\n",
        "if __name__ == '__main__':\r\n",
        "    #fptr = open(os.environ['OUTPUT_PATH'], 'w')\r\n",
        "    binary_count = int(input().strip())\r\n",
        "    binary = SinglyLinkedList()\r\n",
        "\r\n",
        "    for _ in range(binary_count):\r\n",
        "      binary_item = int(input().strip())\r\n",
        "      binary.insert_node(binary_item)\r\n",
        "\r\n",
        "    result = getNumber(binary.head, binary_count)\r\n",
        "    print(str(result))\r\n",
        "    #fptr write(str(result) + '\\n')\r\n"
      ],
      "execution_count": 7,
      "outputs": [
        {
          "output_type": "stream",
          "text": [
            "5\n",
            "1\n",
            "1\n",
            "0\n",
            "0\n",
            "1\n",
            "25\n"
          ],
          "name": "stdout"
        }
      ]
    },
    {
      "cell_type": "code",
      "metadata": {
        "id": "0WM0im1qDh6W"
      },
      "source": [
        ""
      ],
      "execution_count": null,
      "outputs": []
    }
  ]
}