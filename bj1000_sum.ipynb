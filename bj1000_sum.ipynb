{
  "nbformat": 4,
  "nbformat_minor": 0,
  "metadata": {
    "colab": {
      "name": "bj1000_sum.ipynb",
      "provenance": [],
      "authorship_tag": "ABX9TyMOCFRaXQcJpD25uABdLWUr",
      "include_colab_link": true
    },
    "kernelspec": {
      "name": "python3",
      "display_name": "Python 3"
    }
  },
  "cells": [
    {
      "cell_type": "markdown",
      "metadata": {
        "id": "view-in-github",
        "colab_type": "text"
      },
      "source": [
        "<a href=\"https://colab.research.google.com/github/yjyjy131/coding_test/blob/main/bj1000_sum.ipynb\" target=\"_parent\"><img src=\"https://colab.research.google.com/assets/colab-badge.svg\" alt=\"Open In Colab\"/></a>"
      ]
    },
    {
      "cell_type": "markdown",
      "metadata": {
        "id": "gk90XKJRk5Xg"
      },
      "source": [
        "**백준 1000**\n",
        "두 수가 주어졌을 때 두 수의 합 구하기"
      ]
    },
    {
      "cell_type": "code",
      "metadata": {
        "colab": {
          "base_uri": "https://localhost:8080/"
        },
        "id": "y8SIUMO_k4uk",
        "outputId": "99f97068-1239-48d1-98a0-909a7ab7bb69"
      },
      "source": [
        "num1, num2 = input().split()\n",
        "print(int(num1) + int(num2))"
      ],
      "execution_count": 1,
      "outputs": [
        {
          "output_type": "stream",
          "text": [
            "1 2\n",
            "3\n"
          ],
          "name": "stdout"
        }
      ]
    }
  ]
}