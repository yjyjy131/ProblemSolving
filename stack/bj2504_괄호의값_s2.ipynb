{
  "nbformat": 4,
  "nbformat_minor": 0,
  "metadata": {
    "colab": {
      "name": "bj2504_괄호의값.ipynb",
      "provenance": [],
      "collapsed_sections": []
    },
    "kernelspec": {
      "display_name": "Python 3",
      "name": "python3"
    },
    "language_info": {
      "name": "python"
    }
  },
  "cells": [
    {
      "cell_type": "markdown",
      "metadata": {
        "id": "jtf7Q4Hv_tob"
      },
      "source": [
        "https://www.acmicpc.net/problem/2504 ✨"
      ]
    },
    {
      "cell_type": "markdown",
      "metadata": {
        "id": "lAQZCv9JgqO1"
      },
      "source": [
        "Concept.\n",
        "\n",
        "1 ) 괄호 값 입력을 받는다\n",
        "\n",
        "2 ) 각 입력을 하나씩 돌면서 체크 \n",
        "\n",
        "3 ) 현재 입력이 닫는 괄호 라면 \n",
        "    \n",
        "    ** 다음의 과정을 반복한다. \n",
        "    (1) 현재 스택의 맨 위 값을 가져온다\n",
        "    (2-1) top 값이 숫자라면 => m 에 저장\n",
        "    (2-2) top 값이 같은 종류의 여는 괄호라면 \n",
        "          => m 이 0 이면 : 괄호에 해당 숫자만 스택에 push\n",
        "          => m 이 0 이 아니면 : (2) 와 같이 괄호 안에 괄호가 있었던 경우이므로 * 처리한 값을 스택에 push\n",
        "    (2-3) top 값이 다른 종류의 여는 괄호라면\n",
        "          => ([) 와 같은 예외 경우 이므로 프로그램 종료\n",
        "\n",
        "(4) 스택에 남아있는 값들을 모두 체크해서, 남아있는 값 중 괄호값이 있다면 0을 출력하고 프로그램을 종료한다. \n",
        "\n",
        "괄호값이 남아있지 않다면 스택에 있는 모든 숫자들을 더해 최종 값을 출력한다. \n",
        "\n",
        "ex - 스택에 숫자가 여러개 남는 경우 : ()()((())) \n",
        "\n"
      ]
    },
    {
      "cell_type": "code",
      "metadata": {
        "colab": {
          "base_uri": "https://localhost:8080/"
        },
        "id": "m4VTg1VuoOpO",
        "outputId": "5c75c458-9e8c-46a9-ce91-19ff2e5a44d6"
      },
      "source": [
        "brc_v = list(input())"
      ],
      "execution_count": 29,
      "outputs": [
        {
          "output_type": "stream",
          "text": [
            "(()[])\n"
          ],
          "name": "stdout"
        }
      ]
    },
    {
      "cell_type": "code",
      "metadata": {
        "id": "pIemb3ibFFFY"
      },
      "source": [
        "brc_chk = []"
      ],
      "execution_count": 30,
      "outputs": []
    },
    {
      "cell_type": "code",
      "metadata": {
        "id": "FFc2vjHqFMSi"
      },
      "source": [
        "for b in brc_v :\n",
        "  if b == ')' :\n",
        "    m = 0\n",
        "    while len(brc_chk) != 0 :\n",
        "      top = brc_chk.pop()\n",
        "      if top == '(' :\n",
        "        if m == 0 :\n",
        "          brc_chk.append(2)\n",
        "        else :\n",
        "          brc_chk.append(m*2)\n",
        "        break\n",
        "      elif top == '[' :\n",
        "        print(0)\n",
        "        exit(0)\n",
        "      else :\n",
        "        m = m + int(top)\n",
        "  \n",
        "  elif b == ']' :\n",
        "    m = 0\n",
        "    while len(brc_chk) != 0 :\n",
        "      top = brc_chk.pop()\n",
        "      if top == '[' :\n",
        "        if m == 0 :\n",
        "          brc_chk.append(3)\n",
        "        else :\n",
        "          brc_chk.append(m*3)\n",
        "        break\n",
        "      elif top == '(' :\n",
        "        print(0)\n",
        "        exit(0)\n",
        "      else :\n",
        "        m = m + int(top)\n",
        "  else :\n",
        "    brc_chk.append(b)"
      ],
      "execution_count": 31,
      "outputs": []
    },
    {
      "cell_type": "code",
      "metadata": {
        "colab": {
          "base_uri": "https://localhost:8080/"
        },
        "id": "_-BYpek5FMZI",
        "outputId": "a94f5f63-63a7-4137-d6a8-802a306c116d"
      },
      "source": [
        "brc_chk"
      ],
      "execution_count": 32,
      "outputs": [
        {
          "output_type": "execute_result",
          "data": {
            "text/plain": [
              "[10]"
            ]
          },
          "metadata": {},
          "execution_count": 32
        }
      ]
    },
    {
      "cell_type": "code",
      "metadata": {
        "id": "0FxYscE1f-xE"
      },
      "source": [
        "res = 0"
      ],
      "execution_count": 33,
      "outputs": []
    },
    {
      "cell_type": "code",
      "metadata": {
        "id": "XIM5DfJTFMbs"
      },
      "source": [
        "for b in brc_chk :\n",
        "  if b == '(' or b == '[' :\n",
        "    res = 0\n",
        "    break\n",
        "  else :\n",
        "    res += b"
      ],
      "execution_count": 34,
      "outputs": []
    },
    {
      "cell_type": "code",
      "metadata": {
        "colab": {
          "base_uri": "https://localhost:8080/"
        },
        "id": "4HbrOPWNFFHj",
        "outputId": "67aae041-dd89-4851-a6c0-ac20b9befae7"
      },
      "source": [
        "print(res)"
      ],
      "execution_count": 35,
      "outputs": [
        {
          "output_type": "stream",
          "text": [
            "10\n"
          ],
          "name": "stdout"
        }
      ]
    },
    {
      "cell_type": "code",
      "metadata": {
        "id": "U600ZxHnFFJ5"
      },
      "source": [
        ""
      ],
      "execution_count": null,
      "outputs": []
    }
  ]
}