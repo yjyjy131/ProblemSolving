{
  "nbformat": 4,
  "nbformat_minor": 0,
  "metadata": {
    "colab": {
      "name": "boj3568_isharp_s4.ipynb",
      "provenance": [],
      "collapsed_sections": []
    },
    "kernelspec": {
      "display_name": "Python 3",
      "name": "python3"
    },
    "language_info": {
      "name": "python"
    }
  },
  "cells": [
    {
      "cell_type": "markdown",
      "metadata": {
        "id": "jtf7Q4Hv_tob"
      },
      "source": [
        "https://www.acmicpc.net/problem/3568\n",
        "\n",
        "\n"
      ]
    },
    {
      "cell_type": "markdown",
      "metadata": {
        "id": "5YT5dwCB7gDL"
      },
      "source": [
        "Concept ) Stack\n",
        "\n",
        "*,  &  연산자는 그대로 pop 해서 stack 에 넣는다\n",
        "\n",
        "[] 연산자는 [ 를 만나면 [] 를 한번에 저장\n",
        "\n",
        "변수는 현재 단어에서 pop => stack 에 push =>  다시 pop 하면 순서대로 사용 가능"
      ]
    },
    {
      "cell_type": "code",
      "metadata": {
        "colab": {
          "base_uri": "https://localhost:8080/"
        },
        "id": "4FBADWthAVQu",
        "outputId": "e4347b6c-98ab-472f-af75-60fea186c3f4"
      },
      "source": [
        "n = list(input().split())"
      ],
      "execution_count": 56,
      "outputs": [
        {
          "output_type": "stream",
          "text": [
            "int abacabadabacaba*;\n"
          ],
          "name": "stdout"
        }
      ]
    },
    {
      "cell_type": "code",
      "metadata": {
        "id": "DTxGpv_TAXkG"
      },
      "source": [
        "for i in range(1, len(n)):\n",
        "  if n[i][-1] == ',' or n[i][-1] == ';' :\n",
        "    n[i] = n[i][:-1]"
      ],
      "execution_count": 57,
      "outputs": []
    },
    {
      "cell_type": "code",
      "metadata": {
        "id": "GJfjfOcKHNF6"
      },
      "source": [
        "results = []"
      ],
      "execution_count": 58,
      "outputs": []
    },
    {
      "cell_type": "code",
      "metadata": {
        "id": "OSpBxYcbAXrW"
      },
      "source": [
        "for i in range(1, len(n)) :\n",
        "  tmp_s = list(n[i])\n",
        "  word = n[0]\n",
        "  var = []\n",
        "  for s_i in range(len(tmp_s)-1, -1, -1) :\n",
        "    if tmp_s[s_i] == '*' or tmp_s[s_i] == '&' :\n",
        "      word = word + tmp_s.pop()\n",
        "\n",
        "    elif tmp_s[s_i] == ']' :\n",
        "      tmp_s.pop()\n",
        "\n",
        "    elif tmp_s[s_i] == '[' :\n",
        "      tmp_s.pop()\n",
        "      word = word + '[]'\n",
        "\n",
        "    else :\n",
        "      var.append(tmp_s.pop())\n",
        "\n",
        "  all_var = ' '\n",
        "  while var :\n",
        "    all_var += var.pop()\n",
        "  \n",
        "  word += all_var\n",
        "\n",
        "  results.append(word)"
      ],
      "execution_count": 59,
      "outputs": []
    },
    {
      "cell_type": "code",
      "metadata": {
        "colab": {
          "base_uri": "https://localhost:8080/"
        },
        "id": "TxoD9z82JNsc",
        "outputId": "d39d8381-cd05-4359-e7af-17f01f487c88"
      },
      "source": [
        "for r in results :\n",
        "  print(str(r) + ';')"
      ],
      "execution_count": 60,
      "outputs": [
        {
          "output_type": "stream",
          "text": [
            "int* abacabadabacaba;\n"
          ],
          "name": "stdout"
        }
      ]
    }
  ]
}