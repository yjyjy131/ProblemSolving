{
  "nbformat": 4,
  "nbformat_minor": 0,
  "metadata": {
    "colab": {
      "name": "boj5212_지구온난화_s2.ipynb",
      "provenance": [],
      "collapsed_sections": []
    },
    "kernelspec": {
      "display_name": "Python 3",
      "name": "python3"
    },
    "language_info": {
      "name": "python"
    }
  },
  "cells": [
    {
      "cell_type": "markdown",
      "metadata": {
        "id": "jtf7Q4Hv_tob"
      },
      "source": [
        "https://www.acmicpc.net/problem/5212\n"
      ]
    },
    {
      "cell_type": "markdown",
      "metadata": {
        "id": "7a6khXj5kMTw"
      },
      "source": [
        "Concept. simulation"
      ]
    },
    {
      "cell_type": "code",
      "metadata": {
        "colab": {
          "base_uri": "https://localhost:8080/"
        },
        "id": "QhdrdnCyn4fo",
        "outputId": "88fb7f42-9025-4fbb-ebaa-d86d0e455ab1"
      },
      "source": [
        "n, m = map(int, input().split())"
      ],
      "execution_count": 149,
      "outputs": [
        {
          "name": "stdout",
          "output_type": "stream",
          "text": [
            "5 3\n"
          ]
        }
      ]
    },
    {
      "cell_type": "code",
      "metadata": {
        "id": "3KM3YBVkn4io"
      },
      "source": [
        "board = [['.' for _ in range(m+2)] for _ in range(n+2)]"
      ],
      "execution_count": 150,
      "outputs": []
    },
    {
      "cell_type": "code",
      "metadata": {
        "colab": {
          "base_uri": "https://localhost:8080/"
        },
        "id": "-iekeOjbww4b",
        "outputId": "bf80ccd9-6a7f-4fca-efcc-c6b4efe5137f"
      },
      "source": [
        "for i in range(1, n+1) :\n",
        "  idx = 0\n",
        "  tmp = list(map(str, input().strip()))\n",
        "  for j in range(1, m+1) :\n",
        "    board[i][j] = tmp[idx]\n",
        "    idx += 1"
      ],
      "execution_count": 151,
      "outputs": [
        {
          "name": "stdout",
          "output_type": "stream",
          "text": [
            "...\n",
            ".X.\n",
            ".X.\n",
            ".X.\n",
            "...\n"
          ]
        }
      ]
    },
    {
      "cell_type": "code",
      "metadata": {
        "id": "ifqazpz6ww6V"
      },
      "source": [
        "dp = [['.' for _ in range(m+2)] for _ in range(n+2)]"
      ],
      "execution_count": 152,
      "outputs": []
    },
    {
      "cell_type": "code",
      "metadata": {
        "id": "IlsPUHJlww8f"
      },
      "source": [
        "go_x = [1, -1, 0, 0]\n",
        "go_y = [0, 0, 1, -1]\n",
        "\n",
        "for i in range(n+2) :\n",
        "  for j in range(m+2) :\n",
        "    if board[i][j] == 'X' :\n",
        "      cnt = 0\n",
        "      for k in range(4) :\n",
        "        nx = i + go_x[k]\n",
        "        ny = j + go_y[k]\n",
        "\n",
        "        if 0 <= nx < n+2 and 0 <= ny < m+2 and board[nx][ny] == '.' :\n",
        "          cnt += 1\n",
        "\n",
        "      if cnt < 3 :\n",
        "        dp[i][j] = 'X'\n",
        "      "
      ],
      "execution_count": 153,
      "outputs": []
    },
    {
      "cell_type": "code",
      "metadata": {
        "id": "OBTsrI0mn4nH"
      },
      "source": [
        "max_x, max_y = 0, 0\n",
        "min_x, min_y = n, m\n",
        "\n",
        "for i in range(n+2) :\n",
        "  for j in range(m+2) :\n",
        "    if dp[i][j] == 'X' :\n",
        "      max_x = max(max_x, i)\n",
        "      min_x = min(min_x, i)\n",
        "      max_y = max(max_y, j)\n",
        "      min_y = min(min_y, j)"
      ],
      "execution_count": 161,
      "outputs": []
    },
    {
      "cell_type": "code",
      "metadata": {
        "colab": {
          "base_uri": "https://localhost:8080/"
        },
        "id": "4f2uDd100B7r",
        "outputId": "ceb63862-e241-44b4-9450-ec0360cadeb7"
      },
      "source": [
        "for i in range(min_x, max_x+1) :\n",
        "  for j in range(min_y, max_y+1) :\n",
        "    print(dp[i][j], end='')\n",
        "  print()"
      ],
      "execution_count": 167,
      "outputs": [
        {
          "output_type": "stream",
          "name": "stdout",
          "text": [
            "X\n"
          ]
        }
      ]
    }
  ]
}