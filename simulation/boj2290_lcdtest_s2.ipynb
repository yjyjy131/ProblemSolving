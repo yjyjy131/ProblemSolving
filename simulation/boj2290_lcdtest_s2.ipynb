{
  "nbformat": 4,
  "nbformat_minor": 0,
  "metadata": {
    "colab": {
      "name": "boj2290_lcdtest_s2.ipynb",
      "provenance": [],
      "collapsed_sections": []
    },
    "kernelspec": {
      "display_name": "Python 3",
      "name": "python3"
    },
    "language_info": {
      "name": "python"
    }
  },
  "cells": [
    {
      "cell_type": "markdown",
      "metadata": {
        "id": "jtf7Q4Hv_tob"
      },
      "source": [
        "https://www.acmicpc.net/problem/2290\n",
        "\n",
        "\n"
      ]
    },
    {
      "cell_type": "markdown",
      "metadata": {
        "id": "5YT5dwCB7gDL"
      },
      "source": [
        "Concept. simulation\n",
        "\n",
        "숫자를 구성하는 - , | 의 케이스를 각각 나누어 생각한다"
      ]
    },
    {
      "cell_type": "code",
      "metadata": {
        "colab": {
          "base_uri": "https://localhost:8080/"
        },
        "id": "jqkvZxQFZZOz",
        "outputId": "1b168271-10a7-4bc1-d264-874ab7456c32"
      },
      "source": [
        "s, n = input().split()"
      ],
      "execution_count": null,
      "outputs": [
        {
          "output_type": "stream",
          "text": [
            "2 1234567890\n"
          ],
          "name": "stdout"
        }
      ]
    },
    {
      "cell_type": "code",
      "metadata": {
        "id": "LhE8hUWxc1Md"
      },
      "source": [
        "s = int(s)"
      ],
      "execution_count": null,
      "outputs": []
    },
    {
      "cell_type": "code",
      "metadata": {
        "colab": {
          "base_uri": "https://localhost:8080/"
        },
        "id": "TYe1PszmZZRL",
        "outputId": "f86fc525-ba8f-4b8d-9c53-689206f66d0b"
      },
      "source": [
        "for i in range(2 * s + 3) :\n",
        "  res = ''\n",
        "  # 위쪽 _ \n",
        "  if i == 0 :\n",
        "    for num in n :\n",
        "      if num == '1' or num =='4' :\n",
        "        for _ in range(s+2) : res += ' '\n",
        "      else :\n",
        "        res += ' '\n",
        "        for _ in range(1, s+1) :\n",
        "          res += '-'\n",
        "        res += ' '\n",
        "      res += ' '\n",
        "\n",
        "  # 중간 _\n",
        "  elif i == (s+1) :\n",
        "    for num in n :\n",
        "      if num == '1' or num =='7' or num == '0' :\n",
        "        for _ in range(s+2) : res += ' '\n",
        "      else :\n",
        "        res += ' '\n",
        "        for _ in range(s) :\n",
        "          res += '-'\n",
        "        res += ' '\n",
        "      res += ' '\n",
        "\n",
        "  # 아래 _\n",
        "  elif i == (2*s+2) :\n",
        "    for num in n :\n",
        "      if num == '1' or num =='4' or num == '7' :\n",
        "        for _ in range(s+2) : \n",
        "          res += ' '\n",
        "      else :\n",
        "        res += ' '\n",
        "        for _ in range(s) :\n",
        "          res += '-'\n",
        "        res += ' '\n",
        "      res += ' '\n",
        "\n",
        "  # 위쪽 |\n",
        "  elif 0 < i < (s+1) :\n",
        "    for num in n :\n",
        "      if num == '5' or num == '6' :\n",
        "        res += '|'\n",
        "        for _ in range(s+1) :\n",
        "          res += ' '\n",
        "      elif num == '1' or num == '2' or num == '3' or num == '7' :\n",
        "        for _ in range(s+1) :\n",
        "          res += ' '\n",
        "        res += '|'\n",
        "      elif num == '4' or num == '8' or num == '9' or num == '0' :\n",
        "        res += '|'\n",
        "        for _ in range(1, s+1) :\n",
        "          res += ' '\n",
        "        res += '|'      \n",
        "      res += ' '\n",
        "    \n",
        "  # 아래 |\n",
        "  else :\n",
        "    for num in n :\n",
        "      if num == '2' :\n",
        "        res += '|'\n",
        "        for _ in range(s+1) : res += ' '\n",
        "      elif num == '6' or num == '8' or num == '0' :\n",
        "        res += '|'\n",
        "        for _ in range(1, s+1) :\n",
        "          res += ' '\n",
        "        res += '|'       \n",
        "      else :\n",
        "        for _ in range(s+1) :\n",
        "          res += ' '\n",
        "        res += '|' \n",
        "      res += ' '\n",
        "\n",
        "  print(res)"
      ],
      "execution_count": null,
      "outputs": [
        {
          "output_type": "stream",
          "text": [
            "      --   --        --   --   --   --   --   --  \n",
            "   |    |    | |  | |    |       | |  | |  | |  | \n",
            "   |    |    | |  | |    |       | |  | |  | |  | \n",
            "      --   --   --   --   --        --   --       \n",
            "   | |       |    |    | |  |    | |  |    | |  | \n",
            "   | |       |    |    | |  |    | |  |    | |  | \n",
            "      --   --        --   --        --   --   --  \n"
          ],
          "name": "stdout"
        }
      ]
    }
  ]
}