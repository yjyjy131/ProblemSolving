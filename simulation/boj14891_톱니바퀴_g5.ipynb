{
  "nbformat": 4,
  "nbformat_minor": 0,
  "metadata": {
    "colab": {
      "name": "boj14891_톱니바퀴_g5.ipynb",
      "provenance": [],
      "collapsed_sections": []
    },
    "kernelspec": {
      "display_name": "Python 3",
      "name": "python3"
    },
    "language_info": {
      "name": "python"
    }
  },
  "cells": [
    {
      "cell_type": "markdown",
      "metadata": {
        "id": "jtf7Q4Hv_tob"
      },
      "source": [
        "https://www.acmicpc.net/problem/14891"
      ]
    },
    {
      "cell_type": "markdown",
      "metadata": {
        "id": "7a6khXj5kMTw"
      },
      "source": [
        "Concept. Simulation\n",
        "\n",
        "주의할 점. 톱니바퀴를 돌릴 때 입력으로 받은 돌리는 대상이 되는 톱니바퀴는 무조건 돌아가야 한다. "
      ]
    },
    {
      "cell_type": "code",
      "metadata": {
        "id": "g0WCNgZHs5uu"
      },
      "source": [
        ""
      ],
      "execution_count": null,
      "outputs": []
    },
    {
      "cell_type": "code",
      "metadata": {
        "id": "CLC9D3uQlkxT"
      },
      "source": [
        "from collections import deque"
      ],
      "execution_count": 1,
      "outputs": []
    },
    {
      "cell_type": "code",
      "metadata": {
        "colab": {
          "base_uri": "https://localhost:8080/"
        },
        "id": "hPecLi_PkuJM",
        "outputId": "0fc5a58c-2d2f-4932-9b9c-2d66c0e61822"
      },
      "source": [
        "board = []\n",
        "\n",
        "for _ in range(4) :\n",
        "  board.append(deque(list(input())))"
      ],
      "execution_count": 2,
      "outputs": [
        {
          "name": "stdout",
          "output_type": "stream",
          "text": [
            "10101111\n",
            "01111101\n",
            "11001110\n",
            "00000010\n"
          ]
        }
      ]
    },
    {
      "cell_type": "code",
      "metadata": {
        "colab": {
          "base_uri": "https://localhost:8080/"
        },
        "id": "F_zduTQnmLY8",
        "outputId": "e5bebba0-d0a5-4c31-b5ce-ce99bfdcb1e0"
      },
      "source": [
        "k = int(input())"
      ],
      "execution_count": 3,
      "outputs": [
        {
          "name": "stdout",
          "output_type": "stream",
          "text": [
            "2\n"
          ]
        }
      ]
    },
    {
      "cell_type": "code",
      "metadata": {
        "id": "a0IKt5HhoI2n"
      },
      "source": [
        "def toggle(dir) :\n",
        "  if dir < 0 :\n",
        "    return 1\n",
        "  else :\n",
        "    return -1"
      ],
      "execution_count": 4,
      "outputs": []
    },
    {
      "cell_type": "code",
      "metadata": {
        "id": "NlDVYcEPoVaU"
      },
      "source": [
        "def go_rotate(idx, dir) :\n",
        "  if dir < 0 :\n",
        "    board[idx].rotate(-1)\n",
        "  else:\n",
        "    board[idx].rotate()"
      ],
      "execution_count": 5,
      "outputs": []
    },
    {
      "cell_type": "code",
      "metadata": {
        "id": "_iywkzOCm_iC"
      },
      "source": [
        "def first(num, dir) :\n",
        "  rot_info = [0 for _ in range(4)]\n",
        "  rot_info[0] = dir\n",
        "\n",
        "  if board[0][2] != board[1][6] :\n",
        "    dir = toggle(dir)\n",
        "    rot_info[1] = dir\n",
        "\n",
        "    if board[1][2] != board[2][6] :\n",
        "      dir = toggle(dir)\n",
        "      rot_info[2] = dir\n",
        "  \n",
        "      if board[2][2] != board[3][6] :\n",
        "        dir = toggle(dir)\n",
        "        rot_info[3] = dir\n",
        "\n",
        "  for r_i in range(4) :\n",
        "    if rot_info[r_i] != 0 :\n",
        "      go_rotate(r_i, rot_info[r_i])"
      ],
      "execution_count": 6,
      "outputs": []
    },
    {
      "cell_type": "code",
      "metadata": {
        "id": "XuOhgucJpm1F"
      },
      "source": [
        "def fourth(num, dir) :\n",
        "  rot_info = [0 for _ in range(4)]\n",
        "  rot_info[3] = dir\n",
        "\n",
        "  if board[3][6] != board[2][2] :\n",
        "    dir = toggle(dir)\n",
        "    rot_info[2] = dir\n",
        "\n",
        "    if board[2][6] != board[1][2] :\n",
        "      dir = toggle(dir)\n",
        "      rot_info[1] = dir\n",
        "    \n",
        "      if board[1][6] != board[0][2] :\n",
        "        dir = toggle(dir)\n",
        "        rot_info[0] = dir\n",
        "\n",
        "  for r_i in range(4) :\n",
        "    if rot_info[r_i] != 0 :\n",
        "      go_rotate(r_i, rot_info[r_i])"
      ],
      "execution_count": 7,
      "outputs": []
    },
    {
      "cell_type": "code",
      "metadata": {
        "id": "yQjtu-RZow_3"
      },
      "source": [
        "def second(num, dir) :\n",
        "  rot_info = [0 for _ in range(4)]\n",
        "  rot_info[1] = dir\n",
        "\n",
        "  if board[1][6] != board[0][2] :\n",
        "    rot_info[0] = toggle(dir)\n",
        "\n",
        "  if board[1][2] != board[2][6] :\n",
        "    dir = toggle(dir)\n",
        "    rot_info[2] = dir\n",
        "  \n",
        "    if board[2][2] != board[3][6] :\n",
        "      dir = toggle(dir)\n",
        "      rot_info[3] = dir\n",
        "\n",
        "  for r_i in range(4) :\n",
        "    if rot_info[r_i] != 0 :\n",
        "      go_rotate(r_i, rot_info[r_i])"
      ],
      "execution_count": 8,
      "outputs": []
    },
    {
      "cell_type": "code",
      "metadata": {
        "id": "n-74xW7LpBdZ"
      },
      "source": [
        "def third(num, dir) :\n",
        "  rot_info = [0 for _ in range(4)]\n",
        "\n",
        "  rot_info[2] = dir\n",
        "\n",
        "  if board[2][2] != board[3][6] :\n",
        "    rot_info[3] = toggle(dir)\n",
        "\n",
        "  if board[2][6] != board[1][2] :\n",
        "    dir = toggle(dir)\n",
        "    rot_info[1] = dir\n",
        "    \n",
        "    if board[1][6] != board[0][2] :\n",
        "      dir = toggle(dir)\n",
        "      rot_info[0] = dir\n",
        "\n",
        "  for r_i in range(4) :\n",
        "    if rot_info[r_i] != 0 :\n",
        "      go_rotate(r_i, rot_info[r_i])"
      ],
      "execution_count": 9,
      "outputs": []
    },
    {
      "cell_type": "code",
      "metadata": {
        "colab": {
          "base_uri": "https://localhost:8080/"
        },
        "id": "JTugAGV5liF5",
        "outputId": "5724842f-8a75-40d8-a2fa-7b76129f092d"
      },
      "source": [
        "for _ in range(k) :\n",
        "  num, dir = map(int, input().split())\n",
        "\n",
        "  if num == 1 : first(num-1, dir)\n",
        "  elif num == 2 : second(num-1, dir)\n",
        "  elif num == 3 : third(num-1, dir)\n",
        "  elif num == 4 : fourth(num-1, dir)"
      ],
      "execution_count": 11,
      "outputs": [
        {
          "name": "stdout",
          "output_type": "stream",
          "text": [
            "3 1\n",
            "1 -1\n"
          ]
        }
      ]
    },
    {
      "cell_type": "code",
      "metadata": {
        "colab": {
          "base_uri": "https://localhost:8080/"
        },
        "id": "5yWrvNgxqtsX",
        "outputId": "4cb61ec9-aa25-4563-fe70-6a0cc07579bb"
      },
      "source": [
        "res = 0\n",
        "\n",
        "for i in range(4) :\n",
        "  res += ( 2 ** i ) * int(board[i][0])\n",
        "\n",
        "print(res)"
      ],
      "execution_count": 12,
      "outputs": [
        {
          "output_type": "stream",
          "name": "stdout",
          "text": [
            "2\n"
          ]
        }
      ]
    }
  ]
}