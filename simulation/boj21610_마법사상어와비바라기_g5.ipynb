{
  "nbformat": 4,
  "nbformat_minor": 0,
  "metadata": {
    "colab": {
      "name": "boj21610_마법사상어와비바라기_g5.ipynb",
      "provenance": [],
      "collapsed_sections": []
    },
    "kernelspec": {
      "display_name": "Python 3",
      "name": "python3"
    },
    "language_info": {
      "name": "python"
    }
  },
  "cells": [
    {
      "cell_type": "markdown",
      "metadata": {
        "id": "jtf7Q4Hv_tob"
      },
      "source": [
        "https://www.acmicpc.net/problem/21610"
      ]
    },
    {
      "cell_type": "markdown",
      "metadata": {
        "id": "7a6khXj5kMTw"
      },
      "source": [
        "Concept. Simulation\n",
        "\n",
        "주의할 점. 문제에서 초기화 조건을 잘 읽어야 함"
      ]
    },
    {
      "cell_type": "code",
      "metadata": {
        "id": "hGUz3-aiOKor"
      },
      "source": [
        "from collections import deque"
      ],
      "execution_count": 11,
      "outputs": []
    },
    {
      "cell_type": "code",
      "metadata": {
        "colab": {
          "base_uri": "https://localhost:8080/"
        },
        "id": "rdWLKlTgNDyW",
        "outputId": "e5d26d21-54a5-428a-b320-d8c7fdd1a3c6"
      },
      "source": [
        "n, m = map(int, input().split())"
      ],
      "execution_count": 1,
      "outputs": [
        {
          "name": "stdout",
          "output_type": "stream",
          "text": [
            "5 4\n"
          ]
        }
      ]
    },
    {
      "cell_type": "code",
      "metadata": {
        "colab": {
          "base_uri": "https://localhost:8080/"
        },
        "id": "xEMYq0wgNKI_",
        "outputId": "26aad887-eb1c-4c50-d861-106e9fc190a6"
      },
      "source": [
        "a = []\n",
        "\n",
        "for _ in range(n) :\n",
        "  a.append((list(map(int, input().split()))))"
      ],
      "execution_count": 25,
      "outputs": [
        {
          "name": "stdout",
          "output_type": "stream",
          "text": [
            "0 0 1 0 2\n",
            "2 3 2 1 0\n",
            "4 3 2 9 0\n",
            "1 0 2 9 0\n",
            "8 8 2 1 0\n"
          ]
        }
      ]
    },
    {
      "cell_type": "code",
      "metadata": {
        "colab": {
          "base_uri": "https://localhost:8080/"
        },
        "id": "Z1VuajgWNkqP",
        "outputId": "560c8065-72ca-499c-8826-46f0e840d1f9"
      },
      "source": [
        "ds = []\n",
        "\n",
        "for _ in range(m) :\n",
        "  ds.append(list(map(int, input().split())))"
      ],
      "execution_count": 8,
      "outputs": [
        {
          "name": "stdout",
          "output_type": "stream",
          "text": [
            "1 3\n",
            "3 4\n",
            "8 1\n",
            "4 8\n"
          ]
        }
      ]
    },
    {
      "cell_type": "code",
      "metadata": {
        "id": "tQvVtNv0SHGG"
      },
      "source": [
        ""
      ],
      "execution_count": null,
      "outputs": []
    },
    {
      "cell_type": "code",
      "metadata": {
        "id": "3wqzm3uBPpbl"
      },
      "source": [
        "def go_cloud(d, s) :\n",
        "    \n",
        "  # 1 ←\n",
        "  if d == 1 :\n",
        "    for _ in range(s) :\n",
        "      for i in range(n) : cloud[i].rotate(-1)\n",
        "\n",
        "  # 3 ↑\n",
        "  elif d == 3:\n",
        "    for _ in range(s) : cloud.rotate(-1)\n",
        "\n",
        "  # 5 →\n",
        "  elif d == 5:\n",
        "    for _ in range(s) :\n",
        "      for i in range(n) : cloud[i].rotate(1)\n",
        "        \n",
        "  # 7 ↓\n",
        "  elif d == 7 :\n",
        "    for _ in range(s) : cloud.rotate()\n",
        "\n",
        "  # 2 ↖\n",
        "  elif d == 2:\n",
        "    for _ in range(s) :\n",
        "      cloud.rotate(-1)\n",
        "      for i in range(n) : cloud[i].rotate(-1)\n",
        "\n",
        "  # 4 ↗\n",
        "  elif d == 4:\n",
        "    for _ in range(s) :\n",
        "      cloud.rotate(-1)\n",
        "      for i in range(n) : cloud[i].rotate()\n",
        "\n",
        "  # 6 ↘\n",
        "  elif d == 6 :\n",
        "    for _ in range(s) :\n",
        "      cloud.rotate()\n",
        "      for i in range(n) : cloud[i].rotate()\n",
        "\n",
        "  # 8 ↙\n",
        "  elif d == 8 :\n",
        "    for _ in range(s) :\n",
        "      cloud.rotate()\n",
        "      for i in range(n) : cloud[i].rotate(-1)"
      ],
      "execution_count": 140,
      "outputs": []
    },
    {
      "cell_type": "code",
      "metadata": {
        "id": "NGRYgskoN2ph"
      },
      "source": [
        "def water_bug(x, y) :\n",
        "  # 물복사버그 마법을 사용하면, 대각선 방향으로 거리가 1인 칸에 물이 있는 바구니의 수만큼 \n",
        "  # (r, c)에 있는 바구니의 물이 양이 증가한다.\n",
        "\n",
        "  basket = 0\n",
        "  # 대각선 왼 오 왼아 오아\n",
        "  cord = [(-1, -1), (-1, 1), (1, -1), (1, 1)]\n",
        "\n",
        "  for cx, cy in cord :\n",
        "    nx = x + cx\n",
        "    ny = y + cy \n",
        "\n",
        "    if 0 <= nx < n and 0 <= ny < n :\n",
        "      if a[nx][ny] > 0 :\n",
        "        basket += 1\n",
        "\n",
        "  a[x][y] += basket"
      ],
      "execution_count": 145,
      "outputs": []
    },
    {
      "cell_type": "code",
      "metadata": {
        "id": "yR7pTQEQPcxv"
      },
      "source": [
        "cloud = deque([ deque([0 for _ in range(n)]) for _ in range(n) ])\n",
        "# 비바라기를 시전하면 (N, 1), (N, 2), (N-1, 1), (N-1, 2)에 비구름이 생긴다. \n",
        "c_init = [(n-1, 0), (n-1, 1), (n-2, 0), (n-2, 1)]\n",
        "for ix, iy in c_init : cloud[ix][iy] = 1\n",
        "\n",
        "\n",
        "for mi in range(m) :\n",
        "  # 모든 구름이 di 방향으로 si칸 이동한다.\n",
        "  d, s = ds[mi]\n",
        "  go_cloud(d, s)\n",
        "\n",
        "  # 각 구름에서 비가 내려 구름이 있는 칸의 바구니에 저장된 물의 양이 1 증가한다.\n",
        "  water_add = []\n",
        "\n",
        "  for i in range(n) :\n",
        "    for j in range(n) :\n",
        "      if cloud[i][j] == 1:\n",
        "        a[i][j] += 1\n",
        "        water_add.append((i, j))\n",
        "\n",
        "  # 구름이 모두 사라진다.\n",
        "  cloud = deque([ deque([0 for _ in range(n)]) for _ in range(n) ])\n",
        "\n",
        "  # 2 에서 물이 증가한 칸 (r, c)에 물복사버그 마법을 시전한다. \n",
        "  for x, y in water_add :\n",
        "    water_bug(x, y)\n",
        "\n",
        "  # 바구니에 저장된 물의 양이 2 이상인 모든 칸에 구름이 생기고, 물의 양이 2 줄어든다. \n",
        "  # 이때 구름이 생기는 칸은 3에서 구름이 사라진 칸이 아니어야 한다.\n",
        "\n",
        "  for i in range(n) :\n",
        "    for j in range(n) :\n",
        "      if (i, j) not in water_add : \n",
        "        if a[i][j] > 1 :\n",
        "          a[i][j] -= 2\n",
        "          cloud[i][j] = 1\n",
        "\n",
        "\n",
        "res = 0\n",
        "for a_row in a :\n",
        "  res += sum(a_row)\n",
        "\n",
        "print(res)"
      ],
      "execution_count": null,
      "outputs": []
    }
  ]
}