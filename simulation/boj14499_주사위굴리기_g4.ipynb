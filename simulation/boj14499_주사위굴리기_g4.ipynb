{
  "nbformat": 4,
  "nbformat_minor": 0,
  "metadata": {
    "colab": {
      "provenance": [],
      "collapsed_sections": [],
      "authorship_tag": "ABX9TyOkpBEsyg7iBNR4jFw69wst",
      "include_colab_link": true
    },
    "kernelspec": {
      "name": "python3",
      "display_name": "Python 3"
    },
    "language_info": {
      "name": "python"
    }
  },
  "cells": [
    {
      "cell_type": "markdown",
      "metadata": {
        "id": "view-in-github",
        "colab_type": "text"
      },
      "source": [
        "<a href=\"https://colab.research.google.com/github/yjyjy131/ProblemSolving/blob/main/simulation/boj14499_%EC%A3%BC%EC%82%AC%EC%9C%84%EA%B5%B4%EB%A6%AC%EA%B8%B0_g4.ipynb\" target=\"_parent\"><img src=\"https://colab.research.google.com/assets/colab-badge.svg\" alt=\"Open In Colab\"/></a>"
      ]
    },
    {
      "cell_type": "markdown",
      "source": [
        "https://www.acmicpc.net/problem/14499"
      ],
      "metadata": {
        "id": "mEpkHl_D3TL0"
      }
    },
    {
      "cell_type": "code",
      "execution_count": null,
      "metadata": {
        "id": "7LG9nHHY3OIz"
      },
      "outputs": [],
      "source": [
        "# 처음 주사위 모든 면은 0\n",
        "#\n",
        "# - 주사위를 굴렸을 때 이동한 칸에 쓰여있는 수가\n",
        "#     ㄴ 0 이다 : 주사위의 바닥면에 있듣 수가 칸에 복사됨\n",
        "#     ㄴ 0 이 아니다 : 칸에 쓰인 수가 주사위 바닥에 복사되고, 칸의 수는 0 이 됨\n",
        "#     바깥으로 이동시키려고 하는 경우에는 해당 명령을 무시해야 하며, 출력도 하면 안 된다\n",
        "# - 주사위가 이동했을때마다 상단에 쓰인 값을 출력\n",
        "\n",
        "\n",
        "from collections import deque\n",
        "import copy\n",
        "\n",
        "\n",
        "# 방향에 따라 주사위 굴리기\n",
        "def move_dice(arr, dir):\n",
        "    arr = copy.deepcopy(arr)\n",
        "\n",
        "    if dir == 1:\n",
        "        arr[1].appendleft(arr[3].pop())\n",
        "        arr[3] = deque([arr[1].pop()])\n",
        "\n",
        "    elif dir == 2:\n",
        "        arr[1].append(arr[3].pop())\n",
        "        arr[3] = deque([arr[1].popleft()])\n",
        "\n",
        "    elif dir == 3:\n",
        "        arr[0].append(arr[1][1])\n",
        "        arr[3].append(arr[0].popleft())\n",
        "        arr[2].append(arr[3].popleft())\n",
        "        arr[1][1] = arr[2].popleft()\n",
        "\n",
        "    elif dir == 4:\n",
        "        arr[2].append(arr[1][1])\n",
        "        arr[3].append(arr[2].popleft())\n",
        "        arr[0].append(arr[3].popleft())\n",
        "        arr[1][1] = arr[0].popleft()\n",
        "\n",
        "    return arr\n",
        "\n",
        "\n",
        "# 움직여야하는 방향과 방향에 따른 x, y 좌표값\n",
        "def set_dir(x, y, dir):\n",
        "    dx = [0, 0, 0, -1, 1]\n",
        "    dy = [0, 1, -1, 0, 0]\n",
        "    nx, ny = x + dx[dir], y + dy[dir]\n",
        "\n",
        "    if 0 <= nx < n and 0 <= ny < m:\n",
        "        return nx, ny, dir\n",
        "    else:\n",
        "        return None, None, None\n",
        "\n",
        "\n",
        "if __name__ == '__main__':\n",
        "    n, m, x, y, k = map(int, input().split())\n",
        "    board = [list(map(int, input().split())) for _ in range(n)]\n",
        "    dirs = map(int, input().split())\n",
        "    dice = [deque([0]), deque([0, 0, 0]), deque([0]), deque([0])]\n",
        "\n",
        "    # 가려는 방향과 좌표를 찾는다.\n",
        "    for dir in dirs:\n",
        "        nx, ny, dir = set_dir(x, y, dir)\n",
        "        # 가려는 방향이 존재하면 주사위를 굴리고 수를 복사\n",
        "        if dir:\n",
        "            score = board[nx][ny]\n",
        "            dice = move_dice(dice, dir)\n",
        "            if board[nx][ny] == 0:\n",
        "                board[nx][ny] = dice[3][0]\n",
        "            else:\n",
        "                dice[3][0] = board[nx][ny]\n",
        "                board[nx][ny] = 0\n",
        "            x, y = nx, ny\n",
        "            print(dice[1][1])\n"
      ]
    }
  ]
}