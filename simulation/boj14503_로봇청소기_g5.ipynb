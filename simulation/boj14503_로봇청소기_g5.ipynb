{
  "nbformat": 4,
  "nbformat_minor": 0,
  "metadata": {
    "colab": {
      "name": "boj14503_로봇청소기_g5.ipynb",
      "provenance": [],
      "collapsed_sections": []
    },
    "kernelspec": {
      "display_name": "Python 3",
      "name": "python3"
    },
    "language_info": {
      "name": "python"
    }
  },
  "cells": [
    {
      "cell_type": "markdown",
      "metadata": {
        "id": "jtf7Q4Hv_tob"
      },
      "source": [
        "https://www.acmicpc.net/problem/14503"
      ]
    },
    {
      "cell_type": "markdown",
      "metadata": {
        "id": "5YT5dwCB7gDL"
      },
      "source": [
        "Concept. Simulation ✨\n",
        "\n",
        "**청소기의 현재 방향과, 다음 방향을 구분해두어야함**\n",
        "\n",
        "청소기가 청소를 하려고 갈때 탐색했던 방향으로 현재 방향이 바뀌는 것이고, 후진을 할 때는 원래 가지고 있던 현재 방향에서 후진을 해야하기 때문에 두 변수를 따로 관리해야한다."
      ]
    },
    {
      "cell_type": "code",
      "metadata": {
        "colab": {
          "base_uri": "https://localhost:8080/"
        },
        "id": "7phgfuWjfgRo",
        "outputId": "77472df9-8b7a-4fb2-a473-6356ab0e390e"
      },
      "source": [
        "n, m = map(int, input().split())"
      ],
      "execution_count": 1,
      "outputs": [
        {
          "name": "stdout",
          "output_type": "stream",
          "text": [
            "6 6\n"
          ]
        }
      ]
    },
    {
      "cell_type": "code",
      "metadata": {
        "colab": {
          "base_uri": "https://localhost:8080/"
        },
        "id": "XC9ULJM1fgT_",
        "outputId": "33b6b051-13a1-485c-96d7-6351859b6300"
      },
      "source": [
        "x, y, curr_d = map(int, input().split())"
      ],
      "execution_count": 16,
      "outputs": [
        {
          "name": "stdout",
          "output_type": "stream",
          "text": [
            "2 1 3\n"
          ]
        }
      ]
    },
    {
      "cell_type": "code",
      "metadata": {
        "id": "PRSjOHTvfx3l"
      },
      "source": [
        "board = []"
      ],
      "execution_count": 19,
      "outputs": []
    },
    {
      "cell_type": "code",
      "metadata": {
        "colab": {
          "base_uri": "https://localhost:8080/"
        },
        "id": "lSSARW4Dfx5n",
        "outputId": "eedc7aaf-9ca7-4168-a511-3aae228e9137"
      },
      "source": [
        "for _ in range(n) :\n",
        "  board.append(list(map(int, input().split())))"
      ],
      "execution_count": 20,
      "outputs": [
        {
          "name": "stdout",
          "output_type": "stream",
          "text": [
            "1 1 1 1 1 1\n",
            "1 0 0 0 0 1\n",
            "1 0 1 1 1 1\n",
            "1 0 1 1 1 1\n",
            "1 0 1 1 1 1\n",
            "1 1 1 1 1 1\n"
          ]
        }
      ]
    },
    {
      "cell_type": "code",
      "metadata": {
        "id": "lA7Z5Rv3h6we"
      },
      "source": [
        "def get_dir(x, y, dir) :\n",
        "  if dir == 0 :\n",
        "    return x-1, y\n",
        "\n",
        "  elif dir == 1 :\n",
        "    return x, y+1\n",
        "\n",
        "  elif dir == 2 :\n",
        "    return x+1, y\n",
        "\n",
        "  elif dir == 3 :\n",
        "    return x, y-1"
      ],
      "execution_count": 21,
      "outputs": []
    },
    {
      "cell_type": "code",
      "metadata": {
        "id": "J9G1mIV4iJfZ"
      },
      "source": [
        "def go_back(x, y, dir) :\n",
        "  if dir == 0 :\n",
        "    return x+1, y\n",
        "\n",
        "  elif dir == 1 :\n",
        "    return x, y-1\n",
        "\n",
        "  elif dir == 2 :\n",
        "    return x-1, y\n",
        "\n",
        "  elif dir == 3 :\n",
        "    return x, y+1"
      ],
      "execution_count": 22,
      "outputs": []
    },
    {
      "cell_type": "code",
      "metadata": {
        "id": "FGWJF33pgg94"
      },
      "source": [
        "# dir 0위 1오 2아 3왼\n",
        "# 현재 0 - 왼 3 - 아 2 - 오 1 \n",
        "# 현재 1 - 위 0 - 왼 3 - 아 2\n",
        "# 현재 2 - 오 1 - 위 0 - 왼 3\n",
        "# 현재 3 - 아 2 - 오 1 - 위 0"
      ],
      "execution_count": 514,
      "outputs": []
    },
    {
      "cell_type": "code",
      "metadata": {
        "id": "3ZaaJA8HZYEp"
      },
      "source": [
        "next_dir = { 0:3, 3:2, 2:1, 1:0 }"
      ],
      "execution_count": 23,
      "outputs": []
    },
    {
      "cell_type": "code",
      "metadata": {
        "id": "UPmhbgjTfx7u"
      },
      "source": [
        "res = 1"
      ],
      "execution_count": 24,
      "outputs": []
    },
    {
      "cell_type": "code",
      "metadata": {
        "id": "9lnpOOm3dbM2"
      },
      "source": [
        "board[x][y] = 2"
      ],
      "execution_count": 25,
      "outputs": []
    },
    {
      "cell_type": "code",
      "metadata": {
        "id": "PiZxVA1wfgWh"
      },
      "source": [
        "while 1 :\n",
        "  # 현재 위치를 청소함\n",
        "  # 현재 위치에서 왼쪽으로 돌아서 청소했는지 검사\n",
        "  # 네 방향을 돌면서, 청소할 곳이 있으면 반복문을 빠져나감\n",
        "  tmp_d = curr_d\n",
        "\n",
        "  for i in range(4) :\n",
        "    clean = 0\n",
        "\n",
        "    # 다음방향 => 다음방향 => 다음방향.. 으로 가야하므로 tmp_d 의 다음 방향을 계산해야함\n",
        "    tmp_d = next_dir.get(tmp_d)\n",
        "    nx, ny = get_dir(x, y, tmp_d)\n",
        "\n",
        "    if 0 <= nx < n and 0 <= ny < m and board[nx][ny] == 0 :\n",
        "      board[nx][ny] = 2\n",
        "\n",
        "      # 계산했던 다음 방향에 청소를 하는 것이 맞으면, 해당 방향을 현재 방향으로 바꿔준다\n",
        "      x, y, curr_d = nx, ny, tmp_d\n",
        "      res += 1\n",
        "      clean = 1\n",
        "      break \n",
        "\n",
        "  # 네 방향 모두 청소되었거나 막혔는지를 체크\n",
        "  if clean == 0 :\n",
        "    # 현재 방향에서 후진할 수 있는지 체크 \n",
        "    nx, ny = go_back(x, y, curr_d)\n",
        "\n",
        "    # 후진 가능한 경우\n",
        "    if 0 <= nx < n and 0 <= ny < m  :\n",
        "      if board[nx][ny] == 1 : \n",
        "        break\n",
        "      else :\n",
        "        x = nx\n",
        "        y = ny"
      ],
      "execution_count": 26,
      "outputs": []
    },
    {
      "cell_type": "code",
      "metadata": {
        "colab": {
          "base_uri": "https://localhost:8080/"
        },
        "id": "xYHeOE8kg3QD",
        "outputId": "da56f807-2224-4232-8b43-dc3532da3dfa"
      },
      "source": [
        "print(res)"
      ],
      "execution_count": 27,
      "outputs": [
        {
          "output_type": "stream",
          "name": "stdout",
          "text": [
            "7\n"
          ]
        }
      ]
    },
    {
      "cell_type": "code",
      "metadata": {
        "id": "hx1lTQE4ijFm"
      },
      "source": [
        ""
      ],
      "execution_count": null,
      "outputs": []
    }
  ]
}