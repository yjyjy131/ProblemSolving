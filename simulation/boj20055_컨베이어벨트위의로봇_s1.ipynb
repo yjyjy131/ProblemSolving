{
  "nbformat": 4,
  "nbformat_minor": 0,
  "metadata": {
    "colab": {
      "name": "boj20055_컨베이어벨트위의로봇_s1.ipynb",
      "provenance": [],
      "collapsed_sections": []
    },
    "kernelspec": {
      "display_name": "Python 3",
      "name": "python3"
    },
    "language_info": {
      "name": "python"
    }
  },
  "cells": [
    {
      "cell_type": "markdown",
      "metadata": {
        "id": "jtf7Q4Hv_tob"
      },
      "source": [
        "https://www.acmicpc.net/problem/20055"
      ]
    },
    {
      "cell_type": "markdown",
      "metadata": {
        "id": "7a6khXj5kMTw"
      },
      "source": [
        "Concept. simulation ✨\n",
        "\n",
        "컨베이어 벨트를 굳이 2차원 리스트로 만들 필요가 없음\n",
        "\n",
        "deque 를 이용해 한 라인으로 구현하고, deque 를 회전시킬 수 있는 rotate 함수를 사용하면 됨"
      ]
    },
    {
      "cell_type": "code",
      "metadata": {
        "id": "BETrk8kLpHcK"
      },
      "source": [
        "from collections import deque"
      ],
      "execution_count": 1,
      "outputs": []
    },
    {
      "cell_type": "code",
      "metadata": {
        "id": "NG-H8c2zqUdz",
        "colab": {
          "base_uri": "https://localhost:8080/"
        },
        "outputId": "b19bc5a3-ee1a-4ec9-d881-9c4ae6847174"
      },
      "source": [
        "n, k = map(int, input().split())"
      ],
      "execution_count": 298,
      "outputs": [
        {
          "name": "stdout",
          "output_type": "stream",
          "text": [
            "5 8\n"
          ]
        }
      ]
    },
    {
      "cell_type": "code",
      "metadata": {
        "colab": {
          "base_uri": "https://localhost:8080/"
        },
        "id": "sMzsx9mVohAE",
        "outputId": "2b4d2f82-17e5-4714-8805-ef4416ac1cb1"
      },
      "source": [
        "board = deque(list(map(int, input().split())))"
      ],
      "execution_count": 331,
      "outputs": [
        {
          "name": "stdout",
          "output_type": "stream",
          "text": [
            "100 99 60 80 30 20 10 89 99 100\n"
          ]
        }
      ]
    },
    {
      "cell_type": "code",
      "metadata": {
        "id": "Ei_oXsuYqUgT"
      },
      "source": [
        "robot =deque([0]*(n*2))"
      ],
      "execution_count": 332,
      "outputs": []
    },
    {
      "cell_type": "code",
      "metadata": {
        "id": "zg1J1sBio4Qi"
      },
      "source": [
        "def circulate(robot) :\n",
        "  board.rotate(1)\n",
        "  robot.rotate(1)\n",
        "  robot[n-1] = 0\n",
        "  return robot"
      ],
      "execution_count": 333,
      "outputs": []
    },
    {
      "cell_type": "code",
      "metadata": {
        "id": "j48Gj6jWqUkx"
      },
      "source": [
        "def go_robot(robot) :\n",
        "\n",
        "  # 로봇을 움직인다 \n",
        "  for i in range(n-2, -1, -1) :\n",
        "    if robot[i] == 1  and robot[i+1] == 0 and board[i+1] > 0 :\n",
        "      robot[i] = 0\n",
        "      robot[i+1] = 1\n",
        "      board[i+1] -= 1\n",
        "\n",
        "  robot[n-1] = 0\n",
        "\n",
        "  return robot"
      ],
      "execution_count": 334,
      "outputs": []
    },
    {
      "cell_type": "code",
      "metadata": {
        "id": "O9sf0j630IpF"
      },
      "source": [
        "def up_robot(robot) :\n",
        "  # 올리는 위치에 로봇을 올린다\n",
        "  if board[0] > 0 :\n",
        "    robot[0] = 1\n",
        "    board[0] -= 1\n",
        "\n",
        "  return robot"
      ],
      "execution_count": 335,
      "outputs": []
    },
    {
      "cell_type": "code",
      "metadata": {
        "colab": {
          "base_uri": "https://localhost:8080/"
        },
        "id": "VcBDrLFHrmSU",
        "outputId": "b4ea4f1e-0357-4d28-e316-b1c6a4a33eb3"
      },
      "source": [
        "res = 0\n",
        "\n",
        "while 1 :\n",
        "  if board.count(0) >= k:\n",
        "    break\n",
        "\n",
        "  robot = circulate(robot)\n",
        "  robot = go_robot(robot)\n",
        "  robot = up_robot(robot)\n",
        "  res += 1\n",
        "\n",
        "print(res)"
      ],
      "execution_count": 336,
      "outputs": [
        {
          "output_type": "stream",
          "name": "stdout",
          "text": [
            "472\n"
          ]
        }
      ]
    },
    {
      "cell_type": "code",
      "metadata": {
        "id": "1kbYOl8crzuj"
      },
      "source": [
        ""
      ],
      "execution_count": null,
      "outputs": []
    }
  ]
}