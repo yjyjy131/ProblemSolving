{
  "nbformat": 4,
  "nbformat_minor": 0,
  "metadata": {
    "colab": {
      "name": "boj1388_바닥 장식_s3.ipynb",
      "provenance": [],
      "collapsed_sections": [],
      "authorship_tag": "ABX9TyNljItg3nyWlgEp5ZQkqR3o",
      "include_colab_link": true
    },
    "kernelspec": {
      "name": "python3",
      "display_name": "Python 3"
    },
    "language_info": {
      "name": "python"
    }
  },
  "cells": [
    {
      "cell_type": "markdown",
      "metadata": {
        "id": "view-in-github",
        "colab_type": "text"
      },
      "source": [
        "<a href=\"https://colab.research.google.com/github/yjyjy131/ProblemSolving/blob/main/simulation/boj1388_%EB%B0%94%EB%8B%A5_%EC%9E%A5%EC%8B%9D_s3.ipynb\" target=\"_parent\"><img src=\"https://colab.research.google.com/assets/colab-badge.svg\" alt=\"Open In Colab\"/></a>"
      ]
    },
    {
      "cell_type": "code",
      "source": [
        "n, m = map(int, input().split())\n",
        "arr = []\n",
        "for i in range(n):\n",
        "  arr.append(input())\n",
        "\n",
        "cnt = 0\n",
        "for i in range(n):\n",
        "  rows = arr[i].split('|')\n",
        "  for r in rows:\n",
        "    if r != '':\n",
        "      cnt += 1\n",
        "\n",
        "for j in range(m):\n",
        "  temp = []\n",
        "  for k in range(n):\n",
        "    temp.append(arr[k][j])\n",
        "\n",
        "  temp_str = ''.join(temp)\n",
        "  if '-' not in temp_str :\n",
        "    cnt += 1\n",
        "  else :\n",
        "    cols = temp_str.split('-')\n",
        "    for c in cols:\n",
        "      if c != '':\n",
        "        cnt += 1\n",
        "\n",
        "print(cnt)"
      ],
      "metadata": {
        "colab": {
          "base_uri": "https://localhost:8080/"
        },
        "id": "ZwS8r_Qj_Vff",
        "outputId": "e2b50966-1e8a-44df-9b45-67290cd6dc8f"
      },
      "execution_count": 56,
      "outputs": [
        {
          "output_type": "stream",
          "name": "stdout",
          "text": [
            "19\n"
          ]
        }
      ]
    }
  ]
}