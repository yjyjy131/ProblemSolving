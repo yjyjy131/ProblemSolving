{
  "nbformat": 4,
  "nbformat_minor": 0,
  "metadata": {
    "colab": {
      "name": "boj20058_마법사 상어와 파이어스톰_g4.ipynb",
      "provenance": [],
      "collapsed_sections": []
    },
    "kernelspec": {
      "display_name": "Python 3",
      "name": "python3"
    },
    "language_info": {
      "name": "python"
    }
  },
  "cells": [
    {
      "cell_type": "markdown",
      "metadata": {
        "id": "jtf7Q4Hv_tob"
      },
      "source": [
        "https://www.acmicpc.net/problem/20058"
      ]
    },
    {
      "cell_type": "markdown",
      "metadata": {
        "id": "7a6khXj5kMTw"
      },
      "source": [
        "Concept. Simulation & BFS ✨✨\n",
        "\n",
        "주의 ) 얼음이 녹을 때 갯수를 체크하면서 얼음을 녹이면 안됨\n",
        "\n",
        "주변의 얼음 개수가 실시간으로 변하게 되기 때문에\n",
        "얼음 개수를 모두 체크한 이후에 얼음을 녹인다"
      ]
    },
    {
      "cell_type": "code",
      "metadata": {
        "id": "Z27wHhs8WY-j"
      },
      "source": [
        "from collections import deque"
      ],
      "execution_count": 1,
      "outputs": []
    },
    {
      "cell_type": "code",
      "metadata": {
        "colab": {
          "base_uri": "https://localhost:8080/"
        },
        "id": "MA2N3Hr64ky7",
        "outputId": "695fc902-8c0a-4cc7-d447-c7cf0e7a1633"
      },
      "source": [
        "n, q = map(int, input().split())"
      ],
      "execution_count": 2,
      "outputs": [
        {
          "name": "stdout",
          "output_type": "stream",
          "text": [
            "3 10\n"
          ]
        }
      ]
    },
    {
      "cell_type": "code",
      "metadata": {
        "colab": {
          "base_uri": "https://localhost:8080/"
        },
        "id": "qw2rdXrZ4olF",
        "outputId": "c1db8aa8-51d3-4498-d16f-6eb4aa7f86dd"
      },
      "source": [
        "board = []\n",
        "for _ in range(2**n) :\n",
        "  board.append(list(map(int, input().split())))"
      ],
      "execution_count": 156,
      "outputs": [
        {
          "name": "stdout",
          "output_type": "stream",
          "text": [
            "1 2 3 4 5 6 7 8\n",
            "8 7 6 5 4 3 2 1\n",
            "1 2 3 4 5 6 7 8\n",
            "8 7 6 5 4 3 2 1\n",
            "1 2 3 4 5 6 7 8\n",
            "8 7 6 5 4 3 2 1\n",
            "1 2 3 4 5 6 7 8\n",
            "8 7 6 5 4 3 2 1\n"
          ]
        }
      ]
    },
    {
      "cell_type": "code",
      "metadata": {
        "colab": {
          "base_uri": "https://localhost:8080/"
        },
        "id": "3UOYNcID4k1l",
        "outputId": "eebdb00c-9a60-46b3-a067-2b8ecb5a6807"
      },
      "source": [
        "l_list = list(map(int, input().split()))"
      ],
      "execution_count": 4,
      "outputs": [
        {
          "name": "stdout",
          "output_type": "stream",
          "text": [
            "1 2 0 3 2 1 2 3 2 3\n"
          ]
        }
      ]
    },
    {
      "cell_type": "code",
      "metadata": {
        "id": "uyQZwxbB-uwu"
      },
      "source": [
        "for l in l_list :\n",
        "  k = 2 ** l\n",
        "\n",
        "  # (x, y) 는 작은 사각형의 맨 왼쪽 위 기준 값\n",
        "  for x in range(0, 2**n, k) :\n",
        "    for y in range(0, 2**n, k) :\n",
        "\n",
        "      # tmp 에 작은 사각형 하나의 값들을 가져옴\n",
        "      tmp = [board[i][y:y+k] for i in range(x, x+k)]\n",
        "      \n",
        "      # tmp 값을 board 값에 회전해서 담는다\n",
        "      for i in range(k) :\n",
        "        for j in range(k) :\n",
        "          board[x+j][y+k-1-i] = tmp[i][j]\n",
        "\n",
        "\n",
        "  # 얼음이 있는 칸 3개 또는 그 이상과 인접해있지 않은 칸은 얼음의 양이 1 줄어든다.\n",
        "  dir = [(1, 0), (0, 1), (-1, 0), (0, -1)]\n",
        "  cnt = [[0] * 2**n for i in range(2**n)]\n",
        "  for x in range(2**n):\n",
        "    for y in range(2**n):\n",
        "      for d in dir:\n",
        "        nx, ny = x + d[0], y + d[1]\n",
        "        if 0 <= nx < 2**n and 0 <= ny < 2**n and board[nx][ny]:\n",
        "          cnt[x][y] += 1\n",
        "\n",
        "  for x in range(2**n):\n",
        "    for y in range(2**n):\n",
        "      if board[x][y] > 0 and cnt[x][y] < 3:\n",
        "        board[x][y] -= 1"
      ],
      "execution_count": 5,
      "outputs": []
    },
    {
      "cell_type": "code",
      "metadata": {
        "colab": {
          "base_uri": "https://localhost:8080/"
        },
        "id": "9lN1FT7ePrrO",
        "outputId": "24759373-7ec7-4917-e9b2-6a7992de07a3"
      },
      "source": [
        "all_sum = 0\n",
        "for i in range(2**n) : all_sum += sum(board[i])\n",
        "print(all_sum)"
      ],
      "execution_count": 6,
      "outputs": [
        {
          "output_type": "stream",
          "name": "stdout",
          "text": [
            "248\n"
          ]
        }
      ]
    },
    {
      "cell_type": "code",
      "metadata": {
        "id": "v5xE7Tt-moXl"
      },
      "source": [
        "def dfs(x, y) :\n",
        "  res = 1\n",
        "  board[x][y] = 0\n",
        "  for d in dir :\n",
        "    nx, ny = x + d[0], y + d[1]\n",
        "\n",
        "    if 0 <= nx < 2**n and 0 <= ny < 2**n and board[nx][ny] :\n",
        "      res += dfs(nx, ny)\n",
        "  \n",
        "  return res"
      ],
      "execution_count": 7,
      "outputs": []
    },
    {
      "cell_type": "code",
      "metadata": {
        "id": "BZsSetmzm28z"
      },
      "source": [
        "ans = 0\n",
        "for x in range(2**n) :\n",
        "  for y in range(2**n) :\n",
        "    if board[x][y] > 0 :\n",
        "      ans = max(ans, dfs(x, y))\n",
        "\n",
        "print(ans)"
      ],
      "execution_count": null,
      "outputs": []
    },
    {
      "cell_type": "code",
      "metadata": {
        "id": "AD2TcGjmWZAt"
      },
      "source": [
        ""
      ],
      "execution_count": null,
      "outputs": []
    },
    {
      "cell_type": "code",
      "metadata": {
        "id": "Y8ya1dOMPrt1"
      },
      "source": [
        "def bfs(x,y):\n",
        "    global board,n,visited,ans_sum\n",
        "\n",
        "    stack=[(x,y)]\n",
        "    area = 1\n",
        "    visited[x][y]=1\n",
        "    dx=[1,0,-1,0]\n",
        "    dy=[0,1,0,-1]\n",
        "    ans_sum += board[x][y]\n",
        "\n",
        "    while(stack):\n",
        "        cur_x,cur_y = stack.pop()\n",
        "        for i in range(4):\n",
        "            nx=cur_x+dx[i]\n",
        "            ny=cur_y+dy[i]\n",
        "            if (nx < 0 or nx >= 2 ** n or ny < 0 or ny >= 2 ** n):\n",
        "                continue\n",
        "            if(visited[nx][ny]==0 and board[nx][ny]!=0):\n",
        "                stack.append((nx,ny))\n",
        "                visited[nx][ny]=1\n",
        "                area+=1\n",
        "                ans_sum+=board[nx][ny]\n",
        "\n",
        "    return area"
      ],
      "execution_count": 146,
      "outputs": []
    },
    {
      "cell_type": "code",
      "metadata": {
        "id": "OrrMr6_je8xl"
      },
      "source": [
        "visited = [[0]*(2**n) for _ in range(2**n)]\n",
        "ans_area =-1\n",
        "\n",
        "for i in range(2**n):\n",
        "    for j in range(2**n):\n",
        "        if(board[i][j]!=0 and visited[i][j]==0):\n",
        "            ans_area = max(ans_area, bfs(i,j))"
      ],
      "execution_count": 148,
      "outputs": []
    },
    {
      "cell_type": "code",
      "metadata": {
        "colab": {
          "base_uri": "https://localhost:8080/"
        },
        "id": "SFJitrbIfLxe",
        "outputId": "3fb13dd0-a8d2-4c11-b3ac-f33ff387c43a"
      },
      "source": [
        "print(ans_area if ans_area!=-1 else 0)"
      ],
      "execution_count": 150,
      "outputs": [
        {
          "output_type": "stream",
          "name": "stdout",
          "text": [
            "248\n",
            "60\n"
          ]
        }
      ]
    },
    {
      "cell_type": "code",
      "metadata": {
        "id": "--aLOfPyfe9H"
      },
      "source": [
        ""
      ],
      "execution_count": null,
      "outputs": []
    },
    {
      "cell_type": "code",
      "metadata": {
        "id": "RfLlh-0_fe_h"
      },
      "source": [
        ""
      ],
      "execution_count": null,
      "outputs": []
    },
    {
      "cell_type": "code",
      "metadata": {
        "id": "zs_nesOKffB1"
      },
      "source": [
        ""
      ],
      "execution_count": null,
      "outputs": []
    },
    {
      "cell_type": "code",
      "metadata": {
        "colab": {
          "base_uri": "https://localhost:8080/"
        },
        "id": "yxZu0Xc8ffEZ",
        "outputId": "0747b718-af22-409d-c0f2-cfc83c494a9e"
      },
      "source": [
        "from copy import deepcopy\n",
        "#import numpy as np\n",
        "\n",
        "n,q = map(int,input().split())\n",
        "original_maps = [list(map(int,input().split())) for _ in range(0,2**n)]\n",
        "magic_level = list(map(int,input().split()))\n",
        "\n",
        "def dfs(x,y):\n",
        "    global original_maps,n,visited,ans_sum\n",
        "\n",
        "    stack=[(x,y)]\n",
        "    area = 1\n",
        "    visited[x][y]=1\n",
        "    dx=[1,0,-1,0]\n",
        "    dy=[0,1,0,-1]\n",
        "    ans_sum += original_maps[x][y]\n",
        "\n",
        "    while(stack):\n",
        "        cur_x,cur_y = stack.pop()\n",
        "        for i in range(4):\n",
        "            nx=cur_x+dx[i]\n",
        "            ny=cur_y+dy[i]\n",
        "            if (nx < 0 or nx >= 2 ** n or ny < 0 or ny >= 2 ** n):\n",
        "                continue\n",
        "            if(visited[nx][ny]==0 and original_maps[nx][ny]!=0):\n",
        "                stack.append((nx,ny))\n",
        "                visited[nx][ny]=1\n",
        "                area+=1\n",
        "                ans_sum+=original_maps[nx][ny]\n",
        "\n",
        "    return area\n",
        "\n",
        "def check_around():\n",
        "    global original_maps,n\n",
        "\n",
        "    dx = [1,0,-1,0]\n",
        "    dy = [0,1,0,-1]\n",
        "    candidate =[]\n",
        "    for i in range(2**n):\n",
        "        for j in range(2**n):\n",
        "            cnt=0\n",
        "            for k in range(4):\n",
        "                nx = i+dx[k]\n",
        "                ny = j+dy[k]\n",
        "                if(nx<0 or nx>=2**n or ny<0 or ny>=2**n):\n",
        "                    continue\n",
        "                if(original_maps[nx][ny]!=0):\n",
        "                    cnt+=1\n",
        "            if(cnt<3 and original_maps[i][j]!=0):\n",
        "                candidate.append((i,j))\n",
        "    for location in candidate:\n",
        "        x,y = location\n",
        "        if(original_maps[x][y]>0):\n",
        "            original_maps[x][y]-=1\n",
        "\n",
        "#print(np.array(original_maps))\n",
        "\n",
        "for L in magic_level:\n",
        "    variable_L = 2**L\n",
        "    variable_N = 2**n\n",
        "    copy_maps = [[0]*(2**n) for _ in range(2**n)]\n",
        "    if(L==0):\n",
        "        check_around()\n",
        "        continue\n",
        "    for i in range(0,2**n,2**L):\n",
        "        for j in range(0,2**n,2**L):\n",
        "            #시작점\n",
        "            for l in range(0,2**L):\n",
        "                for k in range(0,2**L):\n",
        "                    #부분 격자 속 loop\n",
        "                    # print(i,j,l,k)\n",
        "                    # print(variable_L)\n",
        "                    # print('original',i+l,j+k,original_maps[i+l][j+k],end=' ')\n",
        "                    # print('trans',i+k,j+((variable_L) -1)-l)\n",
        "                    copy_maps[i+k][j+((2**L) -1)-l] = original_maps[i+l][j+k]\n",
        "    #print(np.array(copy_maps))\n",
        "    #격자 회전완료\n",
        "    original_maps = deepcopy(copy_maps)\n",
        "    check_around()\n",
        "    #인접 조건 얼음감소 완료\n",
        "    # print(np.array(original_maps))\n",
        "    # print()\n",
        "\n",
        "print(original_maps)\n",
        "visited = [[0]*(2**n) for _ in range(2**n)]\n",
        "ans_sum =0\n",
        "ans_area =-1\n",
        "\n",
        "for i in range(2**n):\n",
        "    for j in range(2**n):\n",
        "        if(original_maps[i][j]!=0 and visited[i][j]==0):\n",
        "            ans_area = max(ans_area,dfs(i,j))\n",
        "\n",
        "print(ans_sum)\n",
        "print(ans_area if ans_area!=-1 else 0)"
      ],
      "execution_count": 154,
      "outputs": [
        {
          "output_type": "stream",
          "name": "stdout",
          "text": [
            "3 10\n",
            "1 2 3 4 5 6 7 8\n",
            "8 7 6 5 4 3 2 1\n",
            "1 2 3 4 5 6 7 8\n",
            "8 7 6 5 4 3 2 1\n",
            "1 2 3 4 5 6 7 8\n",
            "8 7 6 5 4 3 2 1\n",
            "1 2 3 4 5 6 7 8\n",
            "8 7 6 5 4 3 2 1\n",
            "1 2 0 3 2 1 2 3 2 3\n",
            "[[0, 6, 2, 5, 2, 4, 2, 5], [1, 8, 1, 8, 1, 8, 1, 7], [1, 5, 4, 5, 3, 5, 4, 5], [3, 6, 2, 5, 2, 6, 3, 4], [4, 3, 6, 2, 5, 2, 6, 3], [5, 4, 5, 3, 5, 4, 5, 1], [7, 1, 8, 1, 8, 1, 8, 1], [5, 2, 4, 2, 5, 2, 6, 0]]\n",
            "248\n",
            "62\n"
          ]
        }
      ]
    },
    {
      "cell_type": "code",
      "metadata": {
        "id": "9-Y3UjQ8fmIQ"
      },
      "source": [
        "3 10\n",
        "1 2 3 4 5 6 7 8\n",
        "8 7 6 5 4 3 2 1\n",
        "1 2 3 4 5 6 7 8\n",
        "8 7 6 5 4 3 2 1\n",
        "1 2 3 4 5 6 7 8\n",
        "8 7 6 5 4 3 2 1\n",
        "1 2 3 4 5 6 7 8\n",
        "8 7 6 5 4 3 2 1\n",
        "1 2 0 3 2 1 2 3 2 3"
      ],
      "execution_count": null,
      "outputs": []
    }
  ]
}