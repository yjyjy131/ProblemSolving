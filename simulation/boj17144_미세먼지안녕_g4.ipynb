{
  "nbformat": 4,
  "nbformat_minor": 0,
  "metadata": {
    "colab": {
      "name": "boj17144_미세먼지안녕_g4.ipynb",
      "provenance": [],
      "collapsed_sections": []
    },
    "kernelspec": {
      "display_name": "Python 3",
      "name": "python3"
    },
    "language_info": {
      "name": "python"
    }
  },
  "cells": [
    {
      "cell_type": "markdown",
      "metadata": {
        "id": "jtf7Q4Hv_tob"
      },
      "source": [
        "https://www.acmicpc.net/problem/17144\n"
      ]
    },
    {
      "cell_type": "markdown",
      "metadata": {
        "id": "7a6khXj5kMTw"
      },
      "source": [
        "Concept. simulation ✨\n",
        "\n",
        "확산될 수 있는 방향만큼 미세먼지 확산량을 나누게 되는데, 직접 이 수를 세서 체크하는 것이 아니라 **5로 나눈 값을 각 방향을 돌때마다 한 번씩만 빼주면 된다.**\n",
        "\n",
        "공기청정기로 미세먼지가 움직일 때 미세먼지 자체가 한칸씩 이동하는 것"
      ]
    },
    {
      "cell_type": "code",
      "metadata": {
        "colab": {
          "base_uri": "https://localhost:8080/"
        },
        "id": "_mSkGfkfqfxR",
        "outputId": "0c9b5aab-3d5c-4184-84a9-06e7dbbddb3a"
      },
      "source": [
        "n, m, t = map(int, input().split())"
      ],
      "execution_count": null,
      "outputs": [
        {
          "name": "stdout",
          "output_type": "stream",
          "text": [
            "7 8 2\n"
          ]
        }
      ]
    },
    {
      "cell_type": "code",
      "metadata": {
        "id": "RZPrJguiqfzV"
      },
      "source": [
        "board = []"
      ],
      "execution_count": null,
      "outputs": []
    },
    {
      "cell_type": "code",
      "metadata": {
        "id": "91C2VpHVqf1U"
      },
      "source": [
        "for _ in range(n) :\n",
        "  board.append(list(map(int, input().split())))"
      ],
      "execution_count": null,
      "outputs": []
    },
    {
      "cell_type": "code",
      "metadata": {
        "id": "HSn6uptHiyHc"
      },
      "source": [
        ""
      ],
      "execution_count": null,
      "outputs": []
    },
    {
      "cell_type": "code",
      "metadata": {
        "id": "3jk18FINTC4y"
      },
      "source": [
        "def dust() :\n",
        "  dp = [[0] * m for _ in range(n)]\n",
        "\n",
        "  for i in range(n) :\n",
        "    for j in range(m) :\n",
        "\n",
        "      # 5로 나눈 값이 확산되는 먼지이므로 보드 값이 5 이상일때만 효과 있음\n",
        "      if board[i][j] >= 5 :\n",
        "        val = 0\n",
        "        # 상\n",
        "        if i-1 >= 0 and board[i-1][j] != -1 :\n",
        "          dp[i-1][j] += board[i][j] // 5\n",
        "          val += board[i][j] // 5\n",
        "\n",
        "        # 하\n",
        "        if i+1 < n and board[i+1][j] != -1 :\n",
        "          dp[i+1][j] += board[i][j] //5 \n",
        "          val += board[i][j] // 5\n",
        "\n",
        "        # 좌\n",
        "        if j-1 >= 0 and board[i][j-1] != - 1:\n",
        "          dp[i][j-1] += board[i][j] // 5\n",
        "          val += board[i][j] // 5\n",
        "\n",
        "        # 우\n",
        "        if j+1 < m and board[i][j+1] != - 1:\n",
        "          dp[i][j+1] += board[i][j] // 5\n",
        "          val += board[i][j] // 5\n",
        "\n",
        "        dp[i][j] -= val \n",
        "\n",
        "  for i in range(n) :\n",
        "    for j in range(m) :\n",
        "      board[i][j] += dp[i][j]"
      ],
      "execution_count": 100,
      "outputs": []
    },
    {
      "cell_type": "code",
      "metadata": {
        "id": "0MuaoEkGTLpD"
      },
      "source": [
        "def circulate() :\n",
        "  # 아래 \n",
        "  tmp = board[up[0]][m - 1]\n",
        "  for i in range(m-1, 1, -1) :\n",
        "    board[up[0]][i] = board[up[0]][i-1]\n",
        "  board[up[0]][1] = 0\n",
        "\n",
        "  # 오른쪽\n",
        "  tmp_1 = board[0][m-1]\n",
        "  for i in range(up[0] - 1) :\n",
        "    board[i][m-1] = board[i+1][m-1]\n",
        "  board[up[0]-1][m-1] = tmp\n",
        "\n",
        "  # 위쪽\n",
        "  tmp_2 = board[0][0]\n",
        "  for i in range(m-2) :\n",
        "    board[0][i] = board[0][i+1]\n",
        "  board[0][m-2] = tmp_1\n",
        "\n",
        "  # 왼쪽\n",
        "  for i in range(up[0]-1, 1, -1) :\n",
        "    board[i][0] = board[i-1][0]\n",
        "  board[1][0] = tmp_2\n",
        "\n",
        "\n",
        "  # down\n",
        "  tmp = board[down[0]][m-1]\n",
        "  for i in range(m-1, 1, -1) :\n",
        "    board[down[0]][i] = board[down[0]][i-1]\n",
        "  board[down[0]][1] = 0\n",
        "\n",
        "  tmp_1 = board[n-1][m-1]\n",
        "  for i in range(n-1, down[0]+1, -1):\n",
        "    board[i][m-1] = board[i-1][m-1]\n",
        "  board[down[0] + 1][m-1] = tmp\n",
        "\n",
        "  tmp_2 = board[n-1][0]\n",
        "  for i in range(m-2) :\n",
        "    board[n-1][i] = board[n-1][i+1]\n",
        "  board[n-1][m-2] = tmp_1\n",
        "\n",
        "  for i in range(down[0]+1, n-1) :\n",
        "    board[i][0] = board[i+1][0]\n",
        "  board[n-2][0] = tmp_2"
      ],
      "execution_count": 101,
      "outputs": []
    },
    {
      "cell_type": "code",
      "metadata": {
        "id": "jv-nCHBVjK4Y"
      },
      "source": [
        ""
      ],
      "execution_count": null,
      "outputs": []
    },
    {
      "cell_type": "code",
      "metadata": {
        "id": "iSCLLJjMiyJi"
      },
      "source": [
        "for i in range(n):\n",
        "  if board[i][0] == -1:\n",
        "    up, down =  [i, 0], [i+1, 0] "
      ],
      "execution_count": 103,
      "outputs": []
    },
    {
      "cell_type": "code",
      "metadata": {
        "id": "kXkaMmS6jK6l"
      },
      "source": [
        "for i in range(t):\n",
        "  dust()\n",
        "  circulate()"
      ],
      "execution_count": 104,
      "outputs": []
    },
    {
      "cell_type": "code",
      "metadata": {
        "colab": {
          "base_uri": "https://localhost:8080/"
        },
        "id": "diqiO-AijMxf",
        "outputId": "7307507c-5d59-417d-90ca-868fb206f15e"
      },
      "source": [
        "res = 0\n",
        "for i in range(n):\n",
        "  for j in range(m):\n",
        "    if board[i][j] > 0:\n",
        "      res += board[i][j]\n",
        "print(res+1)"
      ],
      "execution_count": 105,
      "outputs": [
        {
          "output_type": "stream",
          "name": "stdout",
          "text": [
            "188\n"
          ]
        }
      ]
    }
  ]
}