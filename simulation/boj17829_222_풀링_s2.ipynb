{
  "nbformat": 4,
  "nbformat_minor": 0,
  "metadata": {
    "colab": {
      "name": "boj17829_222-풀링_s2.ipynb",
      "provenance": [],
      "collapsed_sections": []
    },
    "kernelspec": {
      "display_name": "Python 3",
      "name": "python3"
    },
    "language_info": {
      "name": "python"
    }
  },
  "cells": [
    {
      "cell_type": "markdown",
      "metadata": {
        "id": "jtf7Q4Hv_tob"
      },
      "source": [
        "https://www.acmicpc.net/problem/17829"
      ]
    },
    {
      "cell_type": "markdown",
      "metadata": {
        "id": "5YT5dwCB7gDL"
      },
      "source": [
        "Concept. Implementation\n"
      ]
    },
    {
      "cell_type": "code",
      "metadata": {
        "id": "YJm78DrZjVCI"
      },
      "source": [
        "import copy"
      ],
      "execution_count": 31,
      "outputs": []
    },
    {
      "cell_type": "code",
      "metadata": {
        "colab": {
          "base_uri": "https://localhost:8080/"
        },
        "id": "kQUjX4QWbltS",
        "outputId": "09f52109-a4ae-49c6-bc7a-3eed70167b3d"
      },
      "source": [
        "n = int(input())"
      ],
      "execution_count": null,
      "outputs": [
        {
          "name": "stdout",
          "output_type": "stream",
          "text": [
            "4\n"
          ]
        }
      ]
    },
    {
      "cell_type": "code",
      "metadata": {
        "id": "cy3cWKmibq3v"
      },
      "source": [
        "board = []"
      ],
      "execution_count": null,
      "outputs": []
    },
    {
      "cell_type": "code",
      "metadata": {
        "colab": {
          "base_uri": "https://localhost:8080/"
        },
        "id": "-OjvDobUbq5q",
        "outputId": "7a08a83b-55d4-49e8-9e4c-5cdac077f85c"
      },
      "source": [
        "for _ in range(n) :\n",
        "  board.append(list(map(int, input().split())))"
      ],
      "execution_count": null,
      "outputs": [
        {
          "name": "stdout",
          "output_type": "stream",
          "text": [
            "-6 -8 7 -4\n",
            "-5 -5 14 11\n",
            "11 11 -1 -1\n",
            "4 9 -2 -4\n"
          ]
        }
      ]
    },
    {
      "cell_type": "code",
      "metadata": {
        "id": "0ZvS40nbi0E7"
      },
      "source": [
        "board = [[-6, -8, 7, -4], [-5, -5, 14, 11], [11, 11, -1, -1], [4, 9, -2, -4]]"
      ],
      "execution_count": 83,
      "outputs": []
    },
    {
      "cell_type": "code",
      "metadata": {
        "id": "B6ohvt8Mbq8E"
      },
      "source": [
        "while 1:\n",
        "  new_board = []\n",
        "  for i in range(0, len(board), 2) :\n",
        "    curr = []\n",
        "    for j in range(0, len(board), 2) :\n",
        "      curr_v = []\n",
        "      curr_v.append(board[i][j])\n",
        "      curr_v.append(board[i+1][j])\n",
        "      curr_v.append(board[i][j+1])\n",
        "      curr_v.append(board[i+1][j+1])\n",
        "\n",
        "      curr_v.sort(reverse=True)\n",
        "      curr.append(curr_v[1])\n",
        "    new_board.append(curr)\n",
        "\n",
        "  board = copy.deepcopy(new_board)\n",
        "\n",
        "  if len(new_board) == 1 : \n",
        "    print(new_board[0][0])\n",
        "    break"
      ],
      "execution_count": null,
      "outputs": []
    },
    {
      "cell_type": "code",
      "metadata": {
        "id": "_wUA_Fy6jwml"
      },
      "source": [
        ""
      ],
      "execution_count": null,
      "outputs": []
    }
  ]
}