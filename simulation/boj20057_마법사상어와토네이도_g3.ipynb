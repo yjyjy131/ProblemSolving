{
  "nbformat": 4,
  "nbformat_minor": 0,
  "metadata": {
    "colab": {
      "name": "boj20057_마법사상어와토네이도_g3.ipynb",
      "provenance": [],
      "collapsed_sections": []
    },
    "kernelspec": {
      "display_name": "Python 3",
      "name": "python3"
    },
    "language_info": {
      "name": "python"
    }
  },
  "cells": [
    {
      "cell_type": "markdown",
      "metadata": {
        "id": "jtf7Q4Hv_tob"
      },
      "source": [
        "https://www.acmicpc.net/problem/20057"
      ]
    },
    {
      "cell_type": "markdown",
      "metadata": {
        "id": "7a6khXj5kMTw"
      },
      "source": [
        "Concept. simulation ✨✨"
      ]
    },
    {
      "cell_type": "code",
      "metadata": {
        "id": "TJ-tVSGJ5YgA"
      },
      "source": [
        ""
      ],
      "execution_count": null,
      "outputs": []
    },
    {
      "cell_type": "code",
      "metadata": {
        "id": "5mVZh2CsDI_G"
      },
      "source": [
        "def move(cnt, dx, dy, direction): \n",
        "  for _ in range(cnt + 1): \n",
        "    sx, sy = init['sx'] + dx, init['sy'] + dy \n",
        "    init['sx'], init['sy'] = sx, sy \n",
        "    \n",
        "    if sx < 0 or sy < 0: \n",
        "      break \n",
        "    \n",
        "    spreads = 0 \n",
        "    for dx, dy, r in rate[direction]: \n",
        "      nx = sx + dx \n",
        "      ny = sy + dy \n",
        "      \n",
        "      if r == 0: \n",
        "        sand = board[sx][sy] - spreads \n",
        "      else: \n",
        "        sand = int(board[sx][sy] * r) \n",
        "\n",
        "\n",
        "      if 0 <= nx < N and 0 <= ny < N: \n",
        "        board[nx][ny] += sand \n",
        "      else: \n",
        "        init['res'] += sand \n",
        "        \n",
        "      spreads += sand \n",
        "    "
      ],
      "execution_count": null,
      "outputs": []
    },
    {
      "cell_type": "code",
      "metadata": {
        "id": "s654rt0EDJBV"
      },
      "source": [
        "init = {'sx': N//2, 'sy': N//2, 'res': 0} \n",
        " \n",
        "left = [(-2, 0, 0.02), (2, 0, 0.02), (-1, -1, 0.1), (-1, 0, 0.07), (-1, 1, 0.01), (1, -1, 0.1), (1, 0, 0.07), (1, 1, 0.01), (0, -2, 0.05), (0, -1, 0)] \n",
        "right = [(x, -y, z) for x, y, z in left] \n",
        "down = [(-y, x, z) for x, y, z in left] \n",
        "up = [(-x, y, z) for x, y, z in down] "
      ],
      "execution_count": null,
      "outputs": []
    },
    {
      "cell_type": "code",
      "metadata": {
        "id": "K8FdOF0RD16f"
      },
      "source": [
        "rate = {'left': left, 'right': right, 'down': down, 'up': up} "
      ],
      "execution_count": null,
      "outputs": []
    },
    {
      "cell_type": "code",
      "metadata": {
        "colab": {
          "base_uri": "https://localhost:8080/"
        },
        "id": "c_mdZv9aD2Ad",
        "outputId": "39c69e12-17fa-426b-8f6a-7dde1da520fa"
      },
      "source": [
        "N = int(input()) \n",
        "board = [list(map(int, input().split())) for _ in range(N)] "
      ],
      "execution_count": null,
      "outputs": [
        {
          "name": "stdout",
          "output_type": "stream",
          "text": [
            "5\n",
            "0 0 0 0 0\n",
            "0 100 0 0 0\n",
            "0 0 0 0 0\n",
            "0 0 0 0 0\n",
            "0 0 0 0 0\n"
          ]
        }
      ]
    },
    {
      "cell_type": "code",
      "metadata": {
        "id": "AkSC9E2DDJDg"
      },
      "source": [
        "for i in range(N): \n",
        "  if i % 2 == 0: \n",
        "    move(i, 0, -1, 'left') \n",
        "    move(i, 1, 0, 'down') \n",
        "  else: \n",
        "    move(i, 0, 1, 'right') \n",
        "    move(i, -1, 0, 'up')"
      ],
      "execution_count": null,
      "outputs": []
    },
    {
      "cell_type": "code",
      "metadata": {
        "id": "cBqb-NBpDJGB"
      },
      "source": [
        "print(init['res'])"
      ],
      "execution_count": null,
      "outputs": []
    },
    {
      "cell_type": "code",
      "metadata": {
        "id": "MPYl86H9DvTc"
      },
      "source": [
        ""
      ],
      "execution_count": null,
      "outputs": []
    },
    {
      "cell_type": "code",
      "metadata": {
        "id": "LUxaiLkL5YrT"
      },
      "source": [
        ""
      ],
      "execution_count": null,
      "outputs": []
    },
    {
      "cell_type": "markdown",
      "metadata": {
        "id": "JnYZYk5xbdo3"
      },
      "source": [
        "## 틀린 답안"
      ]
    },
    {
      "cell_type": "code",
      "metadata": {
        "colab": {
          "base_uri": "https://localhost:8080/"
        },
        "id": "tmtzZ51VW2fT",
        "outputId": "f51e97d6-5d66-4168-8909-f308ca64942b"
      },
      "source": [
        "n = int(input())"
      ],
      "execution_count": null,
      "outputs": [
        {
          "name": "stdout",
          "output_type": "stream",
          "text": [
            "5\n"
          ]
        }
      ]
    },
    {
      "cell_type": "code",
      "metadata": {
        "colab": {
          "base_uri": "https://localhost:8080/"
        },
        "id": "L1wVUFAcW2hh",
        "outputId": "3d63ba2d-5d92-4097-ccf8-2adae77c81ca"
      },
      "source": [
        "board = []\n",
        "for _ in range(n) :\n",
        "  board.append(list(map(int, input().split())))"
      ],
      "execution_count": null,
      "outputs": [
        {
          "name": "stdout",
          "output_type": "stream",
          "text": [
            "0 0 0\n",
            "100 0 0\n",
            "0 0 0\n"
          ]
        }
      ]
    },
    {
      "cell_type": "code",
      "metadata": {
        "id": "-gXy50b3W2jr"
      },
      "source": [
        "board = [[0, 0, 0, 0, 0],\n",
        " [0, 0, 0, 0, 0],\n",
        " [0, 100, 0, 0, 0],\n",
        " [0, 0, 0, 0, 0],\n",
        " [0, 0, 0, 0, 0]]"
      ],
      "execution_count": null,
      "outputs": []
    },
    {
      "cell_type": "code",
      "metadata": {
        "id": "OsztIo3k4tDC"
      },
      "source": [
        ""
      ],
      "execution_count": null,
      "outputs": []
    },
    {
      "cell_type": "code",
      "metadata": {
        "id": "BZgYAawHnyRJ"
      },
      "source": [
        "all = 0\n",
        "for i in range(n) : all += sum(board[i])"
      ],
      "execution_count": null,
      "outputs": []
    },
    {
      "cell_type": "code",
      "metadata": {
        "id": "pkG7bBv7YPuG"
      },
      "source": [
        "dir = ['l', 'd', 'r', 'u']\n",
        "next_dir = dict({'l':'d', 'd':'r', 'r':'u', 'u':'l'})\n",
        "go_val = dict({'l': (0, -1), 'd': (1, 0), 'r': (0, 1), 'u': (-1, 0)})"
      ],
      "execution_count": null,
      "outputs": []
    },
    {
      "cell_type": "code",
      "metadata": {
        "id": "w1PLuGMMXH3E"
      },
      "source": [
        "curr_go = 1\n",
        "curr_dir = 'u'"
      ],
      "execution_count": null,
      "outputs": []
    },
    {
      "cell_type": "code",
      "metadata": {
        "id": "d-xyADnqbIwU"
      },
      "source": [
        "curr_x = n // 2 \n",
        "curr_y = n // 2 "
      ],
      "execution_count": null,
      "outputs": []
    },
    {
      "cell_type": "code",
      "metadata": {
        "id": "oIJ5J9pPdXjO"
      },
      "source": [
        "end = False\n",
        "res = 0"
      ],
      "execution_count": null,
      "outputs": []
    },
    {
      "cell_type": "code",
      "metadata": {
        "id": "Yvkb1C_76sFO"
      },
      "source": [
        ""
      ],
      "execution_count": null,
      "outputs": []
    },
    {
      "cell_type": "code",
      "metadata": {
        "id": "EuzR_SLrXGIn"
      },
      "source": [
        "# go_left(curr_x, curr_y)\n",
        "\n",
        "for go in range(1, n+1) :\n",
        "  if end : break\n",
        "\n",
        "  for _ in range(2) :\n",
        "    curr_dir = next_dir.get(curr_dir)\n",
        "    go_x, go_y = go_val.get(curr_dir)\n",
        "\n",
        "    for __ in range(go) :\n",
        "      # print(f'{curr_x} {curr_y} / {curr_dir}')\n",
        "      # print(board)\n",
        "      # print()\n",
        "      if curr_dir == 'l' : go_left(curr_x, curr_y)\n",
        "      elif curr_dir == 'd' : go_down(curr_x, curr_y)\n",
        "      elif curr_dir == 'r' : go_right(curr_x, curr_y)\n",
        "      elif curr_dir == 'u' : go_up(curr_x, curr_y)\n",
        "\n",
        "      new_x = curr_x + go_x \n",
        "      new_y = curr_y + go_y\n",
        "\n",
        "      if 0 <= new_x < n and 0 <= new_y < n :\n",
        "\n",
        "        curr_x = new_x\n",
        "        curr_y = new_y\n",
        "\n",
        "      if curr_x == 0 and curr_y == 0 : \n",
        "        end = True\n",
        "        break\n",
        "\n",
        "    if end : break\n",
        "\n",
        "    "
      ],
      "execution_count": null,
      "outputs": []
    },
    {
      "cell_type": "code",
      "metadata": {
        "id": "dQNvu-Qkz1iR"
      },
      "source": [
        "go_left(0, 0)"
      ],
      "execution_count": null,
      "outputs": []
    },
    {
      "cell_type": "code",
      "metadata": {
        "colab": {
          "base_uri": "https://localhost:8080/"
        },
        "id": "BqgS8aBFXGK_",
        "outputId": "fbf49d13-b6b0-4afe-8512-e47ff1c57b6d"
      },
      "source": [
        "part = 0\n",
        "for i in range(n) : part += sum(board[i])\n",
        "\n",
        "print(all - part)"
      ],
      "execution_count": null,
      "outputs": [
        {
          "output_type": "stream",
          "name": "stdout",
          "text": [
            "81\n"
          ]
        }
      ]
    },
    {
      "cell_type": "code",
      "metadata": {
        "colab": {
          "base_uri": "https://localhost:8080/"
        },
        "id": "NJEnFD3xFuXx",
        "outputId": "e4190d5a-a9d4-4bb1-9450-1c67f2fb1bfa"
      },
      "source": [
        "board"
      ],
      "execution_count": null,
      "outputs": [
        {
          "output_type": "execute_result",
          "data": {
            "text/plain": [
              "[[0, 0, 0, 0, 0],\n",
              " [0, 0, 0, 0, 0],\n",
              " [0, 4, 1, 0, 0],\n",
              " [0, 10, 3, 1, 0],\n",
              " [0, 0, 0, 0, 0]]"
            ]
          },
          "metadata": {},
          "execution_count": 568
        }
      ]
    },
    {
      "cell_type": "code",
      "metadata": {
        "colab": {
          "base_uri": "https://localhost:8080/"
        },
        "id": "HBxd5R1QFtA0",
        "outputId": "8c54f2e4-aee6-464e-f7e3-652c6846c254"
      },
      "source": [
        "res"
      ],
      "execution_count": null,
      "outputs": [
        {
          "output_type": "execute_result",
          "data": {
            "text/plain": [
              "52"
            ]
          },
          "metadata": {},
          "execution_count": 553
        }
      ]
    },
    {
      "cell_type": "code",
      "metadata": {
        "id": "YzSCV6D57Q9E"
      },
      "source": [
        ""
      ],
      "execution_count": null,
      "outputs": []
    },
    {
      "cell_type": "code",
      "metadata": {
        "id": "q6IA33WdfX2W"
      },
      "source": [
        "def go_left(c_x, c_y) :\n",
        "  global res\n",
        "\n",
        "  if 0 <= c_x < n and 0 <= c_y-1 < n :\n",
        "    total = board[c_x][c_y-1]\n",
        "    costs = 0\n",
        "\n",
        "    tmp = [[1, (-1, 0), (1, 0)],\n",
        "          [2, (-2, -1), (2, -1)],\n",
        "          [7, (-1, -1), (1, -1)],\n",
        "          [10, (-1, -2), (1, -2)]]\n",
        "\n",
        "    for t in tmp :\n",
        "      v, t1, t2 = t\n",
        "      if 0 <= c_x + t1[0] < n and 0 <= c_y + t1[1] < n :\n",
        "        board[c_x + t1[0]][c_y + t1[1]] += int(total * v // 100)\n",
        "        costs += int(total * v // 100 )\n",
        "      else : \n",
        "        res += int(total * v // 100 )\n",
        "\n",
        "      if 0 <= c_x + t2[0] < n and 0 <= c_y + t2[1] < n :\n",
        "        board[c_x + t2[0]][c_y + t2[1]] += int(total * v // 100)\n",
        "        costs += int(total * v // 100 )\n",
        "      else : \n",
        "        res += int(total * v // 100 )\n",
        "\n",
        "\n",
        "    if 0 <= c_x < n and 0 <= c_y - 3 < n :\n",
        "      board[c_x][c_y-3] += int(total * 5 // 100)\n",
        "      costs += int(total * 5 // 100)\n",
        "    else :\n",
        "      res += int(total * 5 // 100)\n",
        "\n",
        "    if 0 <= c_x < n and 0 <= c_y - 2 < n :\n",
        "      board[c_x][c_y-2] += total - costs\n",
        "\n",
        "    board[c_x][c_y-1] = 0  \n",
        "\n",
        "  # 바람이 c => b 로 움직이면\n",
        "  # b의 모든 모래가 비율만큼 이동\n",
        "  # 0 0  2 0 0\n",
        "  # 0 10 7 1 0\n",
        "  # 5 a  b c 0\n",
        "  # 0 10 7 1 0\n",
        "  # 0 0  2 0 0"
      ],
      "execution_count": null,
      "outputs": []
    },
    {
      "cell_type": "code",
      "metadata": {
        "id": "QBvSa9dultEL"
      },
      "source": [
        "def go_down(c_x, c_y) :\n",
        "  global res\n",
        "\n",
        "  if 0 <= c_x+1 < n and 0 <= c_y < n :\n",
        "    total = board[c_x+1][c_y]\n",
        "    costs = 0\n",
        "\n",
        "    tmp = [[1, (0, -1), (0, 1)],\n",
        "          [2, (1, -2), (1, 2)],\n",
        "          [7, (1, 1), (1, -1)],\n",
        "          [10, (2, -1), (2, 1)]]\n",
        "\n",
        "    for t in tmp :\n",
        "      v, t1, t2 = t\n",
        "      if 0 <= c_x + t1[0] < n and 0 <= c_y + t1[1] < n :\n",
        "        board[c_x + t1[0]][c_y + t1[1]] += int(total * v // 100)\n",
        "        costs += int(total * v // 100 )\n",
        "      else :\n",
        "        res += int(total * v // 100 )\n",
        "\n",
        "      if 0 <= c_x + t2[0] < n and 0 <= c_y + t2[1] < n :\n",
        "        board[c_x + t2[0]][c_y + t2[1]] += int(total * v // 100)\n",
        "        costs += int(total * v // 100 )\n",
        "      else :\n",
        "        res += int(total * v // 100 )\n",
        "\n",
        "    if 0 <= c_x + 3 < n and 0 <= c_y < n :\n",
        "      board[c_x + 3][c_y] += int(total * 5 // 100)\n",
        "      costs += int(total * 5 // 100)\n",
        "    else : \n",
        "      res += int(total * 5 // 100)\n",
        "\n",
        "    if 0 <= c_x+2 < n and 0 <= c_y < n :\n",
        "      board[c_x+2][c_y] += total - costs\n",
        "\n",
        "    board[c_x+1][c_y] = 0  \n",
        "\n",
        "#   방향이 아래쪽일때 \n",
        "#   1 : 0 -1 / 0 1\n",
        "#   2 : 1 -2 / 1 2\n",
        "#   7 : 1 1 / 1 -1\n",
        "#   10 : 2 -1 / 2 1\n",
        "#   5 : 3 0 \n",
        "#   a\n",
        "#   b\n",
        "\n",
        "# 0 0  0 0 0\n",
        "# 0 1  c 1 0\n",
        "# 2 7  b 7 2\n",
        "# 0 10 a 10 0\n",
        "# 0 0  5 0 0"
      ],
      "execution_count": null,
      "outputs": []
    },
    {
      "cell_type": "code",
      "metadata": {
        "id": "ADh7Tr6ufn2N"
      },
      "source": [
        "def go_right(c_x, c_y) :\n",
        "  global res\n",
        "\n",
        "#   방향이 오른쪽일때 \n",
        "#   1 : 1 0 / -1 0\n",
        "#   2 : -2 1 / 2 1\n",
        "#   7 : 1 1 / -1 1\n",
        "#   10 : 1 2 / -1 2\n",
        "#   5 : 0 3\n",
        "#   a\n",
        "#   b\n",
        "\n",
        "# 0 0 2 0 0 \n",
        "# 0 1 7 10 0\n",
        "# 0 c b a  5\n",
        "# 0 1 7 10 0\n",
        "# 0 0 2 0 0\n",
        "\n",
        "  if 0 <= c_x < n and 0 <= c_y+1 < n :\n",
        "    total = board[c_x][c_y+1]\n",
        "    costs = 0\n",
        "\n",
        "    tmp = [[1, (1, 0), (-1, 0)],\n",
        "          [2, (-2, 1), (2, 1)],\n",
        "          [7, (1, 1), (-1, 1)],\n",
        "          [10, (1, 2), (-1, 2)]]\n",
        "\n",
        "    for t in tmp :\n",
        "      v, t1, t2 = t\n",
        "      if 0 <= c_x + t1[0] < n and 0 <= c_y + t1[1] < n :\n",
        "        board[c_x + t1[0]][c_y + t1[1]] += int(total * v // 100)\n",
        "        costs += int(total * v // 100 )\n",
        "      else :\n",
        "        res += int(total * v // 100 )\n",
        "\n",
        "      if 0 <= c_x + t2[0] < n and 0 <= c_y + t2[1] < n :\n",
        "        board[c_x + t2[0]][c_y + t2[1]] += int(total * v // 100)\n",
        "        costs += int(total * v // 100 )\n",
        "      else :\n",
        "        res += int(total * v // 100 )\n",
        "\n",
        "\n",
        "    if 0 <= c_x < n and 0 <= c_y+3 < n :\n",
        "      board[c_x][c_y+3] += int(total * 5 // 100)\n",
        "      costs += int(total * 5 // 100)\n",
        "    else :\n",
        "      res += int(total * 5 // 100 )\n",
        "\n",
        "    if 0 <= c_x < n and 0 <= c_y+2 < n :\n",
        "      board[c_x][c_y+2] += total - costs\n",
        "\n",
        "    board[c_x][c_y+1] = 0  "
      ],
      "execution_count": null,
      "outputs": []
    },
    {
      "cell_type": "code",
      "metadata": {
        "id": "4_0LXO_sfuzj"
      },
      "source": [
        "def go_up(c_x, c_y) :\n",
        "  global res\n",
        "#   방향이 위쪽일때 \n",
        "#   1 : 0 1 / 0 -1\n",
        "#   2 : -1 -2 / -1 2\n",
        "#   7 : -1 -1 / -1 1\n",
        "#   10 : -2 -1 / -2 1\n",
        "#   5 : -3 0\n",
        "#   a\n",
        "#   b\n",
        "\n",
        "# 0 0 5 0 0 \n",
        "# 0 10 a 10 0\n",
        "# 2 7 b 7 2\n",
        "# 0 1 c 1 0 \n",
        "# 0 0 0 0 0\n",
        "\n",
        "  if 0 <= c_x-1 < n and 0 <= c_y < n :\n",
        "    total = board[c_x-1][c_y]\n",
        "    costs = 0\n",
        "\n",
        "    tmp = [[1, (0, 1), (0, -1)],\n",
        "          [2, (-1, -2), (-1, 2)],\n",
        "          [7, (-1, -1), (-1, 1)],\n",
        "          [10, (-2, -1), (-2, 1)]]\n",
        "\n",
        "    for t in tmp :\n",
        "      v, t1, t2 = t\n",
        "      if 0 <= c_x + t1[0] < n and 0 <= c_y + t1[1] < n :\n",
        "        board[c_x + t1[0]][c_y + t1[1]] += int(total * v // 100)\n",
        "        costs += int(total * v // 100 )\n",
        "      else :\n",
        "        res += int(total * v // 100 )\n",
        "\n",
        "      if 0 <= c_x + t2[0] < n and 0 <= c_y + t2[1] < n :\n",
        "        board[c_x + t2[0]][c_y + t2[1]] += int(total * v // 100)\n",
        "        costs += int(total * v // 100 )\n",
        "      else :\n",
        "        res += int(total * v // 100 )\n",
        "\n",
        "    if 0 <= c_x-3 < n and 0 <= c_y < n :\n",
        "      board[c_x-3][c_y] += int(total * 5 // 100)\n",
        "      costs += int(total * 5 // 100)\n",
        "    else :\n",
        "      res += int(total * 5 // 100 )\n",
        "\n",
        "    if 0 <= c_x-2 < n and 0 <= c_y < n :\n",
        "      board[c_x-2][c_y] += total - costs\n",
        "\n",
        "    board[c_x-1][c_y] = 0  "
      ],
      "execution_count": null,
      "outputs": []
    }
  ]
}