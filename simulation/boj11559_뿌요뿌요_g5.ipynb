{
  "nbformat": 4,
  "nbformat_minor": 0,
  "metadata": {
    "colab": {
      "name": "boj11559_뿌요뿌요_g5.ipynb",
      "provenance": [],
      "collapsed_sections": []
    },
    "kernelspec": {
      "display_name": "Python 3",
      "name": "python3"
    },
    "language_info": {
      "name": "python"
    }
  },
  "cells": [
    {
      "cell_type": "markdown",
      "metadata": {
        "id": "jtf7Q4Hv_tob"
      },
      "source": [
        "https://www.acmicpc.net/problem/11559"
      ]
    },
    {
      "cell_type": "markdown",
      "metadata": {
        "id": "5YT5dwCB7gDL"
      },
      "source": [
        "Concept. BFS & Simulation\n",
        "\n",
        "1 ) 제거해야할 뿌요뿌요를 탐색할 때는 BFS 사용\n",
        "\n",
        "2 ) 공중에 떠있는 뿌요뿌요를 바닥으로 내릴때에는 deque 를 이용한 Simulation 구현"
      ]
    },
    {
      "cell_type": "code",
      "metadata": {
        "id": "Q74TLf5ACbn6"
      },
      "source": [
        "from collections import deque"
      ],
      "execution_count": 161,
      "outputs": []
    },
    {
      "cell_type": "code",
      "metadata": {
        "id": "S_pJHVBtNCif"
      },
      "source": [
        "board = []"
      ],
      "execution_count": 177,
      "outputs": []
    },
    {
      "cell_type": "code",
      "metadata": {
        "colab": {
          "base_uri": "https://localhost:8080/"
        },
        "id": "Z2M522z2NClS",
        "outputId": "cb528f2b-feb4-4522-e709-2824369b5aef"
      },
      "source": [
        "for _ in range(12) : board.append(list(input().strip()))"
      ],
      "execution_count": 178,
      "outputs": [
        {
          "name": "stdout",
          "output_type": "stream",
          "text": [
            "......\n",
            "......\n",
            "......\n",
            "......\n",
            "......\n",
            "......\n",
            "......\n",
            "......\n",
            ".Y....\n",
            ".YG...\n",
            "RRYG..\n",
            "RRYGG.\n"
          ]
        }
      ]
    },
    {
      "cell_type": "code",
      "metadata": {
        "id": "FxBEZppm_d6e"
      },
      "source": [
        "def bfs(x, y) :\n",
        "  dq = deque()\n",
        "  dq.append((x, y))\n",
        "\n",
        "  his = deque()\n",
        "  his.append((x, y))\n",
        "\n",
        "  chk = [[0 for _ in range(6)] for _ in range(12)]\n",
        "  chk[x][y] = 1\n",
        "\n",
        "  \n",
        "  curr_v = board[x][y]\n",
        "  cnt = 1\n",
        "\n",
        "  go_x = [-1, 1, 0, 0]\n",
        "  go_y = [0, 0, 1, -1]\n",
        "\n",
        "  while dq:\n",
        "    x, y = dq.popleft()\n",
        "    for i in range(4) :\n",
        "      nx = x + go_x[i]\n",
        "      ny = y + go_y[i]\n",
        "\n",
        "      if 0 <= nx < 12 and 0 <= ny < 6 and board[nx][ny] == curr_v and chk[nx][ny] == 0:\n",
        "        chk[nx][ny] = 1\n",
        "        dq.append((nx, ny))\n",
        "        his.append((nx, ny))\n",
        "        cnt += 1  \n",
        "\n",
        "  if cnt >= 4 :\n",
        "    while his :\n",
        "      x, y = his.popleft()\n",
        "      board[x][y] = '.'\n",
        "    return 'T'\n",
        "  else :\n",
        "    return 'F'"
      ],
      "execution_count": 179,
      "outputs": []
    },
    {
      "cell_type": "code",
      "metadata": {
        "id": "0IX0SAkEGLXA"
      },
      "source": [
        "def gravity() :\n",
        "  for j in range(6) :\n",
        "    alpha = deque()\n",
        "    for i in range(11, -1, -1) :\n",
        "      if board[i][j] != '.' :\n",
        "        alpha.append(board[i][j])\n",
        "        board[i][j] = '.'\n",
        "\n",
        "    idx = 11\n",
        "    while alpha :\n",
        "      board[idx][j] = alpha.popleft()\n",
        "      idx -= 1"
      ],
      "execution_count": 180,
      "outputs": []
    },
    {
      "cell_type": "code",
      "metadata": {
        "id": "pVpiPzajF4y7"
      },
      "source": [
        "res = 0"
      ],
      "execution_count": 181,
      "outputs": []
    },
    {
      "cell_type": "code",
      "metadata": {
        "colab": {
          "base_uri": "https://localhost:8080/"
        },
        "id": "7YxdHFqQC1yJ",
        "outputId": "8808f397-4dba-4b97-a680-e9379951a147"
      },
      "source": [
        "while 1 :\n",
        "  routine = []\n",
        "\n",
        "  for i in range(12) :\n",
        "    for j in range(6) :\n",
        "      if board[i][j] != '.' :\n",
        "        routine.append(bfs(i, j))\n",
        "\n",
        "  if 'T' in routine :\n",
        "    res += 1\n",
        "  else :\n",
        "    break\n",
        "\n",
        "  gravity()"
      ],
      "execution_count": 182,
      "outputs": [
        {
          "output_type": "stream",
          "name": "stdout",
          "text": [
            "[['.', '.', '.', '.', '.', '.'], ['.', '.', '.', '.', '.', '.'], ['.', '.', '.', '.', '.', '.'], ['.', '.', '.', '.', '.', '.'], ['.', '.', '.', '.', '.', '.'], ['.', '.', '.', '.', '.', '.'], ['.', '.', '.', '.', '.', '.'], ['.', '.', '.', '.', '.', '.'], ['.', 'Y', '.', '.', '.', '.'], ['.', 'Y', 'G', '.', '.', '.'], ['R', 'R', 'Y', 'G', '.', '.'], ['R', 'R', 'Y', 'G', 'G', '.']]\n",
            "[['.', '.', '.', '.', '.', '.'], ['.', '.', '.', '.', '.', '.'], ['.', '.', '.', '.', '.', '.'], ['.', '.', '.', '.', '.', '.'], ['.', '.', '.', '.', '.', '.'], ['.', '.', '.', '.', '.', '.'], ['.', '.', '.', '.', '.', '.'], ['.', '.', '.', '.', '.', '.'], ['.', '.', '.', '.', '.', '.'], ['.', '.', 'G', '.', '.', '.'], ['.', 'Y', 'Y', 'G', '.', '.'], ['.', 'Y', 'Y', 'G', 'G', '.']]\n",
            "[['.', '.', '.', '.', '.', '.'], ['.', '.', '.', '.', '.', '.'], ['.', '.', '.', '.', '.', '.'], ['.', '.', '.', '.', '.', '.'], ['.', '.', '.', '.', '.', '.'], ['.', '.', '.', '.', '.', '.'], ['.', '.', '.', '.', '.', '.'], ['.', '.', '.', '.', '.', '.'], ['.', '.', '.', '.', '.', '.'], ['.', '.', '.', '.', '.', '.'], ['.', '.', '.', 'G', '.', '.'], ['.', '.', 'G', 'G', 'G', '.']]\n",
            "[['.', '.', '.', '.', '.', '.'], ['.', '.', '.', '.', '.', '.'], ['.', '.', '.', '.', '.', '.'], ['.', '.', '.', '.', '.', '.'], ['.', '.', '.', '.', '.', '.'], ['.', '.', '.', '.', '.', '.'], ['.', '.', '.', '.', '.', '.'], ['.', '.', '.', '.', '.', '.'], ['.', '.', '.', '.', '.', '.'], ['.', '.', '.', '.', '.', '.'], ['.', '.', '.', '.', '.', '.'], ['.', '.', '.', '.', '.', '.']]\n"
          ]
        }
      ]
    },
    {
      "cell_type": "code",
      "metadata": {
        "id": "gqXzm5dP_d9d",
        "colab": {
          "base_uri": "https://localhost:8080/"
        },
        "outputId": "7a10b2b8-a339-48b0-cdee-659d3f92781e"
      },
      "source": [
        "print(res)"
      ],
      "execution_count": 183,
      "outputs": [
        {
          "output_type": "stream",
          "name": "stdout",
          "text": [
            "3\n"
          ]
        }
      ]
    }
  ]
}