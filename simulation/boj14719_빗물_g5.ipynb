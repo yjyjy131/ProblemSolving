{
  "nbformat": 4,
  "nbformat_minor": 0,
  "metadata": {
    "colab": {
      "name": "boj14719_빗물_g5.ipynb",
      "provenance": [],
      "collapsed_sections": []
    },
    "kernelspec": {
      "display_name": "Python 3",
      "name": "python3"
    },
    "language_info": {
      "name": "python"
    }
  },
  "cells": [
    {
      "cell_type": "markdown",
      "metadata": {
        "id": "jtf7Q4Hv_tob"
      },
      "source": [
        "https://www.acmicpc.net/problem/14719\n"
      ]
    },
    {
      "cell_type": "markdown",
      "metadata": {
        "id": "lAQZCv9JgqO1"
      },
      "source": [
        "Concept. 시뮬레이션\n",
        "\n",
        "1 ) 블록 갯수를 1차원 배열에 저장한다. \n",
        "\n",
        "2 ) 현재 가장 높은 블록 높이를 pivot 으로 정한다. \n",
        "\n",
        "3 ) 가장 높은 블록과 블록 사이의 거리를 계산한다. 이때, 가장 높은 블록의 높이는 하나씩 낮춘다. \n",
        "\n",
        "예를 들어, [ 1, 2, 3, 1, 1, 3, 3, 1 ] 이라면 3번째 3 과 6번째 3 사이의 거리를 계산한다. \n",
        "\n",
        "4 ) 위 과정을 pivot 이 0 이 될때까지 반복한다."
      ]
    },
    {
      "cell_type": "code",
      "metadata": {
        "colab": {
          "base_uri": "https://localhost:8080/"
        },
        "id": "zFe1yGrw5Gtw",
        "outputId": "f314f7a1-afbe-439c-bf40-f9b4c038cac9"
      },
      "source": [
        "h, w = map(int, input().split())"
      ],
      "execution_count": 89,
      "outputs": [
        {
          "output_type": "stream",
          "text": [
            "4 4\n"
          ],
          "name": "stdout"
        }
      ]
    },
    {
      "cell_type": "code",
      "metadata": {
        "colab": {
          "base_uri": "https://localhost:8080/"
        },
        "id": "Mw_UNNKhGCDr",
        "outputId": "56e77ff4-9a1b-4135-a0a4-0d36c31ed094"
      },
      "source": [
        "board = list(map(int, input().split()))"
      ],
      "execution_count": 96,
      "outputs": [
        {
          "output_type": "stream",
          "text": [
            "3 0 1 4\n"
          ],
          "name": "stdout"
        }
      ]
    },
    {
      "cell_type": "code",
      "metadata": {
        "id": "91MLavP3Kuh5"
      },
      "source": [
        "pivot = max(board)"
      ],
      "execution_count": 97,
      "outputs": []
    },
    {
      "cell_type": "code",
      "metadata": {
        "id": "vG2CrM6gSawi"
      },
      "source": [
        "results = []"
      ],
      "execution_count": 98,
      "outputs": []
    },
    {
      "cell_type": "code",
      "metadata": {
        "id": "-V4lLfYKVjS1"
      },
      "source": [
        "def block_chk(board, pivot) :\n",
        "  toggle = False\n",
        "  sum_v = []\n",
        "  res = 0\n",
        "  for idx in range(board.index(pivot), w) :\n",
        "    if board[idx] == pivot :\n",
        "      board[idx] -= 1\n",
        "      if toggle :\n",
        "        toggle = False\n",
        "        sum_v.append(res)\n",
        "        res = 0\n",
        "    else :\n",
        "      res += 1\n",
        "      toggle = True\n",
        "  return sum(sum_v)"
      ],
      "execution_count": 99,
      "outputs": []
    },
    {
      "cell_type": "code",
      "metadata": {
        "id": "wqFhMFcmGW5F"
      },
      "source": [
        "while pivot > 0 :\n",
        "  if board.count(pivot) < 2 :\n",
        "    for i in range(w) : \n",
        "      if board[i] == pivot : board[i] -= 1\n",
        "  else :\n",
        "    results.append(block_chk(board, pivot))\n",
        "  pivot -= 1"
      ],
      "execution_count": 100,
      "outputs": []
    },
    {
      "cell_type": "code",
      "metadata": {
        "colab": {
          "base_uri": "https://localhost:8080/"
        },
        "id": "8jYtswuzQnWK",
        "outputId": "dcec4151-a7c1-48a4-8beb-28062a6a9ee4"
      },
      "source": [
        "print(sum(results))"
      ],
      "execution_count": 101,
      "outputs": [
        {
          "output_type": "stream",
          "text": [
            "5\n"
          ],
          "name": "stdout"
        }
      ]
    },
    {
      "cell_type": "code",
      "metadata": {
        "id": "jXCHOenHQnag"
      },
      "source": [
        ""
      ],
      "execution_count": null,
      "outputs": []
    }
  ]
}