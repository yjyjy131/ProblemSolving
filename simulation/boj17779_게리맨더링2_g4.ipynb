{
  "nbformat": 4,
  "nbformat_minor": 0,
  "metadata": {
    "colab": {
      "name": "boj17779_게리맨더링2_g4.ipynb",
      "provenance": [],
      "collapsed_sections": []
    },
    "kernelspec": {
      "display_name": "Python 3",
      "name": "python3"
    },
    "language_info": {
      "name": "python"
    }
  },
  "cells": [
    {
      "cell_type": "markdown",
      "metadata": {
        "id": "jtf7Q4Hv_tob"
      },
      "source": [
        "https://www.acmicpc.net/problem/17779"
      ]
    },
    {
      "cell_type": "markdown",
      "metadata": {
        "id": "7a6khXj5kMTw"
      },
      "source": [
        "Concept. Simulation "
      ]
    },
    {
      "cell_type": "code",
      "metadata": {
        "colab": {
          "base_uri": "https://localhost:8080/"
        },
        "id": "QlNPof-2Z3-Z",
        "outputId": "763c55f6-c837-4f3d-a1f5-0191e308b9fc"
      },
      "source": [
        "n = int(input())"
      ],
      "execution_count": 1,
      "outputs": [
        {
          "name": "stdout",
          "output_type": "stream",
          "text": [
            "6\n"
          ]
        }
      ]
    },
    {
      "cell_type": "code",
      "metadata": {
        "colab": {
          "base_uri": "https://localhost:8080/"
        },
        "id": "iOri1x8tZ8YT",
        "outputId": "ab7010f6-22b4-4b3c-c076-73876278bafb"
      },
      "source": [
        "board = [[]]\n",
        "for _ in range(n) : \n",
        "  board.append([0] + list(map(int, input().split())))"
      ],
      "execution_count": 3,
      "outputs": [
        {
          "name": "stdout",
          "output_type": "stream",
          "text": [
            "1 2 3 4 1 6\n",
            "7 8 9 1 4 2\n",
            "2 3 4 1 1 3\n",
            "6 6 6 6 9 4\n",
            "9 1 9 1 9 5\n",
            "1 1 1 1 9 9\n"
          ]
        }
      ]
    },
    {
      "cell_type": "code",
      "metadata": {
        "id": "4d3k0u7zjUi1"
      },
      "source": [
        "def area(x, y, d1, d2) :\n",
        "  people = [ 0 for _ in range(6) ]\n",
        "  map_area  = [[0 for _ in range(n+1) ] for _ in range(n+1)]\n",
        "\n",
        "  for i in range(d1+1) :\n",
        "    map_area[x+i][y-i] = 5\n",
        "    map_area[x+d2+i][y+d2-i] = 5\n",
        "  \n",
        "  for i in range(d2+1) :\n",
        "    map_area[x+i][y+i] = 5\n",
        "    map_area[x+d1+i][y-d1+i] = 5\n",
        "  \n",
        "  for i in range(1, n+1) :\n",
        "    toggle = 0\n",
        "    for j in range(1, n+1) :\n",
        "      if sum(map_area[i]) == 5 : \n",
        "        break\n",
        "\n",
        "      if map_area[i][j] == 5 : \n",
        "        toggle += 1\n",
        "      if map_area[i][j] != 5 and toggle == 1 : \n",
        "        map_area[i][j] = 5\n",
        "\n",
        "  for r in range(1, n+1) : \n",
        "    for c in range(1, n+1) :\n",
        "      if r < x+d1 and c <= y and map_area[r][c] == 0 : people[1] += board[r][c]\n",
        "      elif r <= x+d2 and y < c <= n and map_area[r][c] == 0 : people[2] += board[r][c]\n",
        "      elif x+d1 <= r <= n and c < y-d1+d2 and map_area[r][c] == 0 : people[3] += board[r][c]\n",
        "      elif x+d2 < r <= n and y-d1+d2 <= c <= n and map_area[r][c] == 0 : people[4] += board[r][c] \n",
        "      elif map_area[r][c] == 5 : people[5] += board[r][c] \n",
        "\n",
        "  return max(people[1:]) - min(people[1:])"
      ],
      "execution_count": 57,
      "outputs": []
    },
    {
      "cell_type": "code",
      "metadata": {
        "colab": {
          "base_uri": "https://localhost:8080/"
        },
        "id": "Oii4inIJd9c6",
        "outputId": "23575aac-1be3-4c67-86df-3592ca742141"
      },
      "source": [
        "res = 1000000\n",
        "\n",
        "for x in range(1, n+1) :\n",
        "  for y in range(1, n+1) :\n",
        "    for d1 in range(1, n+1) :\n",
        "      for d2 in range(1, n+1) :\n",
        "        if 1 <= x < x+d1+d2 <= n and 1 <= y-d1 < y < y+d2 <= n :\n",
        "          res = min(res, area(x, y, d1, d2))\n",
        "\n",
        "print(res)"
      ],
      "execution_count": 59,
      "outputs": [
        {
          "output_type": "stream",
          "name": "stdout",
          "text": [
            "18\n"
          ]
        }
      ]
    },
    {
      "cell_type": "code",
      "metadata": {
        "id": "j-lfq0FLd9fD"
      },
      "source": [
        ""
      ],
      "execution_count": null,
      "outputs": []
    }
  ]
}