{
  "nbformat": 4,
  "nbformat_minor": 0,
  "metadata": {
    "colab": {
      "name": "hacker_rank_anagrams.ipynb",
      "provenance": [],
      "authorship_tag": "ABX9TyNp9bGeGrbcZRG28Wvy6jbA",
      "include_colab_link": true
    },
    "kernelspec": {
      "name": "python3",
      "display_name": "Python 3"
    }
  },
  "cells": [
    {
      "cell_type": "markdown",
      "metadata": {
        "id": "view-in-github",
        "colab_type": "text"
      },
      "source": [
        "<a href=\"https://colab.research.google.com/github/yjyjy131/coding_test/blob/main/hacker_rank_anagrams.ipynb\" target=\"_parent\"><img src=\"https://colab.research.google.com/assets/colab-badge.svg\" alt=\"Open In Colab\"/></a>"
      ]
    },
    {
      "cell_type": "markdown",
      "metadata": {
        "id": "FoHlf_OVDin2"
      },
      "source": [
        "# Hacker Rank / Anagrams \r\n",
        "\r\n",
        "두 문자열이 서로에 대한 순열이면 anagram에 해당한다. 즉, 두 문자열의 크기와 문자가 같다. 예를 들어, \"qqwerty\"는 \"qwertqy\"의 anagram이다. 문자열 배열을 지정하면 이전 문자열의 anagram은 각 문자열을 제거한 다음 나머지 배열을 정렬된 순서대로 반환한다. \r\n",
        "\r\n",
        "문자열로 이루어진 배열이 주어졌을 때, 중복되는 anagram 을 제외한 첫 번째 anagram 문자열들을 알파벳 오름차순으로 정렬해 반환하라."
      ]
    },
    {
      "cell_type": "code",
      "metadata": {
        "colab": {
          "base_uri": "https://localhost:8080/"
        },
        "id": "gCuikqcwDkQU",
        "outputId": "401e8dba-3c20-4adb-db66-c2985381ed78"
      },
      "source": [
        "\r\n",
        "def funWithAnagrams(text):\r\n",
        "    chk_arr = []\r\n",
        "    for i in range(0, len(text)):    \r\n",
        "        chk_arr.append(''.join(sorted(text[i])))\r\n",
        "    \r\n",
        "    print(chk_arr)\r\n",
        "    no_overlap = []\r\n",
        "    for i in range(0, len(chk_arr)):\r\n",
        "        word = chk_arr[i]\r\n",
        "        if word not in no_overlap:\r\n",
        "            no_overlap.append(word)\r\n",
        "        \r\n",
        "    answers = []\r\n",
        "    for i in range(0, len(no_overlap)):\r\n",
        "        answer = no_overlap[i]\r\n",
        "        answers.append(text[chk_arr.index(answer)])\r\n",
        "    \r\n",
        "    str_li=sorted(answers, reverse=False)\r\n",
        "\r\n",
        "    return str_li\r\n",
        "    \r\n",
        "if __name__ == '__main__':\r\n",
        "\r\n",
        "    text_count = int(input().strip())\r\n",
        "\r\n",
        "    text = []\r\n",
        "\r\n",
        "    for _ in range(text_count):\r\n",
        "        text_item = input()\r\n",
        "        text.append(text_item)\r\n",
        "\r\n",
        "    result = funWithAnagrams(text)\r\n",
        "\r\n",
        "    print('\\n'.join(result))\r\n",
        "    print('\\n')\r\n"
      ],
      "execution_count": 8,
      "outputs": [
        {
          "output_type": "stream",
          "text": [
            "4\n",
            "code\n",
            "doce\n",
            "aaagmnrs\n",
            "anagrams\n",
            "['cdeo', 'cdeo', 'aaagmnrs', 'aaagmnrs']\n",
            "aaagmnrs\n",
            "code\n",
            "\n",
            "\n"
          ],
          "name": "stdout"
        }
      ]
    },
    {
      "cell_type": "code",
      "metadata": {
        "id": "0WM0im1qDh6W"
      },
      "source": [
        ""
      ],
      "execution_count": null,
      "outputs": []
    }
  ]
}