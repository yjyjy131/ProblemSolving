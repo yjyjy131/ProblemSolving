{
  "nbformat": 4,
  "nbformat_minor": 0,
  "metadata": {
    "colab": {
      "name": "boj14284_간선이어가기2_g5.ipynb",
      "provenance": [],
      "collapsed_sections": []
    },
    "kernelspec": {
      "display_name": "Python 3",
      "name": "python3"
    },
    "language_info": {
      "name": "python"
    }
  },
  "cells": [
    {
      "cell_type": "markdown",
      "metadata": {
        "id": "jtf7Q4Hv_tob"
      },
      "source": [
        "https://www.acmicpc.net/problem/14284"
      ]
    },
    {
      "cell_type": "markdown",
      "metadata": {
        "id": "lAQZCv9JgqO1"
      },
      "source": [
        "Concept. 다익스트라 ✨\n",
        "\n",
        "기본적인 다익스트라를 구현하되, 문제의 조건이 **무방향 그래프**이므로 board 의 간선을 양쪽 방향으로 추가해야한다.  "
      ]
    },
    {
      "cell_type": "code",
      "metadata": {
        "id": "ufDlQhlkOc9L"
      },
      "source": [
        "from heapq import heappop, heappush"
      ],
      "execution_count": 99,
      "outputs": []
    },
    {
      "cell_type": "code",
      "metadata": {
        "id": "nd_eFwilOc_p"
      },
      "source": [
        "import sys"
      ],
      "execution_count": 100,
      "outputs": []
    },
    {
      "cell_type": "code",
      "metadata": {
        "colab": {
          "base_uri": "https://localhost:8080/"
        },
        "id": "UeyiEfxqOiKh",
        "outputId": "8f5e5514-7455-4a92-f978-e4536a8b967d"
      },
      "source": [
        "n, m = map(int, input().split())"
      ],
      "execution_count": 133,
      "outputs": [
        {
          "output_type": "stream",
          "text": [
            "8 9\n"
          ],
          "name": "stdout"
        }
      ]
    },
    {
      "cell_type": "code",
      "metadata": {
        "id": "86qMrPvROiNY"
      },
      "source": [
        "board = [[] for _ in range(n+1)]"
      ],
      "execution_count": 134,
      "outputs": []
    },
    {
      "cell_type": "code",
      "metadata": {
        "colab": {
          "base_uri": "https://localhost:8080/"
        },
        "id": "iKroJSmqPGSx",
        "outputId": "38f9ecdc-b9bc-456b-9174-1fdfbe77ab70"
      },
      "source": [
        "strt, end = map(int, input().split())"
      ],
      "execution_count": 105,
      "outputs": [
        {
          "output_type": "stream",
          "text": [
            "1 8\n"
          ],
          "name": "stdout"
        }
      ]
    },
    {
      "cell_type": "code",
      "metadata": {
        "id": "ZkNGXCxMOiQF"
      },
      "source": [
        "for _ in range(m) :\n",
        "  i, j, c = map(int, input().split())\n",
        "  board[i].append([j, c])\n",
        "  board[j]].append([i, c])"
      ],
      "execution_count": null,
      "outputs": []
    },
    {
      "cell_type": "code",
      "metadata": {
        "colab": {
          "base_uri": "https://localhost:8080/"
        },
        "id": "xztE89NVYdop",
        "outputId": "446598a8-a869-48a2-8e35-fa50dc17c0fe"
      },
      "source": [
        "board"
      ],
      "execution_count": 148,
      "outputs": [
        {
          "output_type": "execute_result",
          "data": {
            "text/plain": [
              "[[],\n",
              " [[2, 3], [3, 2], [4, 4]],\n",
              " [[5, 2]],\n",
              " [[6, 1]],\n",
              " [[7, 3]],\n",
              " [[8, 6]],\n",
              " [[8, 2]],\n",
              " [[8, 7]],\n",
              " []]"
            ]
          },
          "metadata": {},
          "execution_count": 148
        }
      ]
    },
    {
      "cell_type": "code",
      "metadata": {
        "id": "uy5boHnTPGVE"
      },
      "source": [
        "inf = 100000000"
      ],
      "execution_count": 136,
      "outputs": []
    },
    {
      "cell_type": "code",
      "metadata": {
        "id": "kyFe9mSLPOT1"
      },
      "source": [
        "dp = [inf] * (n+1)"
      ],
      "execution_count": 142,
      "outputs": []
    },
    {
      "cell_type": "code",
      "metadata": {
        "id": "iZf6G6rrPGXK"
      },
      "source": [
        "def dijsktra(start) :\n",
        "  dp[start] = 0\n",
        "  heap = []\n",
        "  heappush(heap, [0, start])\n",
        "\n",
        "  while heap :\n",
        "    w, i = heappop(heap)\n",
        "    if w > dp[i] :\n",
        "      continue\n",
        "    for b_i, b_w in board[i] :\n",
        "      sum_w = w + b_w\n",
        "      if sum_w < dp[b_i] :\n",
        "        dp[b_i] = sum_w\n",
        "        heappush(heap, [sum_w, b_i])"
      ],
      "execution_count": 144,
      "outputs": []
    },
    {
      "cell_type": "code",
      "metadata": {
        "id": "YkVPGRRjPGZ6"
      },
      "source": [
        "dijsktra(strt) "
      ],
      "execution_count": 145,
      "outputs": []
    },
    {
      "cell_type": "code",
      "metadata": {
        "colab": {
          "base_uri": "https://localhost:8080/"
        },
        "id": "VeM4P8iCQk1m",
        "outputId": "689a750b-2d0f-4579-9b38-3817f663c73f"
      },
      "source": [
        "print(dp[end])"
      ],
      "execution_count": 146,
      "outputs": [
        {
          "output_type": "stream",
          "text": [
            "5\n"
          ],
          "name": "stdout"
        }
      ]
    }
  ]
}