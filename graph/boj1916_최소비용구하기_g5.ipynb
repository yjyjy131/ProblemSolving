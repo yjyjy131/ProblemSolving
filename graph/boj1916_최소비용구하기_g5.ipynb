{
  "nbformat": 4,
  "nbformat_minor": 0,
  "metadata": {
    "colab": {
      "name": "boj1916_최소비용구하기_g5.ipynb",
      "provenance": [],
      "collapsed_sections": []
    },
    "kernelspec": {
      "display_name": "Python 3",
      "name": "python3"
    },
    "language_info": {
      "name": "python"
    }
  },
  "cells": [
    {
      "cell_type": "markdown",
      "metadata": {
        "id": "jtf7Q4Hv_tob"
      },
      "source": [
        "https://www.acmicpc.net/problem/1062"
      ]
    },
    {
      "cell_type": "markdown",
      "metadata": {
        "id": "lAQZCv9JgqO1"
      },
      "source": [
        "Concept. 다익스트라 ✨\n",
        "\n",
        "1 ) 비용값을 가지고 있는 board 와 최솟값을 기록해나가는 dp 사용\n",
        "\n",
        "2 ) 현재 start 점의 dp 는 0 으로 초기화하고, 해당 시작점을 heap 에 push 한다. \n",
        "\n",
        "3 ) heap 값을 pop 해서, pop 된 값에서 출발해 갈 수 있는 다음 경로의 최솟값을 dp 에 기록한다. 이때, 현재 가진 dp 경로보다 최솟값을 가진다면 해당 값을 dp 에 기록하고 heap 에 push 한다. \n",
        "\n",
        "4 ) heap 을 모두 탐색할때까지 위 과정을 반복한다. "
      ]
    },
    {
      "cell_type": "code",
      "metadata": {
        "id": "GX1nsOhWm2lJ"
      },
      "source": [
        "from heapq import heappush, heappop"
      ],
      "execution_count": 151,
      "outputs": []
    },
    {
      "cell_type": "code",
      "metadata": {
        "id": "_1YqxdORs2C9"
      },
      "source": [
        "import sys"
      ],
      "execution_count": 188,
      "outputs": []
    },
    {
      "cell_type": "code",
      "metadata": {
        "id": "N561-3iNs2_r"
      },
      "source": [
        "input = sys.stdin.readline"
      ],
      "execution_count": 189,
      "outputs": []
    },
    {
      "cell_type": "code",
      "metadata": {
        "colab": {
          "base_uri": "https://localhost:8080/"
        },
        "id": "yfOJ7Edkm6qp",
        "outputId": "165b7c88-1a95-4cde-a323-e1ee5070af6f"
      },
      "source": [
        "city = int(input())"
      ],
      "execution_count": 152,
      "outputs": [
        {
          "output_type": "stream",
          "text": [
            "5\n"
          ],
          "name": "stdout"
        }
      ]
    },
    {
      "cell_type": "code",
      "metadata": {
        "colab": {
          "base_uri": "https://localhost:8080/"
        },
        "id": "fcwQbgHAm9Q5",
        "outputId": "5055bb49-492f-4981-db6b-1448ffc29263"
      },
      "source": [
        "bus = int(input())"
      ],
      "execution_count": 153,
      "outputs": [
        {
          "output_type": "stream",
          "text": [
            "8\n"
          ],
          "name": "stdout"
        }
      ]
    },
    {
      "cell_type": "code",
      "metadata": {
        "id": "UVUDN8VAnDS3"
      },
      "source": [
        "board = [ [] for _ in range(city+1) ]"
      ],
      "execution_count": 181,
      "outputs": []
    },
    {
      "cell_type": "code",
      "metadata": {
        "id": "G3nc1xrQm_Y-"
      },
      "source": [
        "dp = [ 1000000 for _ in range(city+1) ]"
      ],
      "execution_count": 182,
      "outputs": []
    },
    {
      "cell_type": "code",
      "metadata": {
        "colab": {
          "base_uri": "https://localhost:8080/"
        },
        "id": "XM5sf9QJnQvP",
        "outputId": "f97aad3e-5e27-4e3c-b49f-5f8f8d04728d"
      },
      "source": [
        "for _ in range(bus) :\n",
        "  i, j, c = map(int, input().split())\n",
        "  board[i].append([j, c])"
      ],
      "execution_count": 183,
      "outputs": [
        {
          "output_type": "stream",
          "text": [
            "1 2 2\n",
            "1 3 3\n",
            "1 4 1\n",
            "1 5 10\n",
            "2 4 2\n",
            "3 4 1\n",
            "3 5 1\n",
            "4 5 3\n"
          ],
          "name": "stdout"
        }
      ]
    },
    {
      "cell_type": "code",
      "metadata": {
        "colab": {
          "base_uri": "https://localhost:8080/"
        },
        "id": "emQfxKTSm9S0",
        "outputId": "4c8ab2dd-1d34-471b-fa28-c99718942a0f"
      },
      "source": [
        "strt, end = map(int, input().split())"
      ],
      "execution_count": 162,
      "outputs": [
        {
          "output_type": "stream",
          "text": [
            "1 5\n"
          ],
          "name": "stdout"
        }
      ]
    },
    {
      "cell_type": "code",
      "metadata": {
        "id": "pI58VaBDnuK5"
      },
      "source": [
        "def dijkstra(start) :\n",
        "  dp[start] = 0\n",
        "  heap = []\n",
        "  heappush(heap, [0, start])\n",
        "\n",
        "  while heap :\n",
        "    w, curr = heappop(heap)\n",
        "    if dp[curr] < w :\n",
        "      continue\n",
        "    \n",
        "    for b_i, b_w in board[curr] :\n",
        "      sum_w = b_w + w\n",
        "      if sum_w < dp[b_i] :\n",
        "        dp[b_i] = sum_w\n",
        "        heappush(heap, [sum_w, b_i])"
      ],
      "execution_count": 184,
      "outputs": []
    },
    {
      "cell_type": "code",
      "metadata": {
        "colab": {
          "base_uri": "https://localhost:8080/"
        },
        "id": "DQamn_VlnuNO",
        "outputId": "f383109f-4b79-4391-bf83-b0dec33cc81f"
      },
      "source": [
        "dijkstra(strt)"
      ],
      "execution_count": 185,
      "outputs": [
        {
          "output_type": "stream",
          "text": [
            "[[0, 1]]\n",
            "[[1, 4], [3, 3], [2, 2], [10, 5]]\n",
            "[[2, 2], [3, 3], [10, 5], [4, 5]]\n",
            "[[3, 3], [4, 5], [10, 5]]\n",
            "[[4, 5], [10, 5]]\n",
            "[[10, 5]]\n"
          ],
          "name": "stdout"
        }
      ]
    },
    {
      "cell_type": "code",
      "metadata": {
        "colab": {
          "base_uri": "https://localhost:8080/"
        },
        "id": "SxUl4O9NnuPk",
        "outputId": "a2695a1e-b44c-485b-f118-b9c66dc1b2ba"
      },
      "source": [
        "print(dp[end])"
      ],
      "execution_count": 186,
      "outputs": [
        {
          "output_type": "stream",
          "text": [
            "4\n"
          ],
          "name": "stdout"
        }
      ]
    },
    {
      "cell_type": "code",
      "metadata": {
        "id": "7MGtxoz5nuSC"
      },
      "source": [
        ""
      ],
      "execution_count": null,
      "outputs": []
    }
  ]
}