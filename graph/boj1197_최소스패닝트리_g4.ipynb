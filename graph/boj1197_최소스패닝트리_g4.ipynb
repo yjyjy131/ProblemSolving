{
  "nbformat": 4,
  "nbformat_minor": 0,
  "metadata": {
    "colab": {
      "name": "boj1197_최소스패닝트리_g4.ipynb",
      "provenance": [],
      "collapsed_sections": []
    },
    "kernelspec": {
      "display_name": "Python 3",
      "name": "python3"
    },
    "language_info": {
      "name": "python"
    }
  },
  "cells": [
    {
      "cell_type": "markdown",
      "metadata": {
        "id": "jtf7Q4Hv_tob"
      },
      "source": [
        "https://www.acmicpc.net/problem/1197"
      ]
    },
    {
      "cell_type": "markdown",
      "metadata": {
        "id": "lAQZCv9JgqO1"
      },
      "source": [
        "Concept. 최소 스패닝 트리 ✨\n",
        "\n",
        "1 ) edges 에 ( 가중치, 노드1, 노드2 ) 값을 넣고, 가중치 값을 기준으로 소팅한다. \n",
        "\n",
        "2 ) 소팅한 edges 에서 가중치가 작은 값부터 pop 하여 차례대로 스패닝 트리를 연결한다. \n",
        "\n",
        "3 ) 두 노드의 부모 노드가 같은지 체크하고 ( 사이클이 형성되는지 체크하는 것 ) , 사이클이 형성되지 않았다면 두 노드를 잇는다. \n",
        "두 노드가 이어졌다면 해당 가중치를 cost 값에 더하고 전체 간선 개수를 1 증가시킨다. \n",
        "\n",
        "4 ) 스패닝 트리의 전체 간선 개수가 노드 수 - 1 개가 될 때까지 위의 과정을 반복한다. "
      ]
    },
    {
      "cell_type": "code",
      "metadata": {
        "colab": {
          "base_uri": "https://localhost:8080/"
        },
        "id": "y4Sap6zcrtrl",
        "outputId": "21fc5638-4ba5-41dd-f383-140f8f393112"
      },
      "source": [
        "v, e = map(int, input().split())"
      ],
      "execution_count": 12,
      "outputs": [
        {
          "output_type": "stream",
          "text": [
            "3 3\n"
          ],
          "name": "stdout"
        }
      ]
    },
    {
      "cell_type": "code",
      "metadata": {
        "id": "xpwFIdaQrtt9"
      },
      "source": [
        "edges = []"
      ],
      "execution_count": 88,
      "outputs": []
    },
    {
      "cell_type": "code",
      "metadata": {
        "colab": {
          "base_uri": "https://localhost:8080/"
        },
        "id": "FxmGIyn6r300",
        "outputId": "8d1683e1-e5c3-4d83-872d-f7e526f3bd53"
      },
      "source": [
        "for _ in range(e) :\n",
        "  i, j, w = map(int, input().split())\n",
        "  edges.append((w, i, j))"
      ],
      "execution_count": 89,
      "outputs": [
        {
          "output_type": "stream",
          "text": [
            "1 2 1\n",
            "2 3 2\n",
            "1 3 3\n"
          ],
          "name": "stdout"
        }
      ]
    },
    {
      "cell_type": "code",
      "metadata": {
        "id": "7h8S240Jr32_"
      },
      "source": [
        "edges.sort()"
      ],
      "execution_count": 90,
      "outputs": []
    },
    {
      "cell_type": "code",
      "metadata": {
        "id": "pWpYq427swg3"
      },
      "source": [
        "parent = []"
      ],
      "execution_count": 94,
      "outputs": []
    },
    {
      "cell_type": "code",
      "metadata": {
        "id": "Jot_oikWsyXc"
      },
      "source": [
        "for i in range(v+1) : parent.append(i)"
      ],
      "execution_count": 95,
      "outputs": []
    },
    {
      "cell_type": "code",
      "metadata": {
        "id": "UdNVHi3Ptb6x"
      },
      "source": [
        "# x 와 y 의 부모 노드가 같은지 확인하는 이유는\n",
        "# x 와 y 의 부모 노드가 같다는 것은 x - 부모노드- y 처럼 두 노드가 이미 서로 간선으로 연결되어 있는 상태임을 뜻한다. "
      ],
      "execution_count": null,
      "outputs": []
    },
    {
      "cell_type": "code",
      "metadata": {
        "id": "6-ILtB50stIU"
      },
      "source": [
        "def find_p(x) :\n",
        "  if parent[x] != x :\n",
        "    parent[x] = find_p(parent[x])\n",
        "  return parent[x]"
      ],
      "execution_count": 97,
      "outputs": []
    },
    {
      "cell_type": "code",
      "metadata": {
        "id": "zqd09noVtCv_"
      },
      "source": [
        "def connect(x, y) :\n",
        "  x_root = find_p(x)\n",
        "  y_root = find_p(y)\n",
        "  parent[y_root] = x_root"
      ],
      "execution_count": 98,
      "outputs": []
    },
    {
      "cell_type": "code",
      "metadata": {
        "id": "cmltYFRfunHr"
      },
      "source": [
        "mst_cost = 0"
      ],
      "execution_count": 99,
      "outputs": []
    },
    {
      "cell_type": "code",
      "metadata": {
        "id": "325iYlvhup83"
      },
      "source": [
        "all_edges = 0"
      ],
      "execution_count": 100,
      "outputs": []
    },
    {
      "cell_type": "code",
      "metadata": {
        "id": "QHyM0hiwvxS6"
      },
      "source": [
        "# all_edges 가 v-1 인 이유는, 스패닝 트리를 구성하기 위해서는 간선의 개수가 v-1 이어야 하기 때문"
      ],
      "execution_count": null,
      "outputs": []
    },
    {
      "cell_type": "code",
      "metadata": {
        "id": "9od2wOuIsENt"
      },
      "source": [
        "while True :\n",
        "  if all_edges == v-1 :\n",
        "    break\n",
        "  w, i, j = edges.pop(0)\n",
        "  if find_p(i) != find_p(j) :\n",
        "    connect(i, j)\n",
        "    mst_cost += w\n",
        "    all_edges += 1"
      ],
      "execution_count": 101,
      "outputs": []
    },
    {
      "cell_type": "code",
      "metadata": {
        "colab": {
          "base_uri": "https://localhost:8080/"
        },
        "id": "aaFh-HMYsEPy",
        "outputId": "8b717091-9fc3-4bdc-a2a5-3ea4ecd6ec9e"
      },
      "source": [
        "print(mst_cost)"
      ],
      "execution_count": 102,
      "outputs": [
        {
          "output_type": "stream",
          "text": [
            "3\n"
          ],
          "name": "stdout"
        }
      ]
    },
    {
      "cell_type": "code",
      "metadata": {
        "id": "3aIQekj6sESN"
      },
      "source": [
        ""
      ],
      "execution_count": null,
      "outputs": []
    }
  ]
}