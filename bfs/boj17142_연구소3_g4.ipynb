{
  "nbformat": 4,
  "nbformat_minor": 0,
  "metadata": {
    "colab": {
      "provenance": [],
      "collapsed_sections": [],
      "authorship_tag": "ABX9TyPaYF53Q8vosqOfIyuG6xEz",
      "include_colab_link": true
    },
    "kernelspec": {
      "name": "python3",
      "display_name": "Python 3"
    },
    "language_info": {
      "name": "python"
    }
  },
  "cells": [
    {
      "cell_type": "markdown",
      "metadata": {
        "id": "view-in-github",
        "colab_type": "text"
      },
      "source": [
        "<a href=\"https://colab.research.google.com/github/yjyjy131/ProblemSolving/blob/main/bfs/boj17142_%EC%97%B0%EA%B5%AC%EC%86%8C3_g4.ipynb\" target=\"_parent\"><img src=\"https://colab.research.google.com/assets/colab-badge.svg\" alt=\"Open In Colab\"/></a>"
      ]
    },
    {
      "cell_type": "markdown",
      "source": [
        "https://www.acmicpc.net/problem/17142"
      ],
      "metadata": {
        "id": "mEpkHl_D3TL0"
      }
    },
    {
      "cell_type": "code",
      "execution_count": null,
      "metadata": {
        "id": "7LG9nHHY3OIz"
      },
      "outputs": [],
      "source": [
        "import copy\n",
        "from collections import deque\n",
        "\n",
        "\n",
        "def dfs(c_list):\n",
        "    if len(c_list) == m:\n",
        "        target = []\n",
        "        calc_board = copy.deepcopy(board)\n",
        "        if c_list not in virus_cords:\n",
        "            for c in c_list:\n",
        "                target.append(virus_list[c])\n",
        "            virus_cords.append(target)\n",
        "            if calc_board and target:\n",
        "                global ans\n",
        "                t = move_virus(target)\n",
        "                ans = min(ans, t)\n",
        "\n",
        "    tmp_list = copy.deepcopy(c_list)\n",
        "    for ni in range(tmp_list[-1], max_v):\n",
        "        if ni not in tmp_list:\n",
        "            tmp_list.append(ni)\n",
        "            dfs(tmp_list)\n",
        "            tmp_list.pop()\n",
        "\n",
        "\n",
        "def move_virus(viruses):\n",
        "    global ans\n",
        "    time_chk = 0\n",
        "    go_x = [-1, 1, 0, 0]\n",
        "    go_y = [0, 0, 1, -1]\n",
        "    visited = [[-1 for _ in range(n)] for _ in range(n)]\n",
        "\n",
        "    for x, y in viruses:\n",
        "        visited[x][y] = 0\n",
        "\n",
        "    dq = deque(viruses)\n",
        "\n",
        "    while dq:\n",
        "        vx, vy = dq.popleft()\n",
        "        for dx, dy in zip(go_x, go_y):\n",
        "            nx, ny = vx + dx, vy + dy\n",
        "            if 0 <= nx < n and 0 <= ny < n and visited[nx][ny] == -1:\n",
        "                if board[nx][ny] == 2:\n",
        "                    dq.append((nx, ny))\n",
        "                    visited[nx][ny] = visited[vx][vy] + 1\n",
        "                elif board[nx][ny] == 0:\n",
        "                    dq.append((nx, ny))\n",
        "                    visited[nx][ny] = visited[vx][vy] + 1\n",
        "                    time_chk = max(time_chk, visited[nx][ny])\n",
        "\n",
        "    # 모든 칸에 도달 못한 경우\n",
        "    if list(sum(visited, [])).count(-1) != wall_n:\n",
        "        return 10000 * n * n\n",
        "\n",
        "    return time_chk\n",
        "\n",
        "\n",
        "if __name__ == '__main__':\n",
        "\n",
        "    n, m = map(int, input().split())\n",
        "    board = [list(map(int, input().split())) for _ in range(n)]\n",
        "\n",
        "    wall_n = 0\n",
        "    virus_list = []\n",
        "    for i in range(n):\n",
        "        for j in range(n):\n",
        "            if board[i][j] == 1:\n",
        "                wall_n += 1\n",
        "            elif board[i][j] == 2:\n",
        "                virus_list.append((i, j))\n",
        "\n",
        "    virus_cords = []\n",
        "    max_v = len(virus_list)\n",
        "    global ans\n",
        "    ans = 10000 * n * n\n",
        "\n",
        "    for k in range(len(virus_list)):\n",
        "        dfs([k])\n",
        "\n",
        "    if ans == 10000 * n * n:\n",
        "        print(-1)\n",
        "    else:\n",
        "        print(ans)\n",
        "\n",
        "\n"
      ]
    }
  ]
}