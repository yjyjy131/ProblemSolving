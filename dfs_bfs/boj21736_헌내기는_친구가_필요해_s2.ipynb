{
  "nbformat": 4,
  "nbformat_minor": 0,
  "metadata": {
    "colab": {
      "name": "boj21736_헌내기는 친구가 필요해_s2.ipynb",
      "provenance": [],
      "collapsed_sections": [],
      "authorship_tag": "ABX9TyNvdNDQhhj5oheb0z7dC00s",
      "include_colab_link": true
    },
    "kernelspec": {
      "name": "python3",
      "display_name": "Python 3"
    },
    "language_info": {
      "name": "python"
    }
  },
  "cells": [
    {
      "cell_type": "markdown",
      "metadata": {
        "id": "view-in-github",
        "colab_type": "text"
      },
      "source": [
        "<a href=\"https://colab.research.google.com/github/yjyjy131/ProblemSolving/blob/main/dfs_bfs/boj21736_%ED%97%8C%EB%82%B4%EA%B8%B0%EB%8A%94_%EC%B9%9C%EA%B5%AC%EA%B0%80_%ED%95%84%EC%9A%94%ED%95%B4_s2.ipynb\" target=\"_parent\"><img src=\"https://colab.research.google.com/assets/colab-badge.svg\" alt=\"Open In Colab\"/></a>"
      ]
    },
    {
      "cell_type": "code",
      "source": [
        "import sys\n",
        "sys.setrecursionlimit(10**6)\n",
        "\n",
        "def dfs(x, y) :\n",
        "  x_chk = [-1, 0, 1, 0]\n",
        "  y_chk = [0, -1, 0, 1]\n",
        "\n",
        "  for i in range(4):\n",
        "    new_x = x + x_chk[i]\n",
        "    new_y = y + y_chk[i]\n",
        "\n",
        "    if 0 <= new_x < n and 0 <= new_y < m:\n",
        "      if chk[new_x][new_y] == 0 and board[new_x][new_y] != 'X':\n",
        "        chk[new_x][new_y] = 1\n",
        "        if board[new_x][new_y] == 'P':\n",
        "          global max_cnt\n",
        "          max_cnt += 1\n",
        "        dfs(new_x, new_y)\n",
        "\n",
        "if __name__ == '__main__':\n",
        "  n, m = map(int, input().split(' '))\n",
        "  board = []\n",
        "  max_cnt = 0\n",
        "  \n",
        "  for _ in range(n):\n",
        "    board.append(input())\n",
        "  \n",
        "  x, y = 0, 0\n",
        "  for i in range(n):\n",
        "    for j in range(m):\n",
        "      if board[i][j] == 'I':\n",
        "        x, y = i, j\n",
        "        break\n",
        "\n",
        "  chk = [[0 for _ in range(m)] for _ in range(n)]\n",
        "  chk[x][y] = 1\n",
        "  dfs(x, y)\n",
        "  if max_cnt == 0 :\n",
        "    print('TT')\n",
        "  else:\n",
        "    print(max_cnt)"
      ],
      "metadata": {
        "id": "IL4psK59jhuP",
        "colab": {
          "base_uri": "https://localhost:8080/"
        },
        "outputId": "acb5ad42-bacd-4d8d-c8b1-f9f77cfa9eb9"
      },
      "execution_count": 32,
      "outputs": [
        {
          "output_type": "stream",
          "name": "stdout",
          "text": [
            "3 3\n",
            "IOX\n",
            "OXP\n",
            "XPP\n",
            "TT\n"
          ]
        }
      ]
    },
    {
      "cell_type": "code",
      "source": [
        ""
      ],
      "metadata": {
        "id": "3Rwwi5YYmNf3"
      },
      "execution_count": null,
      "outputs": []
    },
    {
      "cell_type": "code",
      "source": [
        ""
      ],
      "metadata": {
        "id": "kyYGSqMqmNlc"
      },
      "execution_count": null,
      "outputs": []
    }
  ]
}