{
  "nbformat": 4,
  "nbformat_minor": 0,
  "metadata": {
    "colab": {
      "name": "boj2178_미로_s1.ipynb",
      "provenance": [],
      "collapsed_sections": []
    },
    "kernelspec": {
      "display_name": "Python 3",
      "name": "python3"
    },
    "language_info": {
      "name": "python"
    }
  },
  "cells": [
    {
      "cell_type": "markdown",
      "metadata": {
        "id": "jtf7Q4Hv_tob"
      },
      "source": [
        "https://www.acmicpc.net/problem/2178\n"
      ]
    },
    {
      "cell_type": "markdown",
      "metadata": {
        "id": "5YT5dwCB7gDL"
      },
      "source": [
        "Concept. BFS ✨\n",
        "\n",
        "DFS 와 메모이제이션으로 탐색하면 시간 내에 풀이할 수 없다. \n",
        "\n",
        "deque 에 다음에 방문해야할 노드들을 넣고, deque 에서 노드를 하나씩 꺼내면서 해당 위치를 방문한다.\n",
        "\n",
        "이때 방문했던 위치를 다시 방문하지 않기 위해 board 의 해당 위치 값을 0 으로 표시해주어야 한다.\n",
        "\n",
        "**distance를 1씩 증가시켜나가는데 왜 최소값이 나올까?**\n",
        "\n",
        "위치값이 0 으로 앞에서 표시되면, 해당 위치는 탐색하지 않게 되므로 ( 모든 위치를 단 1번씩만 탐색하게 되므로 ) distance 를 1씩만 증가시키며 각 위치까지의 거리를 계산해도 최소 거리를 계산할 수 있다"
      ]
    },
    {
      "cell_type": "code",
      "metadata": {
        "id": "zzvauhclgrka"
      },
      "source": [
        ""
      ],
      "execution_count": null,
      "outputs": []
    },
    {
      "cell_type": "markdown",
      "metadata": {
        "id": "MowsFKyChYiz"
      },
      "source": [
        "## BFS 를 이용한 풀이"
      ]
    },
    {
      "cell_type": "code",
      "metadata": {
        "id": "tLyuO4mdhX78"
      },
      "source": [
        "from collections import deque"
      ],
      "execution_count": 177,
      "outputs": []
    },
    {
      "cell_type": "code",
      "metadata": {
        "colab": {
          "base_uri": "https://localhost:8080/"
        },
        "id": "bx6c0kXNhXtt",
        "outputId": "d1ea4872-43bb-45b1-904e-e7eff12be5bb"
      },
      "source": [
        "n, m = map(int, input().split())"
      ],
      "execution_count": 201,
      "outputs": [
        {
          "name": "stdout",
          "output_type": "stream",
          "text": [
            "4 6\n"
          ]
        }
      ]
    },
    {
      "cell_type": "code",
      "metadata": {
        "id": "TRJg2X_chXt2"
      },
      "source": [
        "board = []"
      ],
      "execution_count": 202,
      "outputs": []
    },
    {
      "cell_type": "code",
      "metadata": {
        "colab": {
          "base_uri": "https://localhost:8080/"
        },
        "id": "TjEA66KbhXt3",
        "outputId": "1ed3ca0d-81fe-419f-df06-44696d48f04a"
      },
      "source": [
        "for _ in range(n) :\n",
        "  board.append(list(map(int, list(input()))))"
      ],
      "execution_count": 203,
      "outputs": [
        {
          "name": "stdout",
          "output_type": "stream",
          "text": [
            "101111\n",
            "101010\n",
            "101011\n",
            "111011\n"
          ]
        }
      ]
    },
    {
      "cell_type": "code",
      "metadata": {
        "id": "0fpwD0MShX-I"
      },
      "source": [
        "dq = deque()"
      ],
      "execution_count": 204,
      "outputs": []
    },
    {
      "cell_type": "code",
      "metadata": {
        "id": "BzStejkFmaS0"
      },
      "source": [
        "dq.append((0, 0))"
      ],
      "execution_count": 205,
      "outputs": []
    },
    {
      "cell_type": "code",
      "metadata": {
        "id": "2TIRIJaGlkDZ"
      },
      "source": [
        "dis = [ [ 0 for _ in range(m) ] for _ in range(n) ]"
      ],
      "execution_count": 206,
      "outputs": []
    },
    {
      "cell_type": "code",
      "metadata": {
        "id": "_NhREToxmUOW"
      },
      "source": [
        "dis[0][0] = 1"
      ],
      "execution_count": 207,
      "outputs": []
    },
    {
      "cell_type": "code",
      "metadata": {
        "id": "j1bZWG4PshGe"
      },
      "source": [
        "go_x = [1, -1, 0, 0]\n",
        "go_y = [0, 0, -1, 1]"
      ],
      "execution_count": 209,
      "outputs": []
    },
    {
      "cell_type": "code",
      "metadata": {
        "id": "ZCrkjjh6k6fS"
      },
      "source": [
        "while dq :\n",
        "  pos = dq.popleft()\n",
        "  for k in range(4) :\n",
        "    new_x = pos[0] + go_x[k]\n",
        "    new_y = pos[1] + go_y[k]     \n",
        "\n",
        "    if 0 <= new_x < n and 0 <= new_y < m and board[new_x][new_y] == 1 :\n",
        "      dis[new_x][new_y] = dis[pos[0]][pos[1]] + 1 \n",
        "      board[new_x][new_y] = 0\n",
        "      dq.append((new_x, new_y))"
      ],
      "execution_count": 210,
      "outputs": []
    },
    {
      "cell_type": "code",
      "metadata": {
        "colab": {
          "base_uri": "https://localhost:8080/"
        },
        "id": "aekSmpFOhYCx",
        "outputId": "7cfd574e-6f43-4937-d0e2-f7731cb5f55a"
      },
      "source": [
        "print(dis[-1][-1])"
      ],
      "execution_count": 211,
      "outputs": [
        {
          "output_type": "execute_result",
          "data": {
            "text/plain": [
              "16"
            ]
          },
          "metadata": {},
          "execution_count": 211
        }
      ]
    },
    {
      "cell_type": "code",
      "metadata": {
        "id": "VCG16Jo9nq-p"
      },
      "source": [
        ""
      ],
      "execution_count": null,
      "outputs": []
    },
    {
      "cell_type": "code",
      "metadata": {
        "id": "MsgpVGBvnrA2"
      },
      "source": [
        ""
      ],
      "execution_count": null,
      "outputs": []
    },
    {
      "cell_type": "code",
      "metadata": {
        "id": "1R59gA9dhYEq"
      },
      "source": [
        ""
      ],
      "execution_count": null,
      "outputs": []
    },
    {
      "cell_type": "markdown",
      "metadata": {
        "id": "BKAffxetgrsq"
      },
      "source": [
        "## DFS 로 풀 수 없는 문제"
      ]
    },
    {
      "cell_type": "markdown",
      "metadata": {
        "id": "I1jv5RXigv_S"
      },
      "source": [
        "* DFS 로 왜 풀 수 없을까?\n",
        "\n",
        "모든 경로를 탐색하지 않고 한칸씩만 방문하면 최단 경로라는 보장이 없으므로 틀리고, DFS 로 모든 가능한 경로를 탐색하게되면 지수의 시간복잡도를 가지므로 1초라는 시간 안에 풀이할 수 없음\n",
        "\n",
        "좌표들에 대해 메모이제이션 하는 방법을 변형한 풀이가 있지만 BFS의 방법보다 복잡하므로 BFS 를 사용하는 것이 가장 효율적인 풀이"
      ]
    },
    {
      "cell_type": "code",
      "metadata": {
        "colab": {
          "base_uri": "https://localhost:8080/"
        },
        "id": "ULG1Di4-V1es",
        "outputId": "76d77af9-b094-4eb5-f9bd-45f260c69a84"
      },
      "source": [
        "n, m = map(int, input().split())"
      ],
      "execution_count": 26,
      "outputs": [
        {
          "name": "stdout",
          "output_type": "stream",
          "text": [
            "5 3\n"
          ]
        }
      ]
    },
    {
      "cell_type": "code",
      "metadata": {
        "id": "iuoWWW_aYGyn"
      },
      "source": [
        "board = []"
      ],
      "execution_count": 27,
      "outputs": []
    },
    {
      "cell_type": "code",
      "metadata": {
        "colab": {
          "base_uri": "https://localhost:8080/"
        },
        "id": "RXxEehWkYioB",
        "outputId": "17e7bbc6-5ec5-4ab1-fd31-d8ea30aff98c"
      },
      "source": [
        "for _ in range(n) :\n",
        "  board.append(list(map(int, list(input()))))"
      ],
      "execution_count": 28,
      "outputs": [
        {
          "name": "stdout",
          "output_type": "stream",
          "text": [
            "111\n",
            "001\n",
            "111\n",
            "100\n",
            "111\n"
          ]
        }
      ]
    },
    {
      "cell_type": "code",
      "metadata": {
        "id": "hhPo-UBcbaFe"
      },
      "source": [
        "dp = [ [ 0 for _ in range(m) ] for _ in range(n) ]"
      ],
      "execution_count": 29,
      "outputs": []
    },
    {
      "cell_type": "code",
      "metadata": {
        "id": "HauSTgGTYvnW"
      },
      "source": [
        "def dfs(x, y) :\n",
        "  go_x = [1, -1, 0, 0]\n",
        "  go_y = [0, 0, -1, 1]  \n",
        "\n",
        "  for i in range(4) :\n",
        "    new_x = x + go_x[i]\n",
        "    new_y = y + go_y[i]\n",
        "\n",
        "    if 0 <= new_x < n and 0 <= new_y < m and board[new_x][new_y] == 1 :\n",
        "      dp[new_x][new_y] = dp[x][y] + 1\n",
        "      board[new_x][new_y] = 0\n",
        "      dfs(new_x, new_y)"
      ],
      "execution_count": 30,
      "outputs": []
    },
    {
      "cell_type": "code",
      "metadata": {
        "id": "-v1fYE_pYvps"
      },
      "source": [
        "dfs(0, 0)"
      ],
      "execution_count": 31,
      "outputs": []
    },
    {
      "cell_type": "code",
      "metadata": {
        "colab": {
          "base_uri": "https://localhost:8080/"
        },
        "id": "rzuiuQBWYvsI",
        "outputId": "3e784338-39c1-480b-e487-289a4c538504"
      },
      "source": [
        "print(dp[-1][-1] + 1)"
      ],
      "execution_count": 32,
      "outputs": [
        {
          "output_type": "stream",
          "name": "stdout",
          "text": [
            "11\n"
          ]
        }
      ]
    },
    {
      "cell_type": "code",
      "metadata": {
        "id": "kIO0OzbdYvuq"
      },
      "source": [
        ""
      ],
      "execution_count": null,
      "outputs": []
    }
  ]
}