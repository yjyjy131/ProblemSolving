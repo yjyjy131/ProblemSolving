{
  "nbformat": 4,
  "nbformat_minor": 0,
  "metadata": {
    "colab": {
      "name": "boj24445_알고리즘 수업 - 너비 우선 탐색 2_s2.ipynb",
      "provenance": [],
      "collapsed_sections": [],
      "authorship_tag": "ABX9TyPdIEZhcIh4bo++N2q21C3S",
      "include_colab_link": true
    },
    "kernelspec": {
      "name": "python3",
      "display_name": "Python 3"
    },
    "language_info": {
      "name": "python"
    }
  },
  "cells": [
    {
      "cell_type": "markdown",
      "metadata": {
        "id": "view-in-github",
        "colab_type": "text"
      },
      "source": [
        "<a href=\"https://colab.research.google.com/github/yjyjy131/ProblemSolving/blob/main/dfs_bfs/boj24445_%EC%95%8C%EA%B3%A0%EB%A6%AC%EC%A6%98_%EC%88%98%EC%97%85_%EB%84%88%EB%B9%84_%EC%9A%B0%EC%84%A0_%ED%83%90%EC%83%89_2_s2.ipynb\" target=\"_parent\"><img src=\"https://colab.research.google.com/assets/colab-badge.svg\" alt=\"Open In Colab\"/></a>"
      ]
    },
    {
      "cell_type": "code",
      "source": [
        "from collections import deque\n",
        "def bfs(graph, visited, start):\n",
        "  q = deque([start])\n",
        "  visited[start] = 1\n",
        "  order = 2\n",
        "\n",
        "  while q:\n",
        "    next = q.popleft()\n",
        "    for n_idx in graph[next]:\n",
        "      if visited[n_idx] == 0 :\n",
        "          q.append(n_idx)\n",
        "          visited[n_idx] = order\n",
        "          order += 1\n",
        "\n",
        "\n",
        "if __name__ == '__main__':\n",
        "  n, m, r = map(int, input().split())\n",
        "  graph = [[] for _ in range(n+1)]\n",
        "  visited = [0] * (n+1)\n",
        "\n",
        "  for _ in range(m):\n",
        "    a, b = map(int, input().split())\n",
        "    graph[a].append(b)\n",
        "    graph[b].append(a)\n",
        "\n",
        "  for i in range(n+1):\n",
        "    graph[i].sort()\n",
        "    graph[i].reverse()\n",
        "  \n",
        "  bfs(graph, visited, r)\n",
        "  for v in visited[1:]:\n",
        "    print(v)\n",
        "\n",
        "  "
      ],
      "metadata": {
        "colab": {
          "base_uri": "https://localhost:8080/"
        },
        "id": "_XMY8B87hSZq",
        "outputId": "fb5e958b-f039-4a06-fb08-809921477d5c"
      },
      "execution_count": 18,
      "outputs": [
        {
          "output_type": "stream",
          "name": "stdout",
          "text": [
            "5 5 1\n",
            "1 4\n",
            "1 2\n",
            "2 3\n",
            "2 4\n",
            "3 4\n",
            "1\n",
            "3\n",
            "4\n",
            "2\n",
            "0\n"
          ]
        }
      ]
    },
    {
      "cell_type": "code",
      "source": [
        ""
      ],
      "metadata": {
        "id": "s6j78hIKhTJY"
      },
      "execution_count": null,
      "outputs": []
    }
  ]
}