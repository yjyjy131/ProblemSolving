{
  "nbformat": 4,
  "nbformat_minor": 0,
  "metadata": {
    "colab": {
      "name": "boj1743_음식물피하기_s1.ipynb",
      "provenance": [],
      "collapsed_sections": []
    },
    "kernelspec": {
      "display_name": "Python 3",
      "name": "python3"
    },
    "language_info": {
      "name": "python"
    }
  },
  "cells": [
    {
      "cell_type": "markdown",
      "metadata": {
        "id": "jtf7Q4Hv_tob"
      },
      "source": [
        "https://www.acmicpc.net/problem/1743\n"
      ]
    },
    {
      "cell_type": "markdown",
      "metadata": {
        "id": "5YT5dwCB7gDL"
      },
      "source": [
        "Concept. BFS"
      ]
    },
    {
      "cell_type": "code",
      "metadata": {
        "id": "P_42vA07DODO"
      },
      "source": [
        "from collections import deque"
      ],
      "execution_count": 337,
      "outputs": []
    },
    {
      "cell_type": "code",
      "metadata": {
        "colab": {
          "base_uri": "https://localhost:8080/"
        },
        "id": "T4YqH8DW96Sr",
        "outputId": "ad767dd8-f80f-4ec4-964f-673ffcdaaac5"
      },
      "source": [
        "n, m, k = map(int, input().split())"
      ],
      "execution_count": 378,
      "outputs": [
        {
          "name": "stdout",
          "output_type": "stream",
          "text": [
            "3 4 5\n"
          ]
        }
      ]
    },
    {
      "cell_type": "code",
      "metadata": {
        "id": "aVHd8jBf-BsT"
      },
      "source": [
        "board = [ [0 for _ in range(m) ] for _ in range(n) ] "
      ],
      "execution_count": 399,
      "outputs": []
    },
    {
      "cell_type": "code",
      "metadata": {
        "colab": {
          "base_uri": "https://localhost:8080/"
        },
        "id": "C6Ma4mBa96Us",
        "outputId": "85a8d9ce-96c3-4ad1-cf3b-ce3a943ff72e"
      },
      "source": [
        "for _ in range(k) :\n",
        "  i, j  = map(int, input().split())\n",
        "  board[i-1][j-1] = 1"
      ],
      "execution_count": 400,
      "outputs": [
        {
          "name": "stdout",
          "output_type": "stream",
          "text": [
            "3 2\n",
            "2 2 \n",
            "3 1\n",
            "1 1\n",
            "2 3\n"
          ]
        }
      ]
    },
    {
      "cell_type": "code",
      "metadata": {
        "id": "FVpNXM49DQHS"
      },
      "source": [
        "dq = deque()"
      ],
      "execution_count": 401,
      "outputs": []
    },
    {
      "cell_type": "code",
      "metadata": {
        "id": "bMZRuhm_Dgfq"
      },
      "source": [
        "go_x = [1, -1, 0, 0]\n",
        "go_y = [0, 0, 1, -1]"
      ],
      "execution_count": 403,
      "outputs": []
    },
    {
      "cell_type": "code",
      "metadata": {
        "id": "SX-Zr_1tD1sy"
      },
      "source": [
        "res = 0"
      ],
      "execution_count": 404,
      "outputs": []
    },
    {
      "cell_type": "code",
      "metadata": {
        "id": "6vmpzQpTDNRx"
      },
      "source": [
        "for i in range(n) :\n",
        "  for j in range(m) :\n",
        "    if board[i][j] == 1:\n",
        "      cnt = 0\n",
        "      dq.append((i, j))\n",
        "\n",
        "      while dq :\n",
        "        pos = dq.popleft()\n",
        "        x = pos[0]\n",
        "        y = pos[1]\n",
        "        res = max(res, cnt)\n",
        "\n",
        "        for s in range(4) :\n",
        "            new_x = x + go_x[s]\n",
        "            new_y = y + go_y[s]\n",
        "\n",
        "            if 0 <= new_x < n and 0 <= new_y < m and board[new_x][new_y] == 1:\n",
        "              board[new_x][new_y] = 0\n",
        "              cnt += 1\n",
        "              dq.append((new_x, new_y))\n",
        "\n",
        "      res = max(cnt, res)"
      ],
      "execution_count": 405,
      "outputs": []
    },
    {
      "cell_type": "code",
      "metadata": {
        "colab": {
          "base_uri": "https://localhost:8080/"
        },
        "id": "lcIkmdk0Doxy",
        "outputId": "6fe157d9-d288-4d83-aa80-544e28711f0c"
      },
      "source": [
        "print(res)"
      ],
      "execution_count": 406,
      "outputs": [
        {
          "output_type": "execute_result",
          "data": {
            "text/plain": [
              "4"
            ]
          },
          "metadata": {},
          "execution_count": 406
        }
      ]
    },
    {
      "cell_type": "code",
      "metadata": {
        "id": "0jkt7BCEDo0c"
      },
      "source": [
        ""
      ],
      "execution_count": null,
      "outputs": []
    }
  ]
}