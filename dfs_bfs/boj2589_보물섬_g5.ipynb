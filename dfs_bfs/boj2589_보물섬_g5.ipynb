{
  "nbformat": 4,
  "nbformat_minor": 0,
  "metadata": {
    "colab": {
      "name": "boj2589_보물섬_g5.ipynb",
      "provenance": [],
      "collapsed_sections": []
    },
    "kernelspec": {
      "display_name": "Python 3",
      "name": "python3"
    },
    "language_info": {
      "name": "python"
    }
  },
  "cells": [
    {
      "cell_type": "markdown",
      "metadata": {
        "id": "jtf7Q4Hv_tob"
      },
      "source": [
        "https://www.acmicpc.net/problem/2589"
      ]
    },
    {
      "cell_type": "markdown",
      "metadata": {
        "id": "5YT5dwCB7gDL"
      },
      "source": [
        "Concept. BFS ✨\n",
        "\n",
        "**1 ) 한번 간 길은 가지 않기때문에 따로 체크해야 함**\n",
        "\n",
        "\n",
        "2 ) board에 수를 더해나가고 있기에 **숫자와 알파벳이 공존하므로** == 'L' 로 체크하는 것이 아니라 != 'W' 로 체크해야함"
      ]
    },
    {
      "cell_type": "code",
      "metadata": {
        "id": "ikTDJ7WBrRQZ"
      },
      "source": [
        "from collections import deque"
      ],
      "execution_count": 80,
      "outputs": []
    },
    {
      "cell_type": "code",
      "metadata": {
        "colab": {
          "base_uri": "https://localhost:8080/"
        },
        "id": "YT6jEMjSmNns",
        "outputId": "30c38765-697d-4d5c-9be4-b47781a27265"
      },
      "source": [
        "n, m = map(int, input().split())"
      ],
      "execution_count": 128,
      "outputs": [
        {
          "name": "stdout",
          "output_type": "stream",
          "text": [
            "7 7\n"
          ]
        }
      ]
    },
    {
      "cell_type": "code",
      "metadata": {
        "id": "QCfJUcrumNp7"
      },
      "source": [
        "board = []"
      ],
      "execution_count": 129,
      "outputs": []
    },
    {
      "cell_type": "code",
      "metadata": {
        "colab": {
          "base_uri": "https://localhost:8080/"
        },
        "id": "Q3M3gOXomNr5",
        "outputId": "2f39d552-9fe2-4225-fa60-c26fef4c3060"
      },
      "source": [
        "for _ in range(n) :\n",
        "  board.append(list(input().rstrip()))"
      ],
      "execution_count": 130,
      "outputs": [
        {
          "name": "stdout",
          "output_type": "stream",
          "text": [
            "LWWWWWW\n",
            "WLLLWWW\n",
            "WLLLWWW\n",
            "WLLLWWW\n",
            "WWWWLLW\n",
            "WLLLLLW\n",
            "WLLWWWL\n"
          ]
        }
      ]
    },
    {
      "cell_type": "code",
      "metadata": {
        "id": "Wx9qYZKgsa8p"
      },
      "source": [
        "res = 0"
      ],
      "execution_count": 142,
      "outputs": []
    },
    {
      "cell_type": "code",
      "metadata": {
        "id": "kfjtVi2lp0Oh"
      },
      "source": [
        "# x, y 에 대한 최단 거리를 구하고, 그 최단 거리들 중에서 최대의 거리를 리턴한다. \n",
        "def chk_dis(x, y) :\n",
        "  go_x = [ 1, -1, 0, 0 ]\n",
        "  go_y = [ 0, 0, 1, -1 ]\n",
        "\n",
        "  dq = deque()\n",
        "  dq.append((x, y))\n",
        "\n",
        "  max_n = 0\n",
        "\n",
        "  while dq :\n",
        "    pos = dq.popleft()\n",
        "    x, y = pos[0], pos[1]\n",
        "\n",
        "    for i in range(4) :\n",
        "      nx, ny = x + go_x[i], y + go_y[i]\n",
        "\n",
        "      if 0 <= nx < n and 0 <= ny < m and board[nx][ny] != 'W' and visit[nx][ny] == 0 :\n",
        "        board[nx][ny] = board[x][y] + 1\n",
        "        visit[nx][ny] = 1 \n",
        "        dq.append((nx, ny))\n",
        "        max_n = max(max_n, board[nx][ny])\n",
        "\n",
        "  return max_n"
      ],
      "execution_count": 139,
      "outputs": []
    },
    {
      "cell_type": "code",
      "metadata": {
        "id": "5bg11yANpsKL"
      },
      "source": [
        "for i in range(n) :\n",
        "  for j in range(m) :\n",
        "    if board[i][j] != 'W' :\n",
        "      visit = [ [ 0 for _ in range(m) ] for _ in range(n) ]\n",
        "      board[i][j] = 0\n",
        "      visit[i][j] = 1\n",
        "      res = max(res, chk_dis(i, j))"
      ],
      "execution_count": 140,
      "outputs": []
    },
    {
      "cell_type": "code",
      "metadata": {
        "colab": {
          "base_uri": "https://localhost:8080/"
        },
        "id": "vx9G2IQYpeHW",
        "outputId": "f082228a-e19c-4a5c-a2b3-9cba899183c4"
      },
      "source": [
        "print(res)"
      ],
      "execution_count": 141,
      "outputs": [
        {
          "output_type": "stream",
          "name": "stdout",
          "text": [
            "6\n"
          ]
        }
      ]
    }
  ]
}