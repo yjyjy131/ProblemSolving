{
  "nbformat": 4,
  "nbformat_minor": 0,
  "metadata": {
    "colab": {
      "name": "boj24444_알고리즘 수업 - 너비 우선 탐색 1_s2.ipynb",
      "provenance": [],
      "collapsed_sections": [],
      "authorship_tag": "ABX9TyOQpBwaJRf0VzqxOz5Iqpye",
      "include_colab_link": true
    },
    "kernelspec": {
      "name": "python3",
      "display_name": "Python 3"
    },
    "language_info": {
      "name": "python"
    }
  },
  "cells": [
    {
      "cell_type": "markdown",
      "metadata": {
        "id": "view-in-github",
        "colab_type": "text"
      },
      "source": [
        "<a href=\"https://colab.research.google.com/github/yjyjy131/ProblemSolving/blob/main/dfs_bfs/boj24444_%EC%95%8C%EA%B3%A0%EB%A6%AC%EC%A6%98_%EC%88%98%EC%97%85_%EB%84%88%EB%B9%84_%EC%9A%B0%EC%84%A0_%ED%83%90%EC%83%89_1_s2.ipynb\" target=\"_parent\"><img src=\"https://colab.research.google.com/assets/colab-badge.svg\" alt=\"Open In Colab\"/></a>"
      ]
    },
    {
      "cell_type": "code",
      "source": [
        "import sys\n",
        "from collections import deque\n",
        "\n",
        "def bfs(graph, strt, visited):\n",
        "  q = deque([strt])\n",
        "  visited[strt] = 1\n",
        "  order = 2\n",
        "\n",
        "  while q:\n",
        "    node = q.popleft()\n",
        "    for next in graph[node]:\n",
        "      if visited[next] == 0 :\n",
        "          q.append(next)\n",
        "          visited[next] = order\n",
        "          order += 1\n",
        "\n",
        "if __name__ == '__main__':\n",
        "  n, m, r = map(int, input().split())\n",
        "  graph = [[] for _ in range(n+1)]\n",
        "  visited = [ 0 for _ in range(n+1)]\n",
        "\n",
        "  for i in range(m):\n",
        "    a, b = map(int, input().split())\n",
        "    graph[a].append(b)\n",
        "    graph[b].append(a)\n",
        "\n",
        "  for i in range(n+1):\n",
        "    graph[i].sort()\n",
        "\n",
        "  bfs(graph, r, visited)\n",
        "  for i in visited[1:]:\n",
        "      print(i)"
      ],
      "metadata": {
        "colab": {
          "base_uri": "https://localhost:8080/"
        },
        "id": "Gcvqbys9pNlS",
        "outputId": "4e2c5afd-c73e-4263-8f70-0c85b5554687"
      },
      "execution_count": 33,
      "outputs": [
        {
          "output_type": "stream",
          "name": "stdout",
          "text": [
            "5 5 1\n",
            "1 4\n",
            "1 2\n",
            "2 3\n",
            "2 4\n",
            "3 4\n",
            "[0, 1, 2, 4, 3, 0]\n",
            "1\n",
            "2\n",
            "4\n",
            "3\n",
            "0\n"
          ]
        }
      ]
    },
    {
      "cell_type": "code",
      "source": [
        "  for i in visited[1:]:\n",
        "      print(i)"
      ],
      "metadata": {
        "colab": {
          "base_uri": "https://localhost:8080/"
        },
        "id": "3jAJPbTTv7lw",
        "outputId": "91797b96-0595-4773-9b29-13c74340c47f"
      },
      "execution_count": 34,
      "outputs": [
        {
          "output_type": "stream",
          "name": "stdout",
          "text": [
            "1\n",
            "2\n",
            "4\n",
            "3\n",
            "0\n"
          ]
        }
      ]
    },
    {
      "cell_type": "code",
      "source": [
        ""
      ],
      "metadata": {
        "id": "UQtYJk-ovE-A"
      },
      "execution_count": null,
      "outputs": []
    }
  ]
}