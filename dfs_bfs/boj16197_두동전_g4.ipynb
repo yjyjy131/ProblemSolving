{
  "nbformat": 4,
  "nbformat_minor": 0,
  "metadata": {
    "colab": {
      "name": "boj16197_두동전_g4.ipynb",
      "provenance": [],
      "collapsed_sections": []
    },
    "kernelspec": {
      "display_name": "Python 3",
      "name": "python3"
    },
    "language_info": {
      "name": "python"
    }
  },
  "cells": [
    {
      "cell_type": "markdown",
      "metadata": {
        "id": "jtf7Q4Hv_tob"
      },
      "source": [
        "https://www.acmicpc.net/problem/16197"
      ]
    },
    {
      "cell_type": "markdown",
      "metadata": {
        "id": "5YT5dwCB7gDL"
      },
      "source": [
        "Concept. BFS\n",
        "\n",
        "몇 가지 주의해야할 점이 있다. \n",
        "\n",
        "1 ) DFS 를 사용하면 안된다. DFS 로 탐색한다면 해당 경로가 항상 최단경로가 아니기 때문이다. \n",
        "\n",
        "2 ) 최단경로를 탐색할 수 있도록 BFS 로 탐색하되, visited 는 체크하지 않는다. 현재 위치에 동전이 머무르는 경우가 있기 때문이다. \n",
        "\n",
        "3 ) 조건을 체크할 때 세분화 하는 것이 중요하다. 두 동전의 다음 좌표가 모두 범위 안에 있는지, 벽이 있어서 제자리에 머무르는지, 두 동전이 모두 밖인지, 한 동전만 범위 밖인지 등을 모두 체크해야 풀 수 있다. "
      ]
    },
    {
      "cell_type": "code",
      "metadata": {
        "id": "4tE0jCpHDsXY"
      },
      "source": [
        "from collections import deque"
      ],
      "execution_count": 3,
      "outputs": []
    },
    {
      "cell_type": "code",
      "metadata": {
        "colab": {
          "base_uri": "https://localhost:8080/"
        },
        "id": "_nRngBbuDS4m",
        "outputId": "3daf4620-f6d7-4d4c-c347-5624a207907f"
      },
      "source": [
        "n, m = map(int, input().split())"
      ],
      "execution_count": 227,
      "outputs": [
        {
          "name": "stdout",
          "output_type": "stream",
          "text": [
            "5 3\n"
          ]
        }
      ]
    },
    {
      "cell_type": "code",
      "metadata": {
        "id": "P6ifHeyfDS6w"
      },
      "source": [
        "board = []"
      ],
      "execution_count": 32,
      "outputs": []
    },
    {
      "cell_type": "code",
      "metadata": {
        "colab": {
          "base_uri": "https://localhost:8080/"
        },
        "id": "KP1FCCHhDS8q",
        "outputId": "570fa282-ac4e-429b-d54b-9ebcbb5d4e82"
      },
      "source": [
        "for _ in range(n) : board.append(list(input()))"
      ],
      "execution_count": 33,
      "outputs": [
        {
          "name": "stdout",
          "output_type": "stream",
          "text": [
            "###\n",
            ".o.\n",
            "#.#\n",
            ".o.\n",
            "###\n"
          ]
        }
      ]
    },
    {
      "cell_type": "code",
      "metadata": {
        "id": "HrX1_CdzDrEY"
      },
      "source": [
        "coins = []\n",
        "for i in range(n) :\n",
        "  for j in range(m) :\n",
        "    if board[i][j] == 'o' :\n",
        "      coins.append((i, j))\n",
        "      board[i][j] = '.'"
      ],
      "execution_count": 229,
      "outputs": []
    },
    {
      "cell_type": "code",
      "metadata": {
        "id": "fu6oVpQ0FlEp"
      },
      "source": [
        "res = []"
      ],
      "execution_count": 230,
      "outputs": []
    },
    {
      "cell_type": "code",
      "metadata": {
        "id": "xHn9rNySRPtx"
      },
      "source": [
        "# coin1_chk  = copy.deepcopy(board)\n",
        "# coin2_chk  = copy.deepcopy(board)\n",
        "coin1_chk = [[0 for _ in range(m)] for _ in range(n)]\n",
        "coin2_chk = [[0 for _ in range(m)] for _ in range(n)]"
      ],
      "execution_count": 231,
      "outputs": []
    },
    {
      "cell_type": "code",
      "metadata": {
        "id": "TkfBj3eoIwol"
      },
      "source": [
        "def bfs(coin1, coin2, cnt) :\n",
        "  go_x = [1, -1, 0, 0]\n",
        "  go_y = [0, 0, 1, -1]\n",
        "\n",
        "  dq = deque()\n",
        "  dq.append((coin1, coin2, cnt))\n",
        "\n",
        "  while dq :\n",
        "    coin1, coin2, cnt = dq.popleft()\n",
        "    x1, y1 = coin1[0], coin1[1]\n",
        "    x2, y2 = coin2[0], coin2[1]\n",
        "\n",
        "    if cnt > 10 : return \n",
        "\n",
        "    # print(f'coin1 : {x1} {y1} // coin2 : {x2} {y2}')\n",
        "\n",
        "    for i in range(4) :\n",
        "      nx1, ny1 = x1 + go_x[i], y1 + go_y[i]\n",
        "      nx2, ny2 = x2 + go_x[i], y2 + go_y[i]\n",
        "\n",
        "      # 범위 안에 있고, 벽이 아니고, 갔던 곳이 아님\n",
        "      # 동전 하나만. 범위 밖에 있음 \n",
        "\n",
        "      coin1_in = True\n",
        "      coin2_in = True\n",
        "\n",
        "      if nx1 < 0 or nx1 >= n or ny1 < 0 or ny1 >= m : coin1_in = False\n",
        "      if nx2 < 0 or nx2 >= n or ny2 < 0 or ny2 >= m : coin2_in = False      \n",
        "\n",
        "      # 범위 체크 \n",
        "      if coin1_in == False and coin2_in == False :\n",
        "        pass\n",
        "\n",
        "      elif coin1_in and coin2_in  :\n",
        "\n",
        "        # 둘 다 움직이는 경우 \n",
        "        if board[nx1][ny1] == '.' and board[nx2][ny2] == '.':\n",
        "            dq.append(((nx1, ny1), (nx2, ny2), cnt+1))\n",
        "        else :\n",
        "          # coin 1 만 움직이는 경우\n",
        "          if board[nx1][ny1] == '.' and board[nx2][ny2] == '#':\n",
        "            dq.append(((nx1, ny1), (x2, y2), cnt+1))\n",
        "\n",
        "          # coin2 만 움직이는 경우\n",
        "          if board[nx1][ny1] == '#' and board[nx2][ny2] == '.':\n",
        "            dq.append(((x1, y1), (nx2, ny2), cnt+1))\n",
        "\n",
        "      else :\n",
        "        print(f'new {nx1} {ny1} , {nx2} {ny2}, cnt : {cnt}')\n",
        "        res.append(cnt+1)\n"
      ],
      "execution_count": 232,
      "outputs": []
    },
    {
      "cell_type": "code",
      "metadata": {
        "id": "3JHIq9VUIwqn"
      },
      "source": [
        "bfs(coins[0], coins[1], 0)"
      ],
      "execution_count": null,
      "outputs": []
    },
    {
      "cell_type": "code",
      "metadata": {
        "colab": {
          "base_uri": "https://localhost:8080/"
        },
        "id": "DXntnKGxUiPn",
        "outputId": "60ac9319-1d56-4808-8f70-2b12d05dda93"
      },
      "source": [
        "if len(res) > 0 :\n",
        "  r = min(res)\n",
        "  if r > 10 : print(-1)\n",
        "  else : print(r)\n",
        "else :\n",
        "  print(-1)"
      ],
      "execution_count": 235,
      "outputs": [
        {
          "output_type": "stream",
          "name": "stdout",
          "text": [
            "3\n"
          ]
        }
      ]
    }
  ]
}