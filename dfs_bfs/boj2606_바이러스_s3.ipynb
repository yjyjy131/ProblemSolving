{
  "nbformat": 4,
  "nbformat_minor": 0,
  "metadata": {
    "colab": {
      "name": "boj2606_바이러스_s3.ipynb",
      "provenance": [],
      "collapsed_sections": []
    },
    "kernelspec": {
      "display_name": "Python 3",
      "name": "python3"
    },
    "language_info": {
      "name": "python"
    }
  },
  "cells": [
    {
      "cell_type": "markdown",
      "metadata": {
        "id": "jtf7Q4Hv_tob"
      },
      "source": [
        "https://www.acmicpc.net/problem/2606\n"
      ]
    },
    {
      "cell_type": "markdown",
      "metadata": {
        "id": "5YT5dwCB7gDL"
      },
      "source": [
        "Concept. 양방향 그래프 & DFS\n",
        "\n",
        "양방향 그래프에 컴퓨터 네트워크를 표시하고, 연결된 노드를 dfs 로 탐색한다\n"
      ]
    },
    {
      "cell_type": "code",
      "metadata": {
        "colab": {
          "base_uri": "https://localhost:8080/"
        },
        "id": "bR2T-NXXh_-K",
        "outputId": "fe25ee8a-ebaa-4f35-ecee-199a9174f5e0"
      },
      "source": [
        "all_n = int(input())"
      ],
      "execution_count": 69,
      "outputs": [
        {
          "name": "stdout",
          "output_type": "stream",
          "text": [
            "7\n"
          ]
        }
      ]
    },
    {
      "cell_type": "code",
      "metadata": {
        "colab": {
          "base_uri": "https://localhost:8080/"
        },
        "id": "v60KdMPxiAAR",
        "outputId": "e306f1cc-89f7-4187-88bf-b12c8dc88f41"
      },
      "source": [
        "net_n = int(input())"
      ],
      "execution_count": 71,
      "outputs": [
        {
          "name": "stdout",
          "output_type": "stream",
          "text": [
            "6\n"
          ]
        }
      ]
    },
    {
      "cell_type": "code",
      "metadata": {
        "id": "mZn7pl3UiYQA"
      },
      "source": [
        "chk = [[0] * (all_n+1) for _ in range(all_n+1)]"
      ],
      "execution_count": 72,
      "outputs": []
    },
    {
      "cell_type": "code",
      "metadata": {
        "colab": {
          "base_uri": "https://localhost:8080/"
        },
        "id": "hLPQOImYiACX",
        "outputId": "95d3984c-399e-4cac-eb83-a7532238af64"
      },
      "source": [
        "for _ in range(net_n) :\n",
        "  i, j = map(int, input().split())\n",
        "  chk[i][j] = 1\n",
        "  chk[j][i] = 1"
      ],
      "execution_count": 73,
      "outputs": [
        {
          "name": "stdout",
          "output_type": "stream",
          "text": [
            "1 2\n",
            "2 3\n",
            "1 5\n",
            "5 2\n",
            "5 6\n",
            "4 7\n"
          ]
        }
      ]
    },
    {
      "cell_type": "code",
      "metadata": {
        "id": "4LNTTSE9i8Ax"
      },
      "source": [
        "computer = [0] * (all_n +1)"
      ],
      "execution_count": 75,
      "outputs": []
    },
    {
      "cell_type": "code",
      "metadata": {
        "id": "Re8Wh7dfi8Mg"
      },
      "source": [
        "def dfs(x) :\n",
        "  if x == all_n + 2 : \n",
        "    return \n",
        "\n",
        "  for i in range(1, all_n+1) :\n",
        "    if chk[x][i] == 1 and computer[i] == 0:\n",
        "      computer[i] = 1\n",
        "      dfs(i)"
      ],
      "execution_count": 76,
      "outputs": []
    },
    {
      "cell_type": "code",
      "metadata": {
        "id": "9wDCl4nomFdq"
      },
      "source": [
        "dfs(1)"
      ],
      "execution_count": 77,
      "outputs": []
    },
    {
      "cell_type": "code",
      "metadata": {
        "colab": {
          "base_uri": "https://localhost:8080/"
        },
        "id": "9LdJ4D9ujPW9",
        "outputId": "db3b4f9c-83dc-43aa-9066-ff2551f42fa5"
      },
      "source": [
        "print(sum(computer[2:]))"
      ],
      "execution_count": 78,
      "outputs": [
        {
          "output_type": "stream",
          "name": "stdout",
          "text": [
            "4\n"
          ]
        }
      ]
    },
    {
      "cell_type": "code",
      "metadata": {
        "id": "x8GrZGmYjPZg"
      },
      "source": [
        ""
      ],
      "execution_count": null,
      "outputs": []
    }
  ]
}