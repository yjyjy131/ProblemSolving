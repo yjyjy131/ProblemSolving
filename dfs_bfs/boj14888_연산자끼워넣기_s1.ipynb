{
  "nbformat": 4,
  "nbformat_minor": 0,
  "metadata": {
    "colab": {
      "name": "boj14888_연산자끼워넣기_s1.ipynb",
      "provenance": [],
      "collapsed_sections": []
    },
    "kernelspec": {
      "display_name": "Python 3",
      "name": "python3"
    },
    "language_info": {
      "name": "python"
    }
  },
  "cells": [
    {
      "cell_type": "markdown",
      "metadata": {
        "id": "jtf7Q4Hv_tob"
      },
      "source": [
        "https://www.acmicpc.net/problem/14888\n"
      ]
    },
    {
      "cell_type": "markdown",
      "metadata": {
        "id": "lAQZCv9JgqO1"
      },
      "source": [
        "Concept. DFS 를 이용해 풀이할 수 있다. \n",
        "\n",
        "1 ) +-/* 연산자 중 하나를 사용할 때마다 연산자 count 를 -1 한다. \n",
        "\n",
        "2 ) 다음 dfs 재귀를 호출한다. 이 때, 해당 연산자를 사용한 연산값과 피연산자 위치를 함께 인자로 전달하여 계산한다. \n",
        "\n",
        "3 ) 다른 +-/* 연산자 사용 조합을 계산해야 하므로 연산자 count 상태를 원상복구한다.  "
      ]
    },
    {
      "cell_type": "code",
      "metadata": {
        "colab": {
          "base_uri": "https://localhost:8080/"
        },
        "id": "zFe1yGrw5Gtw",
        "outputId": "d2874155-3f2c-4fb9-9942-9d3cbb8d48bd"
      },
      "source": [
        "n = int(input())"
      ],
      "execution_count": 135,
      "outputs": [
        {
          "output_type": "stream",
          "text": [
            "2\n"
          ],
          "name": "stdout"
        }
      ]
    },
    {
      "cell_type": "code",
      "metadata": {
        "colab": {
          "base_uri": "https://localhost:8080/"
        },
        "id": "RtbqW_tS6_XW",
        "outputId": "8d174946-6bc7-418b-e6f2-2765e344d982"
      },
      "source": [
        "nums = list(map(int, input().split()))"
      ],
      "execution_count": 136,
      "outputs": [
        {
          "output_type": "stream",
          "text": [
            "5 6\n"
          ],
          "name": "stdout"
        }
      ]
    },
    {
      "cell_type": "code",
      "metadata": {
        "colab": {
          "base_uri": "https://localhost:8080/"
        },
        "id": "zVsLCEp_6_Y_",
        "outputId": "f99bc716-8b35-4ad3-cdcc-49eaf6543a33"
      },
      "source": [
        "cnt = list(map(int, input().split()))"
      ],
      "execution_count": 137,
      "outputs": [
        {
          "output_type": "stream",
          "text": [
            "0 0 1 0\n"
          ],
          "name": "stdout"
        }
      ]
    },
    {
      "cell_type": "code",
      "metadata": {
        "id": "BP7BtsZp9Bja"
      },
      "source": [
        "def calc(i, x, res) :\n",
        "  if i == 0 :\n",
        "    return res + nums[x]\n",
        "  \n",
        "  if i == 1:\n",
        "    return res - nums[x] \n",
        "  \n",
        "  if i == 2:\n",
        "    return res * nums[x]\n",
        "\n",
        "  if i == 3:\n",
        "    if res < 0 :\n",
        "      return ( res * (-1) // nums[x] ) * (-1)\n",
        "    else :\n",
        "      return res // nums[x]"
      ],
      "execution_count": 138,
      "outputs": []
    },
    {
      "cell_type": "code",
      "metadata": {
        "id": "dryD1P2d7Y2o"
      },
      "source": [
        "def dfs(x, res) :\n",
        "  if sum(cnt) == 0:\n",
        "    results.append(res)\n",
        "  else :\n",
        "    for i in range(4) :\n",
        "      if cnt[i] > 0 : \n",
        "        cnt[i] -= 1\n",
        "        dfs(x+1, calc(i, x, res))\n",
        "        cnt[i] += 1"
      ],
      "execution_count": 139,
      "outputs": []
    },
    {
      "cell_type": "code",
      "metadata": {
        "id": "RtMPaPvI8Oxa"
      },
      "source": [
        "results = []"
      ],
      "execution_count": 140,
      "outputs": []
    },
    {
      "cell_type": "code",
      "metadata": {
        "id": "wHZX34lf7Y7U"
      },
      "source": [
        "dfs(1, nums[0])"
      ],
      "execution_count": 141,
      "outputs": []
    },
    {
      "cell_type": "code",
      "metadata": {
        "colab": {
          "base_uri": "https://localhost:8080/"
        },
        "id": "iDMshdoxAJXP",
        "outputId": "9c1b01b6-5fac-41c7-b876-2cbac8efccb9"
      },
      "source": [
        "print(max(results))\n",
        "print(min(results))"
      ],
      "execution_count": 142,
      "outputs": [
        {
          "output_type": "stream",
          "text": [
            "30\n",
            "30\n"
          ],
          "name": "stdout"
        }
      ]
    },
    {
      "cell_type": "code",
      "metadata": {
        "id": "81K4VOESB3gh"
      },
      "source": [
        ""
      ],
      "execution_count": null,
      "outputs": []
    }
  ]
}