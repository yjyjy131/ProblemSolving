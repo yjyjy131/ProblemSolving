{
  "nbformat": 4,
  "nbformat_minor": 0,
  "metadata": {
    "colab": {
      "name": "boj16236_아기상어_g4.ipynb",
      "provenance": [],
      "collapsed_sections": []
    },
    "kernelspec": {
      "display_name": "Python 3",
      "name": "python3"
    },
    "language_info": {
      "name": "python"
    }
  },
  "cells": [
    {
      "cell_type": "markdown",
      "metadata": {
        "id": "jtf7Q4Hv_tob"
      },
      "source": [
        "https://www.acmicpc.net/problem/16236\n"
      ]
    },
    {
      "cell_type": "markdown",
      "metadata": {
        "id": "5YT5dwCB7gDL"
      },
      "source": [
        "Concept. BFS ✨\n",
        "\n",
        "**아기상어가 먹이를 먹을때마다, deque를 초기화해주어야하는 문제**\n",
        "\n",
        "1. 나보다 크기가 작은 물고기들의 위치를 탐색하고 정렬한다 ( 위 => 왼 순서로 먹어야 하므로 )\n",
        "2. 순서대로 물고기를 먹고, 시간을 계산해준다\n",
        "3. 아기상어 크기를 확인\n",
        "4. 다시 나보다 작은 물고기들의 위치를 탐색\n"
      ]
    },
    {
      "cell_type": "code",
      "metadata": {
        "id": "IIwZKQTSNGib"
      },
      "source": [
        ""
      ],
      "execution_count": null,
      "outputs": []
    },
    {
      "cell_type": "code",
      "metadata": {
        "id": "-0AAQvkANIkD"
      },
      "source": [
        "from collections import deque"
      ],
      "execution_count": 5,
      "outputs": []
    },
    {
      "cell_type": "code",
      "metadata": {
        "colab": {
          "base_uri": "https://localhost:8080/"
        },
        "id": "yxDquG3RNImr",
        "outputId": "e96b0c89-9239-4c0f-8e72-5a9c89a0483a"
      },
      "source": [
        "n = int(input())"
      ],
      "execution_count": 80,
      "outputs": [
        {
          "name": "stdout",
          "output_type": "stream",
          "text": [
            "4\n"
          ]
        }
      ]
    },
    {
      "cell_type": "code",
      "metadata": {
        "id": "swV-2UacNIph"
      },
      "source": [
        "board = []"
      ],
      "execution_count": 127,
      "outputs": []
    },
    {
      "cell_type": "code",
      "metadata": {
        "colab": {
          "base_uri": "https://localhost:8080/"
        },
        "id": "nWwwQGAaNIsX",
        "outputId": "1151ffe8-571e-4be4-a2b5-ba43d04192a2"
      },
      "source": [
        "for _ in range(n) : board.append(list(map(int, input().split()))) "
      ],
      "execution_count": 128,
      "outputs": [
        {
          "name": "stdout",
          "output_type": "stream",
          "text": [
            "4 3 2 1\n",
            "0 0 0 0\n",
            "0 0 9 0\n",
            "1 2 3 4\n"
          ]
        }
      ]
    },
    {
      "cell_type": "code",
      "metadata": {
        "id": "3NgoK1HbRx8t"
      },
      "source": [
        ""
      ],
      "execution_count": null,
      "outputs": []
    },
    {
      "cell_type": "code",
      "metadata": {
        "id": "ILLxHUlXNzxs"
      },
      "source": [
        "for i in range(n) :\n",
        "  for j in range(n) :\n",
        "    if board[i][j] == 9 :\n",
        "      s_x, s_y = i, j\n",
        "      board[i][j] = 0"
      ],
      "execution_count": 129,
      "outputs": []
    },
    {
      "cell_type": "code",
      "metadata": {
        "id": "KjD3K_0GOOZx"
      },
      "source": [
        "go_x = [-1, 0, 0, 1]\n",
        "go_y = [0, -1, 1, 0]"
      ],
      "execution_count": 130,
      "outputs": []
    },
    {
      "cell_type": "code",
      "metadata": {
        "id": "F6coZob-6cOe"
      },
      "source": [
        "def bfs(x, y) :\n",
        "  # q 는 현재위치 \n",
        "  # visited 는 bfs 사이클을 한 번 돌 때 먹었던 방문한 노드들을 체크 \n",
        "  q, visited = deque([(x, y)]), set([(x, y)])\n",
        "  time = 0\n",
        "  shark = 2\n",
        "  eat = 0\n",
        "  eat_flag = False # 물고기 먹었을때를 구분\n",
        "\n",
        "  answer = 0\n",
        "\n",
        "  while q :\n",
        "    size = len(q)\n",
        "\n",
        "    q = deque(sorted(q))\n",
        "\n",
        "    # 지나가야 하는 노드를 한번씩 방문하면서, 다음 노드로 가는 길을 체크 \n",
        "    # 현재 위치에 물고기가 있으면 먹고 다음 물고기 위치를 찾음\n",
        "    for _ in range(size) :\n",
        "      x, y = q.popleft()\n",
        "\n",
        "      # 상어가 고기를 먹었다면 보드에 먹은 고기를 0으로 바꾸고, eat 으로 먹은 개수 체크 \n",
        "      if 0 < board[x][y] < shark :\n",
        "        board[x][y] = 0\n",
        "        eat += 1\n",
        "\n",
        "        # 아기상어 크기만큼 먹어서 상어가 자랐다\n",
        "        if eat == shark :\n",
        "          shark += 1\n",
        "          eat = 0\n",
        "\n",
        "        # 물고기를 먹었으면 방문해야할 노드와 방문한 위치를 초기화해준다\n",
        "        q, visited = deque(), set([(x, y)])\n",
        "        eat_flag = True\n",
        "        answer = time\n",
        "\n",
        "      # 지금 위치에서 먹을 수 있는 물고기 위치를 탐색하되, 이미 방문한 위치는 제외한다. \n",
        "      for dx, dy in zip(go_x, go_y) :\n",
        "        nx, ny = x + dx, y + dy\n",
        "        if 0 <= nx < n and 0 <= ny < n and (nx, ny) not in visited :\n",
        "\n",
        "          # 지나갈 수 있다면 q 에 지나가야 하는 노드 추가 \n",
        "          if board[nx][ny] <= shark :\n",
        "            q.append((nx, ny))\n",
        "            visited.add((nx, ny))\n",
        "\n",
        "      # 현재 위치에서 물고기를 먹었다면 반복문을 더이상 돌지 않아도 된다\n",
        "      # 왜냐하면, 이미 물고리를 먹어서 다음에 먹어야할 물고기 위치가 변했기때문에, \n",
        "      # 다시 초기화된 q 를 기준으로 체크해나가야하기 때문임\n",
        "      if eat_flag :\n",
        "        eat_flag = False\n",
        "        break\n",
        "\n",
        "    time += 1\n",
        "\n",
        "  return answer\n"
      ],
      "execution_count": 131,
      "outputs": []
    },
    {
      "cell_type": "code",
      "metadata": {
        "colab": {
          "base_uri": "https://localhost:8080/"
        },
        "id": "P6Q9AjEE_f5R",
        "outputId": "de0d5e19-f9a1-448c-b945-843e0eafc366"
      },
      "source": [
        "bfs(s_x, s_y)"
      ],
      "execution_count": 132,
      "outputs": [
        {
          "output_type": "execute_result",
          "data": {
            "text/plain": [
              "14"
            ]
          },
          "metadata": {},
          "execution_count": 132
        }
      ]
    },
    {
      "cell_type": "code",
      "metadata": {
        "id": "JOEp8v0h_f7f"
      },
      "source": [
        ""
      ],
      "execution_count": null,
      "outputs": []
    }
  ]
}