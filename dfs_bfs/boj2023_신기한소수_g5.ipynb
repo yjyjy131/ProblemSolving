{
  "nbformat": 4,
  "nbformat_minor": 0,
  "metadata": {
    "colab": {
      "name": "boj2023_신기한소수_g5.ipynb",
      "provenance": [],
      "collapsed_sections": []
    },
    "kernelspec": {
      "display_name": "Python 3",
      "name": "python3"
    },
    "language_info": {
      "name": "python"
    }
  },
  "cells": [
    {
      "cell_type": "markdown",
      "metadata": {
        "id": "jtf7Q4Hv_tob"
      },
      "source": [
        "https://www.acmicpc.net/problem/2023"
      ]
    },
    {
      "cell_type": "markdown",
      "metadata": {
        "id": "5YT5dwCB7gDL"
      },
      "source": [
        "Concept. DFS"
      ]
    },
    {
      "cell_type": "markdown",
      "metadata": {
        "id": "Aa4VrEsYP0zW"
      },
      "source": [
        "소수를 구할 때, **2부터 제곱근(판별대상) 까지의 수를 모두 나눠보며 0 인지 아닌지를 확인하는 방법**을 사용하면 효율적으로 소수 여부를 검사할 수 있다."
      ]
    },
    {
      "cell_type": "code",
      "metadata": {
        "id": "i5oD_HlxwUSj"
      },
      "source": [
        "import math"
      ],
      "execution_count": 411,
      "outputs": []
    },
    {
      "cell_type": "code",
      "metadata": {
        "colab": {
          "base_uri": "https://localhost:8080/"
        },
        "id": "C1R8W73RwUUr",
        "outputId": "d5558580-cfb8-47fe-86f0-919830e399d7"
      },
      "source": [
        "n = int(input())"
      ],
      "execution_count": 325,
      "outputs": [
        {
          "name": "stdout",
          "output_type": "stream",
          "text": [
            "4\n"
          ]
        }
      ]
    },
    {
      "cell_type": "code",
      "metadata": {
        "id": "r_2hBHaxxxW0"
      },
      "source": [
        "first_val = [2, 3, 5, 7]"
      ],
      "execution_count": 412,
      "outputs": []
    },
    {
      "cell_type": "code",
      "metadata": {
        "id": "FiMGbmzLxwHx"
      },
      "source": [
        "res = []"
      ],
      "execution_count": 413,
      "outputs": []
    },
    {
      "cell_type": "code",
      "metadata": {
        "id": "-Q22PbpK0IeE"
      },
      "source": [
        "val = [1, 3, 5, 7, 9]"
      ],
      "execution_count": 414,
      "outputs": []
    },
    {
      "cell_type": "code",
      "metadata": {
        "id": "wX1MZZUxyHm4"
      },
      "source": [
        "def dfs(curr_s, cnt) :\n",
        "  if len(curr_s) == n :\n",
        "    res.append(curr_s)\n",
        "    return\n",
        "\n",
        "  else :\n",
        "    for i in range(5) :\n",
        "      tmp = curr_s + str(val[i])\n",
        "      chk = False\n",
        "\n",
        "      for j in range(2, int(math.sqrt(int(tmp))+1)) :\n",
        "        if int(tmp) % j == 0 :\n",
        "          chk = True\n",
        "          break \n",
        "      \n",
        "      if chk == False :\n",
        "        dfs(tmp, cnt+1)"
      ],
      "execution_count": 404,
      "outputs": []
    },
    {
      "cell_type": "code",
      "metadata": {
        "id": "NNjYSPbCynxB"
      },
      "source": [
        "for i in range(4) : dfs(str(first_val[i]), 1)"
      ],
      "execution_count": 415,
      "outputs": []
    },
    {
      "cell_type": "code",
      "metadata": {
        "colab": {
          "base_uri": "https://localhost:8080/"
        },
        "id": "GaL9BpGfwUZa",
        "outputId": "aac90e6c-234c-4d93-92f4-f14b93e8eabe"
      },
      "source": [
        "for r in res : print(r)"
      ],
      "execution_count": 418,
      "outputs": [
        {
          "output_type": "stream",
          "name": "stdout",
          "text": [
            "2333\n",
            "2339\n",
            "2393\n",
            "2399\n",
            "2939\n",
            "3119\n",
            "3137\n",
            "3733\n",
            "3739\n",
            "3793\n",
            "3797\n",
            "5939\n",
            "7193\n",
            "7331\n",
            "7333\n",
            "7393\n"
          ]
        }
      ]
    },
    {
      "cell_type": "code",
      "metadata": {
        "id": "ProOCSojwUbt"
      },
      "source": [
        ""
      ],
      "execution_count": null,
      "outputs": []
    }
  ]
}