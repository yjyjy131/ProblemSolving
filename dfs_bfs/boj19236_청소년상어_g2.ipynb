{
  "nbformat": 4,
  "nbformat_minor": 0,
  "metadata": {
    "colab": {
      "name": "boj19236_청소년상어_g2.ipynb",
      "provenance": [],
      "collapsed_sections": []
    },
    "kernelspec": {
      "display_name": "Python 3",
      "name": "python3"
    },
    "language_info": {
      "name": "python"
    }
  },
  "cells": [
    {
      "cell_type": "markdown",
      "metadata": {
        "id": "jtf7Q4Hv_tob"
      },
      "source": [
        "https://www.acmicpc.net/problem/19236"
      ]
    },
    {
      "cell_type": "markdown",
      "metadata": {
        "id": "7a6khXj5kMTw"
      },
      "source": [
        "Concept. DFS & Simulation ✨✨\n",
        "\n",
        "문제를 잘 구조화해야한다\n",
        "\n",
        "0. dfs 에서 넘겨받은 board 값 복사해서 저장\n",
        "\n",
        "1. 물고기를 먹는다\n",
        "\n",
        "2. 물고기 이동\n",
        "\n",
        "3. 상어 이동가능 위치 탐색\n",
        "\n",
        "4. 상어 이동\n",
        "\n",
        "5. dfs 탐색"
      ]
    },
    {
      "cell_type": "code",
      "metadata": {
        "id": "Xig3zWXHKc6L"
      },
      "source": [
        ""
      ],
      "execution_count": null,
      "outputs": []
    },
    {
      "cell_type": "code",
      "metadata": {
        "id": "QKVzVAvNJraN"
      },
      "source": [
        "import copy"
      ],
      "execution_count": 310,
      "outputs": []
    },
    {
      "cell_type": "code",
      "metadata": {
        "id": "YRj8JO6JJt0k"
      },
      "source": [
        "dx = [-1, -1, 0, 1, 1, 1, 0, -1]\n",
        "dy = [0, -1, -1, -1, 0, 1, 1, 1]"
      ],
      "execution_count": 313,
      "outputs": []
    },
    {
      "cell_type": "code",
      "metadata": {
        "id": "Gw3hjIR7rmBE"
      },
      "source": [
        "def food(array, x, y):  # 상어가 먹을 수 있는 후보 위치 반환\n",
        "    positions = []\n",
        "    direction = array[x][y][1]\n",
        "    for i in range(1, 4):\n",
        "        nx, ny = x + dx[direction], y + dy[direction]\n",
        "        if 0 <= nx < 4 and 0 <= ny < 4 and 1 <= array[nx][ny][0] <= 16:\n",
        "            positions.append([nx, ny])\n",
        "        x, y = nx, ny\n",
        "    return positions"
      ],
      "execution_count": 314,
      "outputs": []
    },
    {
      "cell_type": "code",
      "metadata": {
        "id": "flsP3ppa_z_f"
      },
      "source": [
        "# 현재 배열에서 특정한 번호의 물고기 위치 찾기\n",
        "def find_fish(array, index):\n",
        "    for i in range(4):\n",
        "        for j in range(4):\n",
        "            if array[i][j][0] == index:\n",
        "                return (i, j)\n",
        "    return None"
      ],
      "execution_count": 315,
      "outputs": []
    },
    {
      "cell_type": "code",
      "metadata": {
        "id": "CgWR8nd7rmOf"
      },
      "source": [
        "def move_fish(array, now_x, now_y):  # 물고기 이동\n",
        "    flag = False\n",
        "    position = []\n",
        "    for i in range(1, 17):\n",
        "        position = find_fish(array, i)\n",
        "        if position is None:\n",
        "            continue\n",
        "        x, y = position[0], position[1]\n",
        "        dir = array[x][y][1]  # 방향\n",
        "        for j in range(8):\n",
        "            nx, ny = x + dx[dir], y + dy[dir]\n",
        "            if 0 <= nx < 4 and 0 <= ny < 4:\n",
        "                if not (nx == now_x and ny == now_y):  # 공간의 경계, 상어 있는 칸 확인\n",
        "                    # 값 교체\n",
        "                    array[x][y][0], array[nx][ny][0] = array[nx][ny][0], array[x][y][0]\n",
        "                    array[x][y][1], array[nx][ny][1] = array[nx][ny][1], dir\n",
        "                    break\n",
        "            dir = (dir + 1) % 8"
      ],
      "execution_count": 316,
      "outputs": []
    },
    {
      "cell_type": "code",
      "metadata": {
        "id": "UeACDZ8z_3HH"
      },
      "source": [
        "def dfs(array, x, y, total):\n",
        "    global answer\n",
        "    array = copy.deepcopy(array)\n",
        "\n",
        "    # 해당 위치 물고기 먹기\n",
        "    number = array[x][y][0]\n",
        "    array[x][y][0] = -1\n",
        "\n",
        "    # 물고기 이동\n",
        "    move_fish(array, x, y)\n",
        "\n",
        "    # 상어 이동할 수 있는 후보 확인\n",
        "    result = food(array, x, y)\n",
        "\n",
        "    # 해당 먹이 먹는 모든 과정 탐색\n",
        "\n",
        "    answer = max(answer, total + number)\n",
        "    for next_x, next_y in result:\n",
        "        dfs(array, next_x, next_y, total + number)"
      ],
      "execution_count": 317,
      "outputs": []
    },
    {
      "cell_type": "code",
      "metadata": {
        "id": "4QhE5wT4Jrdp"
      },
      "source": [
        "if __name__ == \"__main__\":\n",
        "    temp = [list(map(int, input().split())) for _ in range(4)]\n",
        "    array = [[None] * 4 for _ in range(4)]\n",
        "    # 배열을 다루기 쉽게 [값, 방향] 형태로 바꾼다.\n",
        "    for i in range(4):\n",
        "        for j in range(4):\n",
        "            array[i][j] = [temp[i][j * 2], temp[i][j * 2 + 1] - 1]\n",
        "\n",
        "    # dfs 탐색\n",
        "    answer = 0\n",
        "    dfs(array, 0, 0, 0)\n",
        "    print(answer)"
      ],
      "execution_count": null,
      "outputs": []
    },
    {
      "cell_type": "markdown",
      "metadata": {
        "id": "BwbbxB60AZer"
      },
      "source": [
        "## 오답"
      ]
    },
    {
      "cell_type": "code",
      "metadata": {
        "id": "jf0MqtGsvDT6"
      },
      "source": [
        "import copy"
      ],
      "execution_count": 61,
      "outputs": []
    },
    {
      "cell_type": "code",
      "metadata": {
        "colab": {
          "base_uri": "https://localhost:8080/"
        },
        "id": "ZkY1k8VK5QZx",
        "outputId": "5aca255f-3e42-44a4-8748-21bebe8f383f"
      },
      "source": [
        "num = []\n",
        "dir = []\n",
        "\n",
        "for _ in range(4) :\n",
        "  tmp_list = list(map(int, input().split()))\n",
        "  num_tmp = []\n",
        "  dir_tmp = []\n",
        "\n",
        "  for i in range(4) :\n",
        "    num_tmp.append(tmp_list[i*2])\n",
        "    dir_tmp.append(tmp_list[(i+1)*2-1])\n",
        "\n",
        "  num.append(num_tmp)\n",
        "  dir.append(dir_tmp)"
      ],
      "execution_count": 165,
      "outputs": [
        {
          "name": "stdout",
          "output_type": "stream",
          "text": [
            "7 6 2 3 15 6 9 8\n",
            "3 1 1 8 14 7 10 1\n",
            "6 1 13 6 4 3 11 4\n",
            "16 1 8 7 5 2 12 2\n"
          ]
        }
      ]
    },
    {
      "cell_type": "code",
      "metadata": {
        "id": "cieveWyp-k2J"
      },
      "source": [
        "        dir = array[x][y][1]  # 방향\n",
        "        for j in range(8):\n",
        "            nx, ny = x + dx[dir], y + dy[dir]\n",
        "            if 0 <= nx < 4 and 0 <= ny < 4:\n",
        "                if not (nx == now_x and ny == now_y):  # 공간의 경계, 상어 있는 칸 확인\n",
        "                    # 값 교체\n",
        "                    array[x][y][0], array[nx][ny][0] = array[nx][ny][0], array[x][y][0]\n",
        "                    array[x][y][1], array[nx][ny][1] = array[nx][ny][1], dir\n",
        "                    break\n",
        "            dir = (dir + 1) % 8"
      ],
      "execution_count": null,
      "outputs": []
    },
    {
      "cell_type": "code",
      "metadata": {
        "id": "9mgJA-DI9R4Q"
      },
      "source": [
        "def go_fish(x, y) :\n",
        "  # 이동할 수 있는 칸 : 빈 칸 / 다른 물고기가 있는 칸\n",
        "  # 이동할 수 없는 칸 : 상어가 있거나 / 공간의 경계를 넘는 칸\n",
        "  # 1 ↑, 2 ↖, 3 ←, 4 ↙, 5 ↓, 6 ↘, 7 →, 8 ↗ \n",
        "  go_dir = [(-1, 0), (-1, -1), (0, -1), (1, -1), (1, 0), (1, 1), (0, 1), (-1, 1)]\n",
        "  curr_d = dir[x][y]\n",
        "\n",
        "  for j in range(8) :\n",
        "      nx = x + go_dir[curr_d-1][0]\n",
        "      ny = y + go_dir[curr_d-1][1]\n",
        "      \n",
        "      if 0 <= nx < 4 and 0 <= ny < 4 :\n",
        "       if num[nx][ny] != -1 :\n",
        "         tmp_fish = num[nx][ny]\n",
        "         tmp_dir = dir[nx][ny]\n",
        "\n",
        "         num[nx][ny] = num[x][y]\n",
        "         dir[nx][ny] = dir[x][y]\n",
        "\n",
        "         num[x][y] = tmp_fish\n",
        "         dir[x][y] = tmp_dir \n",
        "         break\n",
        "         \n",
        "      curr_d = ( curr_d + 1 ) % 8"
      ],
      "execution_count": 302,
      "outputs": []
    },
    {
      "cell_type": "code",
      "metadata": {
        "id": "cm0Ju3yj8Gtd"
      },
      "source": [
        "def move_fishes() :\n",
        "  # 물고기는 번호가 작은 물고기부터 순서대로 이동한다.\n",
        "  fish_num = [i for i in range(16, 0, -1)]\n",
        "\n",
        "  while len(fish_num) > 0 :\n",
        "    curr_fish = fish_num.pop()\n",
        "    for i in range(4) :\n",
        "      for j in range(4) :\n",
        "        if num[i][j] == curr_fish :\n",
        "          # 물고기는 한 칸을 이동할 수 있다. \n",
        "          go_fish(i, j)"
      ],
      "execution_count": 303,
      "outputs": []
    },
    {
      "cell_type": "code",
      "metadata": {
        "id": "xaKxvuxSCZ1y"
      },
      "source": [
        "def get_food(x, y) :\n",
        "  # 상어는 방향에 있는 칸으로 이동할 수 있는데, 한 번에 여러 개의 칸을 이동할 수 있다. \n",
        "  # 1 ↑, 2 ↖, 3 ←, 4 ↙, 5 ↓, 6 ↘, 7 →, 8 ↗ \n",
        "  pos = []\n",
        "  go_dir = [(-1, 0), (-1, -1), (0, -1), (1, -1), (1, 0), (1, 1), (0, 1), (-1, 1)]\n",
        "\n",
        "  dir_x = go_dir[dir[x][y]-1][0]\n",
        "  dir_y = go_dir[dir[x][y]-1][1]\n",
        "\n",
        "  for _ in range(4) :\n",
        "     nx = x + dir_x\n",
        "     ny = y + dir_y\n",
        "\n",
        "     if 0 <= nx < 4 and 0 <= ny < 4 :\n",
        "       x = nx\n",
        "       y = ny\n",
        "\n",
        "       pos.append((nx, ny))\n",
        "\n",
        "  return pos"
      ],
      "execution_count": 304,
      "outputs": []
    },
    {
      "cell_type": "code",
      "metadata": {
        "id": "lkndzwAkspve"
      },
      "source": [
        "def dfs(board, x, y, total) :\n",
        "  global res\n",
        "  num = copy.deepcopy(board)\n",
        "\n",
        "  # 해당 위치의 물고기 먹음\n",
        "  eat = num[x][y]\n",
        "  num[x][y] = -1\n",
        "  res = max(res, total+eat)\n",
        "\n",
        "  # 물고기 이동함\n",
        "  move_fishes()\n",
        "\n",
        "  # 상어의 이동 가능 위치 탐색\n",
        "  positions = get_food(x, y)\n",
        "  print(positions)\n",
        "  # 상어가 이동 가능 위치로 이동\n",
        "  for nx, ny in positions:\n",
        "    dfs(num, nx, ny, total+eat)"
      ],
      "execution_count": 305,
      "outputs": []
    },
    {
      "cell_type": "code",
      "metadata": {
        "colab": {
          "base_uri": "https://localhost:8080/"
        },
        "id": "S2r7_cTxu9Z_",
        "outputId": "254962cc-6eb9-425d-c643-f66bf6839752"
      },
      "source": [
        "res = 0\n",
        "dfs(num, 0, 0, 0)"
      ],
      "execution_count": 308,
      "outputs": [
        {
          "output_type": "stream",
          "name": "stdout",
          "text": [
            "[]\n"
          ]
        }
      ]
    },
    {
      "cell_type": "code",
      "metadata": {
        "colab": {
          "base_uri": "https://localhost:8080/"
        },
        "id": "APkFnx1nvNVA",
        "outputId": "81c2d25b-aa29-48b3-dea1-0aa139f924af"
      },
      "source": [
        "print(res)"
      ],
      "execution_count": 309,
      "outputs": [
        {
          "output_type": "stream",
          "name": "stdout",
          "text": [
            "7\n"
          ]
        }
      ]
    },
    {
      "cell_type": "code",
      "metadata": {
        "id": "CTu0aIMbvNSy"
      },
      "source": [
        ""
      ],
      "execution_count": null,
      "outputs": []
    }
  ]
}