{
  "nbformat": 4,
  "nbformat_minor": 0,
  "metadata": {
    "colab": {
      "name": "boj14226_이모티콘_g5.ipynb",
      "provenance": [],
      "collapsed_sections": []
    },
    "kernelspec": {
      "display_name": "Python 3",
      "name": "python3"
    },
    "language_info": {
      "name": "python"
    }
  },
  "cells": [
    {
      "cell_type": "markdown",
      "metadata": {
        "id": "jtf7Q4Hv_tob"
      },
      "source": [
        "https://www.acmicpc.net/problem/14225"
      ]
    },
    {
      "cell_type": "markdown",
      "metadata": {
        "id": "5YT5dwCB7gDL"
      },
      "source": [
        "Concept. BFS & Dynamic programming ✨\n",
        "\n",
        "**BFS만으로 풀어나가면 시간/메모리가 초과되기 때문에 dp로 값을 하나씩 저장해나가며 풀어야함**\n",
        "\n",
        "2차원 배열을 선언한 후 행은 screen 에 있는 문자열 수, 열은 clipboard 에 있는 문자열 수를 의미한다. 배열의 원소는 s 길이의 스크린 문자 수, c 길이의 클립보드 문자수를 만들기 위한 최소 방법의 수이다. \n",
        "\n",
        "1. 복사하기 : 현재 s 의 길이가 c 길이가 되므로, [s, s] = [s, c] + 1\n",
        "\n",
        "2. 붙여넣기 : 현재 s의 길이에 c의 길이를 더하므로, [s+c, c] = [s, c] + 1\n",
        "\n",
        "3. 삭제하기 : 현재 s의 길이를 1 감소시키므로, [s-1, c] = [s, c] + 1"
      ]
    },
    {
      "cell_type": "code",
      "metadata": {
        "id": "GjU2EWKtZZQF"
      },
      "source": [
        "from collections import deque"
      ],
      "execution_count": 55,
      "outputs": []
    },
    {
      "cell_type": "code",
      "metadata": {
        "colab": {
          "base_uri": "https://localhost:8080/"
        },
        "id": "RLakgMJmZZQF",
        "outputId": "ff5f1fab-c525-464c-8639-6d041a2c5724"
      },
      "source": [
        "n = int(input())"
      ],
      "execution_count": 67,
      "outputs": [
        {
          "name": "stdout",
          "output_type": "stream",
          "text": [
            "6\n"
          ]
        }
      ]
    },
    {
      "cell_type": "code",
      "metadata": {
        "id": "ZDH2vnLbcHis"
      },
      "source": [
        "def bfs(n) :\n",
        "  dp = [ [-1 for _ in range(n+1)] for _ in range(n+1) ]\n",
        "  dp[1][0] = 0\n",
        "\n",
        "  dq = deque()\n",
        "  dq.append((1, 0))\n",
        "\n",
        "  while dq :\n",
        "    s, c = dq.popleft()\n",
        "\n",
        "    if dp[s][s] == -1 :\n",
        "      dq.append((s, s))\n",
        "      dp[s][s] = dp[s][c] + 1\n",
        "\n",
        "    if s+c <= n and dp[s+c][c] == -1 :\n",
        "      dq.append((s+c, c))\n",
        "      dp[s+c][c] = dp[s][c] + 1\n",
        "\n",
        "    if s-1 >= 0 and dp[s-1][c] == -1 :\n",
        "      dq.append((s-1, c))\n",
        "      dp[s-1][c] = dp[s][c] + 1\n",
        "\n",
        "  return dp"
      ],
      "execution_count": 81,
      "outputs": []
    },
    {
      "cell_type": "code",
      "metadata": {
        "id": "dT9Htk-_cHkl"
      },
      "source": [
        " dp = bfs(n)"
      ],
      "execution_count": 82,
      "outputs": []
    },
    {
      "cell_type": "code",
      "metadata": {
        "id": "vmBq4K93ew94"
      },
      "source": [
        "res = -1"
      ],
      "execution_count": 84,
      "outputs": []
    },
    {
      "cell_type": "code",
      "metadata": {
        "id": "YDa93TyocHmb"
      },
      "source": [
        "for i in range(n+1) :\n",
        "  if dp[n][i] != -1:\n",
        "    if res == -1 or res > dp[n][i] :\n",
        "      res = dp[n][i]"
      ],
      "execution_count": 85,
      "outputs": []
    },
    {
      "cell_type": "code",
      "metadata": {
        "colab": {
          "base_uri": "https://localhost:8080/"
        },
        "id": "8UwnKIDjZYvj",
        "outputId": "c407a8b4-cb5c-4d50-af97-52812dec36f1"
      },
      "source": [
        "print(res)"
      ],
      "execution_count": 86,
      "outputs": [
        {
          "output_type": "stream",
          "name": "stdout",
          "text": [
            "5\n"
          ]
        }
      ]
    },
    {
      "cell_type": "code",
      "metadata": {
        "id": "Bp22EnpJZYxr"
      },
      "source": [
        ""
      ],
      "execution_count": null,
      "outputs": []
    },
    {
      "cell_type": "code",
      "metadata": {
        "id": "AEiL0dTzZYz3"
      },
      "source": [
        ""
      ],
      "execution_count": null,
      "outputs": []
    },
    {
      "cell_type": "markdown",
      "metadata": {
        "id": "Q6ZHpmPZZWI-"
      },
      "source": [
        "## 시간, 메모리 초과"
      ]
    },
    {
      "cell_type": "code",
      "metadata": {
        "id": "w_EZil9lSnj-"
      },
      "source": [
        "from collections import deque"
      ],
      "execution_count": 6,
      "outputs": []
    },
    {
      "cell_type": "code",
      "metadata": {
        "colab": {
          "base_uri": "https://localhost:8080/"
        },
        "id": "dbeOj_wJLHii",
        "outputId": "58fbdb12-959a-47f6-f668-5609581ff8d7"
      },
      "source": [
        "n = int(input())"
      ],
      "execution_count": 39,
      "outputs": [
        {
          "name": "stdout",
          "output_type": "stream",
          "text": [
            "6\n"
          ]
        }
      ]
    },
    {
      "cell_type": "code",
      "metadata": {
        "id": "kgyw77miLHlE"
      },
      "source": [
        "s_len = 1\n",
        "clip = 0"
      ],
      "execution_count": 42,
      "outputs": []
    },
    {
      "cell_type": "code",
      "metadata": {
        "id": "qG8Jpo6FSvD7"
      },
      "source": [
        "def delv(s) :\n",
        "  return s - 1"
      ],
      "execution_count": 43,
      "outputs": []
    },
    {
      "cell_type": "code",
      "metadata": {
        "id": "kC1k1jbPSzvK"
      },
      "source": [
        "def ctrlv(s, c) :\n",
        "  s += c\n",
        "  return s"
      ],
      "execution_count": 44,
      "outputs": []
    },
    {
      "cell_type": "code",
      "metadata": {
        "id": "5BFScnslSxiu"
      },
      "source": [
        "def ctrlc(s, c) :\n",
        "  c = s\n",
        "  return c"
      ],
      "execution_count": 45,
      "outputs": []
    },
    {
      "cell_type": "code",
      "metadata": {
        "id": "g9gGxpEkLHnb"
      },
      "source": [
        "def bfs(s, c) :\n",
        "  dq = deque()\n",
        "  c = ctrlc(s, c)\n",
        "  s = ctrlv(s, c)\n",
        "\n",
        "  cnt = 2\n",
        "\n",
        "  dq.append(['c', s, c, cnt])\n",
        "  dq.append(['v', s, c, cnt])\n",
        "  dq.append(['d', s, c, cnt])\n",
        "\n",
        "\n",
        "  while 1 :\n",
        "    v, s, c, cnt = dq.popleft()\n",
        "\n",
        "    if s == n : return cnt\n",
        "\n",
        "    if v == 'c' :\n",
        "      c = ctrlc(s, c)\n",
        "      dq.append(['v', s, c, cnt+1])\n",
        "\n",
        "      if s > 1 : \n",
        "        dq.append(['d', s, c, cnt+1])\n",
        "    \n",
        "    elif v == 'v' :\n",
        "      s = ctrlv(s, c)\n",
        "      dq.append(['c', s, c, cnt+1])\n",
        "      dq.append(['v', s, c, cnt+1])\n",
        "      if s > 1 :\n",
        "        dq.append(['d', s, c, cnt+1])\n",
        "\n",
        "    elif v == 'd' :\n",
        "      if s > 1 :\n",
        "        s = delv(s)\n",
        "        dq.append(['c', s, c, cnt+1])\n",
        "        dq.append(['v', s, c, cnt+1])\n",
        "        if s > 1 :\n",
        "          dq.append(['d', s, c, cnt+1])\n",
        "\n",
        "  return cnt"
      ],
      "execution_count": 52,
      "outputs": []
    },
    {
      "cell_type": "code",
      "metadata": {
        "colab": {
          "base_uri": "https://localhost:8080/"
        },
        "id": "B3w0OWklLHsX",
        "outputId": "f359f3fb-75b9-406c-e2be-a418c55b987e"
      },
      "source": [
        "print(bfs(s_len, clip))"
      ],
      "execution_count": 53,
      "outputs": [
        {
          "output_type": "stream",
          "name": "stdout",
          "text": [
            "5\n"
          ]
        }
      ]
    },
    {
      "cell_type": "code",
      "metadata": {
        "id": "DouQ5KdFLHuy"
      },
      "source": [
        ""
      ],
      "execution_count": null,
      "outputs": []
    }
  ]
}