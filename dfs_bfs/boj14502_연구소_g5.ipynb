{
  "nbformat": 4,
  "nbformat_minor": 0,
  "metadata": {
    "colab": {
      "name": "boj14502_연구소_g5.ipynb",
      "provenance": [],
      "collapsed_sections": []
    },
    "kernelspec": {
      "display_name": "Python 3",
      "name": "python3"
    },
    "language_info": {
      "name": "python"
    }
  },
  "cells": [
    {
      "cell_type": "markdown",
      "metadata": {
        "id": "jtf7Q4Hv_tob"
      },
      "source": [
        "https://www.acmicpc.net/problem/14502"
      ]
    },
    {
      "cell_type": "markdown",
      "metadata": {
        "id": "5YT5dwCB7gDL"
      },
      "source": [
        "Concept. BFS\n"
      ]
    },
    {
      "cell_type": "code",
      "metadata": {
        "id": "4tE0jCpHDsXY"
      },
      "source": [
        "from collections import deque"
      ],
      "execution_count": 236,
      "outputs": []
    },
    {
      "cell_type": "code",
      "metadata": {
        "id": "DDQ1LRQA14gr"
      },
      "source": [
        "from itertools import combinations"
      ],
      "execution_count": 248,
      "outputs": []
    },
    {
      "cell_type": "code",
      "metadata": {
        "id": "fYCwiZ1Y2JPw"
      },
      "source": [
        "import copy"
      ],
      "execution_count": 251,
      "outputs": []
    },
    {
      "cell_type": "code",
      "metadata": {
        "colab": {
          "base_uri": "https://localhost:8080/"
        },
        "id": "O12BquTP1JOY",
        "outputId": "fefcc760-6cd0-4595-9666-056729d11b17"
      },
      "source": [
        "n, m = map(int, input().split())"
      ],
      "execution_count": 237,
      "outputs": [
        {
          "name": "stdout",
          "output_type": "stream",
          "text": [
            "4 6\n"
          ]
        }
      ]
    },
    {
      "cell_type": "code",
      "metadata": {
        "id": "vh9ZDtev1NtD"
      },
      "source": [
        "board = []"
      ],
      "execution_count": 238,
      "outputs": []
    },
    {
      "cell_type": "code",
      "metadata": {
        "colab": {
          "base_uri": "https://localhost:8080/"
        },
        "id": "0dg_dJ031Nuz",
        "outputId": "9f41a1ea-081b-402c-e81e-4161a8b8ca23"
      },
      "source": [
        "for _ in range(n) :\n",
        "  board.append(list(map(int, input().split())))"
      ],
      "execution_count": 239,
      "outputs": [
        {
          "name": "stdout",
          "output_type": "stream",
          "text": [
            "0 0 0 0 0 0\n",
            "1 0 0 0 0 2\n",
            "1 1 1 0 0 2\n",
            "0 0 0 0 0 2\n"
          ]
        }
      ]
    },
    {
      "cell_type": "code",
      "metadata": {
        "id": "I9MRhKT41NzQ"
      },
      "source": [
        "virus = []\n",
        "all_block = []\n",
        "for i in range(n) :\n",
        "  for j in range(m) :\n",
        "    if board[i][j] == 0 :\n",
        "      all_block.append((i, j))\n",
        "    elif board[i][j] == 2:\n",
        "      virus.append((i, j))"
      ],
      "execution_count": 284,
      "outputs": []
    },
    {
      "cell_type": "code",
      "metadata": {
        "id": "Y-ub_eLT2BwT"
      },
      "source": [
        "comb = deque()\n",
        "for c in combinations(all_block, 3) :\n",
        "  comb.append(c)"
      ],
      "execution_count": 285,
      "outputs": []
    },
    {
      "cell_type": "code",
      "metadata": {
        "id": "xEjdEG2V3HZr"
      },
      "source": [
        "go_x = [1, -1, 0, 0]\n",
        "go_y = [0, 0, 1, -1]"
      ],
      "execution_count": 286,
      "outputs": []
    },
    {
      "cell_type": "code",
      "metadata": {
        "id": "qrwBu7i13Cf8"
      },
      "source": [
        "res = 0"
      ],
      "execution_count": 287,
      "outputs": []
    },
    {
      "cell_type": "code",
      "metadata": {
        "id": "7-iPKLOP2H1h"
      },
      "source": [
        "while comb :\n",
        "  c = comb.popleft()\n",
        "  c_board = copy.deepcopy(board)\n",
        "  c_board[c[0][0]][c[0][1]] = 1\n",
        "  c_board[c[1][0]][c[1][1]] = 1\n",
        "  c_board[c[2][0]][c[2][1]] = 1\n",
        "\n",
        "  dq = deque()\n",
        "  for i in range(len(virus)) : dq.append(virus[i])\n",
        "\n",
        "  while dq :\n",
        "    x, y = dq.popleft()\n",
        "    for i in range(4) :\n",
        "      nx = x + go_x[i]\n",
        "      ny = y + go_y[i]\n",
        "\n",
        "      if 0 <= nx < n and 0 <= ny < m and c_board[nx][ny] == 0 :\n",
        "        c_board[nx][ny] = 2\n",
        "        dq.append((nx, ny))\n",
        "\n",
        "\n",
        "  # 안전지대 개수 체크 \n",
        "  cnt = 0\n",
        "  for i in range(n) :\n",
        "    for j in range(m) :\n",
        "      if c_board[i][j] == 0 :\n",
        "        cnt += 1\n",
        "  res = max(res, cnt)\n",
        "  "
      ],
      "execution_count": 288,
      "outputs": []
    },
    {
      "cell_type": "code",
      "metadata": {
        "colab": {
          "base_uri": "https://localhost:8080/"
        },
        "id": "TxO0JQYY2H3t",
        "outputId": "ad5b6384-c1b1-402d-db5b-a6668df9d218"
      },
      "source": [
        "print(res)"
      ],
      "execution_count": 289,
      "outputs": [
        {
          "output_type": "stream",
          "name": "stdout",
          "text": [
            "9\n"
          ]
        }
      ]
    },
    {
      "cell_type": "code",
      "metadata": {
        "id": "aDldBLV-2H6I"
      },
      "source": [
        ""
      ],
      "execution_count": null,
      "outputs": []
    }
  ]
}