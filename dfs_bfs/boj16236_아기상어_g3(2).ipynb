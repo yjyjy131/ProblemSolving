{
  "nbformat": 4,
  "nbformat_minor": 0,
  "metadata": {
    "colab": {
      "provenance": [],
      "collapsed_sections": [],
      "authorship_tag": "ABX9TyOXFRYbRch26H2UcvR+oZwv",
      "include_colab_link": true
    },
    "kernelspec": {
      "name": "python3",
      "display_name": "Python 3"
    },
    "language_info": {
      "name": "python"
    }
  },
  "cells": [
    {
      "cell_type": "markdown",
      "metadata": {
        "id": "view-in-github",
        "colab_type": "text"
      },
      "source": [
        "<a href=\"https://colab.research.google.com/github/yjyjy131/ProblemSolving/blob/main/dfs_bfs/boj16236_%EC%95%84%EA%B8%B0%EC%83%81%EC%96%B4_g3(2).ipynb\" target=\"_parent\"><img src=\"https://colab.research.google.com/assets/colab-badge.svg\" alt=\"Open In Colab\"/></a>"
      ]
    },
    {
      "cell_type": "markdown",
      "source": [
        "https://www.acmicpc.net/problem/16236"
      ],
      "metadata": {
        "id": "uEQSEsmEEGGm"
      }
    },
    {
      "cell_type": "markdown",
      "source": [
        "공간 크기 nxn\n",
        "물고기 m 마리와 아기상어 1마리\n",
        "한칸에는 물고기 1마리까지만 들어감\n",
        "\n",
        "초기 아기상어 크기 2\n",
        "1초에 상하좌우로 한칸씩 이동\n",
        "자기보다 큰 물고기가 있으면 지나갈 수 없음\n",
        "작은 물고기는 먹을 수 있음\n",
        "자기 크기랑 같은 수의 물고기를 먹으면 크기 1 증가\n",
        "\n",
        "이동조건\n",
        "- 더이상 먹을 물고기가 없으면 엄마 상어 부름\n",
        "- 1마리만 먹을 수 있으면 그걸 먹음\n",
        "- 1마리 이상 먹을 수 있으면 가장 가까운 걸 먹음\n",
        "- 가까운 물고기가 여러마리면 상 => 좌 먹음\n",
        "\n",
        "엄마 상어에게 도움을 요청하지 않고 물고기를 잡아먹을 수 있는 초 수 \n"
      ],
      "metadata": {
        "id": "VLPGksHsuOCy"
      }
    },
    {
      "cell_type": "code",
      "source": [
        "from collections import deque"
      ],
      "metadata": {
        "id": "JkNOfdQl67-4"
      },
      "execution_count": null,
      "outputs": []
    },
    {
      "cell_type": "code",
      "source": [
        "def bfs(x, y):\n",
        "  go_x = [0, 0, -1, 1]\n",
        "  go_y = [-1, 1, 0, 0]\n",
        "\n",
        "  shark_pos = deque([(x, y)])\n",
        "  visited = set([(x, y)])\n",
        "\n",
        "  sec = 0\n",
        "  shark = 2\n",
        "  eat = 0\n",
        "  eat_flag = False\n",
        "  answer = 0\n",
        "\n",
        "  while shark_pos:\n",
        "    q_size = len(shark_pos)\n",
        "    shark_pos = deque(sorted(shark_pos))\n",
        "\n",
        "    for _ in range(q_size):\n",
        "      x, y = shark_pos.popleft()\n",
        "\n",
        "      if 0 < board[x][y] < shark:\n",
        "        board[x][y] = 0\n",
        "        eat += 1\n",
        "\n",
        "        if eat == shark :\n",
        "          shark += 1\n",
        "          eat = 0\n",
        "\n",
        "        shark_pos = deque()\n",
        "        visited = set([(x, y)])\n",
        "        eat_flag = True\n",
        "        answer = sec\n",
        "\n",
        "      for dx, dy in zip(go_x, go_y):\n",
        "        nx, ny = x + dx, y + dy\n",
        "        if 0 <= nx < n and 0 <= ny < n and (nx, ny) not in visited:\n",
        "          if board[nx][ny] <= shark:\n",
        "            shark_pos.append((nx, ny))\n",
        "            visited.add((nx, ny))\n",
        "\n",
        "      if eat_flag:\n",
        "        eat_flag = False\n",
        "        break\n",
        "\n",
        "    sec += 1\n",
        "\n",
        "  return sec"
      ],
      "metadata": {
        "id": "ZTDbGu5rv7Xh"
      },
      "execution_count": null,
      "outputs": []
    },
    {
      "cell_type": "code",
      "source": [
        "if __name__ == '__main__':\n",
        "  n = int(input())\n",
        "  board = [] \n",
        "  for _ in range(n):\n",
        "    board.append(list(map(int, input().split())))\n",
        "    \n",
        "  curr_x, curr_y = 0, 0\n",
        "\n",
        "  for i in range(n):\n",
        "    for j in range(n):\n",
        "      if board[i][j] == 9:\n",
        "        curr_x, curr_y = i, j\n",
        "        board[i][j] = 0\n",
        "        break \n",
        "\n",
        "  ans = bfs(curr_x, curr_y)\n",
        "  print(ans)"
      ],
      "metadata": {
        "colab": {
          "base_uri": "https://localhost:8080/"
        },
        "id": "jET5jn0pxOFc",
        "outputId": "d46ba2c6-3efd-4c77-d736-82c68db32253"
      },
      "execution_count": null,
      "outputs": [
        {
          "output_type": "stream",
          "name": "stdout",
          "text": [
            "4\n",
            "4 3 2 1\n",
            "0 0 0 0\n",
            "0 0 9 0\n",
            "1 2 3 4\n",
            "20\n"
          ]
        }
      ]
    },
    {
      "cell_type": "code",
      "source": [],
      "metadata": {
        "id": "HjBPJmm97u57"
      },
      "execution_count": null,
      "outputs": []
    }
  ]
}