{
  "nbformat": 4,
  "nbformat_minor": 0,
  "metadata": {
    "colab": {
      "name": "boj14716_현수막_s1.ipynb",
      "provenance": [],
      "collapsed_sections": [],
      "authorship_tag": "ABX9TyO94iRc4oFrFdNtS+bTZUpZ",
      "include_colab_link": true
    },
    "kernelspec": {
      "name": "python3",
      "display_name": "Python 3"
    },
    "language_info": {
      "name": "python"
    }
  },
  "cells": [
    {
      "cell_type": "markdown",
      "metadata": {
        "id": "view-in-github",
        "colab_type": "text"
      },
      "source": [
        "<a href=\"https://colab.research.google.com/github/yjyjy131/ProblemSolving/blob/main/dfs_bfs/boj14716_%ED%98%84%EC%88%98%EB%A7%89_s1.ipynb\" target=\"_parent\"><img src=\"https://colab.research.google.com/assets/colab-badge.svg\" alt=\"Open In Colab\"/></a>"
      ]
    },
    {
      "cell_type": "code",
      "source": [
        "import sys\n",
        "sys.setrecursionlimit(10**6)\n",
        "\n",
        "m, n = map(int, input().split())\n",
        "board = []\n",
        "for _ in range(m):\n",
        "  board.append(list(map(int, input().split())))\n",
        "\n",
        "def dfs(x, y):\n",
        "  dx = [-1, 0, 1, 1, 1, 0, -1, -1]\n",
        "  dy = [-1, -1, -1, 0, 1, 1, 1, 0]\n",
        "\n",
        "  for idx in range(8):\n",
        "    new_x = x + dx[idx]\n",
        "    new_y = y + dy[idx]\n",
        "\n",
        "    if 0 <= new_x < m and 0 <= new_y < n :\n",
        "      if board[new_x][new_y] == 1:\n",
        "        board[new_x][new_y] = 0\n",
        "        dfs(new_x, new_y)\n",
        "\n",
        "cnt = 0\n",
        "\n",
        "for i in range(m):\n",
        "  for j in range(n):\n",
        "    if board[i][j] == 1:\n",
        "      dfs(i, j)\n",
        "      cnt += 1\n",
        "\n",
        "print(cnt)"
      ],
      "metadata": {
        "id": "9pSQ1I1asi29"
      },
      "execution_count": 38,
      "outputs": []
    }
  ]
}